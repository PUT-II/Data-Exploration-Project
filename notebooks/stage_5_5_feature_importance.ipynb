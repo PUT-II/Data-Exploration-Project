{
 "cells": [
  {
   "cell_type": "markdown",
   "source": [
    "# Eksploracja Danych - Projekt\n",
    "Tomasz Kiljańczyk (136257)\n",
    "\n",
    "Wojciech Lulek (136280)"
   ],
   "metadata": {
    "collapsed": false,
    "pycharm": {
     "name": "#%% md\n"
    }
   }
  },
  {
   "cell_type": "markdown",
   "source": [
    "## Read DF"
   ],
   "metadata": {
    "collapsed": false,
    "pycharm": {
     "name": "#%% md\n"
    }
   }
  },
  {
   "cell_type": "code",
   "execution_count": null,
   "metadata": {
    "collapsed": true,
    "pycharm": {
     "name": "#%%\n"
    }
   },
   "outputs": [],
   "source": [
    "import numpy as np\n",
    "import pandas as pd\n",
    "\n",
    "df_all = pd.read_csv(\"./data/stage_5_merged.csv\")\n",
    "df_all.info()"
   ]
  },
  {
   "cell_type": "code",
   "execution_count": null,
   "outputs": [],
   "source": [
    "df_all[\"categoryId\"].replace(np.NaN, \"\", inplace=True)\n",
    "df_all[\"categoryId\"] = df_all[\"categoryId\"].astype(str)\n",
    "df_all[\"thumbnail_face_gender\"] = df_all[\"thumbnail_face_gender\"].astype(str)\n",
    "df_all[\"thumbnail_face_dominant_race\"] = df_all[\"thumbnail_face_dominant_race\"].astype(str)\n",
    "df_all[\"thumbnail_face_dominant_emotion\"] = df_all[\"thumbnail_face_dominant_emotion\"].astype(str)"
   ],
   "metadata": {
    "collapsed": false,
    "pycharm": {
     "name": "#%%\n"
    }
   }
  },
  {
   "cell_type": "markdown",
   "source": [],
   "metadata": {
    "collapsed": false,
    "pycharm": {
     "name": "#%% md\n"
    }
   }
  },
  {
   "cell_type": "code",
   "execution_count": null,
   "outputs": [],
   "source": [
    "from sklearn.preprocessing import LabelEncoder, Normalizer\n",
    "\n",
    "encoders = dict()\n",
    "num_cols = []\n",
    "for name, type_ in zip(df_all.columns, df_all.dtypes):\n",
    "    if type_ == object:\n",
    "        encoders[name] = LabelEncoder()\n",
    "        df_all[name] = encoders[name].fit_transform(df_all[name])\n",
    "\n",
    "    if type_ in [np.int64, np.int32, np.float64]:\n",
    "        num_cols.append(name)\n",
    "\n",
    "df_all[num_cols] = Normalizer().fit_transform(df_all[num_cols])\n",
    "df_all.dtypes"
   ],
   "metadata": {
    "collapsed": false,
    "pycharm": {
     "name": "#%%\n"
    }
   }
  },
  {
   "cell_type": "code",
   "execution_count": null,
   "outputs": [],
   "source": [
    "from featurewiz import featurewiz\n",
    "\n",
    "f_names, a = featurewiz(df_all, target='is_trending', corr_limit=0.70, verbose=2)"
   ],
   "metadata": {
    "collapsed": false,
    "pycharm": {
     "name": "#%%\n"
    }
   }
  },
  {
   "cell_type": "code",
   "execution_count": null,
   "outputs": [],
   "source": [
    "sorted(f_names)"
   ],
   "metadata": {
    "collapsed": false,
    "pycharm": {
     "name": "#%%\n"
    }
   }
  },
  {
   "cell_type": "code",
   "execution_count": null,
   "outputs": [],
   "source": [
    "df_all[f_names + ['categoryId']].to_csv('./data/stage_5_feature_importance.csv', index=False)"
   ],
   "metadata": {
    "collapsed": false,
    "pycharm": {
     "name": "#%%\n"
    }
   }
  },
  {
   "cell_type": "code",
   "execution_count": null,
   "outputs": [],
   "source": [],
   "metadata": {
    "collapsed": false,
    "pycharm": {
     "name": "#%%\n"
    }
   }
  }
 ],
 "metadata": {
  "kernelspec": {
   "display_name": "Python 3",
   "language": "python",
   "name": "python3"
  },
  "language_info": {
   "codemirror_mode": {
    "name": "ipython",
    "version": 2
   },
   "file_extension": ".py",
   "mimetype": "text/x-python",
   "name": "python",
   "nbconvert_exporter": "python",
   "pygments_lexer": "ipython2",
   "version": "2.7.6"
  }
 },
 "nbformat": 4,
 "nbformat_minor": 0
}