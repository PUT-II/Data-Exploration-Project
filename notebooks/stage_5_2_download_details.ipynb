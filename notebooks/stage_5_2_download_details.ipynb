{
 "cells": [
  {
   "cell_type": "markdown",
   "source": [
    "# Eksploracja Danych - Projekt\n",
    "Tomasz Kiljańczyk (136257)\n",
    "\n",
    "Wojciech Lulek (136280)"
   ],
   "metadata": {
    "collapsed": false,
    "pycharm": {
     "name": "#%% md\n"
    }
   }
  },
  {
   "cell_type": "code",
   "execution_count": null,
   "outputs": [],
   "source": [
    "import pandas as pd\n",
    "import os\n",
    "\n",
    "OUTPUT_FILE = \"./data/stage_5_non_trending_details.csv\"\n",
    "INPUT_FILE = \"./data/stage_5_non_trending_ids.csv\""
   ],
   "metadata": {
    "collapsed": false,
    "pycharm": {
     "name": "#%%\n"
    }
   }
  },
  {
   "cell_type": "code",
   "execution_count": null,
   "outputs": [],
   "source": [
    "non_trending_ids_df = pd.read_csv(INPUT_FILE, dtype={\"video_id\": str}, parse_dates=[\"publishedAt\"])"
   ],
   "metadata": {
    "collapsed": false,
    "pycharm": {
     "name": "#%%\n"
    }
   }
  },
  {
   "cell_type": "markdown",
   "source": [
    "## Preparation of video IDs"
   ],
   "metadata": {
    "collapsed": false,
    "pycharm": {
     "name": "#%% md\n"
    }
   }
  },
  {
   "cell_type": "code",
   "execution_count": null,
   "outputs": [],
   "source": [
    "if os.path.exists(OUTPUT_FILE):\n",
    "    non_trending_df = pd.read_csv(OUTPUT_FILE)\n",
    "    non_trending_df.info()\n",
    "else:\n",
    "    non_trending_df = pd.DataFrame(\n",
    "        columns=[\"video_id\",\n",
    "                 \"title\",\n",
    "                 \"publishedAt\",\n",
    "                 \"categoryId\",\n",
    "                 \"tags\",\n",
    "                 \"view_count\",\n",
    "                 \"likes\",\n",
    "                 \"comment_count\",\n",
    "                 \"thumbnail_link\",\n",
    "                 \"comments_disabled\",\n",
    "                 \"ratings_disabled\",\n",
    "                 \"description\"])\n"
   ],
   "metadata": {
    "collapsed": false,
    "pycharm": {
     "name": "#%%\n"
    }
   }
  },
  {
   "cell_type": "code",
   "execution_count": null,
   "outputs": [],
   "source": [
    "all_ids = set(non_trending_ids_df[\"video_id\"].unique())\n",
    "downloaded_ids = set(non_trending_df[\"video_id\"].unique())\n",
    "pending_ids = all_ids.difference(downloaded_ids)\n",
    "len(pending_ids)"
   ],
   "metadata": {
    "collapsed": false,
    "pycharm": {
     "name": "#%%\n"
    }
   }
  },
  {
   "cell_type": "markdown",
   "source": [
    "## Download and write to CSV"
   ],
   "metadata": {
    "collapsed": false,
    "pycharm": {
     "name": "#%% md\n"
    }
   }
  },
  {
   "cell_type": "code",
   "execution_count": null,
   "outputs": [],
   "source": [
    "from youtube_api import download_video_details\n",
    "\n",
    "downloaded_videos = download_video_details(list(pending_ids))\n",
    "downloaded_videos.info()"
   ],
   "metadata": {
    "collapsed": false,
    "pycharm": {
     "name": "#%%\n"
    }
   }
  },
  {
   "cell_type": "code",
   "execution_count": null,
   "outputs": [],
   "source": [
    "non_trending_df = non_trending_df.append(downloaded_videos, ignore_index=True)\n",
    "non_trending_df.info()"
   ],
   "metadata": {
    "collapsed": false,
    "pycharm": {
     "name": "#%%\n"
    }
   }
  },
  {
   "cell_type": "code",
   "execution_count": null,
   "outputs": [],
   "source": [
    "non_trending_df.to_csv(OUTPUT_FILE, index=False)"
   ],
   "metadata": {
    "collapsed": false,
    "pycharm": {
     "name": "#%%\n"
    }
   }
  }
 ],
 "metadata": {
  "kernelspec": {
   "display_name": "Python 3",
   "language": "python",
   "name": "python3"
  },
  "language_info": {
   "codemirror_mode": {
    "name": "ipython",
    "version": 2
   },
   "file_extension": ".py",
   "mimetype": "text/x-python",
   "name": "python",
   "nbconvert_exporter": "python",
   "pygments_lexer": "ipython2",
   "version": "2.7.6"
  }
 },
 "nbformat": 4,
 "nbformat_minor": 0
}