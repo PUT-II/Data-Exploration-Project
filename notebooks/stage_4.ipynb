{
 "cells": [
  {
   "cell_type": "markdown",
   "source": [
    "Data reading and initial processing"
   ],
   "metadata": {
    "collapsed": false
   }
  },
  {
   "cell_type": "code",
   "execution_count": null,
   "metadata": {
    "collapsed": true
   },
   "outputs": [],
   "source": [
    "import pandas as pd\n",
    "from sklearn.model_selection import train_test_split\n",
    "\n",
    "df = pd.read_csv(\"./data/stage_3_feature_importance.csv\")\n",
    "y_gt = pd.read_csv(\"./data/stage_3_ground_truth.csv\", usecols=['categoryId'])"
   ]
  },
  {
   "cell_type": "markdown",
   "source": [
    "Data preparation"
   ],
   "metadata": {
    "collapsed": false
   }
  },
  {
   "cell_type": "code",
   "execution_count": null,
   "outputs": [],
   "source": [
    "df_lbl = df[df.categoryId != 0]\n",
    "df_unlbl = df[df.categoryId == 0]\n",
    "\n",
    "VALIDATE_SIZE = 0.3\n",
    "UNLBL_SIZE = 0.8\n",
    "\n",
    "_, df_test = train_test_split(df_unlbl, test_size=VALIDATE_SIZE / UNLBL_SIZE, random_state=42)\n",
    "\n",
    "X_test = df_test.drop('categoryId', axis=1)\n",
    "y_test = y_gt.iloc[X_test.index]"
   ],
   "metadata": {
    "collapsed": false,
    "pycharm": {
     "name": "#%%\n"
    }
   }
  },
  {
   "cell_type": "markdown",
   "source": [
    "Measuring classes sizes"
   ],
   "metadata": {
    "collapsed": false
   }
  },
  {
   "cell_type": "code",
   "execution_count": null,
   "outputs": [],
   "source": [
    "from matplotlib import pyplot as plt\n",
    "from collections import Counter\n",
    "\n",
    "\n",
    "def plot_label_distribution(data: pd.DataFrame, name: str = ''):\n",
    "    c = Counter()\n",
    "    c.update(data)\n",
    "\n",
    "    plt.figure(figsize=(8, 8))\n",
    "    plt.title(name)\n",
    "    plt.pie(c.values(), labels=c.keys(), autopct='%1.1f%%')\n",
    "    plt.show()\n",
    "\n",
    "\n",
    "plot_label_distribution(df['categoryId'], 'Dataset label distribution')\n",
    "plot_label_distribution(y_gt['categoryId'], 'Ground-truth label distribution')\n",
    "plot_label_distribution(df_lbl['categoryId'], 'Dataset w/o 0 label distribution')"
   ],
   "metadata": {
    "collapsed": false,
    "pycharm": {
     "name": "#%%\n"
    }
   }
  },
  {
   "cell_type": "markdown",
   "source": [
    "Balancing dataset"
   ],
   "metadata": {
    "collapsed": false
   }
  },
  {
   "cell_type": "code",
   "execution_count": null,
   "outputs": [],
   "source": [
    "from imblearn.over_sampling import RandomOverSampler, SMOTE\n",
    "\n",
    "y_lbl = df_lbl['categoryId']\n",
    "X_lbl = df_lbl.drop('categoryId', axis=1)\n",
    "\n",
    "X_lbl_res, y_lbl_res = RandomOverSampler(random_state=42).fit_resample(X_lbl, y_lbl)\n",
    "# X_lbl_res, y_lbl_res = SMOTE(random_state=42).fit_resample(X_lbl, y_lbl)\n",
    "\n",
    "plot_label_distribution(y_lbl_res, 'Resampled data label distribution')\n",
    "print(\"Resampled data shape:\", X_lbl_res.shape)"
   ],
   "metadata": {
    "collapsed": false,
    "pycharm": {
     "name": "#%%\n"
    }
   }
  },
  {
   "cell_type": "code",
   "execution_count": null,
   "outputs": [],
   "source": [
    "y_unlbl = df_unlbl['categoryId'].replace(0, -1)\n",
    "X_unlbl = df_unlbl.drop('categoryId', axis=1)\n",
    "\n",
    "y_mixed = pd.concat([y_lbl_res, y_unlbl])\n",
    "X_mixed = pd.concat([X_lbl_res, X_unlbl])\n",
    "\n",
    "print(\"Final data size:\", X_mixed.shape, y_mixed.shape)"
   ],
   "metadata": {
    "collapsed": false,
    "pycharm": {
     "name": "#%%\n"
    }
   }
  },
  {
   "cell_type": "code",
   "execution_count": null,
   "outputs": [],
   "source": [
    "from sklearn.model_selection import GridSearchCV\n",
    "from sklearn.ensemble import RandomForestClassifier\n",
    "\n",
    "clf = RandomForestClassifier()\n",
    "parameters = {'n_jobs': [-1],\n",
    "              'random_state': [42],\n",
    "              'max_depth': [20, 40, 60, None],\n",
    "              'max_features': ['auto', 'sqrt'],\n",
    "              'n_estimators': [200, 400, 600, 800]}\n",
    "\n",
    "gs = GridSearchCV(clf, parameters, verbose=3)\n",
    "# gs.fit(X_lbl_res, y_lbl_res)\n",
    "# print(gs.best_params_)"
   ],
   "metadata": {
    "collapsed": false,
    "pycharm": {
     "name": "#%%\n"
    }
   }
  },
  {
   "cell_type": "code",
   "execution_count": null,
   "outputs": [],
   "source": [
    "from imblearn.metrics import classification_report_imbalanced\n",
    "from sklearn.metrics import accuracy_score\n",
    "from sklearn.semi_supervised import LabelPropagation\n",
    "\n",
    "# model = LabelPropagation(kernel='knn', n_jobs=-1)\n",
    "# model.fit(X_mixed, y_mixed)\n",
    "# y_pred = model.predict(X_test)\n",
    "\n",
    "# # clf.fit(X_mixed, model.transduction_)\n",
    "\n",
    "# clf.set_params(**{'max_depth': None, 'max_features': 'auto', 'n_estimators': 600, 'n_jobs': -1, 'random_state': 42})\n",
    "# # clf.set_params(**gs.best_params_)\n",
    "clf.fit(X_lbl_res, y_lbl_res)\n",
    "y_pred = clf.predict(X_test)\n",
    "\n",
    "\n",
    "\n",
    "print(\"Accuracy score:\", accuracy_score(y_test, y_pred))\n",
    "print(classification_report_imbalanced(y_test, y_pred))"
   ],
   "metadata": {
    "collapsed": false,
    "pycharm": {
     "name": "#%%\n"
    }
   }
  },
  {
   "cell_type": "code",
   "execution_count": null,
   "outputs": [],
   "source": [
    "from sklearn.metrics import confusion_matrix, plot_confusion_matrix, ConfusionMatrixDisplay\n",
    "\n",
    "fig, ax = plt.subplots(figsize=(10, 10))\n",
    "ConfusionMatrixDisplay.from_predictions(y_test, y_pred, ax=ax)\n",
    "plt.show()\n"
   ],
   "metadata": {
    "collapsed": false,
    "pycharm": {
     "name": "#%%\n"
    }
   }
  }
 ],
 "metadata": {
  "kernelspec": {
   "display_name": "Python 3",
   "language": "python",
   "name": "python3"
  },
  "language_info": {
   "codemirror_mode": {
    "name": "ipython",
    "version": 2
   },
   "file_extension": ".py",
   "mimetype": "text/x-python",
   "name": "python",
   "nbconvert_exporter": "python",
   "pygments_lexer": "ipython2",
   "version": "2.7.6"
  }
 },
 "nbformat": 4,
 "nbformat_minor": 0
}