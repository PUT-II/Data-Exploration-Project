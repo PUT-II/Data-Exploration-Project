{
 "cells": [
  {
   "cell_type": "code",
   "execution_count": null,
   "metadata": {
    "collapsed": true
   },
   "outputs": [],
   "source": [
    "import pandas as pd\n",
    "\n",
    "df = pd.read_csv(\"./data/stage_3_out.csv\")\n",
    "df = df[list(df.columns)[:20]]\n",
    "\n",
    "df_gt = pd.read_csv(\"./data/stage_3_ground_truth.csv\")\n",
    "y_true = df_gt['categoryId']"
   ]
  },
  {
   "cell_type": "code",
   "execution_count": null,
   "outputs": [],
   "source": [
    "from matplotlib import pyplot as plt\n",
    "from collections import Counter\n",
    "\n",
    "\n",
    "def plot_label_distribution(df: pd.DataFrame, name: str = ' '):\n",
    "    c = Counter()\n",
    "    c.update(df['categoryId'])\n",
    "\n",
    "    print(name)\n",
    "    plt.figure(figsize=(10, 10))\n",
    "    plt.pie(c.values(), labels=c.keys(), autopct='%1.1f%%')\n",
    "    plt.show()\n",
    "\n",
    "\n",
    "\n",
    "plot_label_distribution(df_gt, 'Ground-truth label distribution')\n",
    "plot_label_distribution(df, 'Ground-truth label distribution')\n",
    "plot_label_distribution(df[df.categoryId != 0], 'Train data w/o 0 label distribution')"
   ],
   "metadata": {
    "collapsed": false,
    "pycharm": {
     "name": "#%%\n"
    }
   }
  },
  {
   "cell_type": "code",
   "execution_count": null,
   "outputs": [],
   "source": [
    "from imblearn.under_sampling import RandomUnderSampler\n",
    "\n",
    "# df_balanced = RandomUnderSampler(random_state=0).fit_resample(df)"
   ],
   "metadata": {
    "collapsed": false,
    "pycharm": {
     "name": "#%%\n"
    }
   }
  },
  {
   "cell_type": "code",
   "execution_count": null,
   "outputs": [],
   "source": [
    "import numpy as np\n",
    "from sklearn.semi_supervised import LabelPropagation\n",
    "\n",
    "df = df[:1000].dropna()\n",
    "\n",
    "y = df['categoryId']\n",
    "X = df[['view_count', 'comment_count']]\n",
    "\n",
    "y=y.astype(int).replace(0,-1)\n",
    "\n",
    "# X[X.isna().any(axis=1)]\n",
    "\n",
    "print(X.shape,y.shape)\n",
    "print(y.dtypes)"
   ],
   "metadata": {
    "collapsed": false,
    "pycharm": {
     "name": "#%%\n"
    }
   }
  },
  {
   "cell_type": "code",
   "execution_count": null,
   "outputs": [],
   "source": [
    "from sklearn.metrics import accuracy_score\n",
    "\n",
    "clf = LabelPropagation(n_jobs=-1)\n",
    "clf.fit(X, y)\n",
    "clf.predict()\n",
    "accuracy_score(y_pred)"
   ],
   "metadata": {
    "collapsed": false,
    "pycharm": {
     "name": "#%%\n"
    }
   }
  }
 ],
 "metadata": {
  "kernelspec": {
   "display_name": "Python 3",
   "language": "python",
   "name": "python3"
  },
  "language_info": {
   "codemirror_mode": {
    "name": "ipython",
    "version": 2
   },
   "file_extension": ".py",
   "mimetype": "text/x-python",
   "name": "python",
   "nbconvert_exporter": "python",
   "pygments_lexer": "ipython2",
   "version": "2.7.6"
  }
 },
 "nbformat": 4,
 "nbformat_minor": 0
}