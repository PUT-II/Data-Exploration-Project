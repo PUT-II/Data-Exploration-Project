{
 "cells": [
  {
   "cell_type": "code",
   "execution_count": null,
   "metadata": {
    "collapsed": true
   },
   "outputs": [],
   "source": [
    "import pandas as pd\n",
    "\n",
    "df = pd.read_csv(\"./data/stage_3_feature_importance.csv\")\n",
    "df_gt = pd.read_csv(\"./data/stage_3_ground_truth.csv\")\n",
    "\n",
    "df_lbl = df[df.categoryId != 0]\n",
    "df_unlbl = df[df.categoryId == 0]"
   ]
  },
  {
   "cell_type": "code",
   "execution_count": null,
   "outputs": [],
   "source": [
    "from matplotlib import pyplot as plt\n",
    "from collections import Counter\n",
    "\n",
    "\n",
    "def plot_label_distribution(df: pd.DataFrame, name: str = ' '):\n",
    "    c = Counter()\n",
    "    c.update(df['categoryId'])\n",
    "\n",
    "    print(name)\n",
    "    plt.figure(figsize=(10, 10))\n",
    "    plt.pie(c.values(), labels=c.keys(), autopct='%1.1f%%')\n",
    "    plt.show()\n",
    "\n",
    "\n",
    "plot_label_distribution(df, 'Dataset label distribution:')\n",
    "plot_label_distribution(df_gt, 'Ground-truth label distribution:')\n",
    "plot_label_distribution(df_lbl, 'Dataset w/o 0 label distribution:')"
   ],
   "metadata": {
    "collapsed": false,
    "pycharm": {
     "name": "#%%\n"
    }
   }
  },
  {
   "cell_type": "code",
   "execution_count": null,
   "outputs": [],
   "source": [
    "from imblearn.over_sampling import RandomOverSampler\n",
    "\n",
    "y_gt = df_gt['categoryId']\n",
    "\n",
    "y_unlbl = df_unlbl['categoryId'].replace(0, -1)\n",
    "X_unlbl = df_unlbl.drop('categoryId', axis=1)\n",
    "\n",
    "y_lbl = df_lbl['categoryId']\n",
    "X_lbl = df_lbl.drop('categoryId', axis=1)\n",
    "\n",
    "X_lbl_res, y_lbl_res = RandomOverSampler(random_state=0).fit_resample(X_lbl, y_lbl)"
   ],
   "metadata": {
    "collapsed": false,
    "pycharm": {
     "name": "#%%\n"
    }
   }
  },
  {
   "cell_type": "code",
   "execution_count": null,
   "outputs": [],
   "source": [
    "from sklearn.model_selection import train_test_split\n",
    "\n",
    "y_mixed = pd.concat([y_lbl_res, y_unlbl])\n",
    "X_mixed = pd.concat([X_lbl_res, X_unlbl])\n",
    "\n",
    "unlbl_indx = y_mixed[y_mixed == -1].index\n",
    "\n",
    "# X_train, X_test, y_train, y_test = train_test_split(X, y, test_size=0.33, random_state=42)\n",
    "\n",
    "print(X_mixed.shape, y_mixed.shape)"
   ],
   "metadata": {
    "collapsed": false,
    "pycharm": {
     "name": "#%%\n"
    }
   }
  },
  {
   "cell_type": "code",
   "execution_count": null,
   "outputs": [],
   "source": [
    "from sklearn.ensemble import RandomForestClassifier\n",
    "\n",
    "clf = RandomForestClassifier(n_jobs=-1)\n",
    "clf.fit(X_lbl_res, y_lbl_res)\n",
    "y_pred = clf.predict(X_unlbl)\n"
   ],
   "metadata": {
    "collapsed": false,
    "pycharm": {
     "name": "#%%\n"
    }
   }
  },
  {
   "cell_type": "code",
   "execution_count": null,
   "outputs": [],
   "source": [
    "from sklearn.metrics import accuracy_score\n",
    "from sklearn.semi_supervised import LabelPropagation\n",
    "\n",
    "# model = LabelPropagation(n_jobs=-1)\n",
    "# model.fit(X, y)\n",
    "#\n",
    "# # y_pred = clf.transduction_[unlbl_indx]\n",
    "# y_pred = model.predict(y_unlbl)\n",
    "\n",
    "print(accuracy_score(y_gt[df_unlbl.index], y_pred))"
   ],
   "metadata": {
    "collapsed": false,
    "pycharm": {
     "name": "#%%\n"
    }
   }
  }
 ],
 "metadata": {
  "kernelspec": {
   "display_name": "Python 3",
   "language": "python",
   "name": "python3"
  },
  "language_info": {
   "codemirror_mode": {
    "name": "ipython",
    "version": 2
   },
   "file_extension": ".py",
   "mimetype": "text/x-python",
   "name": "python",
   "nbconvert_exporter": "python",
   "pygments_lexer": "ipython2",
   "version": "2.7.6"
  }
 },
 "nbformat": 4,
 "nbformat_minor": 0
}