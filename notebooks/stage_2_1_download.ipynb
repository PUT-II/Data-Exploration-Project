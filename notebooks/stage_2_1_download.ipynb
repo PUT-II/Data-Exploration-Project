{
 "cells": [
  {
   "cell_type": "markdown",
   "source": [
    "# Eksploracja Danych - Projekt\n",
    "Tomasz Kiljańczyk (136257)\n",
    "\n",
    "Wojciech Lulek (136280)"
   ],
   "metadata": {
    "collapsed": false
   }
  },
  {
   "cell_type": "code",
   "execution_count": null,
   "outputs": [],
   "source": [
    "import pandas as pd\n",
    "from tqdm.notebook import tqdm_notebook"
   ],
   "metadata": {
    "collapsed": false,
    "pycharm": {
     "name": "#%%\n"
    }
   }
  },
  {
   "cell_type": "code",
   "execution_count": null,
   "outputs": [],
   "source": [
    "us_trending_df = pd.read_csv(\"./data/stage_1_us_trending.csv\")\n",
    "us_trending_df"
   ],
   "metadata": {
    "collapsed": false,
    "pycharm": {
     "name": "#%%\n"
    }
   }
  },
  {
   "cell_type": "code",
   "execution_count": null,
   "outputs": [],
   "source": [
    "us_trending_df['thumbnail_link_hires'] = us_trending_df['thumbnail_link'].str.replace('default.jpg', '0.jpg')\n",
    "urls = us_trending_df['thumbnail_link_hires']\n",
    "unique_urls = us_trending_df['thumbnail_link_hires'].unique()\n",
    "us_trending_df['thumbnail_link_hires']"
   ],
   "metadata": {
    "collapsed": false,
    "pycharm": {
     "name": "#%%\n"
    }
   }
  },
  {
   "cell_type": "code",
   "execution_count": null,
   "outputs": [],
   "source": [
    "from notebooks.workers import download_and_save\n",
    "from multiprocessing import Pool\n",
    "import os\n",
    "\n",
    "if not os.path.exists('./images/'):\n",
    "    os.makedirs('./images/')\n",
    "\n",
    "with Pool(processes=os.cpu_count()) as pool:\n",
    "    for _ in tqdm_notebook(pool.imap(download_and_save, unique_urls), total=unique_urls.size):\n",
    "        pass\n"
   ],
   "metadata": {
    "collapsed": false,
    "pycharm": {
     "name": "#%%\n"
    }
   }
  }
 ],
 "metadata": {
  "kernelspec": {
   "display_name": "Python 3",
   "language": "python",
   "name": "python3"
  },
  "language_info": {
   "codemirror_mode": {
    "name": "ipython",
    "version": 2
   },
   "file_extension": ".py",
   "mimetype": "text/x-python",
   "name": "python",
   "nbconvert_exporter": "python",
   "pygments_lexer": "ipython2",
   "version": "2.7.6"
  }
 },
 "nbformat": 4,
 "nbformat_minor": 0
}