{
 "cells": [
  {
   "cell_type": "markdown",
   "source": [
    "Read DF's"
   ],
   "metadata": {
    "collapsed": false
   }
  },
  {
   "cell_type": "code",
   "execution_count": null,
   "metadata": {
    "collapsed": true
   },
   "outputs": [],
   "source": [
    "import numpy as np\n",
    "import pandas as pd\n",
    "\n",
    "us_trending_df = pd.read_csv(\"./data/stage_1_us_trending.csv\")\n",
    "color_text_df = pd.read_csv(\"./data/stage_2_thumbnail_colors_and_text.csv\")\n",
    "face_df = pd.read_csv(\"./data/stage_2_thumbnail_face.csv\")\n",
    "objects_df = pd.read_csv(\"./data/stage_2_thumbnail_objects_vectors.csv\").drop('Unnamed: 0', axis=1)"
   ]
  },
  {
   "cell_type": "markdown",
   "source": [
    "Merge DF's"
   ],
   "metadata": {
    "collapsed": false
   }
  },
  {
   "cell_type": "code",
   "execution_count": null,
   "outputs": [],
   "source": [
    "df = pd.concat([us_trending_df, color_text_df, face_df, objects_df], axis=1)\n",
    "df.head()"
   ],
   "metadata": {
    "collapsed": false,
    "pycharm": {
     "name": "#%%\n"
    }
   }
  },
  {
   "cell_type": "markdown",
   "source": [
    "Calculate correlations between attributes and target class"
   ],
   "metadata": {
    "collapsed": false
   }
  },
  {
   "cell_type": "code",
   "execution_count": null,
   "outputs": [],
   "source": [
    "from matplotlib import pyplot as plt\n",
    "\n",
    "target_class = 'likes'\n",
    "\n",
    "corr_dct = dict(df.corr(method='spearman')[target_class].drop(target_class).dropna())\n",
    "corr_dct = dict(sorted(corr_dct.items(), key=lambda item: item[1], reverse=True))\n",
    "\n",
    "plt.scatter(range(len(corr_dct)), corr_dct.values())"
   ],
   "metadata": {
    "collapsed": false,
    "pycharm": {
     "name": "#%%\n"
    }
   }
  },
  {
   "cell_type": "markdown",
   "source": [
    "Find attributes with small correlation"
   ],
   "metadata": {
    "collapsed": false
   }
  },
  {
   "cell_type": "code",
   "execution_count": null,
   "outputs": [],
   "source": [
    "for k in list(corr_dct.keys()):\n",
    "    if abs(corr_dct[k]) < 0.2:\n",
    "        corr_dct.pop(k)\n",
    "\n",
    "plt.scatter(range(len(corr_dct)), corr_dct.values())"
   ],
   "metadata": {
    "collapsed": false,
    "pycharm": {
     "name": "#%%\n"
    }
   }
  },
  {
   "cell_type": "markdown",
   "source": [
    "Drop attributes with small correlation from data and save to csv"
   ],
   "metadata": {
    "collapsed": false
   }
  },
  {
   "cell_type": "code",
   "execution_count": null,
   "outputs": [],
   "source": [
    "columns_to_drop = [ele for ele in list(df.columns) if ele not in list(corr_dct.keys())]\n",
    "df.drop(columns=columns_to_drop, axis=1, inplace=True)\n",
    "df.to_csv(\"./data/stage_3_feature_importance.csv\")\n",
    "df.head()"
   ],
   "metadata": {
    "collapsed": false,
    "pycharm": {
     "name": "#%%\n"
    }
   }
  },
  {
   "cell_type": "markdown",
   "source": [],
   "metadata": {
    "collapsed": false
   }
  }
 ],
 "metadata": {
  "kernelspec": {
   "display_name": "Python 3",
   "language": "python",
   "name": "python3"
  },
  "language_info": {
   "codemirror_mode": {
    "name": "ipython",
    "version": 2
   },
   "file_extension": ".py",
   "mimetype": "text/x-python",
   "name": "python",
   "nbconvert_exporter": "python",
   "pygments_lexer": "ipython2",
   "version": "2.7.6"
  }
 },
 "nbformat": 4,
 "nbformat_minor": 0
}