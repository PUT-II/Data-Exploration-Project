{
 "cells": [
  {
   "cell_type": "markdown",
   "source": [
    "Read DF's"
   ],
   "metadata": {
    "collapsed": false
   }
  },
  {
   "cell_type": "code",
   "execution_count": 31,
   "metadata": {
    "collapsed": true
   },
   "outputs": [],
   "source": [
    "import numpy as np\n",
    "import pandas as pd\n",
    "\n",
    "us_trending_df = pd.read_csv(\"./data/stage_1_us_trending.csv\")\n",
    "color_text_df = pd.read_csv(\"./data/stage_2_thumbnail_colors_and_text.csv\")\n",
    "face_df = pd.read_csv(\"./data/stage_2_thumbnail_face.csv\")\n",
    "objects_df = pd.read_csv(\"./data/stage_2_thumbnail_objects_vectors.csv\").drop('Unnamed: 0', axis=1)"
   ]
  },
  {
   "cell_type": "markdown",
   "source": [
    "Merge DF's"
   ],
   "metadata": {
    "collapsed": false
   }
  },
  {
   "cell_type": "code",
   "execution_count": 32,
   "outputs": [
    {
     "data": {
      "text/plain": "                  channelId   channelTitle trending_date  view_count   likes  \\\n0  UCvtRTOMP2TqYqu51xNrqAzg       Brawadis    2020-08-12     1514614  156908   \n1  UC0ZV6M2THA81QT9hrVWJG3A   Apex Legends    2020-08-12     2381688  146739   \n2  UCYzPXprvl5Y-Sf0g4vX-m6g  jacksepticeye    2020-08-12     2038853  353787   \n3  UCbg_UMjlHJg_19SZckaKajg            XXL    2020-08-12      496771   23251   \n4  UCDVPcEbVLQgLZX0Rt6jo34A       Mr. Kate    2020-08-12     1123889   45802   \n\n   dislikes  comment_count                                  thumbnail_link  \\\n0      5855          35313  https://i.ytimg.com/vi/3C66w5Z0ixs/default.jpg   \n1      2794          16549  https://i.ytimg.com/vi/M9Pmf9AB4Mo/default.jpg   \n2      2628          40221  https://i.ytimg.com/vi/J78aPJ3VyNs/default.jpg   \n3      1856           7647  https://i.ytimg.com/vi/kXLn3HkpjaA/default.jpg   \n4       964           2196  https://i.ytimg.com/vi/VIUo6yapDbc/default.jpg   \n\n   comments_disabled  ratings_disabled  ... thumbnail_face_dominant_race  \\\n0              False             False  ...                          4.0   \n1              False             False  ...                          0.0   \n2              False             False  ...                          5.0   \n3              False             False  ...                          4.0   \n4              False             False  ...                          4.0   \n\n   thumbnail_face_gender  person  potted plant  chair  sports ball  tie   tv  \\\n0                    1.0     2.0           1.0    0.0          0.0  0.0  0.0   \n1                    0.0     2.0           0.0    0.0          0.0  0.0  0.0   \n2                    1.0     2.0           0.0    0.0          0.0  0.0  0.0   \n3                    1.0     6.0           0.0    1.0          0.0  0.0  0.0   \n4                    1.0     1.0           0.0    0.0          1.0  0.0  0.0   \n\n   frisbee  cell phone  \n0      0.0         0.0  \n1      0.0         0.0  \n2      0.0         0.0  \n3      0.0         0.0  \n4      0.0         0.0  \n\n[5 rows x 58 columns]",
      "text/html": "<div>\n<style scoped>\n    .dataframe tbody tr th:only-of-type {\n        vertical-align: middle;\n    }\n\n    .dataframe tbody tr th {\n        vertical-align: top;\n    }\n\n    .dataframe thead th {\n        text-align: right;\n    }\n</style>\n<table border=\"1\" class=\"dataframe\">\n  <thead>\n    <tr style=\"text-align: right;\">\n      <th></th>\n      <th>channelId</th>\n      <th>channelTitle</th>\n      <th>trending_date</th>\n      <th>view_count</th>\n      <th>likes</th>\n      <th>dislikes</th>\n      <th>comment_count</th>\n      <th>thumbnail_link</th>\n      <th>comments_disabled</th>\n      <th>ratings_disabled</th>\n      <th>...</th>\n      <th>thumbnail_face_dominant_race</th>\n      <th>thumbnail_face_gender</th>\n      <th>person</th>\n      <th>potted plant</th>\n      <th>chair</th>\n      <th>sports ball</th>\n      <th>tie</th>\n      <th>tv</th>\n      <th>frisbee</th>\n      <th>cell phone</th>\n    </tr>\n  </thead>\n  <tbody>\n    <tr>\n      <th>0</th>\n      <td>UCvtRTOMP2TqYqu51xNrqAzg</td>\n      <td>Brawadis</td>\n      <td>2020-08-12</td>\n      <td>1514614</td>\n      <td>156908</td>\n      <td>5855</td>\n      <td>35313</td>\n      <td>https://i.ytimg.com/vi/3C66w5Z0ixs/default.jpg</td>\n      <td>False</td>\n      <td>False</td>\n      <td>...</td>\n      <td>4.0</td>\n      <td>1.0</td>\n      <td>2.0</td>\n      <td>1.0</td>\n      <td>0.0</td>\n      <td>0.0</td>\n      <td>0.0</td>\n      <td>0.0</td>\n      <td>0.0</td>\n      <td>0.0</td>\n    </tr>\n    <tr>\n      <th>1</th>\n      <td>UC0ZV6M2THA81QT9hrVWJG3A</td>\n      <td>Apex Legends</td>\n      <td>2020-08-12</td>\n      <td>2381688</td>\n      <td>146739</td>\n      <td>2794</td>\n      <td>16549</td>\n      <td>https://i.ytimg.com/vi/M9Pmf9AB4Mo/default.jpg</td>\n      <td>False</td>\n      <td>False</td>\n      <td>...</td>\n      <td>0.0</td>\n      <td>0.0</td>\n      <td>2.0</td>\n      <td>0.0</td>\n      <td>0.0</td>\n      <td>0.0</td>\n      <td>0.0</td>\n      <td>0.0</td>\n      <td>0.0</td>\n      <td>0.0</td>\n    </tr>\n    <tr>\n      <th>2</th>\n      <td>UCYzPXprvl5Y-Sf0g4vX-m6g</td>\n      <td>jacksepticeye</td>\n      <td>2020-08-12</td>\n      <td>2038853</td>\n      <td>353787</td>\n      <td>2628</td>\n      <td>40221</td>\n      <td>https://i.ytimg.com/vi/J78aPJ3VyNs/default.jpg</td>\n      <td>False</td>\n      <td>False</td>\n      <td>...</td>\n      <td>5.0</td>\n      <td>1.0</td>\n      <td>2.0</td>\n      <td>0.0</td>\n      <td>0.0</td>\n      <td>0.0</td>\n      <td>0.0</td>\n      <td>0.0</td>\n      <td>0.0</td>\n      <td>0.0</td>\n    </tr>\n    <tr>\n      <th>3</th>\n      <td>UCbg_UMjlHJg_19SZckaKajg</td>\n      <td>XXL</td>\n      <td>2020-08-12</td>\n      <td>496771</td>\n      <td>23251</td>\n      <td>1856</td>\n      <td>7647</td>\n      <td>https://i.ytimg.com/vi/kXLn3HkpjaA/default.jpg</td>\n      <td>False</td>\n      <td>False</td>\n      <td>...</td>\n      <td>4.0</td>\n      <td>1.0</td>\n      <td>6.0</td>\n      <td>0.0</td>\n      <td>1.0</td>\n      <td>0.0</td>\n      <td>0.0</td>\n      <td>0.0</td>\n      <td>0.0</td>\n      <td>0.0</td>\n    </tr>\n    <tr>\n      <th>4</th>\n      <td>UCDVPcEbVLQgLZX0Rt6jo34A</td>\n      <td>Mr. Kate</td>\n      <td>2020-08-12</td>\n      <td>1123889</td>\n      <td>45802</td>\n      <td>964</td>\n      <td>2196</td>\n      <td>https://i.ytimg.com/vi/VIUo6yapDbc/default.jpg</td>\n      <td>False</td>\n      <td>False</td>\n      <td>...</td>\n      <td>4.0</td>\n      <td>1.0</td>\n      <td>1.0</td>\n      <td>0.0</td>\n      <td>0.0</td>\n      <td>1.0</td>\n      <td>0.0</td>\n      <td>0.0</td>\n      <td>0.0</td>\n      <td>0.0</td>\n    </tr>\n  </tbody>\n</table>\n<p>5 rows × 58 columns</p>\n</div>"
     },
     "execution_count": 32,
     "metadata": {},
     "output_type": "execute_result"
    }
   ],
   "source": [
    "df = pd.concat([us_trending_df, color_text_df, face_df, objects_df], axis=1)\n",
    "df.head()"
   ],
   "metadata": {
    "collapsed": false,
    "pycharm": {
     "name": "#%%\n"
    }
   }
  },
  {
   "cell_type": "markdown",
   "source": [
    "Calculate correlations between attributes and target class"
   ],
   "metadata": {
    "collapsed": false
   }
  },
  {
   "cell_type": "code",
   "execution_count": 33,
   "outputs": [
    {
     "data": {
      "text/plain": "<matplotlib.collections.PathCollection at 0x2102a982f08>"
     },
     "execution_count": 33,
     "metadata": {},
     "output_type": "execute_result"
    },
    {
     "data": {
      "text/plain": "<Figure size 432x288 with 1 Axes>",
      "image/png": "[encoded data removed]"
     },
     "metadata": {
      "needs_background": "light"
     },
     "output_type": "display_data"
    }
   ],
   "source": [
    "from matplotlib import pyplot as plt\n",
    "\n",
    "target_class = 'likes'\n",
    "\n",
    "corr_dct = dict(df.corr(method = 'spearman')[target_class].drop(target_class).dropna())\n",
    "corr_dct = dict(sorted(corr_dct.items(), key=lambda item: item[1], reverse=True))\n",
    "\n",
    "plt.scatter(range(len(corr_dct)), corr_dct.values())"
   ],
   "metadata": {
    "collapsed": false,
    "pycharm": {
     "name": "#%%\n"
    }
   }
  },
  {
   "cell_type": "markdown",
   "source": [
    "Find attributes with small correlation"
   ],
   "metadata": {
    "collapsed": false
   }
  },
  {
   "cell_type": "code",
   "execution_count": 34,
   "outputs": [
    {
     "data": {
      "text/plain": "<matplotlib.collections.PathCollection at 0x210357d2108>"
     },
     "execution_count": 34,
     "metadata": {},
     "output_type": "execute_result"
    },
    {
     "data": {
      "text/plain": "<Figure size 432x288 with 1 Axes>",
      "image/png": "[encoded data removed]"
     },
     "metadata": {
      "needs_background": "light"
     },
     "output_type": "display_data"
    }
   ],
   "source": [
    "for k in list(corr_dct.keys()):\n",
    "    if abs(corr_dct[k]) < 0.2:\n",
    "        corr_dct.pop(k)\n",
    "\n",
    "plt.scatter(range(len(corr_dct)), corr_dct.values())"
   ],
   "metadata": {
    "collapsed": false,
    "pycharm": {
     "name": "#%%\n"
    }
   }
  },
  {
   "cell_type": "markdown",
   "source": [
    "Drop attributes with small correlation from data and save to csv"
   ],
   "metadata": {
    "collapsed": false
   }
  },
  {
   "cell_type": "code",
   "execution_count": 35,
   "outputs": [
    {
     "data": {
      "text/plain": "   view_count  dislikes  comment_count  title_length  thumbnail_med_value  \\\n0     1514614      5855          35313            34                221.0   \n1     2381688      2794          16549            60                 77.0   \n2     2038853      2628          40221            53                131.0   \n3      496771      1856           7647            56                152.0   \n4     1123889       964           2196            55                178.0   \n\n   thumbnail_avg_value  thumbnail_face_race_latino_hispanic  chair  \n0           210.375910                            10.070622    0.0  \n1           108.250185                             0.000000    0.0  \n2           136.325486                            17.334764    0.0  \n3           149.524666                            21.723383    1.0  \n4           166.311347                            23.499392    0.0  ",
      "text/html": "<div>\n<style scoped>\n    .dataframe tbody tr th:only-of-type {\n        vertical-align: middle;\n    }\n\n    .dataframe tbody tr th {\n        vertical-align: top;\n    }\n\n    .dataframe thead th {\n        text-align: right;\n    }\n</style>\n<table border=\"1\" class=\"dataframe\">\n  <thead>\n    <tr style=\"text-align: right;\">\n      <th></th>\n      <th>view_count</th>\n      <th>dislikes</th>\n      <th>comment_count</th>\n      <th>title_length</th>\n      <th>thumbnail_med_value</th>\n      <th>thumbnail_avg_value</th>\n      <th>thumbnail_face_race_latino_hispanic</th>\n      <th>chair</th>\n    </tr>\n  </thead>\n  <tbody>\n    <tr>\n      <th>0</th>\n      <td>1514614</td>\n      <td>5855</td>\n      <td>35313</td>\n      <td>34</td>\n      <td>221.0</td>\n      <td>210.375910</td>\n      <td>10.070622</td>\n      <td>0.0</td>\n    </tr>\n    <tr>\n      <th>1</th>\n      <td>2381688</td>\n      <td>2794</td>\n      <td>16549</td>\n      <td>60</td>\n      <td>77.0</td>\n      <td>108.250185</td>\n      <td>0.000000</td>\n      <td>0.0</td>\n    </tr>\n    <tr>\n      <th>2</th>\n      <td>2038853</td>\n      <td>2628</td>\n      <td>40221</td>\n      <td>53</td>\n      <td>131.0</td>\n      <td>136.325486</td>\n      <td>17.334764</td>\n      <td>0.0</td>\n    </tr>\n    <tr>\n      <th>3</th>\n      <td>496771</td>\n      <td>1856</td>\n      <td>7647</td>\n      <td>56</td>\n      <td>152.0</td>\n      <td>149.524666</td>\n      <td>21.723383</td>\n      <td>1.0</td>\n    </tr>\n    <tr>\n      <th>4</th>\n      <td>1123889</td>\n      <td>964</td>\n      <td>2196</td>\n      <td>55</td>\n      <td>178.0</td>\n      <td>166.311347</td>\n      <td>23.499392</td>\n      <td>0.0</td>\n    </tr>\n  </tbody>\n</table>\n</div>"
     },
     "execution_count": 35,
     "metadata": {},
     "output_type": "execute_result"
    }
   ],
   "source": [
    "columns_to_drop = [ele for ele in list(df.columns) if ele not in list(corr_dct.keys())]\n",
    "df.drop(columns = columns_to_drop, axis=1, inplace=True)\n",
    "df.to_csv(\"./data/stage_3_feature_importance.csv\")\n",
    "df.head()"
   ],
   "metadata": {
    "collapsed": false,
    "pycharm": {
     "name": "#%%\n"
    }
   }
  },
  {
   "cell_type": "markdown",
   "source": [],
   "metadata": {
    "collapsed": false
   }
  }
 ],
 "metadata": {
  "kernelspec": {
   "display_name": "Python 3",
   "language": "python",
   "name": "python3"
  },
  "language_info": {
   "codemirror_mode": {
    "name": "ipython",
    "version": 2
   },
   "file_extension": ".py",
   "mimetype": "text/x-python",
   "name": "python",
   "nbconvert_exporter": "python",
   "pygments_lexer": "ipython2",
   "version": "2.7.6"
  }
 },
 "nbformat": 4,
 "nbformat_minor": 0
}