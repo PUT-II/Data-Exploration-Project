{
 "cells": [
  {
   "cell_type": "markdown",
   "source": [
    "Read DF's"
   ],
   "metadata": {
    "collapsed": false
   }
  },
  {
   "cell_type": "code",
   "execution_count": null,
   "metadata": {
    "collapsed": true
   },
   "outputs": [],
   "source": [
    "import numpy as np\n",
    "import pandas as pd\n",
    "\n",
    "us_trending_df = pd.read_csv(\"./data/stage_1_us_trending.csv\")\n",
    "color_text_df = pd.read_csv(\"./data/stage_2_thumbnail_colors_and_text.csv\")\n",
    "face_df = pd.read_csv(\"./data/stage_2_thumbnail_face.csv\")\n",
    "objects_df = pd.read_csv(\"./data/stage_2_thumbnail_objects_vectors.csv\")"
   ]
  },
  {
   "cell_type": "markdown",
   "source": [
    "Merge DF's"
   ],
   "metadata": {
    "collapsed": false
   }
  },
  {
   "cell_type": "code",
   "execution_count": null,
   "outputs": [],
   "source": [
    "df_all = pd.concat([us_trending_df, color_text_df, face_df, objects_df], axis=1)\n",
    "df_labeled_only = df_all[df_all.categoryId != 0.0]\n",
    "df_labeled_only.head()"
   ],
   "metadata": {
    "collapsed": false,
    "pycharm": {
     "name": "#%%\n"
    }
   }
  },
  {
   "cell_type": "markdown",
   "source": [],
   "metadata": {
    "collapsed": false
   }
  },
  {
   "cell_type": "code",
   "execution_count": null,
   "outputs": [],
   "source": [
    "corr_matrix = df_labeled_only.corr(method='spearman')\n",
    "\n",
    "target_attr = 'categoryId'\n",
    "corr_attr_threshold = 0.8\n",
    "drop_set = set()\n",
    "\n",
    "corr_matrix_filtered = corr_matrix[(abs(corr_matrix) > corr_attr_threshold) & (corr_matrix < 1.0)]\n",
    "\n",
    "for k in corr_matrix_filtered:\n",
    "    dct = dict(corr_matrix_filtered[k].dropna())\n",
    "\n",
    "    for k2 in dct:\n",
    "\n",
    "        if abs(corr_matrix[k][target_attr]) > abs(corr_matrix[k2][target_attr]):\n",
    "            drop_set.add(k2)\n",
    "            print(k,k2)\n",
    "        else:\n",
    "            drop_set.add(k)\n",
    "            print(k2,k)\n",
    "\n",
    "# for col in drop_set:\n",
    "#     df.drop(col, axis=1, inplace=True)\n",
    "\n",
    "print(drop_set)\n",
    "\n",
    "#jakis test hi2 powinien być zamiast korelacji"
   ],
   "metadata": {
    "collapsed": false,
    "pycharm": {
     "name": "#%%\n"
    }
   }
  },
  {
   "cell_type": "markdown",
   "source": [
    "Calculate correlations between attributes and target class"
   ],
   "metadata": {
    "collapsed": false
   }
  },
  {
   "cell_type": "code",
   "execution_count": null,
   "outputs": [],
   "source": [
    "from matplotlib import pyplot as plt\n",
    "\n",
    "corr_matrix_filtered = dict(df_labeled_only.corr(method='spearman')[target_attr].drop(target_attr).dropna())\n",
    "corr_matrix_filtered = dict(sorted(corr_matrix_filtered.items(), key=lambda item: item[1], reverse=True))\n",
    "\n",
    "plt.scatter(range(len(corr_matrix_filtered)), corr_matrix_filtered.values())\n",
    "# jakiś wrapper można spróbować na grupach atrybutów"
   ],
   "metadata": {
    "collapsed": false,
    "pycharm": {
     "name": "#%%\n"
    }
   }
  },
  {
   "cell_type": "markdown",
   "source": [
    "Find attributes with small correlation"
   ],
   "metadata": {
    "collapsed": false
   }
  },
  {
   "cell_type": "code",
   "execution_count": null,
   "outputs": [],
   "source": [
    "corr_target_threshold = 0.2\n",
    "\n",
    "for k in list(corr_matrix_filtered.keys()):\n",
    "    if abs(corr_matrix_filtered[k]) < corr_target_threshold:\n",
    "        corr_matrix_filtered.pop(k)\n",
    "\n",
    "plt.scatter(range(len(corr_matrix_filtered)), corr_matrix_filtered.values())"
   ],
   "metadata": {
    "collapsed": false,
    "pycharm": {
     "name": "#%%\n"
    }
   }
  },
  {
   "cell_type": "markdown",
   "source": [
    "Drop attributes with small correlation from data and save to csv"
   ],
   "metadata": {
    "collapsed": false
   }
  },
  {
   "cell_type": "code",
   "execution_count": null,
   "outputs": [],
   "source": [
    "columns_to_drop = [ele for ele in list(df_labeled_only.columns) if ele not in list(corr_matrix_filtered.keys())]\n",
    "df_labeled_only.drop(columns=columns_to_drop, axis=1, inplace=True)\n",
    "df_labeled_only.to_csv(\"./data/stage_3_feature_importance.csv\", index=False)\n",
    "df_labeled_only.head()"
   ],
   "metadata": {
    "collapsed": false,
    "pycharm": {
     "name": "#%%\n"
    }
   }
  },
  {
   "cell_type": "markdown",
   "source": [],
   "metadata": {
    "collapsed": false
   }
  }
 ],
 "metadata": {
  "kernelspec": {
   "display_name": "Python 3",
   "language": "python",
   "name": "python3"
  },
  "language_info": {
   "codemirror_mode": {
    "name": "ipython",
    "version": 2
   },
   "file_extension": ".py",
   "mimetype": "text/x-python",
   "name": "python",
   "nbconvert_exporter": "python",
   "pygments_lexer": "ipython2",
   "version": "2.7.6"
  }
 },
 "nbformat": 4,
 "nbformat_minor": 0
}