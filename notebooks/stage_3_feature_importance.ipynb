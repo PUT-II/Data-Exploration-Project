{
 "cells": [
  {
   "cell_type": "markdown",
   "source": [
    "Read DF's"
   ],
   "metadata": {
    "collapsed": false
   }
  },
  {
   "cell_type": "code",
   "execution_count": 1,
   "metadata": {
    "collapsed": true
   },
   "outputs": [],
   "source": [
    "import numpy as np\n",
    "import pandas as pd\n",
    "\n",
    "us_trending_df = pd.read_csv(\"./data/stage_1_us_trending.csv\")\n",
    "color_text_df = pd.read_csv(\"./data/stage_2_thumbnail_colors_and_text.csv\")\n",
    "face_df = pd.read_csv(\"./data/stage_2_thumbnail_face.csv\")\n",
    "objects_df = pd.read_csv(\"./data/stage_2_thumbnail_objects_vectors.csv\")"
   ]
  },
  {
   "cell_type": "markdown",
   "source": [
    "Merge DF's"
   ],
   "metadata": {
    "collapsed": false
   }
  },
  {
   "cell_type": "code",
   "execution_count": 2,
   "outputs": [
    {
     "data": {
      "text/plain": "                  channelId   channelTitle trending_date  view_count   likes  \\\n0  UCvtRTOMP2TqYqu51xNrqAzg       Brawadis    2020-08-12     1514614  156908   \n1  UC0ZV6M2THA81QT9hrVWJG3A   Apex Legends    2020-08-12     2381688  146739   \n2  UCYzPXprvl5Y-Sf0g4vX-m6g  jacksepticeye    2020-08-12     2038853  353787   \n3  UCbg_UMjlHJg_19SZckaKajg            XXL    2020-08-12      496771   23251   \n4  UCDVPcEbVLQgLZX0Rt6jo34A       Mr. Kate    2020-08-12     1123889   45802   \n\n   dislikes  comment_count                                  thumbnail_link  \\\n0      5855          35313  https://i.ytimg.com/vi/3C66w5Z0ixs/default.jpg   \n1      2794          16549  https://i.ytimg.com/vi/M9Pmf9AB4Mo/default.jpg   \n2      2628          40221  https://i.ytimg.com/vi/J78aPJ3VyNs/default.jpg   \n3      1856           7647  https://i.ytimg.com/vi/kXLn3HkpjaA/default.jpg   \n4       964           2196  https://i.ytimg.com/vi/VIUo6yapDbc/default.jpg   \n\n   comments_disabled  ratings_disabled  ... parking meter  skis  fork  cow  \\\n0              False             False  ...           0.0   0.0   0.0  0.0   \n1              False             False  ...           0.0   0.0   0.0  0.0   \n2              False             False  ...           0.0   0.0   0.0  0.0   \n3              False             False  ...           0.0   0.0   0.0  0.0   \n4              False             False  ...           0.0   0.0   0.0  0.0   \n\n   snowboard  fire hydrant  elephant  carrot  zebra  hair dryer  \n0        0.0           0.0       0.0     0.0    0.0         0.0  \n1        0.0           0.0       0.0     0.0    0.0         0.0  \n2        0.0           0.0       0.0     0.0    0.0         0.0  \n3        0.0           0.0       0.0     0.0    0.0         0.0  \n4        0.0           0.0       0.0     0.0    0.0         0.0  \n\n[5 rows x 131 columns]",
      "text/html": "<div>\n<style scoped>\n    .dataframe tbody tr th:only-of-type {\n        vertical-align: middle;\n    }\n\n    .dataframe tbody tr th {\n        vertical-align: top;\n    }\n\n    .dataframe thead th {\n        text-align: right;\n    }\n</style>\n<table border=\"1\" class=\"dataframe\">\n  <thead>\n    <tr style=\"text-align: right;\">\n      <th></th>\n      <th>channelId</th>\n      <th>channelTitle</th>\n      <th>trending_date</th>\n      <th>view_count</th>\n      <th>likes</th>\n      <th>dislikes</th>\n      <th>comment_count</th>\n      <th>thumbnail_link</th>\n      <th>comments_disabled</th>\n      <th>ratings_disabled</th>\n      <th>...</th>\n      <th>parking meter</th>\n      <th>skis</th>\n      <th>fork</th>\n      <th>cow</th>\n      <th>snowboard</th>\n      <th>fire hydrant</th>\n      <th>elephant</th>\n      <th>carrot</th>\n      <th>zebra</th>\n      <th>hair dryer</th>\n    </tr>\n  </thead>\n  <tbody>\n    <tr>\n      <th>0</th>\n      <td>UCvtRTOMP2TqYqu51xNrqAzg</td>\n      <td>Brawadis</td>\n      <td>2020-08-12</td>\n      <td>1514614</td>\n      <td>156908</td>\n      <td>5855</td>\n      <td>35313</td>\n      <td>https://i.ytimg.com/vi/3C66w5Z0ixs/default.jpg</td>\n      <td>False</td>\n      <td>False</td>\n      <td>...</td>\n      <td>0.0</td>\n      <td>0.0</td>\n      <td>0.0</td>\n      <td>0.0</td>\n      <td>0.0</td>\n      <td>0.0</td>\n      <td>0.0</td>\n      <td>0.0</td>\n      <td>0.0</td>\n      <td>0.0</td>\n    </tr>\n    <tr>\n      <th>1</th>\n      <td>UC0ZV6M2THA81QT9hrVWJG3A</td>\n      <td>Apex Legends</td>\n      <td>2020-08-12</td>\n      <td>2381688</td>\n      <td>146739</td>\n      <td>2794</td>\n      <td>16549</td>\n      <td>https://i.ytimg.com/vi/M9Pmf9AB4Mo/default.jpg</td>\n      <td>False</td>\n      <td>False</td>\n      <td>...</td>\n      <td>0.0</td>\n      <td>0.0</td>\n      <td>0.0</td>\n      <td>0.0</td>\n      <td>0.0</td>\n      <td>0.0</td>\n      <td>0.0</td>\n      <td>0.0</td>\n      <td>0.0</td>\n      <td>0.0</td>\n    </tr>\n    <tr>\n      <th>2</th>\n      <td>UCYzPXprvl5Y-Sf0g4vX-m6g</td>\n      <td>jacksepticeye</td>\n      <td>2020-08-12</td>\n      <td>2038853</td>\n      <td>353787</td>\n      <td>2628</td>\n      <td>40221</td>\n      <td>https://i.ytimg.com/vi/J78aPJ3VyNs/default.jpg</td>\n      <td>False</td>\n      <td>False</td>\n      <td>...</td>\n      <td>0.0</td>\n      <td>0.0</td>\n      <td>0.0</td>\n      <td>0.0</td>\n      <td>0.0</td>\n      <td>0.0</td>\n      <td>0.0</td>\n      <td>0.0</td>\n      <td>0.0</td>\n      <td>0.0</td>\n    </tr>\n    <tr>\n      <th>3</th>\n      <td>UCbg_UMjlHJg_19SZckaKajg</td>\n      <td>XXL</td>\n      <td>2020-08-12</td>\n      <td>496771</td>\n      <td>23251</td>\n      <td>1856</td>\n      <td>7647</td>\n      <td>https://i.ytimg.com/vi/kXLn3HkpjaA/default.jpg</td>\n      <td>False</td>\n      <td>False</td>\n      <td>...</td>\n      <td>0.0</td>\n      <td>0.0</td>\n      <td>0.0</td>\n      <td>0.0</td>\n      <td>0.0</td>\n      <td>0.0</td>\n      <td>0.0</td>\n      <td>0.0</td>\n      <td>0.0</td>\n      <td>0.0</td>\n    </tr>\n    <tr>\n      <th>4</th>\n      <td>UCDVPcEbVLQgLZX0Rt6jo34A</td>\n      <td>Mr. Kate</td>\n      <td>2020-08-12</td>\n      <td>1123889</td>\n      <td>45802</td>\n      <td>964</td>\n      <td>2196</td>\n      <td>https://i.ytimg.com/vi/VIUo6yapDbc/default.jpg</td>\n      <td>False</td>\n      <td>False</td>\n      <td>...</td>\n      <td>0.0</td>\n      <td>0.0</td>\n      <td>0.0</td>\n      <td>0.0</td>\n      <td>0.0</td>\n      <td>0.0</td>\n      <td>0.0</td>\n      <td>0.0</td>\n      <td>0.0</td>\n      <td>0.0</td>\n    </tr>\n  </tbody>\n</table>\n<p>5 rows × 131 columns</p>\n</div>"
     },
     "execution_count": 2,
     "metadata": {},
     "output_type": "execute_result"
    }
   ],
   "source": [
    "df = pd.concat([us_trending_df, color_text_df, face_df, objects_df], axis=1)\n",
    "df.head()"
   ],
   "metadata": {
    "collapsed": false,
    "pycharm": {
     "name": "#%%\n"
    }
   }
  },
  {
   "cell_type": "markdown",
   "source": [
    "Drop one of highly correlated attributes"
   ],
   "metadata": {
    "collapsed": false
   }
  },
  {
   "cell_type": "code",
   "execution_count": 3,
   "outputs": [
    {
     "name": "stdout",
     "output_type": "stream",
     "text": [
      "{'thumbnail_face_emotion_neutral', 'thumbnail_med_value', 'thumbnail_face_dominant_race', 'thumbnail_face_race_middle_eastern', 'thumbnail_avg_saturation', 'thumbnail_face_race_latino_hispanic', 'thumbnail_has_face', 'thumbnail_face_race_indian', 'thumbnail_face_emotion_sad', 'thumbnail_face_emotion_disgust', 'thumbnail_face_emotion_fear'}\n"
     ]
    }
   ],
   "source": [
    "corr_matrix = df.corr(method='spearman')\n",
    "\n",
    "target_attr = 'likes'\n",
    "corr_attr_threshold = 0.8\n",
    "drop_set = set()\n",
    "\n",
    "corr_matrix_filtered = corr_matrix[(abs(corr_matrix) > corr_attr_threshold) & (corr_matrix < 1.0)]\n",
    "\n",
    "for k in corr_matrix_filtered:\n",
    "    dct = dict(corr_matrix_filtered[k].dropna())\n",
    "\n",
    "    for k2 in dct:\n",
    "        if abs(corr_matrix[k][target_attr]) > abs(corr_matrix[k2][target_attr]):\n",
    "            drop_set.add(k2)\n",
    "        else:\n",
    "            drop_set.add(k)\n",
    "\n",
    "# for col in drop_set:\n",
    "#     df.drop(col, axis=1, inplace=True)\n",
    "\n",
    "print(drop_set)"
   ],
   "metadata": {
    "collapsed": false,
    "pycharm": {
     "name": "#%%\n"
    }
   }
  },
  {
   "cell_type": "markdown",
   "source": [
    "Calculate correlations between attributes and target class"
   ],
   "metadata": {
    "collapsed": false
   }
  },
  {
   "cell_type": "code",
   "execution_count": 4,
   "outputs": [
    {
     "data": {
      "text/plain": "<matplotlib.collections.PathCollection at 0x25b9a7c9a08>"
     },
     "execution_count": 4,
     "metadata": {},
     "output_type": "execute_result"
    },
    {
     "data": {
      "text/plain": "<Figure size 432x288 with 1 Axes>",
      "image/png": "[encoded data removed]"
     },
     "metadata": {
      "needs_background": "light"
     },
     "output_type": "display_data"
    }
   ],
   "source": [
    "from matplotlib import pyplot as plt\n",
    "\n",
    "corr_matrix_filtered = dict(df.corr(method='spearman')[target_attr].drop(target_attr).dropna())\n",
    "corr_matrix_filtered = dict(sorted(corr_matrix_filtered.items(), key=lambda item: item[1], reverse=True))\n",
    "\n",
    "plt.scatter(range(len(corr_matrix_filtered)), corr_matrix_filtered.values())"
   ],
   "metadata": {
    "collapsed": false,
    "pycharm": {
     "name": "#%%\n"
    }
   }
  },
  {
   "cell_type": "markdown",
   "source": [
    "Find attributes with small correlation"
   ],
   "metadata": {
    "collapsed": false
   }
  },
  {
   "cell_type": "code",
   "execution_count": 5,
   "outputs": [
    {
     "data": {
      "text/plain": "<matplotlib.collections.PathCollection at 0x25b9ba97048>"
     },
     "execution_count": 5,
     "metadata": {},
     "output_type": "execute_result"
    },
    {
     "data": {
      "text/plain": "<Figure size 432x288 with 1 Axes>",
      "image/png": "[encoded data removed]"
     },
     "metadata": {
      "needs_background": "light"
     },
     "output_type": "display_data"
    }
   ],
   "source": [
    "corr_target_threshold = 0.2\n",
    "\n",
    "for k in list(corr_matrix_filtered.keys()):\n",
    "    if abs(corr_matrix_filtered[k]) < corr_target_threshold:\n",
    "        corr_matrix_filtered.pop(k)\n",
    "\n",
    "plt.scatter(range(len(corr_matrix_filtered)), corr_matrix_filtered.values())"
   ],
   "metadata": {
    "collapsed": false,
    "pycharm": {
     "name": "#%%\n"
    }
   }
  },
  {
   "cell_type": "markdown",
   "source": [
    "Drop attributes with small correlation from data and save to csv"
   ],
   "metadata": {
    "collapsed": false
   }
  },
  {
   "cell_type": "code",
   "execution_count": 6,
   "outputs": [
    {
     "data": {
      "text/plain": "   view_count  dislikes  comment_count  title_length\n0     1514614      5855          35313            34\n1     2381688      2794          16549            60\n2     2038853      2628          40221            53\n3      496771      1856           7647            56\n4     1123889       964           2196            55",
      "text/html": "<div>\n<style scoped>\n    .dataframe tbody tr th:only-of-type {\n        vertical-align: middle;\n    }\n\n    .dataframe tbody tr th {\n        vertical-align: top;\n    }\n\n    .dataframe thead th {\n        text-align: right;\n    }\n</style>\n<table border=\"1\" class=\"dataframe\">\n  <thead>\n    <tr style=\"text-align: right;\">\n      <th></th>\n      <th>view_count</th>\n      <th>dislikes</th>\n      <th>comment_count</th>\n      <th>title_length</th>\n    </tr>\n  </thead>\n  <tbody>\n    <tr>\n      <th>0</th>\n      <td>1514614</td>\n      <td>5855</td>\n      <td>35313</td>\n      <td>34</td>\n    </tr>\n    <tr>\n      <th>1</th>\n      <td>2381688</td>\n      <td>2794</td>\n      <td>16549</td>\n      <td>60</td>\n    </tr>\n    <tr>\n      <th>2</th>\n      <td>2038853</td>\n      <td>2628</td>\n      <td>40221</td>\n      <td>53</td>\n    </tr>\n    <tr>\n      <th>3</th>\n      <td>496771</td>\n      <td>1856</td>\n      <td>7647</td>\n      <td>56</td>\n    </tr>\n    <tr>\n      <th>4</th>\n      <td>1123889</td>\n      <td>964</td>\n      <td>2196</td>\n      <td>55</td>\n    </tr>\n  </tbody>\n</table>\n</div>"
     },
     "execution_count": 6,
     "metadata": {},
     "output_type": "execute_result"
    }
   ],
   "source": [
    "columns_to_drop = [ele for ele in list(df.columns) if ele not in list(corr_matrix_filtered.keys())]\n",
    "df.drop(columns=columns_to_drop, axis=1, inplace=True)\n",
    "df.to_csv(\"./data/stage_3_feature_importance.csv\")\n",
    "df.head()"
   ],
   "metadata": {
    "collapsed": false,
    "pycharm": {
     "name": "#%%\n"
    }
   }
  },
  {
   "cell_type": "markdown",
   "source": [],
   "metadata": {
    "collapsed": false
   }
  }
 ],
 "metadata": {
  "kernelspec": {
   "display_name": "Python 3",
   "language": "python",
   "name": "python3"
  },
  "language_info": {
   "codemirror_mode": {
    "name": "ipython",
    "version": 2
   },
   "file_extension": ".py",
   "mimetype": "text/x-python",
   "name": "python",
   "nbconvert_exporter": "python",
   "pygments_lexer": "ipython2",
   "version": "2.7.6"
  }
 },
 "nbformat": 4,
 "nbformat_minor": 0
}