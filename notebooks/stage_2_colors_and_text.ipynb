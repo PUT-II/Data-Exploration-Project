{
 "cells": [
  {
   "cell_type": "markdown",
   "source": [
    "# Eksploracja Danych - Projekt\n",
    "Tomasz Kiljańczyk (136257)\n",
    "\n",
    "Wojciech Lulek (136280)"
   ],
   "metadata": {
    "collapsed": false
   }
  },
  {
   "cell_type": "code",
   "execution_count": null,
   "outputs": [],
   "source": [
    "import os\n",
    "from multiprocessing import Pool\n",
    "\n",
    "import matplotlib.pyplot as plt\n",
    "import numpy as np\n",
    "import pandas as pd\n",
    "import seaborn as sns\n",
    "from tqdm.notebook import tqdm_notebook"
   ],
   "metadata": {
    "collapsed": false,
    "pycharm": {
     "name": "#%%\n"
    }
   }
  },
  {
   "cell_type": "code",
   "execution_count": null,
   "outputs": [],
   "source": [
    "us_trending_df = pd.read_csv('./data/us_trending_stage_1.csv').head(1000)\n",
    "us_trending_df"
   ],
   "metadata": {
    "collapsed": false,
    "pycharm": {
     "name": "#%%\n"
    }
   }
  },
  {
   "cell_type": "code",
   "execution_count": null,
   "outputs": [],
   "source": [
    "us_trending_df['thumbnail_link_hires'] = us_trending_df['thumbnail_link'].str.replace('default.jpg', '0.jpg')\n",
    "urls = us_trending_df['thumbnail_link_hires']\n",
    "unique_urls = us_trending_df['thumbnail_link_hires'].unique()\n",
    "us_trending_df['thumbnail_link_hires']"
   ],
   "metadata": {
    "collapsed": false,
    "pycharm": {
     "name": "#%%\n"
    }
   }
  },
  {
   "cell_type": "code",
   "execution_count": null,
   "outputs": [],
   "source": [
    "from notebooks.workers import extract_color_features\n",
    "from PIL import Image\n",
    "\n",
    "results = []\n",
    "\n",
    "with Pool(processes=os.cpu_count()) as pool:\n",
    "    for res in tqdm_notebook(pool.imap(extract_color_features, unique_urls), total=unique_urls.size):\n",
    "        results.append(res)\n",
    "\n",
    "color_features_dict = dict(results)\n",
    "\n",
    "color_features = [color_features_dict[url] for url in urls]\n",
    "\n",
    "image_dataframe = pd.DataFrame(color_features)\n",
    "image_dataframe"
   ],
   "metadata": {
    "collapsed": false,
    "pycharm": {
     "name": "#%%\n"
    }
   }
  },
  {
   "cell_type": "code",
   "execution_count": null,
   "outputs": [],
   "source": [
    "def get_concat_h(im1, im2):\n",
    "    dst = Image.new('RGB', (im1.width + im2.width, im1.height))\n",
    "    dst.paste(im1, (0, 0))\n",
    "    dst.paste(im2, (im1.width, 0))\n",
    "    return dst\n",
    "\n",
    "\n",
    "for i, url in enumerate(urls.head(5)):\n",
    "    file_path = f'./images/{url.split(\"/\")[-2]}.jpg'\n",
    "\n",
    "    image = Image.open(file_path)\n",
    "\n",
    "    row = image_dataframe.iloc[i]\n",
    "    median_hsv_color = (\n",
    "        round(row['thumbnail_med_hue']),\n",
    "        round(row['thumbnail_med_saturation']),\n",
    "        round(row['thumbnail_med_value'])\n",
    "    )\n",
    "    avg_hsv_color = (\n",
    "        round(row['thumbnail_avg_hue']),\n",
    "        round(row['thumbnail_avg_saturation']),\n",
    "        round(row['thumbnail_avg_value'])\n",
    "    )\n",
    "\n",
    "    dims = (round(image.width * 0.1), image.height)\n",
    "    median_color_image = Image.new('HSV', dims, color=median_hsv_color).convert('RGB')\n",
    "    average_color_image = Image.new('HSV', dims, color=avg_hsv_color).convert('RGB')\n",
    "\n",
    "    image_result_1 = get_concat_h(image, median_color_image)\n",
    "    image_result_1 = get_concat_h(image_result_1, average_color_image)\n",
    "\n",
    "    display(image_result_1)"
   ],
   "metadata": {
    "collapsed": false,
    "pycharm": {
     "name": "#%%\n"
    }
   }
  },
  {
   "cell_type": "code",
   "execution_count": null,
   "outputs": [],
   "source": [
    "from notebooks.workers import detect_text\n",
    "\n",
    "results = []\n",
    "with Pool(processes=os.cpu_count()) as pool:\n",
    "    for res in tqdm_notebook(pool.imap(detect_text, unique_urls), total=unique_urls.size):\n",
    "        results.append(res)\n",
    "\n",
    "text_features_dict = dict(results)"
   ],
   "metadata": {
    "collapsed": false,
    "pycharm": {
     "name": "#%%\n"
    }
   }
  },
  {
   "cell_type": "code",
   "execution_count": null,
   "outputs": [],
   "source": [
    "has_text = [text_features_dict.get(url, (False,))[0] for url in urls]\n",
    "text_count = [text_features_dict.get(url, (None, 0))[1] for url in urls]\n",
    "largest_text_to_image_area_ratio = [text_features_dict.get(url, (None, 0, 0))[2] for url in urls]"
   ],
   "metadata": {
    "collapsed": false,
    "pycharm": {
     "name": "#%%\n"
    }
   }
  },
  {
   "cell_type": "code",
   "execution_count": null,
   "outputs": [],
   "source": [
    "has_text_df = pd.DataFrame(has_text, columns=['thumbnail_has_text'])\n",
    "has_text_df"
   ],
   "metadata": {
    "collapsed": false,
    "pycharm": {
     "name": "#%%\n"
    }
   }
  },
  {
   "cell_type": "code",
   "execution_count": null,
   "outputs": [],
   "source": [
    "text_count_df = pd.DataFrame(text_count, columns=['thumbnail_text_count'])\n",
    "text_count_df"
   ],
   "metadata": {
    "collapsed": false,
    "pycharm": {
     "name": "#%%\n"
    }
   }
  },
  {
   "cell_type": "code",
   "execution_count": null,
   "outputs": [],
   "source": [
    "largest_text_to_image_area_ratio_df = pd.DataFrame(largest_text_to_image_area_ratio,\n",
    "                                                   columns=['thumbnail_largest_text_to_image_area_ratio'])\n",
    "largest_text_to_image_area_ratio_df"
   ],
   "metadata": {
    "collapsed": false,
    "pycharm": {
     "name": "#%%\n"
    }
   }
  },
  {
   "cell_type": "code",
   "execution_count": null,
   "outputs": [],
   "source": [
    "final_df = pd.concat([image_dataframe, has_text_df], axis=1)\n",
    "final_df = pd.concat([final_df, text_count_df], axis=1)\n",
    "final_df = pd.concat([final_df, largest_text_to_image_area_ratio_df], axis=1)\n",
    "final_df"
   ],
   "metadata": {
    "collapsed": false,
    "pycharm": {
     "name": "#%%\n"
    }
   }
  },
  {
   "cell_type": "code",
   "execution_count": null,
   "outputs": [],
   "source": [
    "corrMatrix = final_df.corr(method='spearman')\n",
    "corrMatrix = corrMatrix.round(4)\n",
    "\n",
    "mask = np.triu(np.ones_like(corrMatrix, dtype=bool))\n",
    "np.fill_diagonal(mask, False)\n",
    "\n",
    "fig, ax = plt.subplots(figsize=(30, 30))\n",
    "sns.heatmap(corrMatrix, mask=mask, annot=True, fmt='g', ax=ax)\n",
    "plt.show()"
   ],
   "metadata": {
    "collapsed": false,
    "pycharm": {
     "name": "#%%\n"
    }
   }
  },
  {
   "cell_type": "code",
   "execution_count": null,
   "outputs": [],
   "source": [
    "final_df.to_csv(\"./stage_2_thumbnail_colors_and_text.csv\", index=False)"
   ],
   "metadata": {
    "collapsed": false,
    "pycharm": {
     "name": "#%%\n"
    }
   }
  }
 ],
 "metadata": {
  "kernelspec": {
   "display_name": "Python 3",
   "language": "python",
   "name": "python3"
  },
  "language_info": {
   "codemirror_mode": {
    "name": "ipython",
    "version": 2
   },
   "file_extension": ".py",
   "mimetype": "text/x-python",
   "name": "python",
   "nbconvert_exporter": "python",
   "pygments_lexer": "ipython2",
   "version": "2.7.6"
  }
 },
 "nbformat": 4,
 "nbformat_minor": 0
}