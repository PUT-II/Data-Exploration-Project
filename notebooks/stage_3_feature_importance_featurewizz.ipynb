{
 "cells": [
  {
   "cell_type": "markdown",
   "source": [
    "Read DF's"
   ],
   "metadata": {
    "collapsed": false
   }
  },
  {
   "cell_type": "code",
   "execution_count": null,
   "metadata": {
    "collapsed": true
   },
   "outputs": [],
   "source": [
    "import numpy as np\n",
    "import pandas as pd\n",
    "\n",
    "us_trending_df = pd.read_csv(\"./data/stage_1_us_trending.csv\")\n",
    "color_text_df = pd.read_csv(\"./data/stage_2_thumbnail_colors_and_text.csv\")\n",
    "face_df = pd.read_csv(\"./data/stage_2_thumbnail_face.csv\")\n",
    "objects_df = pd.read_csv(\"./data/stage_2_thumbnail_objects_vectors.csv\")\n",
    "\n",
    "print(us_trending_df.shape, color_text_df.shape, face_df.shape, objects_df.shape)"
   ]
  },
  {
   "cell_type": "code",
   "execution_count": null,
   "outputs": [],
   "source": [
    "# objects_df = objects_df.rename(columns={'Unnamed: 0': 'thumbnail_link'})\n",
    "# us_trending_df['thumbnail_link'].replace('default.jpg', '0.jpg', regex=True, inplace=True)\n",
    "#\n",
    "# objects_df_full = pd.DataFrame(us_trending_df['thumbnail_link'])\n",
    "#\n",
    "#\n",
    "# objects_df_full = objects_df_full.merge(objects_df, how='left', on='thumbnail_link')\n",
    "# objects_df_full.drop('thumbnail_link',axis=1, inplace=True)\n",
    "# objects_df_full.fillna(0, inplace=True)\n",
    "# objects_df_full = objects_df_full.astype(int)\n",
    "#\n",
    "# objects_df_full.to_csv('data/stage_2_thumbnail_objects_vectors.csv',index=False)\n"
   ],
   "metadata": {
    "collapsed": false,
    "pycharm": {
     "name": "#%%\n"
    }
   }
  },
  {
   "cell_type": "markdown",
   "source": [
    "Merge DF's"
   ],
   "metadata": {
    "collapsed": false
   }
  },
  {
   "cell_type": "code",
   "execution_count": null,
   "outputs": [],
   "source": [
    "df_all = pd.concat([us_trending_df, color_text_df, face_df, objects_df], join='inner', axis=1)\n",
    "df_all['categoryId'] = df_all['categoryId'].astype(str)\n",
    "\n",
    "df_labeled_only = df_all[df_all.categoryId != 0]\n",
    "df_labeled_only.head()"
   ],
   "metadata": {
    "collapsed": false,
    "pycharm": {
     "name": "#%%\n"
    }
   }
  },
  {
   "cell_type": "code",
   "execution_count": null,
   "outputs": [],
   "source": [
    "from featurewiz import featurewiz\n",
    "\n",
    "f_names, _ = featurewiz(df_labeled_only, target='categoryId', corr_limit=0.70, verbose=2, feature_engg='')\n",
    "f_names"
   ],
   "metadata": {
    "collapsed": false,
    "pycharm": {
     "name": "#%%\n"
    }
   }
  },
  {
   "cell_type": "code",
   "execution_count": null,
   "outputs": [],
   "source": [
    "df_all[f_names].to_csv('./data/stage_3_feature_importance.csv',index=False)"
   ],
   "metadata": {
    "collapsed": false,
    "pycharm": {
     "name": "#%%\n"
    }
   }
  }
 ],
 "metadata": {
  "kernelspec": {
   "display_name": "Python 3",
   "language": "python",
   "name": "python3"
  },
  "language_info": {
   "codemirror_mode": {
    "name": "ipython",
    "version": 2
   },
   "file_extension": ".py",
   "mimetype": "text/x-python",
   "name": "python",
   "nbconvert_exporter": "python",
   "pygments_lexer": "ipython2",
   "version": "2.7.6"
  }
 },
 "nbformat": 4,
 "nbformat_minor": 0
}