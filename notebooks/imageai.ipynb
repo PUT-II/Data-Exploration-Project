{
 "cells": [
  {
   "cell_type": "markdown",
   "source": [
    "Model download link: https://github.com/OlafenwaMoses/ImageAI/releases/download/essentials-v5/resnet50_coco_best_v2.1.0.h5/"
   ],
   "metadata": {
    "collapsed": false
   }
  },
  {
   "cell_type": "code",
   "execution_count": 67,
   "outputs": [
    {
     "name": "stdout",
     "output_type": "stream",
     "text": [
      "WARNING:tensorflow:No training configuration found in the save file, so the model was *not* compiled. Compile it manually.\n"
     ]
    }
   ],
   "source": [
    "from imageai.Detection import ObjectDetection\n",
    "import os\n",
    "\n",
    "detector = ObjectDetection()\n",
    "detector.setModelTypeAsRetinaNet()\n",
    "detector.setModelPath(\"models/resnet50_coco_best_v2.1.0.h5\")\n",
    "detector.loadModel()"
   ],
   "metadata": {
    "collapsed": false,
    "pycharm": {
     "name": "#%%\n"
    }
   }
  },
  {
   "cell_type": "code",
   "execution_count": null,
   "outputs": [
    {
     "name": "stdout",
     "output_type": "stream",
     "text": [
      "images left: 20850\n",
      "images left: 20849\n",
      "images left: 20848\n",
      "images left: 20847\n",
      "images left: 20846\n",
      "images left: 20845\n",
      "images left: 20844\n",
      "images left: 20843\n",
      "images left: 20842\n",
      "images left: 20841\n",
      "images left: 20840\n",
      "images left: 20839\n",
      "images left: 20838\n",
      "images left: 20837\n",
      "images left: 20836\n",
      "images left: 20835\n",
      "images left: 20834\n",
      "images left: 20833\n",
      "images left: 20832\n",
      "images left: 20831\n",
      "images left: 20830\n",
      "images left: 20829\n",
      "images left: 20828\n",
      "images left: 20827\n",
      "images left: 20826\n",
      "images left: 20825\n",
      "images left: 20824\n",
      "images left: 20823\n",
      "images left: 20822\n",
      "images left: 20821\n",
      "images left: 20820\n",
      "images left: 20819\n",
      "images left: 20818\n",
      "images left: 20817\n",
      "images left: 20816\n",
      "images left: 20815\n",
      "images left: 20814\n",
      "images left: 20813\n",
      "images left: 20812\n",
      "images left: 20811\n",
      "images left: 20810\n",
      "images left: 20809\n",
      "images left: 20808\n",
      "images left: 20807\n",
      "images left: 20806\n",
      "images left: 20805\n",
      "images left: 20804\n",
      "images left: 20803\n",
      "images left: 20802\n",
      "images left: 20801\n",
      "images left: 20800\n",
      "images left: 20799\n",
      "images left: 20798\n",
      "images left: 20797\n",
      "images left: 20796\n",
      "images left: 20795\n",
      "images left: 20794\n",
      "images left: 20793\n",
      "images left: 20792\n",
      "images left: 20791\n",
      "images left: 20790\n",
      "images left: 20789\n",
      "images left: 20788\n",
      "images left: 20787\n",
      "images left: 20786\n",
      "images left: 20785\n",
      "images left: 20784\n",
      "images left: 20783\n",
      "images left: 20782\n",
      "images left: 20781\n",
      "images left: 20780\n",
      "images left: 20779\n",
      "images left: 20778\n",
      "images left: 20777\n",
      "images left: 20776\n",
      "images left: 20775\n",
      "images left: 20774\n",
      "images left: 20773\n",
      "images left: 20772\n",
      "images left: 20771\n",
      "images left: 20770\n",
      "images left: 20769\n",
      "images left: 20768\n",
      "images left: 20767\n",
      "images left: 20766\n",
      "images left: 20765\n",
      "images left: 20764\n",
      "images left: 20763\n",
      "images left: 20762\n",
      "images left: 20761\n",
      "images left: 20760\n",
      "images left: 20759\n",
      "images left: 20758\n"
     ]
    }
   ],
   "source": [
    "detections_dict = dict()\n",
    "dir_name = \"images\"\n",
    "images_left = len(os.listdir(dir_name))\n",
    "\n",
    "for filename in os.listdir(dir_name):\n",
    "    detections = detector.detectObjectsFromImage(input_image=f\"{dir_name}/\" + filename, output_type=\"array\")[1]\n",
    "    # detections = detector.detectObjectsFromImage(input_image=f\"{dir_name}/\" + filename,\n",
    "    #                                              output_image_path=f\"{dir_name}/new_\" + filename)\n",
    "\n",
    "    detections_dict[filename] = []\n",
    "\n",
    "    for eachObject in detections:\n",
    "        detections_dict[filename].append((eachObject[\"name\"], eachObject[\"percentage_probability\"]))\n",
    "        # print(filename, (eachObject[\"name\"], eachObject[\"percentage_probability\"]))\n",
    "\n",
    "    images_left -= 1\n",
    "    print(\"images left:\", images_left)"
   ],
   "metadata": {
    "collapsed": false,
    "pycharm": {
     "name": "#%%\n",
     "is_executing": true
    }
   }
  },
  {
   "cell_type": "code",
   "execution_count": null,
   "outputs": [],
   "source": [
    "import pickle\n",
    "\n",
    "with open(\"images_objects.pkl\", \"wb\") as f:\n",
    "    pickle.dump(detections_dict, f)"
   ],
   "metadata": {
    "collapsed": false,
    "pycharm": {
     "name": "#%%\n",
     "is_executing": true
    }
   }
  },
  {
   "cell_type": "code",
   "execution_count": null,
   "outputs": [],
   "source": [
    "with open(\"images_objects.pkl\", \"rb\") as f:\n",
    "    print(pickle.load(f))"
   ],
   "metadata": {
    "collapsed": false,
    "pycharm": {
     "name": "#%%\n",
     "is_executing": true
    }
   }
  }
 ],
 "metadata": {
  "kernelspec": {
   "display_name": "Python 3",
   "language": "python",
   "name": "python3"
  },
  "language_info": {
   "codemirror_mode": {
    "name": "ipython",
    "version": 2
   },
   "file_extension": ".py",
   "mimetype": "text/x-python",
   "name": "python",
   "nbconvert_exporter": "python",
   "pygments_lexer": "ipython2",
   "version": "2.7.6"
  }
 },
 "nbformat": 4,
 "nbformat_minor": 0
}