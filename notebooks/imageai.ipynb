{
 "cells": [
  {
   "cell_type": "markdown",
   "source": [
    "Model download link: https://github.com/OlafenwaMoses/ImageAI/releases/download/essentials-v5/resnet50_coco_best_v2.1.0.h5/"
   ],
   "metadata": {
    "collapsed": false
   }
  },
  {
   "cell_type": "code",
   "execution_count": 67,
   "outputs": [
    {
     "name": "stdout",
     "output_type": "stream",
     "text": [
      "WARNING:tensorflow:No training configuration found in the save file, so the model was *not* compiled. Compile it manually.\n"
     ]
    }
   ],
   "source": [
    "from imageai.Detection import ObjectDetection\n",
    "import os\n",
    "\n",
    "detector = ObjectDetection()\n",
    "detector.setModelTypeAsRetinaNet()\n",
    "detector.setModelPath(\"models/resnet50_coco_best_v2.1.0.h5\")\n",
    "detector.loadModel()"
   ],
   "metadata": {
    "collapsed": false,
    "pycharm": {
     "name": "#%%\n"
    }
   }
  },
  {
   "cell_type": "code",
   "execution_count": null,
   "outputs": [
    {
     "name": "stdout",
     "output_type": "stream",
     "text": [
      "images left: 20850\n",
      "images left: 20849\n",
      "images left: 20848\n",
      "images left: 20847\n",
      "images left: 20846\n",
      "images left: 20845\n",
      "images left: 20844\n",
      "images left: 20843\n",
      "images left: 20842\n",
      "images left: 20841\n",
      "images left: 20840\n",
      "images left: 20839\n",
      "images left: 20838\n",
      "images left: 20837\n",
      "images left: 20836\n",
      "images left: 20835\n",
      "images left: 20834\n",
      "images left: 20833\n",
      "images left: 20832\n",
      "images left: 20831\n",
      "images left: 20830\n",
      "images left: 20829\n",
      "images left: 20828\n",
      "images left: 20827\n",
      "images left: 20826\n",
      "images left: 20825\n",
      "images left: 20824\n",
      "images left: 20823\n"
     ]
    }
   ],
   "source": [
    "detections_dict = dict()\n",
    "dir_name = \"images\"\n",
    "images_left = len(os.listdir(dir_name))\n",
    "\n",
    "for filename in os.listdir(dir_name):\n",
    "    detections = detector.detectObjectsFromImage(input_image=f\"{dir_name}/\" + filename, output_type=\"array\")[1]\n",
    "    # detections = detector.detectObjectsFromImage(input_image=f\"{dir_name}/\" + filename,\n",
    "    #                                              output_image_path=f\"{dir_name}/new_\" + filename)\n",
    "\n",
    "    detections_dict[filename] = []\n",
    "\n",
    "    for eachObject in detections:\n",
    "        detections_dict[filename].append((eachObject[\"name\"], eachObject[\"percentage_probability\"]))\n",
    "        # print(filename, (eachObject[\"name\"], eachObject[\"percentage_probability\"]))\n",
    "\n",
    "    images_left -= 1\n",
    "    print(\"images left:\", images_left)"
   ],
   "metadata": {
    "collapsed": false,
    "pycharm": {
     "name": "#%%\n",
     "is_executing": true
    }
   }
  },
  {
   "cell_type": "code",
   "execution_count": null,
   "outputs": [],
   "source": [
    "import pickle\n",
    "\n",
    "with open(\"images_objects.pkl\", \"wb\") as f:\n",
    "    pickle.dump(detections_dict, f)"
   ],
   "metadata": {
    "collapsed": false,
    "pycharm": {
     "name": "#%%\n",
     "is_executing": true
    }
   }
  },
  {
   "cell_type": "code",
   "execution_count": null,
   "outputs": [],
   "source": [
    "with open(\"images_objects.pkl\", \"rb\") as f:\n",
    "    print(pickle.load(f))"
   ],
   "metadata": {
    "collapsed": false,
    "pycharm": {
     "name": "#%%\n",
     "is_executing": true
    }
   }
  }
 ],
 "metadata": {
  "kernelspec": {
   "display_name": "Python 3",
   "language": "python",
   "name": "python3"
  },
  "language_info": {
   "codemirror_mode": {
    "name": "ipython",
    "version": 2
   },
   "file_extension": ".py",
   "mimetype": "text/x-python",
   "name": "python",
   "nbconvert_exporter": "python",
   "pygments_lexer": "ipython2",
   "version": "2.7.6"
  }
 },
 "nbformat": 4,
 "nbformat_minor": 0
}