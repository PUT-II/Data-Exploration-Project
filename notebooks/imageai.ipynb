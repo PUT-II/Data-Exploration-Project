{
 "cells": [
  {
   "cell_type": "markdown",
   "source": [
    "Model download link: https://github.com/OlafenwaMoses/ImageAI/releases/download/essentials-v5/resnet50_coco_best_v2.1.0.h5/"
   ],
   "metadata": {
    "collapsed": false
   }
  },
  {
   "cell_type": "code",
   "execution_count": 1,
   "outputs": [
    {
     "name": "stdout",
     "output_type": "stream",
     "text": [
      "WARNING:tensorflow:No training configuration found in the save file, so the model was *not* compiled. Compile it manually.\n"
     ]
    }
   ],
   "source": [
    "from imageai.Detection import ObjectDetection\n",
    "import os\n",
    "\n",
    "detector = ObjectDetection()\n",
    "detector.setModelTypeAsRetinaNet()\n",
    "detector.setModelPath(\"models/resnet50_coco_best_v2.1.0.h5\")\n",
    "detector.loadModel()"
   ],
   "metadata": {
    "collapsed": false,
    "pycharm": {
     "name": "#%%\n"
    }
   }
  },
  {
   "cell_type": "markdown",
   "source": [
    "Detecting objects from thumbnails"
   ],
   "metadata": {
    "collapsed": false
   }
  },
  {
   "cell_type": "code",
   "execution_count": 2,
   "outputs": [
    {
     "name": "stdout",
     "output_type": "stream",
     "text": [
      "images left: 4\n",
      "images left: 3\n",
      "images left: 2\n",
      "images left: 1\n",
      "images left: 0\n"
     ]
    }
   ],
   "source": [
    "import pickle\n",
    "\n",
    "objects_detected_w_proba = dict()\n",
    "dir_name = \"images\"\n",
    "dir_filenames = os.listdir(dir_name)[:5]\n",
    "images_left = len(dir_filenames)\n",
    "\n",
    "for filename in dir_filenames:\n",
    "    if filename == \".gitignore\":\n",
    "        continue\n",
    "\n",
    "    # detections = detector.detectObjectsFromImage(input_image=f\"{dir_name}/\" + filename, output_type=\"array\")[1]\n",
    "    detections = detector.detectObjectsFromImage(input_image=f\"{dir_name}/\" + filename,\n",
    "                                                 output_image_path=f\"{dir_name}/new_\" + filename)\n",
    "\n",
    "    objects_detected_w_proba[filename] = []\n",
    "\n",
    "    for eachObject in detections:\n",
    "        objects_detected_w_proba[filename].append((eachObject[\"name\"], eachObject[\"percentage_probability\"]))\n",
    "        # print(filename, (eachObject[\"name\"], eachObject[\"percentage_probability\"]))\n",
    "\n",
    "    images_left -= 1\n",
    "\n",
    "\n",
    "    if images_left % 100 == 0:\n",
    "        print(\"images left:\", images_left)\n",
    "        with open(\"data/thumbnails_objects_dict.pkl\", \"wb\") as f:\n",
    "            pickle.dump(objects_detected_w_proba, f)"
   ],
   "metadata": {
    "collapsed": false,
    "pycharm": {
     "name": "#%%\n"
    }
   }
  },
  {
   "cell_type": "markdown",
   "source": [
    "Loading detections from pickle file"
   ],
   "metadata": {
    "collapsed": false
   }
  },
  {
   "cell_type": "code",
   "execution_count": 1,
   "outputs": [
    {
     "name": "stdout",
     "output_type": "stream",
     "text": [
      "processed images: 16432\n"
     ]
    }
   ],
   "source": [
    "import pickle\n",
    "\n",
    "# detecions_dict = dict()\n",
    "with open(\"data/thumbnails_objects_dict.pkl\", \"rb\") as f:\n",
    "    objects_detected_w_proba = dict(pickle.load(f))\n",
    "print(\"processed images:\", len(objects_detected_w_proba.keys()))"
   ],
   "metadata": {
    "collapsed": false,
    "pycharm": {
     "name": "#%%\n"
    }
   }
  },
  {
   "cell_type": "markdown",
   "source": [
    "Counting detected objects"
   ],
   "metadata": {
    "collapsed": false
   }
  },
  {
   "cell_type": "code",
   "execution_count": 2,
   "outputs": [
    {
     "name": "stdout",
     "output_type": "stream",
     "text": [
      "counts {'person': 26206, 'car': 889, 'cell phone': 717, 'tie': 605, 'bottle': 359, 'cup': 275, 'tv': 267, 'chair': 267, 'sports ball': 258, 'dog': 203, 'truck': 203, 'clock': 198, 'potted plant': 170, 'bowl': 140, 'teddy bear': 111, 'kite': 110, 'book': 98, 'umbrella': 94, 'remote': 94, 'cake': 80, 'laptop': 78, 'bird': 77, 'motorcycle': 75, 'sandwich': 74, 'vase': 74, 'donut': 73, 'frisbee': 73, 'cat': 73, 'bicycle': 70, 'couch': 68, 'wine glass': 66, 'stop sign': 62, 'pizza': 61, 'traffic light': 58, 'handbag': 54, 'airplane': 54, 'tennis racket': 54, 'boat': 53, 'toothbrush': 52, 'bed': 50, 'baseball bat': 49, 'baseball glove': 42, 'backpack': 41, 'dining table': 40, 'scissors': 34, 'suitcase': 31, 'bench': 30, 'apple': 28, 'skateboard': 27, 'bus': 26, 'horse': 26, 'keyboard': 23, 'orange': 22, 'mouse': 22, 'refrigerator': 21, 'surfboard': 20, 'oven': 20, 'microwave': 19, 'banana': 18, 'train': 16, 'hot dog': 15, 'toilet': 14, 'broccoli': 14, 'bear': 12, 'fork': 11, 'sheep': 11, 'knife': 11, 'cow': 11, 'parking meter': 10, 'skis': 9, 'fire hydrant': 8, 'sink': 8, 'carrot': 6, 'snowboard': 5, 'spoon': 4, 'toaster': 3, 'hair dryer': 2, 'elephant': 2, 'giraffe': 1}\n",
      "10 most common objects: ['person', 'car', 'cell phone', 'tie', 'bottle', 'cup', 'tv', 'chair', 'sports ball', 'dog']\n"
     ]
    }
   ],
   "source": [
    "objects_detected = dict()\n",
    "counts = dict()\n",
    "\n",
    "for key in objects_detected_w_proba.keys():\n",
    "    objects_detected[key] = dict()\n",
    "\n",
    "    for name, _ in objects_detected_w_proba[key]:\n",
    "        objects_detected[key][name] = objects_detected[key].get(name, 0) + 1\n",
    "        counts[name] = counts.get(name, 0) + 1\n",
    "\n",
    "counts = dict(reversed(sorted(counts.items(), key=lambda item: item[1])))\n",
    "top_popular_objects = list(counts.keys())[:10]\n",
    "\n",
    "# print(\"objects counts\", objects_detected)\n",
    "print(\"counts\", counts)\n",
    "print(\"10 most common objects:\", top_popular_objects)"
   ],
   "metadata": {
    "collapsed": false,
    "pycharm": {
     "name": "#%%\n"
    }
   }
  },
  {
   "cell_type": "markdown",
   "source": [
    "Creating vector representation and saving it to data/ in CSV format"
   ],
   "metadata": {
    "collapsed": false
   }
  },
  {
   "cell_type": "code",
   "execution_count": 3,
   "outputs": [],
   "source": [
    "import pandas as pd\n",
    "\n",
    "df = pd.DataFrame.from_dict(objects_detected).transpose()\n",
    "df = df.fillna(0)\n",
    "df = df.astype('int32')\n",
    "\n",
    "df.to_csv(\"data/thumbnails_objects_vectors.csv\")"
   ],
   "metadata": {
    "collapsed": false,
    "pycharm": {
     "name": "#%%\n"
    }
   }
  },
  {
   "cell_type": "markdown",
   "source": [
    "Notatka:\n",
    "Może wagi wilkością bboxów\n",
    "\n",
    "Można więcej miar dać kolorów itd\n",
    "\n",
    "może rozpoznawanie emocji na twarzach"
   ],
   "metadata": {
    "collapsed": false
   }
  }
 ],
 "metadata": {
  "kernelspec": {
   "display_name": "Python 3",
   "language": "python",
   "name": "python3"
  },
  "language_info": {
   "codemirror_mode": {
    "name": "ipython",
    "version": 2
   },
   "file_extension": ".py",
   "mimetype": "text/x-python",
   "name": "python",
   "nbconvert_exporter": "python",
   "pygments_lexer": "ipython2",
   "version": "2.7.6"
  }
 },
 "nbformat": 4,
 "nbformat_minor": 0
}