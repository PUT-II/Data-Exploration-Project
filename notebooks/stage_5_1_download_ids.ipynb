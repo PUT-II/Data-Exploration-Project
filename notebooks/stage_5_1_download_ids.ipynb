{
 "cells": [
  {
   "cell_type": "markdown",
   "source": [
    "# Eksploracja Danych - Projekt\n",
    "Tomasz Kiljańczyk (136257)\n",
    "\n",
    "Wojciech Lulek (136280)"
   ],
   "metadata": {
    "collapsed": false,
    "pycharm": {
     "name": "#%% md\n"
    }
   }
  },
  {
   "cell_type": "code",
   "execution_count": null,
   "outputs": [],
   "source": [
    "import pandas as pd\n",
    "import numpy as np\n",
    "import datetime as dt\n",
    "import os\n",
    "\n",
    "OUTPUT_FILE = \"./data/stage_5_non_trending_ids.csv\"\n",
    "VIDEOS_PER_DAY = 200"
   ],
   "metadata": {
    "collapsed": false,
    "pycharm": {
     "name": "#%%\n"
    }
   }
  },
  {
   "cell_type": "markdown",
   "source": [
    "## Date range preparation"
   ],
   "metadata": {
    "collapsed": false,
    "pycharm": {
     "name": "#%% md\n"
    }
   }
  },
  {
   "cell_type": "code",
   "execution_count": null,
   "outputs": [],
   "source": [
    "if os.path.exists(OUTPUT_FILE):\n",
    "    non_trending_ids_df = pd.read_csv(OUTPUT_FILE, dtype={\"video_id\": str}, parse_dates=[\"publishedAt\"])\n",
    "    non_trending_ids_df.info()\n",
    "else:\n",
    "    non_trending_ids_df = pd.DataFrame(columns=[\"video_id\", \"publishedAt\"])\n",
    "    non_trending_ids_df[\"video_id\"] = non_trending_ids_df[\"video_id\"].astype(str)\n",
    "    non_trending_ids_df[\"publishedAt\"] = non_trending_ids_df[\"publishedAt\"].astype(np.datetime64)"
   ],
   "metadata": {
    "collapsed": false,
    "pycharm": {
     "name": "#%%\n"
    }
   }
  },
  {
   "cell_type": "code",
   "execution_count": null,
   "outputs": [],
   "source": [
    "us_trending_df = pd.read_csv(\"./data/stage_1_us_trending.csv\", usecols=[\"video_id\", \"publishedAt\"],\n",
    "                             parse_dates=[\"publishedAt\"])\n",
    "us_trending_df.head()"
   ],
   "metadata": {
    "collapsed": false,
    "pycharm": {
     "name": "#%%\n"
    }
   }
  },
  {
   "cell_type": "code",
   "execution_count": null,
   "outputs": [],
   "source": [
    "trending_ids = us_trending_df[\"video_id\"].unique()"
   ],
   "metadata": {
    "collapsed": false,
    "pycharm": {
     "name": "#%%\n"
    }
   }
  },
  {
   "cell_type": "code",
   "execution_count": null,
   "outputs": [],
   "source": [
    "end_date = us_trending_df[\"publishedAt\"].dt.date.max()\n",
    "end_date"
   ],
   "metadata": {
    "collapsed": false,
    "pycharm": {
     "name": "#%%\n"
    }
   }
  },
  {
   "cell_type": "code",
   "execution_count": null,
   "outputs": [],
   "source": [
    "if non_trending_ids_df.shape[0] > 0:\n",
    "    last_downloaded_date = non_trending_ids_df[\"publishedAt\"].dt.date.max()\n",
    "    last_downloaded_date += dt.timedelta(days=1)\n",
    "else:\n",
    "    last_downloaded_date = us_trending_df[\"publishedAt\"].dt.date.min()\n",
    "\n",
    "last_downloaded_date"
   ],
   "metadata": {
    "collapsed": false,
    "pycharm": {
     "name": "#%%\n"
    }
   }
  },
  {
   "cell_type": "markdown",
   "source": [
    "## Download and save to CSV"
   ],
   "metadata": {
    "collapsed": false,
    "pycharm": {
     "name": "#%% md\n"
    }
   }
  },
  {
   "cell_type": "code",
   "execution_count": null,
   "outputs": [],
   "source": [
    "from youtube_api import download_non_trending_video_ids\n",
    "\n",
    "if end_date == last_downloaded_date:\n",
    "    print(\"All video ids downloaded\")\n",
    "else:\n",
    "    while last_downloaded_date < end_date:\n",
    "        video_ids = download_non_trending_video_ids(last_downloaded_date, VIDEOS_PER_DAY, trending_ids)\n",
    "        video_ids_df_format = [{\"video_id\": video_id, \"publishedAt\": published_at} for video_id, published_at in\n",
    "                               video_ids]\n",
    "\n",
    "        non_trending_ids_df = non_trending_ids_df.append(video_ids_df_format, ignore_index=True)\n",
    "        non_trending_ids_df.to_csv(OUTPUT_FILE, index=False)\n",
    "        last_downloaded_date += dt.timedelta(days=1)"
   ],
   "metadata": {
    "collapsed": false,
    "pycharm": {
     "name": "#%%\n"
    }
   }
  },
  {
   "cell_type": "code",
   "execution_count": null,
   "outputs": [],
   "source": [],
   "metadata": {
    "collapsed": false,
    "pycharm": {
     "name": "#%%\n"
    }
   }
  }
 ],
 "metadata": {
  "kernelspec": {
   "display_name": "Python 3",
   "language": "python",
   "name": "python3"
  },
  "language_info": {
   "codemirror_mode": {
    "name": "ipython",
    "version": 2
   },
   "file_extension": ".py",
   "mimetype": "text/x-python",
   "name": "python",
   "nbconvert_exporter": "python",
   "pygments_lexer": "ipython2",
   "version": "2.7.6"
  }
 },
 "nbformat": 4,
 "nbformat_minor": 0
}