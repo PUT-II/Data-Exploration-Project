{
 "cells": [
  {
   "cell_type": "markdown",
   "source": [
    "# Eksploracja Danych - Projekt\n",
    "Tomasz Kiljańczyk (136257)\n",
    "\n",
    "Wojciech Lulek (136280)"
   ],
   "metadata": {
    "collapsed": false
   }
  },
  {
   "cell_type": "code",
   "execution_count": 11,
   "outputs": [],
   "source": [
    "\n",
    "import pandas as pd"
   ],
   "metadata": {
    "collapsed": false,
    "pycharm": {
     "name": "#%%\n"
    }
   }
  },
  {
   "cell_type": "code",
   "execution_count": 12,
   "outputs": [
    {
     "data": {
      "text/plain": "        Unnamed: 0                 channelId      channelTitle trending_date  \\\n0                0  UCvtRTOMP2TqYqu51xNrqAzg          Brawadis    2020-08-12   \n1                1  UC0ZV6M2THA81QT9hrVWJG3A      Apex Legends    2020-08-12   \n2                2  UCYzPXprvl5Y-Sf0g4vX-m6g     jacksepticeye    2020-08-12   \n3                3  UCbg_UMjlHJg_19SZckaKajg               XXL    2020-08-12   \n4                4  UCDVPcEbVLQgLZX0Rt6jo34A          Mr. Kate    2020-08-12   \n...            ...                       ...               ...           ...   \n115386      115386  UCUK0HBIBWgM2c4vsPhkYY4w  The Slow Mo Guys    2022-03-07   \n115387      115387  UCUaT_39o1x6qWjz7K2pWcgw      Beast Reacts    2022-03-07   \n115388      115388  UCCqEeDAUf4Mg0GgEN658tkA   Chris Stuckmann    2022-03-07   \n115389      115389  UCh529hRsYvu9_Scri20NsHg            Spider    2022-03-07   \n115390      115390  UCqls08lc29RNv0JNqnOJwWA            Yoatzi    2022-03-07   \n\n        view_count   likes  dislikes  comment_count  \\\n0          1514614  156908      5855          35313   \n1          2381688  146739      2794          16549   \n2          2038853  353787      2628          40221   \n3           496771   23251      1856           7647   \n4          1123889   45802       964           2196   \n...            ...     ...       ...            ...   \n115386      981279   70153         0           3845   \n115387     7810455  288862         0           8338   \n115388     1428477   79929         0           5672   \n115389     1378788    8789         0             83   \n115390      883751   57842         0           3435   \n\n                                        thumbnail_link  comments_disabled  \\\n0       https://i.ytimg.com/vi/3C66w5Z0ixs/default.jpg              False   \n1       https://i.ytimg.com/vi/M9Pmf9AB4Mo/default.jpg              False   \n2       https://i.ytimg.com/vi/J78aPJ3VyNs/default.jpg              False   \n3       https://i.ytimg.com/vi/kXLn3HkpjaA/default.jpg              False   \n4       https://i.ytimg.com/vi/VIUo6yapDbc/default.jpg              False   \n...                                                ...                ...   \n115386  https://i.ytimg.com/vi/6WUxgmMDts4/default.jpg              False   \n115387  https://i.ytimg.com/vi/6-aGt23ytyI/default.jpg              False   \n115388  https://i.ytimg.com/vi/vPgrkl7lEjU/default.jpg              False   \n115389  https://i.ytimg.com/vi/6Svr8l1DwTc/default.jpg              False   \n115390  https://i.ytimg.com/vi/hBF4TxpTW3Y/default.jpg              False   \n\n        ...  title_capital_letters title_punctuaction  description_height  \\\n0       ...               0.735294           0.088235                   7   \n1       ...               0.100000           0.016667                   0   \n2       ...               0.094340           0.018868                   0   \n3       ...               0.142857           0.017857                   5   \n4       ...               0.200000           0.018182                   0   \n...     ...                    ...                ...                 ...   \n115386  ...               0.142857           0.028571                   0   \n115387  ...               0.150000           0.050000                   0   \n115388  ...               0.160000           0.040000                   0   \n115389  ...               0.000000           0.035714                   0   \n115390  ...               0.571429           0.107143                   0   \n\n        description_length  description_link_count  tag_count  \\\n0                      361                       3         15   \n1                      715                       4         25   \n2                      513                       7         30   \n3                      762                       6         23   \n4                     2493                      35         33   \n...                    ...                     ...        ...   \n115386                 367                       2         24   \n115387                2101                      34         25   \n115388                 465                       2         28   \n115389                  23                       0          0   \n115390                  41                       0          0   \n\n        publishedAtHour  publishedAtDay  publishedAtMonth  publishedAtHoliday  \n0                    19               1                 8               False  \n1                    17               1                 8               False  \n2                    16               1                 8               False  \n3                    16               1                 8               False  \n4                    15               1                 8               False  \n...                 ...             ...               ...                 ...  \n115386               12               1                 3               False  \n115387               21               0                 2               False  \n115388               17               0                 2               False  \n115389               17               1                 3               False  \n115390               22               0                 2               False  \n\n[115391 rows x 23 columns]",
      "text/html": "<div>\n<style scoped>\n    .dataframe tbody tr th:only-of-type {\n        vertical-align: middle;\n    }\n\n    .dataframe tbody tr th {\n        vertical-align: top;\n    }\n\n    .dataframe thead th {\n        text-align: right;\n    }\n</style>\n<table border=\"1\" class=\"dataframe\">\n  <thead>\n    <tr style=\"text-align: right;\">\n      <th></th>\n      <th>Unnamed: 0</th>\n      <th>channelId</th>\n      <th>channelTitle</th>\n      <th>trending_date</th>\n      <th>view_count</th>\n      <th>likes</th>\n      <th>dislikes</th>\n      <th>comment_count</th>\n      <th>thumbnail_link</th>\n      <th>comments_disabled</th>\n      <th>...</th>\n      <th>title_capital_letters</th>\n      <th>title_punctuaction</th>\n      <th>description_height</th>\n      <th>description_length</th>\n      <th>description_link_count</th>\n      <th>tag_count</th>\n      <th>publishedAtHour</th>\n      <th>publishedAtDay</th>\n      <th>publishedAtMonth</th>\n      <th>publishedAtHoliday</th>\n    </tr>\n  </thead>\n  <tbody>\n    <tr>\n      <th>0</th>\n      <td>0</td>\n      <td>UCvtRTOMP2TqYqu51xNrqAzg</td>\n      <td>Brawadis</td>\n      <td>2020-08-12</td>\n      <td>1514614</td>\n      <td>156908</td>\n      <td>5855</td>\n      <td>35313</td>\n      <td>https://i.ytimg.com/vi/3C66w5Z0ixs/default.jpg</td>\n      <td>False</td>\n      <td>...</td>\n      <td>0.735294</td>\n      <td>0.088235</td>\n      <td>7</td>\n      <td>361</td>\n      <td>3</td>\n      <td>15</td>\n      <td>19</td>\n      <td>1</td>\n      <td>8</td>\n      <td>False</td>\n    </tr>\n    <tr>\n      <th>1</th>\n      <td>1</td>\n      <td>UC0ZV6M2THA81QT9hrVWJG3A</td>\n      <td>Apex Legends</td>\n      <td>2020-08-12</td>\n      <td>2381688</td>\n      <td>146739</td>\n      <td>2794</td>\n      <td>16549</td>\n      <td>https://i.ytimg.com/vi/M9Pmf9AB4Mo/default.jpg</td>\n      <td>False</td>\n      <td>...</td>\n      <td>0.100000</td>\n      <td>0.016667</td>\n      <td>0</td>\n      <td>715</td>\n      <td>4</td>\n      <td>25</td>\n      <td>17</td>\n      <td>1</td>\n      <td>8</td>\n      <td>False</td>\n    </tr>\n    <tr>\n      <th>2</th>\n      <td>2</td>\n      <td>UCYzPXprvl5Y-Sf0g4vX-m6g</td>\n      <td>jacksepticeye</td>\n      <td>2020-08-12</td>\n      <td>2038853</td>\n      <td>353787</td>\n      <td>2628</td>\n      <td>40221</td>\n      <td>https://i.ytimg.com/vi/J78aPJ3VyNs/default.jpg</td>\n      <td>False</td>\n      <td>...</td>\n      <td>0.094340</td>\n      <td>0.018868</td>\n      <td>0</td>\n      <td>513</td>\n      <td>7</td>\n      <td>30</td>\n      <td>16</td>\n      <td>1</td>\n      <td>8</td>\n      <td>False</td>\n    </tr>\n    <tr>\n      <th>3</th>\n      <td>3</td>\n      <td>UCbg_UMjlHJg_19SZckaKajg</td>\n      <td>XXL</td>\n      <td>2020-08-12</td>\n      <td>496771</td>\n      <td>23251</td>\n      <td>1856</td>\n      <td>7647</td>\n      <td>https://i.ytimg.com/vi/kXLn3HkpjaA/default.jpg</td>\n      <td>False</td>\n      <td>...</td>\n      <td>0.142857</td>\n      <td>0.017857</td>\n      <td>5</td>\n      <td>762</td>\n      <td>6</td>\n      <td>23</td>\n      <td>16</td>\n      <td>1</td>\n      <td>8</td>\n      <td>False</td>\n    </tr>\n    <tr>\n      <th>4</th>\n      <td>4</td>\n      <td>UCDVPcEbVLQgLZX0Rt6jo34A</td>\n      <td>Mr. Kate</td>\n      <td>2020-08-12</td>\n      <td>1123889</td>\n      <td>45802</td>\n      <td>964</td>\n      <td>2196</td>\n      <td>https://i.ytimg.com/vi/VIUo6yapDbc/default.jpg</td>\n      <td>False</td>\n      <td>...</td>\n      <td>0.200000</td>\n      <td>0.018182</td>\n      <td>0</td>\n      <td>2493</td>\n      <td>35</td>\n      <td>33</td>\n      <td>15</td>\n      <td>1</td>\n      <td>8</td>\n      <td>False</td>\n    </tr>\n    <tr>\n      <th>...</th>\n      <td>...</td>\n      <td>...</td>\n      <td>...</td>\n      <td>...</td>\n      <td>...</td>\n      <td>...</td>\n      <td>...</td>\n      <td>...</td>\n      <td>...</td>\n      <td>...</td>\n      <td>...</td>\n      <td>...</td>\n      <td>...</td>\n      <td>...</td>\n      <td>...</td>\n      <td>...</td>\n      <td>...</td>\n      <td>...</td>\n      <td>...</td>\n      <td>...</td>\n      <td>...</td>\n    </tr>\n    <tr>\n      <th>115386</th>\n      <td>115386</td>\n      <td>UCUK0HBIBWgM2c4vsPhkYY4w</td>\n      <td>The Slow Mo Guys</td>\n      <td>2022-03-07</td>\n      <td>981279</td>\n      <td>70153</td>\n      <td>0</td>\n      <td>3845</td>\n      <td>https://i.ytimg.com/vi/6WUxgmMDts4/default.jpg</td>\n      <td>False</td>\n      <td>...</td>\n      <td>0.142857</td>\n      <td>0.028571</td>\n      <td>0</td>\n      <td>367</td>\n      <td>2</td>\n      <td>24</td>\n      <td>12</td>\n      <td>1</td>\n      <td>3</td>\n      <td>False</td>\n    </tr>\n    <tr>\n      <th>115387</th>\n      <td>115387</td>\n      <td>UCUaT_39o1x6qWjz7K2pWcgw</td>\n      <td>Beast Reacts</td>\n      <td>2022-03-07</td>\n      <td>7810455</td>\n      <td>288862</td>\n      <td>0</td>\n      <td>8338</td>\n      <td>https://i.ytimg.com/vi/6-aGt23ytyI/default.jpg</td>\n      <td>False</td>\n      <td>...</td>\n      <td>0.150000</td>\n      <td>0.050000</td>\n      <td>0</td>\n      <td>2101</td>\n      <td>34</td>\n      <td>25</td>\n      <td>21</td>\n      <td>0</td>\n      <td>2</td>\n      <td>False</td>\n    </tr>\n    <tr>\n      <th>115388</th>\n      <td>115388</td>\n      <td>UCCqEeDAUf4Mg0GgEN658tkA</td>\n      <td>Chris Stuckmann</td>\n      <td>2022-03-07</td>\n      <td>1428477</td>\n      <td>79929</td>\n      <td>0</td>\n      <td>5672</td>\n      <td>https://i.ytimg.com/vi/vPgrkl7lEjU/default.jpg</td>\n      <td>False</td>\n      <td>...</td>\n      <td>0.160000</td>\n      <td>0.040000</td>\n      <td>0</td>\n      <td>465</td>\n      <td>2</td>\n      <td>28</td>\n      <td>17</td>\n      <td>0</td>\n      <td>2</td>\n      <td>False</td>\n    </tr>\n    <tr>\n      <th>115389</th>\n      <td>115389</td>\n      <td>UCh529hRsYvu9_Scri20NsHg</td>\n      <td>Spider</td>\n      <td>2022-03-07</td>\n      <td>1378788</td>\n      <td>8789</td>\n      <td>0</td>\n      <td>83</td>\n      <td>https://i.ytimg.com/vi/6Svr8l1DwTc/default.jpg</td>\n      <td>False</td>\n      <td>...</td>\n      <td>0.000000</td>\n      <td>0.035714</td>\n      <td>0</td>\n      <td>23</td>\n      <td>0</td>\n      <td>0</td>\n      <td>17</td>\n      <td>1</td>\n      <td>3</td>\n      <td>False</td>\n    </tr>\n    <tr>\n      <th>115390</th>\n      <td>115390</td>\n      <td>UCqls08lc29RNv0JNqnOJwWA</td>\n      <td>Yoatzi</td>\n      <td>2022-03-07</td>\n      <td>883751</td>\n      <td>57842</td>\n      <td>0</td>\n      <td>3435</td>\n      <td>https://i.ytimg.com/vi/hBF4TxpTW3Y/default.jpg</td>\n      <td>False</td>\n      <td>...</td>\n      <td>0.571429</td>\n      <td>0.107143</td>\n      <td>0</td>\n      <td>41</td>\n      <td>0</td>\n      <td>0</td>\n      <td>22</td>\n      <td>0</td>\n      <td>2</td>\n      <td>False</td>\n    </tr>\n  </tbody>\n</table>\n<p>115391 rows × 23 columns</p>\n</div>"
     },
     "execution_count": 12,
     "metadata": {},
     "output_type": "execute_result"
    }
   ],
   "source": [
    "us_trending_df = pd.read_csv('./data/us_trending_stage_1.csv')\n",
    "us_trending_df"
   ],
   "metadata": {
    "collapsed": false,
    "pycharm": {
     "name": "#%%\n"
    }
   }
  },
  {
   "cell_type": "code",
   "execution_count": 13,
   "outputs": [
    {
     "name": "stderr",
     "output_type": "stream",
     "text": [
      "c:\\users\\festo\\semestr x\\data-exploration-project\\venv\\lib\\site-packages\\ipykernel_launcher.py:1: FutureWarning: The default value of regex will change from True to False in a future version.\n",
      "  \"\"\"Entry point for launching an IPython kernel.\n"
     ]
    },
    {
     "data": {
      "text/plain": "0         https://i.ytimg.com/vi/3C66w5Z0ixs/0.jpg\n1         https://i.ytimg.com/vi/M9Pmf9AB4Mo/0.jpg\n2         https://i.ytimg.com/vi/J78aPJ3VyNs/0.jpg\n3         https://i.ytimg.com/vi/kXLn3HkpjaA/0.jpg\n4         https://i.ytimg.com/vi/VIUo6yapDbc/0.jpg\n                            ...                   \n115386    https://i.ytimg.com/vi/6WUxgmMDts4/0.jpg\n115387    https://i.ytimg.com/vi/6-aGt23ytyI/0.jpg\n115388    https://i.ytimg.com/vi/vPgrkl7lEjU/0.jpg\n115389    https://i.ytimg.com/vi/6Svr8l1DwTc/0.jpg\n115390    https://i.ytimg.com/vi/hBF4TxpTW3Y/0.jpg\nName: thumbnail_link_hires, Length: 115391, dtype: object"
     },
     "execution_count": 13,
     "metadata": {},
     "output_type": "execute_result"
    }
   ],
   "source": [
    "us_trending_df['thumbnail_link_hires'] = us_trending_df['thumbnail_link'].str.replace('default.jpg', '0.jpg')\n",
    "us_trending_df['thumbnail_link_hires']"
   ],
   "metadata": {
    "collapsed": false,
    "pycharm": {
     "name": "#%%\n"
    }
   }
  },
  {
   "cell_type": "code",
   "execution_count": 14,
   "outputs": [],
   "source": [
    "from notebooks.workers import download_and_save\n",
    "from multiprocessing import Pool\n",
    "import os\n",
    "\n",
    "\n",
    "with Pool(processes=os.cpu_count()) as pool:\n",
    "    pool.map(download_and_save, us_trending_df['thumbnail_link_hires'].to_list())\n"
   ],
   "metadata": {
    "collapsed": false,
    "pycharm": {
     "name": "#%%\n"
    }
   }
  },
  {
   "cell_type": "code",
   "execution_count": 14,
   "outputs": [],
   "source": [],
   "metadata": {
    "collapsed": false,
    "pycharm": {
     "name": "#%%\n"
    }
   }
  }
 ],
 "metadata": {
  "kernelspec": {
   "display_name": "Python 3",
   "language": "python",
   "name": "python3"
  },
  "language_info": {
   "codemirror_mode": {
    "name": "ipython",
    "version": 2
   },
   "file_extension": ".py",
   "mimetype": "text/x-python",
   "name": "python",
   "nbconvert_exporter": "python",
   "pygments_lexer": "ipython2",
   "version": "2.7.6"
  }
 },
 "nbformat": 4,
 "nbformat_minor": 0
}