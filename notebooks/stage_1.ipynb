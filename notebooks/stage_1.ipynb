{
 "cells": [
  {
   "cell_type": "markdown",
   "metadata": {
    "id": "O5ctLvHRpAZr",
    "pycharm": {
     "name": "#%% md\n"
    }
   },
   "source": [
    "# Eksploracja Danych - Projekt\n",
    "Tomasz Kiljańczyk (136257)\n",
    "\n",
    "Wojciech Lulek (136280)"
   ]
  },
  {
   "cell_type": "markdown",
   "metadata": {
    "id": "VP-hmZsznn6F",
    "pycharm": {
     "name": "#%% md\n"
    }
   },
   "source": [
    "# Załadowanie bibliotek i danych"
   ]
  },
  {
   "cell_type": "code",
   "execution_count": 1,
   "metadata": {
    "id": "mbLzlvQSq2N7",
    "pycharm": {
     "name": "#%%\n"
    }
   },
   "outputs": [],
   "source": [
    "import pandas as pd\n",
    "import numpy as np\n",
    "import matplotlib.pyplot as plt\n",
    "import seaborn as sns\n",
    "import os\n",
    "\n",
    "data_dir = './data'"
   ]
  },
  {
   "cell_type": "code",
   "execution_count": 2,
   "metadata": {
    "colab": {
     "base_uri": "https://localhost:8080/",
     "height": 1000
    },
    "id": "m4kaZ9Teqxdy",
    "outputId": "aedb6852-52ab-42d6-acc0-0797edd7dc73",
    "pycharm": {
     "name": "#%%\n"
    }
   },
   "outputs": [
    {
     "data": {
      "text/plain": "           video_id                                              title  \\\n0       3C66w5Z0ixs                 I ASKED HER TO BE MY GIRLFRIEND...   \n1       M9Pmf9AB4Mo  Apex Legends | Stories from the Outlands – “Th...   \n2       J78aPJ3VyNs  I left youtube for a month and THIS is what ha...   \n3       kXLn3HkpjaA  XXL 2020 Freshman Class Revealed - Official An...   \n4       VIUo6yapDbc  Ultimate DIY Home Movie Theater for The LaBran...   \n...             ...                                                ...   \n115386  6WUxgmMDts4                Blowing up Capacitors at 187,000FPS   \n115387  6-aGt23ytyI                               Most Extreme Sports!   \n115388  vPgrkl7lEjU                          The Batman - Movie Review   \n115389  6Svr8l1DwTc                       which enderman will survive?   \n115390  hBF4TxpTW3Y                       OUR GENDER REVEAL!! | Yoatzi   \n\n                 publishedAt                 channelId      channelTitle  \\\n0       2020-08-11T19:20:14Z  UCvtRTOMP2TqYqu51xNrqAzg          Brawadis   \n1       2020-08-11T17:00:10Z  UC0ZV6M2THA81QT9hrVWJG3A      Apex Legends   \n2       2020-08-11T16:34:06Z  UCYzPXprvl5Y-Sf0g4vX-m6g     jacksepticeye   \n3       2020-08-11T16:38:55Z  UCbg_UMjlHJg_19SZckaKajg               XXL   \n4       2020-08-11T15:10:05Z  UCDVPcEbVLQgLZX0Rt6jo34A          Mr. Kate   \n...                      ...                       ...               ...   \n115386  2022-03-01T12:20:37Z  UCUK0HBIBWgM2c4vsPhkYY4w  The Slow Mo Guys   \n115387  2022-02-28T21:00:02Z  UCUaT_39o1x6qWjz7K2pWcgw      Beast Reacts   \n115388  2022-02-28T17:00:39Z  UCCqEeDAUf4Mg0GgEN658tkA   Chris Stuckmann   \n115389  2022-03-01T17:00:04Z  UCh529hRsYvu9_Scri20NsHg            Spider   \n115390  2022-02-28T22:00:26Z  UCqls08lc29RNv0JNqnOJwWA            Yoatzi   \n\n        categoryId         trending_date  \\\n0              NaN  2020-08-12T00:00:00Z   \n1             20.0  2020-08-12T00:00:00Z   \n2              NaN  2020-08-12T00:00:00Z   \n3              NaN  2020-08-12T00:00:00Z   \n4              NaN  2020-08-12T00:00:00Z   \n...            ...                   ...   \n115386         NaN  2022-03-07T00:00:00Z   \n115387         NaN  2022-03-07T00:00:00Z   \n115388         NaN  2022-03-07T00:00:00Z   \n115389         NaN  2022-03-07T00:00:00Z   \n115390         NaN  2022-03-07T00:00:00Z   \n\n                                                     tags  view_count   likes  \\\n0       brawadis|prank|basketball|skits|ghost|funny vi...     1514614  156908   \n1       Apex Legends|Apex Legends characters|new Apex ...     2381688  146739   \n2       jacksepticeye|funny|funny meme|memes|jacksepti...     2038853  353787   \n3       xxl freshman|xxl freshmen|2020 xxl freshman|20...      496771   23251   \n4       The LaBrant Family|DIY|Interior Design|Makeove...     1123889   45802   \n...                                                   ...         ...     ...   \n115386  slomo|slow|mo|super|motion|Slow Motion|1000|10...      981279   70153   \n115387  life hacks|crafts|slime|do it yourself|diy|lif...     7810455  288862   \n115388  The Batman|Reviews|Movie Review|Chris Stuckman...     1428477   79929   \n115389                                             [None]     1378788    8789   \n115390                                             [None]      883751   57842   \n\n        dislikes  comment_count  \\\n0           5855          35313   \n1           2794          16549   \n2           2628          40221   \n3           1856           7647   \n4            964           2196   \n...          ...            ...   \n115386         0           3845   \n115387         0           8338   \n115388         0           5672   \n115389         0             83   \n115390         0           3435   \n\n                                        thumbnail_link  comments_disabled  \\\n0       https://i.ytimg.com/vi/3C66w5Z0ixs/default.jpg              False   \n1       https://i.ytimg.com/vi/M9Pmf9AB4Mo/default.jpg              False   \n2       https://i.ytimg.com/vi/J78aPJ3VyNs/default.jpg              False   \n3       https://i.ytimg.com/vi/kXLn3HkpjaA/default.jpg              False   \n4       https://i.ytimg.com/vi/VIUo6yapDbc/default.jpg              False   \n...                                                ...                ...   \n115386  https://i.ytimg.com/vi/6WUxgmMDts4/default.jpg              False   \n115387  https://i.ytimg.com/vi/6-aGt23ytyI/default.jpg              False   \n115388  https://i.ytimg.com/vi/vPgrkl7lEjU/default.jpg              False   \n115389  https://i.ytimg.com/vi/6Svr8l1DwTc/default.jpg              False   \n115390  https://i.ytimg.com/vi/hBF4TxpTW3Y/default.jpg              False   \n\n        ratings_disabled                                        description  \n0                  False  SUBSCRIBE to BRAWADIS ? http://bit.ly/Subscrib...  \n1                  False  While running her own modding shop, Ramya Pare...  \n2                  False  I left youtube for a month and this is what ha...  \n3                  False  Subscribe to XXL ? http://bit.ly/subscribe-xxl...  \n4                  False  Transforming The LaBrant Family's empty white ...  \n...                  ...                                                ...  \n115386             False  Gav and Dan overload some capacitors and film ...  \n115387             False  Like normal sports but EXTREME!CHECK OUT THESE...  \n115388             False  The Shelby Oaks Kickstarter is LIVE: https://w...  \n115389             False                            #minecraft #meme #memes  \n115390             False          Contact info: YoatziTeam@unitedtalent.com  \n\n[115391 rows x 16 columns]",
      "text/html": "<div>\n<style scoped>\n    .dataframe tbody tr th:only-of-type {\n        vertical-align: middle;\n    }\n\n    .dataframe tbody tr th {\n        vertical-align: top;\n    }\n\n    .dataframe thead th {\n        text-align: right;\n    }\n</style>\n<table border=\"1\" class=\"dataframe\">\n  <thead>\n    <tr style=\"text-align: right;\">\n      <th></th>\n      <th>video_id</th>\n      <th>title</th>\n      <th>publishedAt</th>\n      <th>channelId</th>\n      <th>channelTitle</th>\n      <th>categoryId</th>\n      <th>trending_date</th>\n      <th>tags</th>\n      <th>view_count</th>\n      <th>likes</th>\n      <th>dislikes</th>\n      <th>comment_count</th>\n      <th>thumbnail_link</th>\n      <th>comments_disabled</th>\n      <th>ratings_disabled</th>\n      <th>description</th>\n    </tr>\n  </thead>\n  <tbody>\n    <tr>\n      <th>0</th>\n      <td>3C66w5Z0ixs</td>\n      <td>I ASKED HER TO BE MY GIRLFRIEND...</td>\n      <td>2020-08-11T19:20:14Z</td>\n      <td>UCvtRTOMP2TqYqu51xNrqAzg</td>\n      <td>Brawadis</td>\n      <td>NaN</td>\n      <td>2020-08-12T00:00:00Z</td>\n      <td>brawadis|prank|basketball|skits|ghost|funny vi...</td>\n      <td>1514614</td>\n      <td>156908</td>\n      <td>5855</td>\n      <td>35313</td>\n      <td>https://i.ytimg.com/vi/3C66w5Z0ixs/default.jpg</td>\n      <td>False</td>\n      <td>False</td>\n      <td>SUBSCRIBE to BRAWADIS ? http://bit.ly/Subscrib...</td>\n    </tr>\n    <tr>\n      <th>1</th>\n      <td>M9Pmf9AB4Mo</td>\n      <td>Apex Legends | Stories from the Outlands – “Th...</td>\n      <td>2020-08-11T17:00:10Z</td>\n      <td>UC0ZV6M2THA81QT9hrVWJG3A</td>\n      <td>Apex Legends</td>\n      <td>20.0</td>\n      <td>2020-08-12T00:00:00Z</td>\n      <td>Apex Legends|Apex Legends characters|new Apex ...</td>\n      <td>2381688</td>\n      <td>146739</td>\n      <td>2794</td>\n      <td>16549</td>\n      <td>https://i.ytimg.com/vi/M9Pmf9AB4Mo/default.jpg</td>\n      <td>False</td>\n      <td>False</td>\n      <td>While running her own modding shop, Ramya Pare...</td>\n    </tr>\n    <tr>\n      <th>2</th>\n      <td>J78aPJ3VyNs</td>\n      <td>I left youtube for a month and THIS is what ha...</td>\n      <td>2020-08-11T16:34:06Z</td>\n      <td>UCYzPXprvl5Y-Sf0g4vX-m6g</td>\n      <td>jacksepticeye</td>\n      <td>NaN</td>\n      <td>2020-08-12T00:00:00Z</td>\n      <td>jacksepticeye|funny|funny meme|memes|jacksepti...</td>\n      <td>2038853</td>\n      <td>353787</td>\n      <td>2628</td>\n      <td>40221</td>\n      <td>https://i.ytimg.com/vi/J78aPJ3VyNs/default.jpg</td>\n      <td>False</td>\n      <td>False</td>\n      <td>I left youtube for a month and this is what ha...</td>\n    </tr>\n    <tr>\n      <th>3</th>\n      <td>kXLn3HkpjaA</td>\n      <td>XXL 2020 Freshman Class Revealed - Official An...</td>\n      <td>2020-08-11T16:38:55Z</td>\n      <td>UCbg_UMjlHJg_19SZckaKajg</td>\n      <td>XXL</td>\n      <td>NaN</td>\n      <td>2020-08-12T00:00:00Z</td>\n      <td>xxl freshman|xxl freshmen|2020 xxl freshman|20...</td>\n      <td>496771</td>\n      <td>23251</td>\n      <td>1856</td>\n      <td>7647</td>\n      <td>https://i.ytimg.com/vi/kXLn3HkpjaA/default.jpg</td>\n      <td>False</td>\n      <td>False</td>\n      <td>Subscribe to XXL ? http://bit.ly/subscribe-xxl...</td>\n    </tr>\n    <tr>\n      <th>4</th>\n      <td>VIUo6yapDbc</td>\n      <td>Ultimate DIY Home Movie Theater for The LaBran...</td>\n      <td>2020-08-11T15:10:05Z</td>\n      <td>UCDVPcEbVLQgLZX0Rt6jo34A</td>\n      <td>Mr. Kate</td>\n      <td>NaN</td>\n      <td>2020-08-12T00:00:00Z</td>\n      <td>The LaBrant Family|DIY|Interior Design|Makeove...</td>\n      <td>1123889</td>\n      <td>45802</td>\n      <td>964</td>\n      <td>2196</td>\n      <td>https://i.ytimg.com/vi/VIUo6yapDbc/default.jpg</td>\n      <td>False</td>\n      <td>False</td>\n      <td>Transforming The LaBrant Family's empty white ...</td>\n    </tr>\n    <tr>\n      <th>...</th>\n      <td>...</td>\n      <td>...</td>\n      <td>...</td>\n      <td>...</td>\n      <td>...</td>\n      <td>...</td>\n      <td>...</td>\n      <td>...</td>\n      <td>...</td>\n      <td>...</td>\n      <td>...</td>\n      <td>...</td>\n      <td>...</td>\n      <td>...</td>\n      <td>...</td>\n      <td>...</td>\n    </tr>\n    <tr>\n      <th>115386</th>\n      <td>6WUxgmMDts4</td>\n      <td>Blowing up Capacitors at 187,000FPS</td>\n      <td>2022-03-01T12:20:37Z</td>\n      <td>UCUK0HBIBWgM2c4vsPhkYY4w</td>\n      <td>The Slow Mo Guys</td>\n      <td>NaN</td>\n      <td>2022-03-07T00:00:00Z</td>\n      <td>slomo|slow|mo|super|motion|Slow Motion|1000|10...</td>\n      <td>981279</td>\n      <td>70153</td>\n      <td>0</td>\n      <td>3845</td>\n      <td>https://i.ytimg.com/vi/6WUxgmMDts4/default.jpg</td>\n      <td>False</td>\n      <td>False</td>\n      <td>Gav and Dan overload some capacitors and film ...</td>\n    </tr>\n    <tr>\n      <th>115387</th>\n      <td>6-aGt23ytyI</td>\n      <td>Most Extreme Sports!</td>\n      <td>2022-02-28T21:00:02Z</td>\n      <td>UCUaT_39o1x6qWjz7K2pWcgw</td>\n      <td>Beast Reacts</td>\n      <td>NaN</td>\n      <td>2022-03-07T00:00:00Z</td>\n      <td>life hacks|crafts|slime|do it yourself|diy|lif...</td>\n      <td>7810455</td>\n      <td>288862</td>\n      <td>0</td>\n      <td>8338</td>\n      <td>https://i.ytimg.com/vi/6-aGt23ytyI/default.jpg</td>\n      <td>False</td>\n      <td>False</td>\n      <td>Like normal sports but EXTREME!CHECK OUT THESE...</td>\n    </tr>\n    <tr>\n      <th>115388</th>\n      <td>vPgrkl7lEjU</td>\n      <td>The Batman - Movie Review</td>\n      <td>2022-02-28T17:00:39Z</td>\n      <td>UCCqEeDAUf4Mg0GgEN658tkA</td>\n      <td>Chris Stuckmann</td>\n      <td>NaN</td>\n      <td>2022-03-07T00:00:00Z</td>\n      <td>The Batman|Reviews|Movie Review|Chris Stuckman...</td>\n      <td>1428477</td>\n      <td>79929</td>\n      <td>0</td>\n      <td>5672</td>\n      <td>https://i.ytimg.com/vi/vPgrkl7lEjU/default.jpg</td>\n      <td>False</td>\n      <td>False</td>\n      <td>The Shelby Oaks Kickstarter is LIVE: https://w...</td>\n    </tr>\n    <tr>\n      <th>115389</th>\n      <td>6Svr8l1DwTc</td>\n      <td>which enderman will survive?</td>\n      <td>2022-03-01T17:00:04Z</td>\n      <td>UCh529hRsYvu9_Scri20NsHg</td>\n      <td>Spider</td>\n      <td>NaN</td>\n      <td>2022-03-07T00:00:00Z</td>\n      <td>[None]</td>\n      <td>1378788</td>\n      <td>8789</td>\n      <td>0</td>\n      <td>83</td>\n      <td>https://i.ytimg.com/vi/6Svr8l1DwTc/default.jpg</td>\n      <td>False</td>\n      <td>False</td>\n      <td>#minecraft #meme #memes</td>\n    </tr>\n    <tr>\n      <th>115390</th>\n      <td>hBF4TxpTW3Y</td>\n      <td>OUR GENDER REVEAL!! | Yoatzi</td>\n      <td>2022-02-28T22:00:26Z</td>\n      <td>UCqls08lc29RNv0JNqnOJwWA</td>\n      <td>Yoatzi</td>\n      <td>NaN</td>\n      <td>2022-03-07T00:00:00Z</td>\n      <td>[None]</td>\n      <td>883751</td>\n      <td>57842</td>\n      <td>0</td>\n      <td>3435</td>\n      <td>https://i.ytimg.com/vi/hBF4TxpTW3Y/default.jpg</td>\n      <td>False</td>\n      <td>False</td>\n      <td>Contact info: YoatziTeam@unitedtalent.com</td>\n    </tr>\n  </tbody>\n</table>\n<p>115391 rows × 16 columns</p>\n</div>"
     },
     "execution_count": 2,
     "metadata": {},
     "output_type": "execute_result"
    }
   ],
   "source": [
    "us_trending_df = pd.read_csv(os.path.join(data_dir, 'USdata80.csv'), encoding='cp1250', lineterminator='\\n')\n",
    "us_trending_df = us_trending_df.iloc[:, 1:]\n",
    "us_trending_df = us_trending_df.rename(columns={'description\\r': 'description'})\n",
    "us_trending_df['description'] = us_trending_df['description'].str.rstrip('\\r')\n",
    "us_trending_df"
   ]
  },
  {
   "cell_type": "markdown",
   "source": [
    "Dislikes nie jest już możliwe do pobrania, więc można je od razu usunąć"
   ],
   "metadata": {
    "collapsed": false,
    "pycharm": {
     "name": "#%% md\n"
    }
   }
  },
  {
   "cell_type": "code",
   "execution_count": 3,
   "outputs": [],
   "source": [
    "us_trending_df.drop(columns=['dislikes'], axis=1, inplace=True)"
   ],
   "metadata": {
    "collapsed": false,
    "pycharm": {
     "name": "#%%\n"
    }
   }
  },
  {
   "cell_type": "markdown",
   "metadata": {
    "id": "4uMs2vmSnscO",
    "pycharm": {
     "name": "#%% md\n"
    }
   },
   "source": [
    "# Analiza danych"
   ]
  },
  {
   "cell_type": "markdown",
   "metadata": {
    "id": "vcwXu0XUp2L4",
    "pycharm": {
     "name": "#%% md\n"
    }
   },
   "source": [
    "## Analiza wstępna"
   ]
  },
  {
   "cell_type": "code",
   "execution_count": 4,
   "metadata": {
    "colab": {
     "base_uri": "https://localhost:8080/"
    },
    "id": "A-mid2BJsY4D",
    "outputId": "b9ea5047-5117-4c9f-bd2c-6b5646708b12",
    "pycharm": {
     "name": "#%%\n"
    }
   },
   "outputs": [
    {
     "data": {
      "text/plain": "(115391, 15)"
     },
     "execution_count": 4,
     "metadata": {},
     "output_type": "execute_result"
    }
   ],
   "source": [
    "us_trending_df.shape"
   ]
  },
  {
   "cell_type": "code",
   "execution_count": 5,
   "metadata": {
    "colab": {
     "base_uri": "https://localhost:8080/"
    },
    "id": "m6hUj1U5aupz",
    "outputId": "238e9f0d-24f2-4787-8d21-f825fc5646cd",
    "pycharm": {
     "name": "#%%\n"
    }
   },
   "outputs": [
    {
     "name": "stdout",
     "output_type": "stream",
     "text": [
      "<class 'pandas.core.frame.DataFrame'>\n",
      "RangeIndex: 115391 entries, 0 to 115390\n",
      "Data columns (total 15 columns):\n",
      " #   Column             Non-Null Count   Dtype  \n",
      "---  ------             --------------   -----  \n",
      " 0   video_id           115391 non-null  object \n",
      " 1   title              115391 non-null  object \n",
      " 2   publishedAt        115391 non-null  object \n",
      " 3   channelId          115391 non-null  object \n",
      " 4   channelTitle       115391 non-null  object \n",
      " 5   categoryId         23027 non-null   float64\n",
      " 6   trending_date      115391 non-null  object \n",
      " 7   tags               115391 non-null  object \n",
      " 8   view_count         115391 non-null  int64  \n",
      " 9   likes              115391 non-null  int64  \n",
      " 10  comment_count      115391 non-null  int64  \n",
      " 11  thumbnail_link     115391 non-null  object \n",
      " 12  comments_disabled  115391 non-null  bool   \n",
      " 13  ratings_disabled   115391 non-null  bool   \n",
      " 14  description        115391 non-null  object \n",
      "dtypes: bool(2), float64(1), int64(3), object(9)\n",
      "memory usage: 11.7+ MB\n"
     ]
    }
   ],
   "source": [
    "us_trending_df.info()"
   ]
  },
  {
   "cell_type": "markdown",
   "metadata": {
    "pycharm": {
     "name": "#%% md\n"
    }
   },
   "source": [
    "CategoryId zawiera NaNy, trzeba się ich pozbyć"
   ]
  },
  {
   "cell_type": "code",
   "execution_count": 6,
   "metadata": {
    "pycharm": {
     "name": "#%%\n"
    }
   },
   "outputs": [],
   "source": [
    "us_trending_df['categoryId'].replace(np.NaN, 0.0, inplace=True)"
   ]
  },
  {
   "cell_type": "markdown",
   "metadata": {
    "pycharm": {
     "name": "#%% md\n"
    }
   },
   "source": [
    "CategoryId jest typu float64. Żeby zamienić je na stringa trzeba je zmienić wpierw na int64"
   ]
  },
  {
   "cell_type": "code",
   "execution_count": 7,
   "metadata": {
    "pycharm": {
     "name": "#%%\n"
    }
   },
   "outputs": [],
   "source": [
    "us_trending_df['categoryId'] = us_trending_df['categoryId'].astype(np.int64)"
   ]
  },
  {
   "cell_type": "markdown",
   "metadata": {
    "id": "hQOlKCO2a0Eb",
    "pycharm": {
     "name": "#%% md\n"
    }
   },
   "source": [
    "Kolumny opisujące daty są typu object.\n",
    "Można je zrzutować na typ datetime64.\n",
    "categoryId należy zrzutować na typ string, ponieważ nie chcemy go traktować jako dane numeryczne."
   ]
  },
  {
   "cell_type": "code",
   "execution_count": 8,
   "metadata": {
    "colab": {
     "base_uri": "https://localhost:8080/"
    },
    "id": "3GrcDXkBav1d",
    "outputId": "0f7c64d8-4ae3-4aaf-9626-7887d1a1e7c1",
    "pycharm": {
     "name": "#%%\n"
    }
   },
   "outputs": [
    {
     "name": "stdout",
     "output_type": "stream",
     "text": [
      "<class 'pandas.core.frame.DataFrame'>\n",
      "RangeIndex: 115391 entries, 0 to 115390\n",
      "Data columns (total 15 columns):\n",
      " #   Column             Non-Null Count   Dtype         \n",
      "---  ------             --------------   -----         \n",
      " 0   video_id           115391 non-null  object        \n",
      " 1   title              115391 non-null  object        \n",
      " 2   publishedAt        115391 non-null  datetime64[ns]\n",
      " 3   channelId          115391 non-null  object        \n",
      " 4   channelTitle       115391 non-null  object        \n",
      " 5   categoryId         115391 non-null  object        \n",
      " 6   trending_date      115391 non-null  datetime64[ns]\n",
      " 7   tags               115391 non-null  object        \n",
      " 8   view_count         115391 non-null  int64         \n",
      " 9   likes              115391 non-null  int64         \n",
      " 10  comment_count      115391 non-null  int64         \n",
      " 11  thumbnail_link     115391 non-null  object        \n",
      " 12  comments_disabled  115391 non-null  bool          \n",
      " 13  ratings_disabled   115391 non-null  bool          \n",
      " 14  description        115391 non-null  object        \n",
      "dtypes: bool(2), datetime64[ns](2), int64(3), object(8)\n",
      "memory usage: 11.7+ MB\n"
     ]
    }
   ],
   "source": [
    "us_trending_df = us_trending_df.astype({\n",
    "    'trending_date': np.datetime64,\n",
    "    'publishedAt': np.datetime64,\n",
    "    'categoryId': str\n",
    "})\n",
    "us_trending_df.info()"
   ]
  },
  {
   "cell_type": "markdown",
   "metadata": {
    "id": "ci3iKi68bBJo",
    "pycharm": {
     "name": "#%% md\n"
    }
   },
   "source": [
    "W kolumnie description występują brakujące wartości.\n",
    "Można by je uzupełnić pustym stringiem albo spacją."
   ]
  },
  {
   "cell_type": "code",
   "execution_count": 9,
   "metadata": {
    "colab": {
     "base_uri": "https://localhost:8080/"
    },
    "id": "hYOPb4H1IGkF",
    "outputId": "e221e86a-60ea-4e5d-f4e7-e6c60c3e9975",
    "pycharm": {
     "name": "#%%\n"
    }
   },
   "outputs": [
    {
     "name": "stdout",
     "output_type": "stream",
     "text": [
      "<class 'pandas.core.frame.DataFrame'>\n",
      "RangeIndex: 115391 entries, 0 to 115390\n",
      "Data columns (total 15 columns):\n",
      " #   Column             Non-Null Count   Dtype         \n",
      "---  ------             --------------   -----         \n",
      " 0   video_id           115391 non-null  object        \n",
      " 1   title              115391 non-null  object        \n",
      " 2   publishedAt        115391 non-null  datetime64[ns]\n",
      " 3   channelId          115391 non-null  object        \n",
      " 4   channelTitle       115391 non-null  object        \n",
      " 5   categoryId         115391 non-null  object        \n",
      " 6   trending_date      115391 non-null  datetime64[ns]\n",
      " 7   tags               115391 non-null  object        \n",
      " 8   view_count         115391 non-null  int64         \n",
      " 9   likes              115391 non-null  int64         \n",
      " 10  comment_count      115391 non-null  int64         \n",
      " 11  thumbnail_link     115391 non-null  object        \n",
      " 12  comments_disabled  115391 non-null  bool          \n",
      " 13  ratings_disabled   115391 non-null  bool          \n",
      " 14  description        115391 non-null  object        \n",
      "dtypes: bool(2), datetime64[ns](2), int64(3), object(8)\n",
      "memory usage: 11.7+ MB\n"
     ]
    }
   ],
   "source": [
    "us_trending_df['description'].replace(np.NaN, '', inplace=True)\n",
    "us_trending_df.info()"
   ]
  },
  {
   "cell_type": "markdown",
   "metadata": {
    "id": "TT1vXLUYbarL",
    "pycharm": {
     "name": "#%% md\n"
    }
   },
   "source": [
    "Przy ręcznej analizie znaleziono też tagi `[None]`.\n",
    "Chyba najlepiej zamienić je na pusty string."
   ]
  },
  {
   "cell_type": "code",
   "execution_count": 10,
   "metadata": {
    "id": "zu1_bfkdbP_y",
    "pycharm": {
     "name": "#%%\n"
    }
   },
   "outputs": [],
   "source": [
    "us_trending_df['tags'].replace('[None]', '', inplace=True)"
   ]
  },
  {
   "cell_type": "code",
   "execution_count": 11,
   "metadata": {
    "colab": {
     "base_uri": "https://localhost:8080/"
    },
    "id": "Njq1BJLfaxUt",
    "outputId": "be9b9ec5-ec62-4318-f145-559fd7974976",
    "pycharm": {
     "name": "#%%\n"
    }
   },
   "outputs": [
    {
     "data": {
      "text/plain": "video_id              20831\ntitle                 21284\npublishedAt           20514\nchannelId              5238\nchannelTitle           5322\ncategoryId               16\ntrending_date           557\ntags                  15343\nview_count           112973\nlikes                 84931\ncomment_count         27202\nthumbnail_link        20831\ncomments_disabled         2\nratings_disabled          2\ndescription           21309\ndtype: int64"
     },
     "execution_count": 11,
     "metadata": {},
     "output_type": "execute_result"
    }
   ],
   "source": [
    "us_trending_df.nunique()"
   ]
  },
  {
   "cell_type": "markdown",
   "metadata": {
    "id": "dKLonAFXbcjh",
    "pycharm": {
     "name": "#%% md\n"
    }
   },
   "source": [
    "W policzonych unikatowych wartościach widać, że unikatowych wartości video_id jest mniej niż ilość wszystkich rzędów w pliku.\n",
    "\n",
    "Wynika to z faktu, że w danych znajdują się zrzuty listy trending z wielu dni.\n",
    "Jeden filmik mógł być trending przez parę dni."
   ]
  },
  {
   "cell_type": "markdown",
   "source": [
    "Występują rzędy z view_count = 0. Najlepiej się ich pozbyć"
   ],
   "metadata": {
    "collapsed": false,
    "pycharm": {
     "name": "#%% md\n"
    }
   }
  },
  {
   "cell_type": "code",
   "execution_count": 12,
   "outputs": [],
   "source": [
    "us_trending_df.drop(us_trending_df[us_trending_df['view_count'] == 0].index, inplace=True)"
   ],
   "metadata": {
    "collapsed": false,
    "pycharm": {
     "name": "#%%\n"
    }
   }
  },
  {
   "cell_type": "markdown",
   "metadata": {
    "id": "qFPJDCWSvKiI",
    "pycharm": {
     "name": "#%% md\n"
    }
   },
   "source": [
    "## Wizualizacje"
   ]
  },
  {
   "cell_type": "code",
   "execution_count": 13,
   "metadata": {
    "colab": {
     "base_uri": "https://localhost:8080/",
     "height": 685
    },
    "id": "Mb-GhSeubAjv",
    "outputId": "9d5bc747-e4df-462c-8426-1cd3324e389d",
    "pycharm": {
     "name": "#%%\n"
    }
   },
   "outputs": [
    {
     "data": {
      "text/plain": "<Figure size 720x720 with 2 Axes>",
      "image/png": "[encoded data removed]"
     },
     "metadata": {
      "needs_background": "light"
     },
     "output_type": "display_data"
    }
   ],
   "source": [
    "corrMatrix = us_trending_df.corr(method='spearman')\n",
    "corrMatrix = corrMatrix.round(4)\n",
    "\n",
    "mask = np.triu(np.ones_like(corrMatrix, dtype=bool))\n",
    "np.fill_diagonal(mask, False)\n",
    "\n",
    "fig, ax = plt.subplots(figsize=(10, 10))\n",
    "sns.heatmap(corrMatrix, mask=mask, annot=True, fmt='g', ax=ax)\n",
    "plt.show()"
   ]
  },
  {
   "cell_type": "markdown",
   "metadata": {
    "id": "LdZZ35fvbg1i",
    "pycharm": {
     "name": "#%% md\n"
    }
   },
   "source": [
    "Używamy metryki Spearmana, ponieważ to umożliwia odkrycie nieliniowych zależności między cechami.\n",
    "\n",
    "Zależności większe niż |0.5|:\n",
    "* view_count:\n",
    "    * comment_count\n",
    "    * dislikes\n",
    "    * likes\n",
    "* likes:\n",
    "    * comment_count\n",
    "    * dislikes\n",
    "* dislikes:\n",
    "    * comment_count\n",
    "\n",
    "Z wypisanych zależności wynika, że im więcej osób ogląda filmik, tym więcej jest komentarzy, polubień i antypolubień.\n",
    "To jest logiczna konsekwencja wpływu oglądalności na te cechy."
   ]
  },
  {
   "cell_type": "markdown",
   "source": [
    "Polubienia można zastąpić cechą stosunek polubień do liczby wyświetleń."
   ],
   "metadata": {
    "collapsed": false,
    "pycharm": {
     "name": "#%% md\n"
    }
   }
  },
  {
   "cell_type": "code",
   "execution_count": 14,
   "outputs": [
    {
     "data": {
      "text/plain": "0         0.103596\n1         0.061611\n2         0.173523\n3         0.046804\n4         0.040753\n            ...   \n115386    0.071491\n115387    0.036984\n115388    0.055954\n115389    0.006374\n115390    0.065451\nName: likes_to_view_count_ratio, Length: 115341, dtype: float64"
     },
     "execution_count": 14,
     "metadata": {},
     "output_type": "execute_result"
    }
   ],
   "source": [
    "us_trending_df['likes_to_view_count_ratio'] = us_trending_df['likes'] / us_trending_df['view_count']\n",
    "us_trending_df['likes_to_view_count_ratio']"
   ],
   "metadata": {
    "collapsed": false,
    "pycharm": {
     "name": "#%%\n"
    }
   }
  },
  {
   "cell_type": "code",
   "execution_count": 15,
   "outputs": [
    {
     "data": {
      "text/plain": "<AxesSubplot:>"
     },
     "execution_count": 15,
     "metadata": {},
     "output_type": "execute_result"
    },
    {
     "data": {
      "text/plain": "<Figure size 432x288 with 1 Axes>",
      "image/png": "[encoded data removed]"
     },
     "metadata": {
      "needs_background": "light"
     },
     "output_type": "display_data"
    }
   ],
   "source": [
    "us_trending_df['likes_to_view_count_ratio'].hist(log=True)"
   ],
   "metadata": {
    "collapsed": false,
    "pycharm": {
     "name": "#%%\n"
    }
   }
  },
  {
   "cell_type": "markdown",
   "source": [
    "Liczbę komentarzy można zamienić na stosunek komentarzy do liczby obejrzeń.\n",
    "Należy pamiętać, że stosunek ten może być większy niż 1 (bo jeden użytkownik może komentować wiele razy)."
   ],
   "metadata": {
    "collapsed": false,
    "pycharm": {
     "name": "#%% md\n"
    }
   }
  },
  {
   "cell_type": "code",
   "execution_count": 16,
   "outputs": [
    {
     "data": {
      "text/plain": "0         0.023315\n1         0.006948\n2         0.019727\n3         0.015393\n4         0.001954\n            ...   \n115386    0.003918\n115387    0.001068\n115388    0.003971\n115389    0.000060\n115390    0.003887\nName: comment_count_to_view_count_ratio, Length: 115341, dtype: float64"
     },
     "execution_count": 16,
     "metadata": {},
     "output_type": "execute_result"
    }
   ],
   "source": [
    "us_trending_df['comment_count_to_view_count_ratio'] = us_trending_df['comment_count'] / us_trending_df['view_count']\n",
    "us_trending_df['comment_count_to_view_count_ratio']"
   ],
   "metadata": {
    "collapsed": false,
    "pycharm": {
     "name": "#%%\n"
    }
   }
  },
  {
   "cell_type": "markdown",
   "source": [],
   "metadata": {
    "collapsed": false,
    "pycharm": {
     "name": "#%% md\n"
    }
   }
  },
  {
   "cell_type": "code",
   "execution_count": 17,
   "outputs": [
    {
     "data": {
      "text/plain": "<AxesSubplot:>"
     },
     "execution_count": 17,
     "metadata": {},
     "output_type": "execute_result"
    },
    {
     "data": {
      "text/plain": "<Figure size 432x288 with 1 Axes>",
      "image/png": "[encoded data removed]"
     },
     "metadata": {
      "needs_background": "light"
     },
     "output_type": "display_data"
    }
   ],
   "source": [
    "us_trending_df['comment_count_to_view_count_ratio'].hist(log=True)"
   ],
   "metadata": {
    "collapsed": false,
    "pycharm": {
     "name": "#%%\n"
    }
   }
  },
  {
   "cell_type": "code",
   "execution_count": 18,
   "metadata": {
    "colab": {
     "base_uri": "https://localhost:8080/",
     "height": 295
    },
    "id": "vEiUfVeNcv4z",
    "outputId": "3d3a5f9c-cc91-4443-9bc9-7bca209afbfe",
    "pycharm": {
     "name": "#%%\n"
    }
   },
   "outputs": [
    {
     "data": {
      "text/plain": "<AxesSubplot:>"
     },
     "execution_count": 18,
     "metadata": {},
     "output_type": "execute_result"
    },
    {
     "data": {
      "text/plain": "<Figure size 432x288 with 1 Axes>",
      "image/png": "[encoded data removed]"
     },
     "metadata": {
      "needs_background": "light"
     },
     "output_type": "display_data"
    }
   ],
   "source": [
    "us_trending_df['view_count'].hist(log=True)"
   ]
  },
  {
   "cell_type": "code",
   "execution_count": 19,
   "metadata": {
    "colab": {
     "base_uri": "https://localhost:8080/",
     "height": 295
    },
    "id": "YOAqiootc1rz",
    "outputId": "fbf5bc06-b985-4ad0-9017-cfbf7f997663",
    "pycharm": {
     "name": "#%%\n"
    }
   },
   "outputs": [
    {
     "data": {
      "text/plain": "<AxesSubplot:>"
     },
     "execution_count": 19,
     "metadata": {},
     "output_type": "execute_result"
    },
    {
     "data": {
      "text/plain": "<Figure size 432x288 with 1 Axes>",
      "image/png": "[encoded data removed]"
     },
     "metadata": {
      "needs_background": "light"
     },
     "output_type": "display_data"
    }
   ],
   "source": [
    "us_trending_df['comment_count'].hist(log=True)"
   ]
  },
  {
   "cell_type": "code",
   "execution_count": 20,
   "metadata": {
    "colab": {
     "base_uri": "https://localhost:8080/",
     "height": 295
    },
    "id": "pX-hfFWmcQ3u",
    "outputId": "6bbc92c6-7552-457d-bd01-3a076e9e71f9",
    "pycharm": {
     "name": "#%%\n"
    }
   },
   "outputs": [
    {
     "data": {
      "text/plain": "<AxesSubplot:>"
     },
     "execution_count": 20,
     "metadata": {},
     "output_type": "execute_result"
    },
    {
     "data": {
      "text/plain": "<Figure size 432x288 with 1 Axes>",
      "image/png": "[encoded data removed]"
     },
     "metadata": {
      "needs_background": "light"
     },
     "output_type": "display_data"
    }
   ],
   "source": [
    "us_trending_df['likes'].hist(log=True)"
   ]
  },
  {
   "cell_type": "markdown",
   "metadata": {
    "id": "Sk3pM4VUpMtl",
    "pycharm": {
     "name": "#%% md\n"
    }
   },
   "source": [
    "## Analiza kategorii"
   ]
  },
  {
   "cell_type": "code",
   "execution_count": 21,
   "metadata": {
    "colab": {
     "base_uri": "https://localhost:8080/"
    },
    "id": "Hgjb2VV4biNO",
    "outputId": "6ee7b720-b032-4a7a-b827-e39db964caee",
    "pycharm": {
     "name": "#%%\n"
    }
   },
   "outputs": [
    {
     "data": {
      "text/plain": "{'1': 'Film & Animation',\n '2': 'Autos & Vehicles',\n '10': 'Music',\n '15': 'Pets & Animals',\n '17': 'Sports',\n '18': 'Short Movies',\n '19': 'Travel & Events',\n '20': 'Gaming',\n '21': 'Videoblogging',\n '22': 'People & Blogs',\n '23': 'Comedy',\n '24': 'Entertainment',\n '25': 'News & Politics',\n '26': 'Howto & Style',\n '27': 'Education',\n '28': 'Science & Technology',\n '29': 'Nonprofits & Activism',\n '30': 'Movies',\n '31': 'Anime/Animation',\n '32': 'Action/Adventure',\n '33': 'Classics',\n '34': 'Comedy',\n '35': 'Documentary',\n '36': 'Drama',\n '37': 'Family',\n '38': 'Foreign',\n '39': 'Horror',\n '40': 'Sci-Fi/Fantasy',\n '41': 'Thriller',\n '42': 'Shorts',\n '43': 'Shows',\n '44': 'Trailers'}"
     },
     "execution_count": 21,
     "metadata": {},
     "output_type": "execute_result"
    }
   ],
   "source": [
    "import json\n",
    "\n",
    "with open(os.path.join(data_dir, 'US_category_id.json'), mode='r') as file:\n",
    "    us_category_id_dict = json.loads(file.read())\n",
    "\n",
    "us_categories = {}\n",
    "for category in us_category_id_dict['items']:\n",
    "    us_categories[category['id']] = category['snippet']['title']\n",
    "\n",
    "us_categories"
   ]
  },
  {
   "cell_type": "code",
   "execution_count": 22,
   "metadata": {
    "colab": {
     "base_uri": "https://localhost:8080/"
    },
    "id": "Up7KodFmbjUb",
    "outputId": "e1bd0628-fc93-4487-f6f0-eb44d838ea42",
    "pycharm": {
     "name": "#%%\n"
    }
   },
   "outputs": [
    {
     "data": {
      "text/plain": "32"
     },
     "execution_count": 22,
     "metadata": {},
     "output_type": "execute_result"
    }
   ],
   "source": [
    "len(us_categories)"
   ]
  },
  {
   "cell_type": "markdown",
   "metadata": {
    "id": "XlvdTIowblW8",
    "pycharm": {
     "name": "#%% md\n"
    }
   },
   "source": [
    "Z analizy wynika, że używane jest 15 kategorii, a w pliku JSON dostarczone zostało 32 kategorie.\n",
    "17 kategorii jest nieużywanych."
   ]
  },
  {
   "cell_type": "code",
   "execution_count": 23,
   "metadata": {
    "colab": {
     "base_uri": "https://localhost:8080/"
    },
    "id": "OruHm4FSIiig",
    "outputId": "d864deb2-9cf4-4510-c506-2422dd509d08",
    "pycharm": {
     "name": "#%%\n"
    }
   },
   "outputs": [
    {
     "data": {
      "text/plain": "0               \n1         Gaming\n2               \n3               \n4               \n           ...  \n115386          \n115387          \n115388          \n115389          \n115390          \nName: category, Length: 115341, dtype: object"
     },
     "execution_count": 23,
     "metadata": {},
     "output_type": "execute_result"
    }
   ],
   "source": [
    "us_trending_df['category'] = us_trending_df['categoryId']\n",
    "us_trending_df['category'] = us_trending_df['category'].apply(us_categories.get).replace(np.NaN, '')\n",
    "us_trending_df['category']"
   ]
  },
  {
   "cell_type": "code",
   "execution_count": 24,
   "metadata": {
    "colab": {
     "base_uri": "https://localhost:8080/",
     "height": 520
    },
    "id": "IwBBGQiqGH6U",
    "outputId": "455015ff-511d-4ce4-ffd2-ae8506da6fc8",
    "pycharm": {
     "name": "#%%\n"
    }
   },
   "outputs": [
    {
     "data": {
      "text/plain": "                 category  counts\n0                           92328\n1        Autos & Vehicles     359\n2                  Comedy    1305\n3               Education     534\n4           Entertainment    4553\n5        Film & Animation    1003\n6                  Gaming    4030\n7           Howto & Style     760\n8                   Music    4115\n9         News & Politics     894\n10  Nonprofits & Activism      11\n11         People & Blogs    2063\n12         Pets & Animals      66\n13   Science & Technology     699\n14                 Sports    2527\n15        Travel & Events      94",
      "text/html": "<div>\n<style scoped>\n    .dataframe tbody tr th:only-of-type {\n        vertical-align: middle;\n    }\n\n    .dataframe tbody tr th {\n        vertical-align: top;\n    }\n\n    .dataframe thead th {\n        text-align: right;\n    }\n</style>\n<table border=\"1\" class=\"dataframe\">\n  <thead>\n    <tr style=\"text-align: right;\">\n      <th></th>\n      <th>category</th>\n      <th>counts</th>\n    </tr>\n  </thead>\n  <tbody>\n    <tr>\n      <th>0</th>\n      <td></td>\n      <td>92328</td>\n    </tr>\n    <tr>\n      <th>1</th>\n      <td>Autos &amp; Vehicles</td>\n      <td>359</td>\n    </tr>\n    <tr>\n      <th>2</th>\n      <td>Comedy</td>\n      <td>1305</td>\n    </tr>\n    <tr>\n      <th>3</th>\n      <td>Education</td>\n      <td>534</td>\n    </tr>\n    <tr>\n      <th>4</th>\n      <td>Entertainment</td>\n      <td>4553</td>\n    </tr>\n    <tr>\n      <th>5</th>\n      <td>Film &amp; Animation</td>\n      <td>1003</td>\n    </tr>\n    <tr>\n      <th>6</th>\n      <td>Gaming</td>\n      <td>4030</td>\n    </tr>\n    <tr>\n      <th>7</th>\n      <td>Howto &amp; Style</td>\n      <td>760</td>\n    </tr>\n    <tr>\n      <th>8</th>\n      <td>Music</td>\n      <td>4115</td>\n    </tr>\n    <tr>\n      <th>9</th>\n      <td>News &amp; Politics</td>\n      <td>894</td>\n    </tr>\n    <tr>\n      <th>10</th>\n      <td>Nonprofits &amp; Activism</td>\n      <td>11</td>\n    </tr>\n    <tr>\n      <th>11</th>\n      <td>People &amp; Blogs</td>\n      <td>2063</td>\n    </tr>\n    <tr>\n      <th>12</th>\n      <td>Pets &amp; Animals</td>\n      <td>66</td>\n    </tr>\n    <tr>\n      <th>13</th>\n      <td>Science &amp; Technology</td>\n      <td>699</td>\n    </tr>\n    <tr>\n      <th>14</th>\n      <td>Sports</td>\n      <td>2527</td>\n    </tr>\n    <tr>\n      <th>15</th>\n      <td>Travel &amp; Events</td>\n      <td>94</td>\n    </tr>\n  </tbody>\n</table>\n</div>"
     },
     "execution_count": 24,
     "metadata": {},
     "output_type": "execute_result"
    }
   ],
   "source": [
    "category_counts = us_trending_df.groupby([\"category\"]).size().reset_index(name='counts')\n",
    "category_counts"
   ]
  },
  {
   "cell_type": "code",
   "execution_count": 25,
   "metadata": {
    "colab": {
     "base_uri": "https://localhost:8080/",
     "height": 395
    },
    "id": "fCOdn3qcGWA8",
    "outputId": "5db0d9a2-6204-43e9-f781-bcfbc541d47f",
    "pycharm": {
     "name": "#%%\n"
    }
   },
   "outputs": [
    {
     "data": {
      "text/plain": "<AxesSubplot:xlabel='category'>"
     },
     "execution_count": 25,
     "metadata": {},
     "output_type": "execute_result"
    },
    {
     "data": {
      "text/plain": "<Figure size 432x288 with 1 Axes>",
      "image/png": "[encoded data removed]"
     },
     "metadata": {
      "needs_background": "light"
     },
     "output_type": "display_data"
    }
   ],
   "source": [
    "category_counts.plot(x='category', y='counts', kind='bar', logy=True)"
   ]
  },
  {
   "cell_type": "markdown",
   "metadata": {
    "id": "G_c88JObbnAU",
    "pycharm": {
     "name": "#%% md\n"
    }
   },
   "source": [
    "## Analiza tytułów"
   ]
  },
  {
   "cell_type": "code",
   "execution_count": 26,
   "metadata": {
    "id": "e4oIfvm0bpaE",
    "pycharm": {
     "name": "#%%\n"
    }
   },
   "outputs": [],
   "source": [
    "from sklearn.feature_extraction.text import CountVectorizer\n",
    "\n",
    "vectorizer = CountVectorizer(strip_accents='unicode', stop_words='english')"
   ]
  },
  {
   "cell_type": "code",
   "execution_count": 27,
   "metadata": {
    "colab": {
     "base_uri": "https://localhost:8080/",
     "height": 424
    },
    "id": "3WUKRZWRbp4d",
    "outputId": "2b8a926f-423d-4c6a-cd76-470382b6d8cc",
    "pycharm": {
     "name": "#%%\n"
    }
   },
   "outputs": [
    {
     "data": {
      "text/plain": "         token  count\n0           00     22\n1          000   1988\n2      0000001      5\n3       000cal      6\n4       000fps     24\n...        ...    ...\n17772    zouma      3\n17773     zuko     11\n17774   zverev      8\n17775       zy      4\n17776       zz      5\n\n[17777 rows x 2 columns]",
      "text/html": "<div>\n<style scoped>\n    .dataframe tbody tr th:only-of-type {\n        vertical-align: middle;\n    }\n\n    .dataframe tbody tr th {\n        vertical-align: top;\n    }\n\n    .dataframe thead th {\n        text-align: right;\n    }\n</style>\n<table border=\"1\" class=\"dataframe\">\n  <thead>\n    <tr style=\"text-align: right;\">\n      <th></th>\n      <th>token</th>\n      <th>count</th>\n    </tr>\n  </thead>\n  <tbody>\n    <tr>\n      <th>0</th>\n      <td>00</td>\n      <td>22</td>\n    </tr>\n    <tr>\n      <th>1</th>\n      <td>000</td>\n      <td>1988</td>\n    </tr>\n    <tr>\n      <th>2</th>\n      <td>0000001</td>\n      <td>5</td>\n    </tr>\n    <tr>\n      <th>3</th>\n      <td>000cal</td>\n      <td>6</td>\n    </tr>\n    <tr>\n      <th>4</th>\n      <td>000fps</td>\n      <td>24</td>\n    </tr>\n    <tr>\n      <th>...</th>\n      <td>...</td>\n      <td>...</td>\n    </tr>\n    <tr>\n      <th>17772</th>\n      <td>zouma</td>\n      <td>3</td>\n    </tr>\n    <tr>\n      <th>17773</th>\n      <td>zuko</td>\n      <td>11</td>\n    </tr>\n    <tr>\n      <th>17774</th>\n      <td>zverev</td>\n      <td>8</td>\n    </tr>\n    <tr>\n      <th>17775</th>\n      <td>zy</td>\n      <td>4</td>\n    </tr>\n    <tr>\n      <th>17776</th>\n      <td>zz</td>\n      <td>5</td>\n    </tr>\n  </tbody>\n</table>\n<p>17777 rows × 2 columns</p>\n</div>"
     },
     "execution_count": 27,
     "metadata": {},
     "output_type": "execute_result"
    }
   ],
   "source": [
    "titles_vectorized_csr = vectorizer.fit_transform(us_trending_df['title'])\n",
    "token_count_sum = titles_vectorized_csr.sum(axis=0).A1\n",
    "tokens = vectorizer.get_feature_names_out()\n",
    "df_dict = {'token': tokens, 'count': token_count_sum}\n",
    "token_count_df = pd.DataFrame(df_dict)\n",
    "token_count_df"
   ]
  },
  {
   "cell_type": "code",
   "execution_count": 28,
   "metadata": {
    "colab": {
     "base_uri": "https://localhost:8080/"
    },
    "id": "frAA-0kwbrzs",
    "outputId": "ad41c1c4-9833-4d13-df64-5db8adfe5754",
    "pycharm": {
     "name": "#%%\n"
    }
   },
   "outputs": [
    {
     "name": "stdout",
     "output_type": "stream",
     "text": [
      "         token  count\n",
      "0     official  14667\n",
      "1        video  12985\n",
      "2           vs   6268\n",
      "3    minecraft   5261\n",
      "4        music   4751\n",
      "5         2021   4653\n",
      "6      trailer   4610\n",
      "7   highlights   4476\n",
      "8       shorts   4073\n",
      "9          new   3879\n",
      "10        game   3223\n",
      "11          ft   3152\n",
      "12        2020   2790\n",
      "13      season   2146\n",
      "14         lil   2085\n",
      "15       world   2013\n",
      "16         000   1988\n",
      "17        feat   1957\n",
      "18         day   1803\n",
      "19        live   1802\n",
      "20        life   1692\n",
      "21    fortnite   1640\n",
      "22          10   1519\n",
      "23     episode   1501\n",
      "24         nba   1500\n",
      "25        best   1488\n",
      "26        baby   1478\n",
      "27       audio   1476\n",
      "28         100   1470\n",
      "29   challenge   1363\n",
      "30     oficial   1351\n",
      "31       house   1303\n",
      "32        home   1245\n",
      "33       night   1238\n",
      "34         got   1203\n",
      "35      teaser   1182\n",
      "36      sports   1155\n",
      "37        time   1146\n",
      "38         man   1120\n",
      "39       dream   1103\n",
      "40      reacts   1087\n",
      "41      update   1073\n",
      "42         nfl   1048\n",
      "43      reveal   1035\n",
      "44        days   1019\n",
      "45        week   1011\n",
      "46         bts    983\n",
      "47        real    970\n",
      "48      review    940\n",
      "49         don    913\n",
      "50         big    881\n",
      "51       final    871\n",
      "52      theory    853\n",
      "53          ep    852\n",
      "54        like    838\n",
      "55       fight    831\n",
      "56    reaction    827\n",
      "57      league    826\n",
      "58        love    806\n",
      "59          el    804\n",
      "60          12    797\n",
      "61         win    793\n",
      "62      friday    789\n",
      "63     legends    782\n",
      "64          21    781\n",
      "65       remix    780\n",
      "66          mv    776\n",
      "67         ufc    763\n",
      "68        2022    761\n",
      "69      people    760\n",
      "70       black    758\n",
      "71        paul    758\n",
      "72        make    755\n",
      "73       super    754\n",
      "74      family    742\n",
      "75      things    741\n",
      "76      battle    741\n",
      "77     friends    740\n",
      "78         car    740\n",
      "79        news    728\n",
      "80     pokemon    728\n",
      "81   christmas    719\n",
      "82      series    715\n",
      "83    hardcore    712\n",
      "84        food    700\n",
      "85          la    697\n",
      "86        tour    692\n",
      "87   animation    689\n",
      "88         bad    687\n",
      "89    happened    686\n",
      "90          20    686\n",
      "91         mod    683\n",
      "92      inside    679\n",
      "93      iphone    677\n",
      "94       hours    673\n",
      "95        year    668\n",
      "96        test    663\n",
      "97          24    649\n",
      "98       lyric    646\n",
      "99        star    642\n"
     ]
    }
   ],
   "source": [
    "top_words = token_count_df.sort_values(by=['count'], ascending=False).head(100).reset_index(drop=True)\n",
    "print(top_words.to_string())"
   ]
  },
  {
   "cell_type": "markdown",
   "metadata": {
    "id": "0WohFBGubtsT",
    "pycharm": {
     "name": "#%% md\n"
    }
   },
   "source": [
    "Notatka:\n",
    "* Można wpisać słowa jako cechy i potem usuwać metodami z wykładu\n",
    "* Przydałby się ranking informatywności.\n",
    "* Można użyć słownika z kategoriami"
   ]
  },
  {
   "cell_type": "markdown",
   "metadata": {
    "id": "LEB-Ee7qJOZL",
    "pycharm": {
     "name": "#%% md\n"
    }
   },
   "source": [
    "## Analiza tagów"
   ]
  },
  {
   "cell_type": "code",
   "execution_count": 29,
   "metadata": {
    "id": "gBQIoBz_JNbe",
    "pycharm": {
     "name": "#%%\n"
    }
   },
   "outputs": [],
   "source": [
    "vectorizer = CountVectorizer(strip_accents='unicode', token_pattern=r'[^|]+')"
   ]
  },
  {
   "cell_type": "code",
   "execution_count": 30,
   "metadata": {
    "colab": {
     "base_uri": "https://localhost:8080/",
     "height": 424
    },
    "id": "fo3g_x0BJjmk",
    "outputId": "9379c9b6-f9db-48b3-e6f7-d030b06e40e9",
    "pycharm": {
     "name": "#%%\n"
    }
   },
   "outputs": [
    {
     "data": {
      "text/plain": "                               token  count\n0                            #shorts     31\n1                           #shorts       2\n2                           1st odi       7\n3                  5 guys vs 5 girls     20\n4                                  ?     51\n...                              ...    ...\n117593                        “golf”      7\n117594                       “gordon      6\n117595                          “raj      6\n117596                        “ron’s      6\n117597  “tomato soup” by hark madley      6\n\n[117598 rows x 2 columns]",
      "text/html": "<div>\n<style scoped>\n    .dataframe tbody tr th:only-of-type {\n        vertical-align: middle;\n    }\n\n    .dataframe tbody tr th {\n        vertical-align: top;\n    }\n\n    .dataframe thead th {\n        text-align: right;\n    }\n</style>\n<table border=\"1\" class=\"dataframe\">\n  <thead>\n    <tr style=\"text-align: right;\">\n      <th></th>\n      <th>token</th>\n      <th>count</th>\n    </tr>\n  </thead>\n  <tbody>\n    <tr>\n      <th>0</th>\n      <td>#shorts</td>\n      <td>31</td>\n    </tr>\n    <tr>\n      <th>1</th>\n      <td>#shorts</td>\n      <td>2</td>\n    </tr>\n    <tr>\n      <th>2</th>\n      <td>1st odi</td>\n      <td>7</td>\n    </tr>\n    <tr>\n      <th>3</th>\n      <td>5 guys vs 5 girls</td>\n      <td>20</td>\n    </tr>\n    <tr>\n      <th>4</th>\n      <td>?</td>\n      <td>51</td>\n    </tr>\n    <tr>\n      <th>...</th>\n      <td>...</td>\n      <td>...</td>\n    </tr>\n    <tr>\n      <th>117593</th>\n      <td>“golf”</td>\n      <td>7</td>\n    </tr>\n    <tr>\n      <th>117594</th>\n      <td>“gordon</td>\n      <td>6</td>\n    </tr>\n    <tr>\n      <th>117595</th>\n      <td>“raj</td>\n      <td>6</td>\n    </tr>\n    <tr>\n      <th>117596</th>\n      <td>“ron’s</td>\n      <td>6</td>\n    </tr>\n    <tr>\n      <th>117597</th>\n      <td>“tomato soup” by hark madley</td>\n      <td>6</td>\n    </tr>\n  </tbody>\n</table>\n<p>117598 rows × 2 columns</p>\n</div>"
     },
     "execution_count": 30,
     "metadata": {},
     "output_type": "execute_result"
    }
   ],
   "source": [
    "tags_vectorized_csr = vectorizer.fit_transform(us_trending_df['tags'])\n",
    "token_count_sum = tags_vectorized_csr.sum(axis=0).A1\n",
    "tokens = vectorizer.get_feature_names_out()\n",
    "df_dict = {'token': tokens, 'count': token_count_sum}\n",
    "token_count_df = pd.DataFrame(df_dict)\n",
    "token_count_df"
   ]
  },
  {
   "cell_type": "code",
   "execution_count": 31,
   "metadata": {
    "colab": {
     "base_uri": "https://localhost:8080/"
    },
    "id": "W7loSPM9JkI-",
    "outputId": "c6170b26-fe5a-45b2-9364-59900701c2e3",
    "pycharm": {
     "name": "#%%\n"
    }
   },
   "outputs": [
    {
     "name": "stdout",
     "output_type": "stream",
     "text": [
      "                     token  count\n",
      "0                       ??  11142\n",
      "1                    funny   8115\n",
      "2                      ???   7397\n",
      "3                minecraft   5564\n",
      "4                   comedy   5235\n",
      "5                challenge   3359\n",
      "6                      rap   3331\n",
      "7                     ????   3214\n",
      "8                     vlog   2934\n",
      "9                     news   2864\n",
      "10                football   2854\n",
      "11                   music   2749\n",
      "12                 hip hop   2686\n",
      "13              highlights   2648\n",
      "14                  tiktok   2376\n",
      "15                  gaming   2354\n",
      "16               animation   2348\n",
      "17                fortnite   2186\n",
      "18                     nba   2160\n",
      "19                  family   2111\n",
      "20                  sports   2066\n",
      "21                   ?????   1934\n",
      "22                     new   1888\n",
      "23         family friendly   1888\n",
      "24                  how to   1801\n",
      "25                reaction   1731\n",
      "26                   video   1696\n",
      "27                 trailer   1661\n",
      "28                    game   1660\n",
      "29              basketball   1608\n",
      "30                  ??????   1581\n",
      "31                  soccer   1502\n",
      "32                     diy   1488\n",
      "33     minecraft challenge   1472\n",
      "34                  shorts   1400\n",
      "35                     fun   1385\n",
      "36             music video   1369\n",
      "37           minecraft but   1356\n",
      "38                 tik tok   1352\n",
      "39                    2020   1343\n",
      "40                     nfl   1332\n",
      "41                   dream   1331\n",
      "42                  review   1320\n",
      "43                    live   1303\n",
      "44                gameplay   1293\n",
      "45           entertainment   1260\n",
      "46                 science   1257\n",
      "47                    2021   1247\n",
      "48                     pop   1241\n",
      "49                     bts   1214\n",
      "50                  boxing   1198\n",
      "51                    play   1148\n",
      "52               highlight   1140\n",
      "53                among us   1116\n",
      "54                 records   1113\n",
      "55               interview   1102\n",
      "56                     ufc   1088\n",
      "57                  marvel   1068\n",
      "58                   viral   1049\n",
      "59                    espn   1040\n",
      "60                tutorial   1039\n",
      "61  fortnite battle royale   1031\n",
      "62                   ?? ??   1025\n",
      "63                     the   1012\n",
      "64                  parody    998\n",
      "65                    food    993\n",
      "66      minecraft hardcore    961\n",
      "67                nintendo    944\n",
      "68               education    934\n",
      "69             video games    919\n",
      "70                   sport    914\n",
      "71                   games    911\n",
      "72                lil durk    899\n",
      "73                 youtube    898\n",
      "74                    meme    885\n",
      "75                   laugh    867\n",
      "76           james charles    860\n",
      "77                   humor    852\n",
      "78                 cartoon    845\n",
      "79                trending    839\n",
      "80           battle royale    832\n",
      "81                reacting    820\n",
      "82                  action    818\n",
      "83                   prank    812\n",
      "84                    kpop    811\n",
      "85              tommyinnit    799\n",
      "86                  ??? ??    786\n",
      "87        atlantic records    782\n",
      "88                     mma    770\n",
      "89              mine craft    763\n",
      "90                  teaser    762\n",
      "91                  disney    762\n",
      "92                   memes    757\n",
      "93               hilarious    757\n",
      "94                 defense    757\n",
      "95                 cooking    755\n",
      "96               ?????????    750\n",
      "97              experiment    749\n",
      "98            funny videos    747\n",
      "99                   plays    746\n"
     ]
    }
   ],
   "source": [
    "top_tags = token_count_df.sort_values(by=['count'], ascending=False).head(100).reset_index(drop=True)\n",
    "print(top_tags.to_string())"
   ]
  },
  {
   "cell_type": "markdown",
   "metadata": {
    "id": "pvAzmU5MbvAj",
    "pycharm": {
     "name": "#%% md\n"
    }
   },
   "source": [
    "# Inne atrybuty"
   ]
  },
  {
   "cell_type": "markdown",
   "metadata": {
    "id": "y76yDLgIpUaH",
    "pycharm": {
     "name": "#%% md\n"
    }
   },
   "source": [
    "## Nowe atrybuty na podstawie atrybutów tekstowych"
   ]
  },
  {
   "cell_type": "code",
   "execution_count": 32,
   "metadata": {
    "colab": {
     "base_uri": "https://localhost:8080/",
     "height": 282
    },
    "id": "WbBhEoY-ocA9",
    "outputId": "8850d7a6-aec4-400c-9848-074dc94d922d",
    "pycharm": {
     "name": "#%%\n"
    }
   },
   "outputs": [
    {
     "data": {
      "text/plain": "<AxesSubplot:>"
     },
     "execution_count": 32,
     "metadata": {},
     "output_type": "execute_result"
    },
    {
     "data": {
      "text/plain": "<Figure size 432x288 with 1 Axes>",
      "image/png": "[encoded data removed]"
     },
     "metadata": {
      "needs_background": "light"
     },
     "output_type": "display_data"
    }
   ],
   "source": [
    "us_trending_df['title_length'] = us_trending_df['title'].str.len()\n",
    "us_trending_df['title_length'].hist()"
   ]
  },
  {
   "cell_type": "code",
   "execution_count": 33,
   "metadata": {
    "colab": {
     "base_uri": "https://localhost:8080/",
     "height": 282
    },
    "id": "Pqdbwo9joa35",
    "outputId": "660f2512-59a8-4263-9ce3-8fd224eb8466",
    "pycharm": {
     "name": "#%%\n"
    }
   },
   "outputs": [
    {
     "data": {
      "text/plain": "<AxesSubplot:>"
     },
     "execution_count": 33,
     "metadata": {},
     "output_type": "execute_result"
    },
    {
     "data": {
      "text/plain": "<Figure size 432x288 with 1 Axes>",
      "image/png": "[encoded data removed]"
     },
     "metadata": {
      "needs_background": "light"
     },
     "output_type": "display_data"
    }
   ],
   "source": [
    "us_trending_df['title_capital_letters'] = us_trending_df['title'].str.count(r'[A-Z]') / us_trending_df['title_length']\n",
    "us_trending_df['title_capital_letters'].hist()"
   ]
  },
  {
   "cell_type": "code",
   "execution_count": 34,
   "metadata": {
    "colab": {
     "base_uri": "https://localhost:8080/",
     "height": 282
    },
    "id": "L64dug0uoaLb",
    "outputId": "f73be96e-d7ca-4ec9-b1dd-743b66bb0200",
    "pycharm": {
     "name": "#%%\n"
    }
   },
   "outputs": [
    {
     "data": {
      "text/plain": "<AxesSubplot:>"
     },
     "execution_count": 34,
     "metadata": {},
     "output_type": "execute_result"
    },
    {
     "data": {
      "text/plain": "<Figure size 432x288 with 1 Axes>",
      "image/png": "[encoded data removed]"
     },
     "metadata": {
      "needs_background": "light"
     },
     "output_type": "display_data"
    }
   ],
   "source": [
    "PUNCTUATION_REGEX = r'[!\"#$%&\\'()*+,-./:;<=>?@[\\]^_`{|}~]'\n",
    "\n",
    "us_trending_df['title_punctuation'] = us_trending_df['title'].str.count(PUNCTUATION_REGEX) / us_trending_df['title_length']\n",
    "us_trending_df['title_punctuation'].hist()"
   ]
  },
  {
   "cell_type": "code",
   "execution_count": 35,
   "metadata": {
    "colab": {
     "base_uri": "https://localhost:8080/",
     "height": 282
    },
    "id": "MYV1P9g3oZhV",
    "outputId": "3eaede9d-990b-4003-f170-7f4707f1cad0",
    "pycharm": {
     "name": "#%%\n"
    }
   },
   "outputs": [
    {
     "data": {
      "text/plain": "<AxesSubplot:>"
     },
     "execution_count": 35,
     "metadata": {},
     "output_type": "execute_result"
    },
    {
     "data": {
      "text/plain": "<Figure size 432x288 with 1 Axes>",
      "image/png": "[encoded data removed]"
     },
     "metadata": {
      "needs_background": "light"
     },
     "output_type": "display_data"
    }
   ],
   "source": [
    "us_trending_df['description_height'] = us_trending_df['description'].str.count(r'[\\r\\n]')\n",
    "us_trending_df['description_height'].hist(log=True)"
   ]
  },
  {
   "cell_type": "code",
   "execution_count": 36,
   "metadata": {
    "colab": {
     "base_uri": "https://localhost:8080/",
     "height": 282
    },
    "id": "YxPtPtiCLW_G",
    "outputId": "1bd74841-7ee2-4ea6-8e48-a261ae1ddc2d",
    "pycharm": {
     "name": "#%%\n"
    }
   },
   "outputs": [
    {
     "data": {
      "text/plain": "<AxesSubplot:>"
     },
     "execution_count": 36,
     "metadata": {},
     "output_type": "execute_result"
    },
    {
     "data": {
      "text/plain": "<Figure size 432x288 with 1 Axes>",
      "image/png": "[encoded data removed]"
     },
     "metadata": {
      "needs_background": "light"
     },
     "output_type": "display_data"
    }
   ],
   "source": [
    "us_trending_df['description_length'] = us_trending_df['description'].str.len()\n",
    "us_trending_df['description_length'].hist()"
   ]
  },
  {
   "cell_type": "code",
   "execution_count": 37,
   "metadata": {
    "colab": {
     "base_uri": "https://localhost:8080/",
     "height": 282
    },
    "id": "cTCatzPBoY9o",
    "outputId": "f0c888c9-e973-42e5-dcf4-c22beb9ffa54",
    "pycharm": {
     "name": "#%%\n"
    }
   },
   "outputs": [
    {
     "data": {
      "text/plain": "<AxesSubplot:>"
     },
     "execution_count": 37,
     "metadata": {},
     "output_type": "execute_result"
    },
    {
     "data": {
      "text/plain": "<Figure size 432x288 with 1 Axes>",
      "image/png": "[encoded data removed]"
     },
     "metadata": {
      "needs_background": "light"
     },
     "output_type": "display_data"
    }
   ],
   "source": [
    "us_trending_df['description_link_count'] = us_trending_df['description'].str.count(r'://')\n",
    "us_trending_df['description_link_count'].hist(log=True)"
   ]
  },
  {
   "cell_type": "markdown",
   "metadata": {
    "id": "SXO_mI2DTaP2",
    "pycharm": {
     "name": "#%% md\n"
    }
   },
   "source": [
    "Notatka: można podzielić linki na kategorie"
   ]
  },
  {
   "cell_type": "code",
   "execution_count": 38,
   "metadata": {
    "colab": {
     "base_uri": "https://localhost:8080/",
     "height": 282
    },
    "id": "0BzacklzbAep",
    "outputId": "12f6429f-8566-47fe-b686-443abc4160ce",
    "pycharm": {
     "name": "#%%\n"
    }
   },
   "outputs": [
    {
     "data": {
      "text/plain": "<AxesSubplot:>"
     },
     "execution_count": 38,
     "metadata": {},
     "output_type": "execute_result"
    },
    {
     "data": {
      "text/plain": "<Figure size 432x288 with 1 Axes>",
      "image/png": "[encoded data removed]"
     },
     "metadata": {
      "needs_background": "light"
     },
     "output_type": "display_data"
    }
   ],
   "source": [
    "us_trending_df['tag_count'] = us_trending_df['tags'].apply(lambda tags: 0 if tags == '' else tags.count('|') + 1)\n",
    "us_trending_df['tag_count'].hist()"
   ]
  },
  {
   "cell_type": "markdown",
   "metadata": {
    "id": "cW9ZFYLGpjvI",
    "pycharm": {
     "name": "#%% md\n"
    }
   },
   "source": [
    "## Nowe atrybuty na podstawie dat"
   ]
  },
  {
   "cell_type": "code",
   "execution_count": 39,
   "metadata": {
    "colab": {
     "base_uri": "https://localhost:8080/",
     "height": 282
    },
    "id": "VM94mDWlbykV",
    "outputId": "97227109-1121-4bae-f0b1-7b9e8f1c3bba",
    "pycharm": {
     "name": "#%%\n"
    }
   },
   "outputs": [
    {
     "data": {
      "text/plain": "<AxesSubplot:>"
     },
     "execution_count": 39,
     "metadata": {},
     "output_type": "execute_result"
    },
    {
     "data": {
      "text/plain": "<Figure size 432x288 with 1 Axes>",
      "image/png": "[encoded data removed]"
     },
     "metadata": {
      "needs_background": "light"
     },
     "output_type": "display_data"
    }
   ],
   "source": [
    "us_trending_df['publishedAtHour'] = us_trending_df['publishedAt'].dt.hour\n",
    "us_trending_df['publishedAtHour'].hist()"
   ]
  },
  {
   "cell_type": "code",
   "execution_count": 40,
   "metadata": {
    "colab": {
     "base_uri": "https://localhost:8080/",
     "height": 285
    },
    "id": "a1CLe8qjeNx7",
    "outputId": "7a27b8de-ef30-46e4-b31e-647c7f590356",
    "pycharm": {
     "name": "#%%\n"
    }
   },
   "outputs": [
    {
     "data": {
      "text/plain": "<AxesSubplot:>"
     },
     "execution_count": 40,
     "metadata": {},
     "output_type": "execute_result"
    },
    {
     "data": {
      "text/plain": "<Figure size 432x288 with 1 Axes>",
      "image/png": "[encoded data removed]"
     },
     "metadata": {
      "needs_background": "light"
     },
     "output_type": "display_data"
    }
   ],
   "source": [
    "us_trending_df['publishedAtDay'] = us_trending_df['publishedAt'].dt.weekday\n",
    "us_trending_df['publishedAtDay'].hist()"
   ]
  },
  {
   "cell_type": "code",
   "execution_count": 41,
   "metadata": {
    "colab": {
     "base_uri": "https://localhost:8080/",
     "height": 282
    },
    "id": "eC_pimWzHYP9",
    "outputId": "aaf2e0fd-29d1-49ed-cb83-791eeb8f1fb6",
    "pycharm": {
     "name": "#%%\n"
    }
   },
   "outputs": [
    {
     "data": {
      "text/plain": "<AxesSubplot:>"
     },
     "execution_count": 41,
     "metadata": {},
     "output_type": "execute_result"
    },
    {
     "data": {
      "text/plain": "<Figure size 432x288 with 1 Axes>",
      "image/png": "[encoded data removed]"
     },
     "metadata": {
      "needs_background": "light"
     },
     "output_type": "display_data"
    }
   ],
   "source": [
    "us_trending_df['publishedAtMonth'] = us_trending_df['publishedAt'].dt.month\n",
    "us_trending_df['publishedAtMonth'].hist()"
   ]
  },
  {
   "cell_type": "markdown",
   "metadata": {
    "id": "0dpksIXPeREG",
    "pycharm": {
     "name": "#%% md\n"
    }
   },
   "source": [
    "Notatka:\n",
    "* Warto się przyjrzeć miesiącom publikacji"
   ]
  },
  {
   "cell_type": "code",
   "execution_count": 42,
   "metadata": {
    "colab": {
     "base_uri": "https://localhost:8080/",
     "height": 143
    },
    "id": "EOerBdNHfu97",
    "outputId": "befd736d-8c74-4e86-ee44-f090a768bef9",
    "pycharm": {
     "name": "#%%\n"
    }
   },
   "outputs": [
    {
     "data": {
      "text/plain": "Empty DataFrame\nColumns: [video_id, title, publishedAt, channelId, channelTitle, categoryId, trending_date, tags, view_count, likes, comment_count, thumbnail_link, comments_disabled, ratings_disabled, description, likes_to_view_count_ratio, comment_count_to_view_count_ratio, category, title_length, title_capital_letters, title_punctuation, description_height, description_length, description_link_count, tag_count, publishedAtHour, publishedAtDay, publishedAtMonth, publishedAtHoliday]\nIndex: []\n\n[0 rows x 29 columns]",
      "text/html": "<div>\n<style scoped>\n    .dataframe tbody tr th:only-of-type {\n        vertical-align: middle;\n    }\n\n    .dataframe tbody tr th {\n        vertical-align: top;\n    }\n\n    .dataframe thead th {\n        text-align: right;\n    }\n</style>\n<table border=\"1\" class=\"dataframe\">\n  <thead>\n    <tr style=\"text-align: right;\">\n      <th></th>\n      <th>video_id</th>\n      <th>title</th>\n      <th>publishedAt</th>\n      <th>channelId</th>\n      <th>channelTitle</th>\n      <th>categoryId</th>\n      <th>trending_date</th>\n      <th>tags</th>\n      <th>view_count</th>\n      <th>likes</th>\n      <th>...</th>\n      <th>title_capital_letters</th>\n      <th>title_punctuation</th>\n      <th>description_height</th>\n      <th>description_length</th>\n      <th>description_link_count</th>\n      <th>tag_count</th>\n      <th>publishedAtHour</th>\n      <th>publishedAtDay</th>\n      <th>publishedAtMonth</th>\n      <th>publishedAtHoliday</th>\n    </tr>\n  </thead>\n  <tbody>\n  </tbody>\n</table>\n<p>0 rows × 29 columns</p>\n</div>"
     },
     "execution_count": 42,
     "metadata": {},
     "output_type": "execute_result"
    }
   ],
   "source": [
    "from pandas.tseries.holiday import USFederalHolidayCalendar\n",
    "\n",
    "cal = USFederalHolidayCalendar()\n",
    "min_date = us_trending_df['publishedAt'].min()\n",
    "max_date = us_trending_df['publishedAt'].max()\n",
    "\n",
    "holidays = cal.holidays(start=min_date, end=max_date)\n",
    "us_trending_df['publishedAtHoliday'] = us_trending_df['publishedAt'].apply(lambda date: date in holidays)\n",
    "us_trending_df[us_trending_df['publishedAtHoliday']]"
   ]
  },
  {
   "cell_type": "markdown",
   "metadata": {
    "id": "30xVQ5A9TtGG",
    "pycharm": {
     "name": "#%% md\n"
    }
   },
   "source": [
    "Filmiki z listy trending nie były publikowane z święta.\n",
    "\n",
    "Notatka:\n",
    "* można spróbować dzień przed/po świętach"
   ]
  },
  {
   "cell_type": "markdown",
   "metadata": {
    "id": "Qu4waP24eXm3",
    "pycharm": {
     "name": "#%% md\n"
    }
   },
   "source": [
    "Notatka końcowa:\n",
    "* Warto sprawdzić rozkłady dla różnych kategorii filmików"
   ]
  },
  {
   "cell_type": "markdown",
   "metadata": {
    "id": "JsEXiL8jpudE",
    "pycharm": {
     "name": "#%% md\n"
    }
   },
   "source": [
    "# Usuwanie kolumn"
   ]
  },
  {
   "cell_type": "code",
   "execution_count": 43,
   "metadata": {
    "colab": {
     "base_uri": "https://localhost:8080/"
    },
    "id": "s0wSxUmwf1_k",
    "outputId": "a110f8fb-77c9-429c-e3f8-9e920373702b",
    "pycharm": {
     "name": "#%%\n"
    }
   },
   "outputs": [
    {
     "name": "stdout",
     "output_type": "stream",
     "text": [
      "<class 'pandas.core.frame.DataFrame'>\n",
      "Int64Index: 115341 entries, 0 to 115390\n",
      "Data columns (total 29 columns):\n",
      " #   Column                             Non-Null Count   Dtype         \n",
      "---  ------                             --------------   -----         \n",
      " 0   video_id                           115341 non-null  object        \n",
      " 1   title                              115341 non-null  object        \n",
      " 2   publishedAt                        115341 non-null  datetime64[ns]\n",
      " 3   channelId                          115341 non-null  object        \n",
      " 4   channelTitle                       115341 non-null  object        \n",
      " 5   categoryId                         115341 non-null  object        \n",
      " 6   trending_date                      115341 non-null  datetime64[ns]\n",
      " 7   tags                               115341 non-null  object        \n",
      " 8   view_count                         115341 non-null  int64         \n",
      " 9   likes                              115341 non-null  int64         \n",
      " 10  comment_count                      115341 non-null  int64         \n",
      " 11  thumbnail_link                     115341 non-null  object        \n",
      " 12  comments_disabled                  115341 non-null  bool          \n",
      " 13  ratings_disabled                   115341 non-null  bool          \n",
      " 14  description                        115341 non-null  object        \n",
      " 15  likes_to_view_count_ratio          115341 non-null  float64       \n",
      " 16  comment_count_to_view_count_ratio  115341 non-null  float64       \n",
      " 17  category                           115341 non-null  object        \n",
      " 18  title_length                       115341 non-null  int64         \n",
      " 19  title_capital_letters              115341 non-null  float64       \n",
      " 20  title_punctuation                  115341 non-null  float64       \n",
      " 21  description_height                 115341 non-null  int64         \n",
      " 22  description_length                 115341 non-null  int64         \n",
      " 23  description_link_count             115341 non-null  int64         \n",
      " 24  tag_count                          115341 non-null  int64         \n",
      " 25  publishedAtHour                    115341 non-null  int64         \n",
      " 26  publishedAtDay                     115341 non-null  int64         \n",
      " 27  publishedAtMonth                   115341 non-null  int64         \n",
      " 28  publishedAtHoliday                 115341 non-null  bool          \n",
      "dtypes: bool(3), datetime64[ns](2), float64(4), int64(11), object(9)\n",
      "memory usage: 24.1+ MB\n"
     ]
    }
   ],
   "source": [
    "us_trending_df.info()"
   ]
  },
  {
   "cell_type": "markdown",
   "metadata": {
    "id": "1ycXkZGmimw-",
    "pycharm": {
     "name": "#%% md\n"
    }
   },
   "source": [
    "* Nie da się wykorzystać\n",
    "  * Nieprzetworzonych tagów\n",
    "  * Nieprzetworzonych opisów\n",
    "  * Nieprzetworzonych tytułów\n",
    "  * video_id\n",
    "  * channelId - niekoniecznie\n",
    "  * channelTitle - niekoniecznie\n",
    "  * trending_date, bo niewystępuje w danych nie-trending\n",
    "  * nieprzetworzone publishedAt\n",
    "\n",
    "* Można zamienić na coś innego:\n",
    "  * likes i dislikes można zamienić na ilość reakcji i procent likes\n",
    "\n",
    "Notatka:\n",
    "* channelId/Title można użyć do sprawdzania kategorii\n",
    "* Trending date może mieć znaczenie na etapie uczenia (np. w jakim miesiącu są trending)."
   ]
  },
  {
   "cell_type": "code",
   "execution_count": 44,
   "metadata": {
    "colab": {
     "base_uri": "https://localhost:8080/"
    },
    "id": "cRAmyGBUmcdr",
    "outputId": "b8e8f9b5-3de8-4a9d-e35b-c0dbefdbfb62",
    "pycharm": {
     "name": "#%%\n"
    }
   },
   "outputs": [
    {
     "name": "stdout",
     "output_type": "stream",
     "text": [
      "<class 'pandas.core.frame.DataFrame'>\n",
      "Int64Index: 115341 entries, 0 to 115390\n",
      "Data columns (total 26 columns):\n",
      " #   Column                             Non-Null Count   Dtype         \n",
      "---  ------                             --------------   -----         \n",
      " 0   video_id                           115341 non-null  object        \n",
      " 1   publishedAt                        115341 non-null  datetime64[ns]\n",
      " 2   channelId                          115341 non-null  object        \n",
      " 3   channelTitle                       115341 non-null  object        \n",
      " 4   categoryId                         115341 non-null  object        \n",
      " 5   trending_date                      115341 non-null  datetime64[ns]\n",
      " 6   view_count                         115341 non-null  int64         \n",
      " 7   likes                              115341 non-null  int64         \n",
      " 8   comment_count                      115341 non-null  int64         \n",
      " 9   thumbnail_link                     115341 non-null  object        \n",
      " 10  comments_disabled                  115341 non-null  bool          \n",
      " 11  ratings_disabled                   115341 non-null  bool          \n",
      " 12  likes_to_view_count_ratio          115341 non-null  float64       \n",
      " 13  comment_count_to_view_count_ratio  115341 non-null  float64       \n",
      " 14  category                           115341 non-null  object        \n",
      " 15  title_length                       115341 non-null  int64         \n",
      " 16  title_capital_letters              115341 non-null  float64       \n",
      " 17  title_punctuation                  115341 non-null  float64       \n",
      " 18  description_height                 115341 non-null  int64         \n",
      " 19  description_length                 115341 non-null  int64         \n",
      " 20  description_link_count             115341 non-null  int64         \n",
      " 21  tag_count                          115341 non-null  int64         \n",
      " 22  publishedAtHour                    115341 non-null  int64         \n",
      " 23  publishedAtDay                     115341 non-null  int64         \n",
      " 24  publishedAtMonth                   115341 non-null  int64         \n",
      " 25  publishedAtHoliday                 115341 non-null  bool          \n",
      "dtypes: bool(3), datetime64[ns](2), float64(4), int64(11), object(6)\n",
      "memory usage: 21.4+ MB\n"
     ]
    }
   ],
   "source": [
    "us_trending_clean_df = us_trending_df.copy()\n",
    "us_trending_clean_df.drop([\"title\", \"tags\", \"description\"], axis=1, inplace=True)\n",
    "us_trending_clean_df.info()"
   ]
  },
  {
   "cell_type": "code",
   "execution_count": 45,
   "metadata": {
    "colab": {
     "base_uri": "https://localhost:8080/",
     "height": 522
    },
    "id": "d_m8XMRSnb4A",
    "outputId": "6dafd05f-e12c-4b19-b93e-89fcf179320e",
    "pycharm": {
     "name": "#%%\n"
    }
   },
   "outputs": [
    {
     "data": {
      "text/plain": "           video_id         publishedAt                 channelId  \\\n0       3C66w5Z0ixs 2020-08-11 19:20:14  UCvtRTOMP2TqYqu51xNrqAzg   \n1       M9Pmf9AB4Mo 2020-08-11 17:00:10  UC0ZV6M2THA81QT9hrVWJG3A   \n2       J78aPJ3VyNs 2020-08-11 16:34:06  UCYzPXprvl5Y-Sf0g4vX-m6g   \n3       kXLn3HkpjaA 2020-08-11 16:38:55  UCbg_UMjlHJg_19SZckaKajg   \n4       VIUo6yapDbc 2020-08-11 15:10:05  UCDVPcEbVLQgLZX0Rt6jo34A   \n...             ...                 ...                       ...   \n115386  6WUxgmMDts4 2022-03-01 12:20:37  UCUK0HBIBWgM2c4vsPhkYY4w   \n115387  6-aGt23ytyI 2022-02-28 21:00:02  UCUaT_39o1x6qWjz7K2pWcgw   \n115388  vPgrkl7lEjU 2022-02-28 17:00:39  UCCqEeDAUf4Mg0GgEN658tkA   \n115389  6Svr8l1DwTc 2022-03-01 17:00:04  UCh529hRsYvu9_Scri20NsHg   \n115390  hBF4TxpTW3Y 2022-02-28 22:00:26  UCqls08lc29RNv0JNqnOJwWA   \n\n            channelTitle categoryId trending_date  view_count   likes  \\\n0               Brawadis          0    2020-08-12     1514614  156908   \n1           Apex Legends         20    2020-08-12     2381688  146739   \n2          jacksepticeye          0    2020-08-12     2038853  353787   \n3                    XXL          0    2020-08-12      496771   23251   \n4               Mr. Kate          0    2020-08-12     1123889   45802   \n...                  ...        ...           ...         ...     ...   \n115386  The Slow Mo Guys          0    2022-03-07      981279   70153   \n115387      Beast Reacts          0    2022-03-07     7810455  288862   \n115388   Chris Stuckmann          0    2022-03-07     1428477   79929   \n115389            Spider          0    2022-03-07     1378788    8789   \n115390            Yoatzi          0    2022-03-07      883751   57842   \n\n        comment_count                                  thumbnail_link  ...  \\\n0               35313  https://i.ytimg.com/vi/3C66w5Z0ixs/default.jpg  ...   \n1               16549  https://i.ytimg.com/vi/M9Pmf9AB4Mo/default.jpg  ...   \n2               40221  https://i.ytimg.com/vi/J78aPJ3VyNs/default.jpg  ...   \n3                7647  https://i.ytimg.com/vi/kXLn3HkpjaA/default.jpg  ...   \n4                2196  https://i.ytimg.com/vi/VIUo6yapDbc/default.jpg  ...   \n...               ...                                             ...  ...   \n115386           3845  https://i.ytimg.com/vi/6WUxgmMDts4/default.jpg  ...   \n115387           8338  https://i.ytimg.com/vi/6-aGt23ytyI/default.jpg  ...   \n115388           5672  https://i.ytimg.com/vi/vPgrkl7lEjU/default.jpg  ...   \n115389             83  https://i.ytimg.com/vi/6Svr8l1DwTc/default.jpg  ...   \n115390           3435  https://i.ytimg.com/vi/hBF4TxpTW3Y/default.jpg  ...   \n\n        title_capital_letters  title_punctuation  description_height  \\\n0                    0.735294           0.088235                   7   \n1                    0.100000           0.016667                   0   \n2                    0.094340           0.018868                   0   \n3                    0.142857           0.017857                   5   \n4                    0.200000           0.018182                   0   \n...                       ...                ...                 ...   \n115386               0.142857           0.028571                   0   \n115387               0.150000           0.050000                   0   \n115388               0.160000           0.040000                   0   \n115389               0.000000           0.035714                   0   \n115390               0.571429           0.107143                   0   \n\n        description_length description_link_count  tag_count  publishedAtHour  \\\n0                      361                      3         15               19   \n1                      715                      4         25               17   \n2                      513                      7         30               16   \n3                      762                      6         23               16   \n4                     2493                     35         33               15   \n...                    ...                    ...        ...              ...   \n115386                 367                      2         24               12   \n115387                2101                     34         25               21   \n115388                 465                      2         28               17   \n115389                  23                      0          0               17   \n115390                  41                      0          0               22   \n\n        publishedAtDay  publishedAtMonth  publishedAtHoliday  \n0                    1                 8               False  \n1                    1                 8               False  \n2                    1                 8               False  \n3                    1                 8               False  \n4                    1                 8               False  \n...                ...               ...                 ...  \n115386               1                 3               False  \n115387               0                 2               False  \n115388               0                 2               False  \n115389               1                 3               False  \n115390               0                 2               False  \n\n[115341 rows x 26 columns]",
      "text/html": "<div>\n<style scoped>\n    .dataframe tbody tr th:only-of-type {\n        vertical-align: middle;\n    }\n\n    .dataframe tbody tr th {\n        vertical-align: top;\n    }\n\n    .dataframe thead th {\n        text-align: right;\n    }\n</style>\n<table border=\"1\" class=\"dataframe\">\n  <thead>\n    <tr style=\"text-align: right;\">\n      <th></th>\n      <th>video_id</th>\n      <th>publishedAt</th>\n      <th>channelId</th>\n      <th>channelTitle</th>\n      <th>categoryId</th>\n      <th>trending_date</th>\n      <th>view_count</th>\n      <th>likes</th>\n      <th>comment_count</th>\n      <th>thumbnail_link</th>\n      <th>...</th>\n      <th>title_capital_letters</th>\n      <th>title_punctuation</th>\n      <th>description_height</th>\n      <th>description_length</th>\n      <th>description_link_count</th>\n      <th>tag_count</th>\n      <th>publishedAtHour</th>\n      <th>publishedAtDay</th>\n      <th>publishedAtMonth</th>\n      <th>publishedAtHoliday</th>\n    </tr>\n  </thead>\n  <tbody>\n    <tr>\n      <th>0</th>\n      <td>3C66w5Z0ixs</td>\n      <td>2020-08-11 19:20:14</td>\n      <td>UCvtRTOMP2TqYqu51xNrqAzg</td>\n      <td>Brawadis</td>\n      <td>0</td>\n      <td>2020-08-12</td>\n      <td>1514614</td>\n      <td>156908</td>\n      <td>35313</td>\n      <td>https://i.ytimg.com/vi/3C66w5Z0ixs/default.jpg</td>\n      <td>...</td>\n      <td>0.735294</td>\n      <td>0.088235</td>\n      <td>7</td>\n      <td>361</td>\n      <td>3</td>\n      <td>15</td>\n      <td>19</td>\n      <td>1</td>\n      <td>8</td>\n      <td>False</td>\n    </tr>\n    <tr>\n      <th>1</th>\n      <td>M9Pmf9AB4Mo</td>\n      <td>2020-08-11 17:00:10</td>\n      <td>UC0ZV6M2THA81QT9hrVWJG3A</td>\n      <td>Apex Legends</td>\n      <td>20</td>\n      <td>2020-08-12</td>\n      <td>2381688</td>\n      <td>146739</td>\n      <td>16549</td>\n      <td>https://i.ytimg.com/vi/M9Pmf9AB4Mo/default.jpg</td>\n      <td>...</td>\n      <td>0.100000</td>\n      <td>0.016667</td>\n      <td>0</td>\n      <td>715</td>\n      <td>4</td>\n      <td>25</td>\n      <td>17</td>\n      <td>1</td>\n      <td>8</td>\n      <td>False</td>\n    </tr>\n    <tr>\n      <th>2</th>\n      <td>J78aPJ3VyNs</td>\n      <td>2020-08-11 16:34:06</td>\n      <td>UCYzPXprvl5Y-Sf0g4vX-m6g</td>\n      <td>jacksepticeye</td>\n      <td>0</td>\n      <td>2020-08-12</td>\n      <td>2038853</td>\n      <td>353787</td>\n      <td>40221</td>\n      <td>https://i.ytimg.com/vi/J78aPJ3VyNs/default.jpg</td>\n      <td>...</td>\n      <td>0.094340</td>\n      <td>0.018868</td>\n      <td>0</td>\n      <td>513</td>\n      <td>7</td>\n      <td>30</td>\n      <td>16</td>\n      <td>1</td>\n      <td>8</td>\n      <td>False</td>\n    </tr>\n    <tr>\n      <th>3</th>\n      <td>kXLn3HkpjaA</td>\n      <td>2020-08-11 16:38:55</td>\n      <td>UCbg_UMjlHJg_19SZckaKajg</td>\n      <td>XXL</td>\n      <td>0</td>\n      <td>2020-08-12</td>\n      <td>496771</td>\n      <td>23251</td>\n      <td>7647</td>\n      <td>https://i.ytimg.com/vi/kXLn3HkpjaA/default.jpg</td>\n      <td>...</td>\n      <td>0.142857</td>\n      <td>0.017857</td>\n      <td>5</td>\n      <td>762</td>\n      <td>6</td>\n      <td>23</td>\n      <td>16</td>\n      <td>1</td>\n      <td>8</td>\n      <td>False</td>\n    </tr>\n    <tr>\n      <th>4</th>\n      <td>VIUo6yapDbc</td>\n      <td>2020-08-11 15:10:05</td>\n      <td>UCDVPcEbVLQgLZX0Rt6jo34A</td>\n      <td>Mr. Kate</td>\n      <td>0</td>\n      <td>2020-08-12</td>\n      <td>1123889</td>\n      <td>45802</td>\n      <td>2196</td>\n      <td>https://i.ytimg.com/vi/VIUo6yapDbc/default.jpg</td>\n      <td>...</td>\n      <td>0.200000</td>\n      <td>0.018182</td>\n      <td>0</td>\n      <td>2493</td>\n      <td>35</td>\n      <td>33</td>\n      <td>15</td>\n      <td>1</td>\n      <td>8</td>\n      <td>False</td>\n    </tr>\n    <tr>\n      <th>...</th>\n      <td>...</td>\n      <td>...</td>\n      <td>...</td>\n      <td>...</td>\n      <td>...</td>\n      <td>...</td>\n      <td>...</td>\n      <td>...</td>\n      <td>...</td>\n      <td>...</td>\n      <td>...</td>\n      <td>...</td>\n      <td>...</td>\n      <td>...</td>\n      <td>...</td>\n      <td>...</td>\n      <td>...</td>\n      <td>...</td>\n      <td>...</td>\n      <td>...</td>\n      <td>...</td>\n    </tr>\n    <tr>\n      <th>115386</th>\n      <td>6WUxgmMDts4</td>\n      <td>2022-03-01 12:20:37</td>\n      <td>UCUK0HBIBWgM2c4vsPhkYY4w</td>\n      <td>The Slow Mo Guys</td>\n      <td>0</td>\n      <td>2022-03-07</td>\n      <td>981279</td>\n      <td>70153</td>\n      <td>3845</td>\n      <td>https://i.ytimg.com/vi/6WUxgmMDts4/default.jpg</td>\n      <td>...</td>\n      <td>0.142857</td>\n      <td>0.028571</td>\n      <td>0</td>\n      <td>367</td>\n      <td>2</td>\n      <td>24</td>\n      <td>12</td>\n      <td>1</td>\n      <td>3</td>\n      <td>False</td>\n    </tr>\n    <tr>\n      <th>115387</th>\n      <td>6-aGt23ytyI</td>\n      <td>2022-02-28 21:00:02</td>\n      <td>UCUaT_39o1x6qWjz7K2pWcgw</td>\n      <td>Beast Reacts</td>\n      <td>0</td>\n      <td>2022-03-07</td>\n      <td>7810455</td>\n      <td>288862</td>\n      <td>8338</td>\n      <td>https://i.ytimg.com/vi/6-aGt23ytyI/default.jpg</td>\n      <td>...</td>\n      <td>0.150000</td>\n      <td>0.050000</td>\n      <td>0</td>\n      <td>2101</td>\n      <td>34</td>\n      <td>25</td>\n      <td>21</td>\n      <td>0</td>\n      <td>2</td>\n      <td>False</td>\n    </tr>\n    <tr>\n      <th>115388</th>\n      <td>vPgrkl7lEjU</td>\n      <td>2022-02-28 17:00:39</td>\n      <td>UCCqEeDAUf4Mg0GgEN658tkA</td>\n      <td>Chris Stuckmann</td>\n      <td>0</td>\n      <td>2022-03-07</td>\n      <td>1428477</td>\n      <td>79929</td>\n      <td>5672</td>\n      <td>https://i.ytimg.com/vi/vPgrkl7lEjU/default.jpg</td>\n      <td>...</td>\n      <td>0.160000</td>\n      <td>0.040000</td>\n      <td>0</td>\n      <td>465</td>\n      <td>2</td>\n      <td>28</td>\n      <td>17</td>\n      <td>0</td>\n      <td>2</td>\n      <td>False</td>\n    </tr>\n    <tr>\n      <th>115389</th>\n      <td>6Svr8l1DwTc</td>\n      <td>2022-03-01 17:00:04</td>\n      <td>UCh529hRsYvu9_Scri20NsHg</td>\n      <td>Spider</td>\n      <td>0</td>\n      <td>2022-03-07</td>\n      <td>1378788</td>\n      <td>8789</td>\n      <td>83</td>\n      <td>https://i.ytimg.com/vi/6Svr8l1DwTc/default.jpg</td>\n      <td>...</td>\n      <td>0.000000</td>\n      <td>0.035714</td>\n      <td>0</td>\n      <td>23</td>\n      <td>0</td>\n      <td>0</td>\n      <td>17</td>\n      <td>1</td>\n      <td>3</td>\n      <td>False</td>\n    </tr>\n    <tr>\n      <th>115390</th>\n      <td>hBF4TxpTW3Y</td>\n      <td>2022-02-28 22:00:26</td>\n      <td>UCqls08lc29RNv0JNqnOJwWA</td>\n      <td>Yoatzi</td>\n      <td>0</td>\n      <td>2022-03-07</td>\n      <td>883751</td>\n      <td>57842</td>\n      <td>3435</td>\n      <td>https://i.ytimg.com/vi/hBF4TxpTW3Y/default.jpg</td>\n      <td>...</td>\n      <td>0.571429</td>\n      <td>0.107143</td>\n      <td>0</td>\n      <td>41</td>\n      <td>0</td>\n      <td>0</td>\n      <td>22</td>\n      <td>0</td>\n      <td>2</td>\n      <td>False</td>\n    </tr>\n  </tbody>\n</table>\n<p>115341 rows × 26 columns</p>\n</div>"
     },
     "execution_count": 45,
     "metadata": {},
     "output_type": "execute_result"
    }
   ],
   "source": [
    "us_trending_clean_df"
   ]
  },
  {
   "cell_type": "code",
   "execution_count": 46,
   "metadata": {
    "colab": {
     "base_uri": "https://localhost:8080/",
     "height": 1000
    },
    "id": "_ifv6Ya5Uca9",
    "outputId": "ad1ae507-a512-42c3-85da-bd42bf03779f",
    "pycharm": {
     "name": "#%%\n"
    }
   },
   "outputs": [
    {
     "data": {
      "text/plain": "<Figure size 1440x1440 with 2 Axes>",
      "image/png": "[encoded data removed]"
     },
     "metadata": {
      "needs_background": "light"
     },
     "output_type": "display_data"
    }
   ],
   "source": [
    "corrMatrix = us_trending_clean_df.corr(method='spearman')\n",
    "corrMatrix = corrMatrix.round(4)\n",
    "\n",
    "mask = np.triu(np.ones_like(corrMatrix, dtype=bool))\n",
    "np.fill_diagonal(mask, False)\n",
    "\n",
    "fig, ax = plt.subplots(figsize=(20, 20))\n",
    "sns.heatmap(corrMatrix, mask=mask, annot=True, fmt='g', ax=ax)\n",
    "plt.show()"
   ]
  },
  {
   "cell_type": "code",
   "execution_count": 47,
   "outputs": [],
   "source": [
    "us_trending_clean_df.to_csv(\"./data/stage_1_us_trending.csv\", index=False)"
   ],
   "metadata": {
    "collapsed": false,
    "pycharm": {
     "name": "#%%\n"
    }
   }
  },
  {
   "cell_type": "code",
   "execution_count": 47,
   "outputs": [],
   "source": [],
   "metadata": {
    "collapsed": false,
    "pycharm": {
     "name": "#%%\n"
    }
   }
  }
 ],
 "metadata": {
  "colab": {
   "collapsed_sections": [
    "Sk3pM4VUpMtl"
   ],
   "name": "PED_projekt.ipynb",
   "provenance": [],
   "toc_visible": true
  },
  "kernelspec": {
   "display_name": "Python 3",
   "name": "python3"
  },
  "language_info": {
   "codemirror_mode": {
    "name": "ipython",
    "version": 3
   },
   "file_extension": ".py",
   "mimetype": "text/x-python",
   "name": "python",
   "nbconvert_exporter": "python",
   "pygments_lexer": "ipython3",
   "version": "3.7.9"
  }
 },
 "nbformat": 4,
 "nbformat_minor": 0
}