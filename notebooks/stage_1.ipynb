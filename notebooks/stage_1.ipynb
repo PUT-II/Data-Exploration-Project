{
 "cells": [
  {
   "cell_type": "markdown",
   "metadata": {
    "id": "O5ctLvHRpAZr",
    "pycharm": {
     "name": "#%% md\n"
    }
   },
   "source": [
    "# Eksploracja Danych - Projekt\n",
    "Tomasz Kiljańczyk (136257)\n",
    "\n",
    "Wojciech Lulek (136280)"
   ]
  },
  {
   "cell_type": "markdown",
   "metadata": {
    "id": "VP-hmZsznn6F",
    "pycharm": {
     "name": "#%% md\n"
    }
   },
   "source": [
    "# Załadowanie bibliotek i danych"
   ]
  },
  {
   "cell_type": "code",
   "execution_count": null,
   "metadata": {
    "id": "mbLzlvQSq2N7",
    "pycharm": {
     "name": "#%%\n"
    }
   },
   "outputs": [],
   "source": [
    "import pandas as pd\n",
    "import numpy as np\n",
    "import matplotlib.pyplot as plt\n",
    "import seaborn as sns\n",
    "import os\n",
    "\n",
    "data_dir = './data'"
   ]
  },
  {
   "cell_type": "code",
   "execution_count": null,
   "metadata": {
    "colab": {
     "base_uri": "https://localhost:8080/",
     "height": 1000
    },
    "id": "m4kaZ9Teqxdy",
    "outputId": "aedb6852-52ab-42d6-acc0-0797edd7dc73",
    "pycharm": {
     "name": "#%%\n"
    }
   },
   "outputs": [],
   "source": [
    "us_trending_df = pd.read_csv(os.path.join(data_dir, 'USData80.csv'), encoding='cp1250', lineterminator='\\n')\n",
    "us_trending_df = us_trending_df.iloc[: , 1:]\n",
    "us_trending_df = us_trending_df.rename(columns={'description\\r': 'description'})\n",
    "us_trending_df['description'] = us_trending_df['description'].str.rstrip('\\r')\n",
    "us_trending_df"
   ]
  },
  {
   "cell_type": "markdown",
   "source": [
    "Dislikes nie jest już możliwe do pobrania, więc można je od razu usunąć"
   ],
   "metadata": {
    "collapsed": false,
    "pycharm": {
     "name": "#%% md\n"
    }
   }
  },
  {
   "cell_type": "code",
   "execution_count": null,
   "outputs": [],
   "source": [
    "us_trending_df.drop(columns=['dislikes'], axis=1, inplace=True)"
   ],
   "metadata": {
    "collapsed": false,
    "pycharm": {
     "name": "#%%\n"
    }
   }
  },
  {
   "cell_type": "markdown",
   "metadata": {
    "id": "4uMs2vmSnscO",
    "pycharm": {
     "name": "#%% md\n"
    }
   },
   "source": [
    "# Analiza danych"
   ]
  },
  {
   "cell_type": "markdown",
   "metadata": {
    "id": "vcwXu0XUp2L4",
    "pycharm": {
     "name": "#%% md\n"
    }
   },
   "source": [
    "## Analiza wstępna"
   ]
  },
  {
   "cell_type": "code",
   "execution_count": null,
   "metadata": {
    "colab": {
     "base_uri": "https://localhost:8080/"
    },
    "id": "A-mid2BJsY4D",
    "outputId": "b9ea5047-5117-4c9f-bd2c-6b5646708b12",
    "pycharm": {
     "name": "#%%\n"
    }
   },
   "outputs": [],
   "source": [
    "us_trending_df.shape"
   ]
  },
  {
   "cell_type": "code",
   "execution_count": null,
   "metadata": {
    "colab": {
     "base_uri": "https://localhost:8080/"
    },
    "id": "m6hUj1U5aupz",
    "outputId": "238e9f0d-24f2-4787-8d21-f825fc5646cd",
    "pycharm": {
     "name": "#%%\n"
    }
   },
   "outputs": [],
   "source": [
    "us_trending_df.info()"
   ]
  },
  {
   "cell_type": "markdown",
   "metadata": {
    "pycharm": {
     "name": "#%% md\n"
    }
   },
   "source": [
    "CategoryId zawiera NaNy, trzeba się ich pozbyć"
   ]
  },
  {
   "cell_type": "code",
   "execution_count": null,
   "metadata": {
    "pycharm": {
     "name": "#%%\n"
    }
   },
   "outputs": [],
   "source": [
    "us_trending_df['categoryId'].replace(np.NaN, 0.0, inplace=True)"
   ]
  },
  {
   "cell_type": "markdown",
   "metadata": {
    "pycharm": {
     "name": "#%% md\n"
    }
   },
   "source": [
    "CategoryId jest typu float64. Żeby zamienić je na stringa trzeba je zmienić wpierw na int64"
   ]
  },
  {
   "cell_type": "code",
   "execution_count": null,
   "metadata": {
    "pycharm": {
     "name": "#%%\n"
    }
   },
   "outputs": [],
   "source": [
    "us_trending_df['categoryId'] = us_trending_df['categoryId'].astype(np.int64)"
   ]
  },
  {
   "cell_type": "markdown",
   "metadata": {
    "id": "hQOlKCO2a0Eb",
    "pycharm": {
     "name": "#%% md\n"
    }
   },
   "source": [
    "Kolumny opisujące daty są typu object.\n",
    "Można je zrzutować na typ datetime64.\n",
    "categoryId należy zrzutować na typ string, ponieważ nie chcemy go traktować jako dane numeryczne."
   ]
  },
  {
   "cell_type": "code",
   "execution_count": null,
   "metadata": {
    "colab": {
     "base_uri": "https://localhost:8080/"
    },
    "id": "3GrcDXkBav1d",
    "outputId": "0f7c64d8-4ae3-4aaf-9626-7887d1a1e7c1",
    "pycharm": {
     "name": "#%%\n"
    }
   },
   "outputs": [],
   "source": [
    "us_trending_df = us_trending_df.astype({\n",
    "    'trending_date': np.datetime64,\n",
    "    'publishedAt': np.datetime64,\n",
    "    'categoryId': str\n",
    "})\n",
    "us_trending_df.info()"
   ]
  },
  {
   "cell_type": "markdown",
   "metadata": {
    "id": "ci3iKi68bBJo",
    "pycharm": {
     "name": "#%% md\n"
    }
   },
   "source": [
    "W kolumnie description występują brakujące wartości.\n",
    "Można by je uzupełnić pustym stringiem albo spacją."
   ]
  },
  {
   "cell_type": "code",
   "execution_count": null,
   "metadata": {
    "colab": {
     "base_uri": "https://localhost:8080/"
    },
    "id": "hYOPb4H1IGkF",
    "outputId": "e221e86a-60ea-4e5d-f4e7-e6c60c3e9975",
    "pycharm": {
     "name": "#%%\n"
    }
   },
   "outputs": [],
   "source": [
    "us_trending_df['description'].replace(np.NaN, '', inplace=True)\n",
    "us_trending_df.info()"
   ]
  },
  {
   "cell_type": "markdown",
   "metadata": {
    "id": "TT1vXLUYbarL",
    "pycharm": {
     "name": "#%% md\n"
    }
   },
   "source": [
    "Przy ręcznej analizie znaleziono też tagi `[None]`.\n",
    "Chyba najlepiej zamienić je na pusty string."
   ]
  },
  {
   "cell_type": "code",
   "execution_count": null,
   "metadata": {
    "id": "zu1_bfkdbP_y",
    "pycharm": {
     "name": "#%%\n"
    }
   },
   "outputs": [],
   "source": [
    "us_trending_df['tags'].replace('[None]', '', inplace=True)"
   ]
  },
  {
   "cell_type": "code",
   "execution_count": null,
   "metadata": {
    "colab": {
     "base_uri": "https://localhost:8080/"
    },
    "id": "Njq1BJLfaxUt",
    "outputId": "be9b9ec5-ec62-4318-f145-559fd7974976",
    "pycharm": {
     "name": "#%%\n"
    }
   },
   "outputs": [],
   "source": [
    "us_trending_df.nunique()"
   ]
  },
  {
   "cell_type": "markdown",
   "metadata": {
    "id": "dKLonAFXbcjh",
    "pycharm": {
     "name": "#%% md\n"
    }
   },
   "source": [
    "W policzonych unikatowych wartościach widać, że unikatowych wartości video_id jest mniej niż ilość wszystkich rzędów w pliku.\n",
    "\n",
    "Wynika to z faktu, że w danych znajdują się zrzuty listy trending z wielu dni.\n",
    "Jeden filmik mógł być trending przez parę dni."
   ]
  },
  {
   "cell_type": "markdown",
   "metadata": {
    "id": "qFPJDCWSvKiI",
    "pycharm": {
     "name": "#%% md\n"
    }
   },
   "source": [
    "## Wizualizacje"
   ]
  },
  {
   "cell_type": "code",
   "execution_count": null,
   "metadata": {
    "colab": {
     "base_uri": "https://localhost:8080/",
     "height": 685
    },
    "id": "Mb-GhSeubAjv",
    "outputId": "9d5bc747-e4df-462c-8426-1cd3324e389d",
    "pycharm": {
     "name": "#%%\n"
    }
   },
   "outputs": [],
   "source": [
    "corrMatrix = us_trending_df.corr(method='spearman')\n",
    "corrMatrix = corrMatrix.round(4)\n",
    "\n",
    "mask = np.triu(np.ones_like(corrMatrix, dtype=bool))\n",
    "np.fill_diagonal(mask, False)\n",
    "\n",
    "fig, ax = plt.subplots(figsize=(10, 10))\n",
    "sns.heatmap(corrMatrix, mask=mask, annot=True, fmt='g', ax=ax)\n",
    "plt.show()"
   ]
  },
  {
   "cell_type": "markdown",
   "metadata": {
    "id": "LdZZ35fvbg1i",
    "pycharm": {
     "name": "#%% md\n"
    }
   },
   "source": [
    "Używamy metryki Spearmana, ponieważ to umożliwia odkrycie nieliniowych zależności między cechami.\n",
    "\n",
    "Zależności większe niż |0.5|:\n",
    "* view_count:\n",
    "    * comment_count\n",
    "    * dislikes\n",
    "    * likes\n",
    "* likes:\n",
    "    * comment_count\n",
    "    * dislikes\n",
    "* dislikes:\n",
    "    * comment_count\n",
    "\n",
    "Z wypisanych zależności wynika, że im więcej osób ogląda filmik, tym więcej jest komentarzy, polubień i antypolubień.\n",
    "To jest logiczna konsekwencja wpływu oglądalności na te cechy."
   ]
  },
  {
   "cell_type": "markdown",
   "source": [
    "Polubienia można zastąpić cechą stosunek polubień do liczby wyświetleń."
   ],
   "metadata": {
    "collapsed": false,
    "pycharm": {
     "name": "#%% md\n"
    }
   }
  },
  {
   "cell_type": "code",
   "execution_count": null,
   "outputs": [],
   "source": [
    "us_trending_df['likes_to_view_count_ratio'] = us_trending_df['likes'] / us_trending_df['view_count']\n",
    "us_trending_df['likes_to_view_count_ratio'] = us_trending_df['likes_to_view_count_ratio'].replace(np.inf, 0.0)\n",
    "us_trending_df['likes_to_view_count_ratio']"
   ],
   "metadata": {
    "collapsed": false,
    "pycharm": {
     "name": "#%%\n"
    }
   }
  },
  {
   "cell_type": "code",
   "execution_count": null,
   "outputs": [],
   "source": [
    "us_trending_df['likes_to_view_count_ratio'].hist(log=True)"
   ],
   "metadata": {
    "collapsed": false,
    "pycharm": {
     "name": "#%%\n"
    }
   }
  },
  {
   "cell_type": "markdown",
   "source": [
    "Liczbę komentarzy można zamienić na stosunek komentarzy do liczby obejrzeń.\n",
    "Należy pamiętać, że stosunek ten może być większy niż 1 (bo jeden użytkownik może komentować wiele razy)."
   ],
   "metadata": {
    "collapsed": false,
    "pycharm": {
     "name": "#%% md\n"
    }
   }
  },
  {
   "cell_type": "code",
   "execution_count": null,
   "outputs": [],
   "source": [
    "us_trending_df['comment_count_to_view_count_ratio'] = us_trending_df['comment_count'] / us_trending_df['view_count']\n",
    "us_trending_df['comment_count_to_view_count_ratio'] = us_trending_df['comment_count_to_view_count_ratio'].fillna(0.0)\n",
    "us_trending_df['comment_count_to_view_count_ratio'] = us_trending_df['comment_count_to_view_count_ratio'].replace(np.inf, 0.0)\n",
    "us_trending_df['comment_count_to_view_count_ratio']"
   ],
   "metadata": {
    "collapsed": false,
    "pycharm": {
     "name": "#%%\n"
    }
   }
  },
  {
   "cell_type": "markdown",
   "source": [],
   "metadata": {
    "collapsed": false,
    "pycharm": {
     "name": "#%% md\n"
    }
   }
  },
  {
   "cell_type": "code",
   "execution_count": null,
   "outputs": [],
   "source": [
    "us_trending_df['comment_count_to_view_count_ratio'].hist(log=True)"
   ],
   "metadata": {
    "collapsed": false,
    "pycharm": {
     "name": "#%%\n"
    }
   }
  },
  {
   "cell_type": "code",
   "execution_count": null,
   "metadata": {
    "colab": {
     "base_uri": "https://localhost:8080/",
     "height": 295
    },
    "id": "vEiUfVeNcv4z",
    "outputId": "3d3a5f9c-cc91-4443-9bc9-7bca209afbfe",
    "pycharm": {
     "name": "#%%\n"
    }
   },
   "outputs": [],
   "source": [
    "us_trending_df['view_count'].hist(log=True)"
   ]
  },
  {
   "cell_type": "code",
   "execution_count": null,
   "metadata": {
    "colab": {
     "base_uri": "https://localhost:8080/",
     "height": 295
    },
    "id": "YOAqiootc1rz",
    "outputId": "fbf5bc06-b985-4ad0-9017-cfbf7f997663",
    "pycharm": {
     "name": "#%%\n"
    }
   },
   "outputs": [],
   "source": [
    "us_trending_df['comment_count'].hist(log=True)"
   ]
  },
  {
   "cell_type": "code",
   "execution_count": null,
   "metadata": {
    "colab": {
     "base_uri": "https://localhost:8080/",
     "height": 295
    },
    "id": "pX-hfFWmcQ3u",
    "outputId": "6bbc92c6-7552-457d-bd01-3a076e9e71f9",
    "pycharm": {
     "name": "#%%\n"
    }
   },
   "outputs": [],
   "source": [
    "us_trending_df['likes'].hist(log=True)"
   ]
  },
  {
   "cell_type": "markdown",
   "metadata": {
    "id": "Sk3pM4VUpMtl",
    "pycharm": {
     "name": "#%% md\n"
    }
   },
   "source": [
    "## Analiza kategorii"
   ]
  },
  {
   "cell_type": "code",
   "execution_count": null,
   "metadata": {
    "colab": {
     "base_uri": "https://localhost:8080/"
    },
    "id": "Hgjb2VV4biNO",
    "outputId": "6ee7b720-b032-4a7a-b827-e39db964caee",
    "pycharm": {
     "name": "#%%\n"
    }
   },
   "outputs": [],
   "source": [
    "import json\n",
    "\n",
    "with open(os.path.join(data_dir,'US_category_id.json'), mode='r') as file:\n",
    "    us_category_id_dict = json.loads(file.read())\n",
    "\n",
    "us_categories = {}\n",
    "for category in us_category_id_dict['items']:\n",
    "    us_categories[category['id']] = category['snippet']['title']\n",
    "\n",
    "us_categories"
   ]
  },
  {
   "cell_type": "code",
   "execution_count": null,
   "metadata": {
    "colab": {
     "base_uri": "https://localhost:8080/"
    },
    "id": "Up7KodFmbjUb",
    "outputId": "e1bd0628-fc93-4487-f6f0-eb44d838ea42",
    "pycharm": {
     "name": "#%%\n"
    }
   },
   "outputs": [],
   "source": [
    "len(us_categories)"
   ]
  },
  {
   "cell_type": "markdown",
   "metadata": {
    "id": "XlvdTIowblW8",
    "pycharm": {
     "name": "#%% md\n"
    }
   },
   "source": [
    "Z analizy wynika, że używane jest 15 kategorii, a w pliku JSON dostarczone zostało 32 kategorie.\n",
    "17 kategorii jest nieużywanych."
   ]
  },
  {
   "cell_type": "code",
   "execution_count": null,
   "metadata": {
    "colab": {
     "base_uri": "https://localhost:8080/"
    },
    "id": "OruHm4FSIiig",
    "outputId": "d864deb2-9cf4-4510-c506-2422dd509d08",
    "pycharm": {
     "name": "#%%\n"
    }
   },
   "outputs": [],
   "source": [
    "us_trending_df['category'] = us_trending_df['categoryId']\n",
    "us_trending_df['category'] = us_trending_df['category'].apply(us_categories.get).replace(np.NaN, '')\n",
    "us_trending_df['category']"
   ]
  },
  {
   "cell_type": "code",
   "execution_count": null,
   "metadata": {
    "colab": {
     "base_uri": "https://localhost:8080/",
     "height": 520
    },
    "id": "IwBBGQiqGH6U",
    "outputId": "455015ff-511d-4ce4-ffd2-ae8506da6fc8",
    "pycharm": {
     "name": "#%%\n"
    }
   },
   "outputs": [],
   "source": [
    "category_counts = us_trending_df.groupby([\"category\"]).size().reset_index(name='counts')\n",
    "category_counts"
   ]
  },
  {
   "cell_type": "code",
   "execution_count": null,
   "metadata": {
    "colab": {
     "base_uri": "https://localhost:8080/",
     "height": 395
    },
    "id": "fCOdn3qcGWA8",
    "outputId": "5db0d9a2-6204-43e9-f781-bcfbc541d47f",
    "pycharm": {
     "name": "#%%\n"
    }
   },
   "outputs": [],
   "source": [
    "category_counts.plot(x='category', y='counts', kind='bar', logy=True)"
   ]
  },
  {
   "cell_type": "markdown",
   "metadata": {
    "id": "G_c88JObbnAU",
    "pycharm": {
     "name": "#%% md\n"
    }
   },
   "source": [
    "## Analiza tytułów"
   ]
  },
  {
   "cell_type": "code",
   "execution_count": null,
   "metadata": {
    "id": "e4oIfvm0bpaE",
    "pycharm": {
     "name": "#%%\n"
    }
   },
   "outputs": [],
   "source": [
    "from sklearn.feature_extraction.text import CountVectorizer\n",
    "\n",
    "vectorizer = CountVectorizer(strip_accents='unicode', stop_words='english')"
   ]
  },
  {
   "cell_type": "code",
   "execution_count": null,
   "metadata": {
    "colab": {
     "base_uri": "https://localhost:8080/",
     "height": 424
    },
    "id": "3WUKRZWRbp4d",
    "outputId": "2b8a926f-423d-4c6a-cd76-470382b6d8cc",
    "pycharm": {
     "name": "#%%\n"
    }
   },
   "outputs": [],
   "source": [
    "titles_vectorized_csr = vectorizer.fit_transform(us_trending_df['title'])\n",
    "token_count_sum = titles_vectorized_csr.sum(axis=0).A1\n",
    "tokens = vectorizer.get_feature_names_out()\n",
    "df_dict = {'token': tokens, 'count': token_count_sum}\n",
    "token_count_df = pd.DataFrame(df_dict)\n",
    "token_count_df"
   ]
  },
  {
   "cell_type": "code",
   "execution_count": null,
   "metadata": {
    "colab": {
     "base_uri": "https://localhost:8080/"
    },
    "id": "frAA-0kwbrzs",
    "outputId": "ad41c1c4-9833-4d13-df64-5db8adfe5754",
    "pycharm": {
     "name": "#%%\n"
    }
   },
   "outputs": [],
   "source": [
    "top_words = token_count_df.sort_values(by=['count'], ascending=False).head(100).reset_index(drop=True)\n",
    "print(top_words.to_string())"
   ]
  },
  {
   "cell_type": "markdown",
   "metadata": {
    "id": "0WohFBGubtsT",
    "pycharm": {
     "name": "#%% md\n"
    }
   },
   "source": [
    "Notatka:\n",
    "* Można wpisać słowa jako cechy i potem usuwać metodami z wykładu\n",
    "* Przydałby się ranking informatywności.\n",
    "* Można użyć słownika z kategoriami"
   ]
  },
  {
   "cell_type": "markdown",
   "metadata": {
    "id": "LEB-Ee7qJOZL",
    "pycharm": {
     "name": "#%% md\n"
    }
   },
   "source": [
    "## Analiza tagów"
   ]
  },
  {
   "cell_type": "code",
   "execution_count": null,
   "metadata": {
    "id": "gBQIoBz_JNbe",
    "pycharm": {
     "name": "#%%\n"
    }
   },
   "outputs": [],
   "source": [
    "vectorizer = CountVectorizer(strip_accents='unicode', token_pattern=r'[^|]+')"
   ]
  },
  {
   "cell_type": "code",
   "execution_count": null,
   "metadata": {
    "colab": {
     "base_uri": "https://localhost:8080/",
     "height": 424
    },
    "id": "fo3g_x0BJjmk",
    "outputId": "9379c9b6-f9db-48b3-e6f7-d030b06e40e9",
    "pycharm": {
     "name": "#%%\n"
    }
   },
   "outputs": [],
   "source": [
    "tags_vectorized_csr = vectorizer.fit_transform(us_trending_df['tags'])\n",
    "token_count_sum = tags_vectorized_csr.sum(axis=0).A1\n",
    "tokens = vectorizer.get_feature_names_out()\n",
    "df_dict = {'token': tokens, 'count': token_count_sum}\n",
    "token_count_df = pd.DataFrame(df_dict)\n",
    "token_count_df"
   ]
  },
  {
   "cell_type": "code",
   "execution_count": null,
   "metadata": {
    "colab": {
     "base_uri": "https://localhost:8080/"
    },
    "id": "W7loSPM9JkI-",
    "outputId": "c6170b26-fe5a-45b2-9364-59900701c2e3",
    "pycharm": {
     "name": "#%%\n"
    }
   },
   "outputs": [],
   "source": [
    "top_tags = token_count_df.sort_values(by=['count'], ascending=False).head(100).reset_index(drop=True)\n",
    "print(top_tags.to_string())"
   ]
  },
  {
   "cell_type": "markdown",
   "metadata": {
    "id": "pvAzmU5MbvAj",
    "pycharm": {
     "name": "#%% md\n"
    }
   },
   "source": [
    "# Inne atrybuty"
   ]
  },
  {
   "cell_type": "markdown",
   "metadata": {
    "id": "y76yDLgIpUaH",
    "pycharm": {
     "name": "#%% md\n"
    }
   },
   "source": [
    "## Nowe atrybuty na podstawie atrybutów tekstowych"
   ]
  },
  {
   "cell_type": "code",
   "execution_count": null,
   "metadata": {
    "colab": {
     "base_uri": "https://localhost:8080/",
     "height": 282
    },
    "id": "WbBhEoY-ocA9",
    "outputId": "8850d7a6-aec4-400c-9848-074dc94d922d",
    "pycharm": {
     "name": "#%%\n"
    }
   },
   "outputs": [],
   "source": [
    "us_trending_df['title_length'] = us_trending_df['title'].str.len()\n",
    "us_trending_df['title_length'].hist()"
   ]
  },
  {
   "cell_type": "code",
   "execution_count": null,
   "metadata": {
    "colab": {
     "base_uri": "https://localhost:8080/",
     "height": 282
    },
    "id": "Pqdbwo9joa35",
    "outputId": "660f2512-59a8-4263-9ce3-8fd224eb8466",
    "pycharm": {
     "name": "#%%\n"
    }
   },
   "outputs": [],
   "source": [
    "us_trending_df['title_capital_letters'] = us_trending_df['title'].str.count(r'[A-Z]') / us_trending_df['title_length']\n",
    "us_trending_df['title_capital_letters'].hist()"
   ]
  },
  {
   "cell_type": "code",
   "execution_count": null,
   "metadata": {
    "colab": {
     "base_uri": "https://localhost:8080/",
     "height": 282
    },
    "id": "L64dug0uoaLb",
    "outputId": "f73be96e-d7ca-4ec9-b1dd-743b66bb0200",
    "pycharm": {
     "name": "#%%\n"
    }
   },
   "outputs": [],
   "source": [
    "us_trending_df['title_punctuaction'] = us_trending_df['title'].str.count(r'[!\"#$%&\\'()*+,-./:;<=>?@[\\]^_`{|}~]') / us_trending_df['title_length']\n",
    "us_trending_df['title_punctuaction'].hist()"
   ]
  },
  {
   "cell_type": "code",
   "execution_count": null,
   "metadata": {
    "colab": {
     "base_uri": "https://localhost:8080/",
     "height": 282
    },
    "id": "MYV1P9g3oZhV",
    "outputId": "3eaede9d-990b-4003-f170-7f4707f1cad0",
    "pycharm": {
     "name": "#%%\n"
    }
   },
   "outputs": [],
   "source": [
    "us_trending_df['description_height'] = us_trending_df['description'].str.count(r'[\\r\\n]')\n",
    "us_trending_df['description_height'].hist(log=True)"
   ]
  },
  {
   "cell_type": "code",
   "execution_count": null,
   "metadata": {
    "colab": {
     "base_uri": "https://localhost:8080/",
     "height": 282
    },
    "id": "YxPtPtiCLW_G",
    "outputId": "1bd74841-7ee2-4ea6-8e48-a261ae1ddc2d",
    "pycharm": {
     "name": "#%%\n"
    }
   },
   "outputs": [],
   "source": [
    "us_trending_df['description_length'] = us_trending_df['description'].str.len()\n",
    "us_trending_df['description_length'].hist()"
   ]
  },
  {
   "cell_type": "code",
   "execution_count": null,
   "metadata": {
    "colab": {
     "base_uri": "https://localhost:8080/",
     "height": 282
    },
    "id": "cTCatzPBoY9o",
    "outputId": "f0c888c9-e973-42e5-dcf4-c22beb9ffa54",
    "pycharm": {
     "name": "#%%\n"
    }
   },
   "outputs": [],
   "source": [
    "us_trending_df['description_link_count'] = us_trending_df['description'].str.count(r'://')\n",
    "us_trending_df['description_link_count'].hist(log=True)"
   ]
  },
  {
   "cell_type": "markdown",
   "metadata": {
    "id": "SXO_mI2DTaP2",
    "pycharm": {
     "name": "#%% md\n"
    }
   },
   "source": [
    "Notatka: można podzielić linki na kategorie"
   ]
  },
  {
   "cell_type": "code",
   "execution_count": null,
   "metadata": {
    "colab": {
     "base_uri": "https://localhost:8080/",
     "height": 282
    },
    "id": "0BzacklzbAep",
    "outputId": "12f6429f-8566-47fe-b686-443abc4160ce",
    "pycharm": {
     "name": "#%%\n"
    }
   },
   "outputs": [],
   "source": [
    "us_trending_df['tag_count'] = us_trending_df['tags'].apply(lambda tags: 0 if tags == '' else tags.count('|') + 1)\n",
    "us_trending_df['tag_count'].hist()"
   ]
  },
  {
   "cell_type": "markdown",
   "metadata": {
    "id": "cW9ZFYLGpjvI",
    "pycharm": {
     "name": "#%% md\n"
    }
   },
   "source": [
    "## Nowe atrybuty na podstawie dat"
   ]
  },
  {
   "cell_type": "code",
   "execution_count": null,
   "metadata": {
    "colab": {
     "base_uri": "https://localhost:8080/",
     "height": 282
    },
    "id": "VM94mDWlbykV",
    "outputId": "97227109-1121-4bae-f0b1-7b9e8f1c3bba",
    "pycharm": {
     "name": "#%%\n"
    }
   },
   "outputs": [],
   "source": [
    "us_trending_df['publishedAtHour'] = us_trending_df['publishedAt'].dt.hour\n",
    "us_trending_df['publishedAtHour'].hist()"
   ]
  },
  {
   "cell_type": "code",
   "execution_count": null,
   "metadata": {
    "colab": {
     "base_uri": "https://localhost:8080/",
     "height": 285
    },
    "id": "a1CLe8qjeNx7",
    "outputId": "7a27b8de-ef30-46e4-b31e-647c7f590356",
    "pycharm": {
     "name": "#%%\n"
    }
   },
   "outputs": [],
   "source": [
    "us_trending_df['publishedAtDay'] = us_trending_df['publishedAt'].dt.weekday\n",
    "us_trending_df['publishedAtDay'].hist() "
   ]
  },
  {
   "cell_type": "code",
   "execution_count": null,
   "metadata": {
    "colab": {
     "base_uri": "https://localhost:8080/",
     "height": 282
    },
    "id": "eC_pimWzHYP9",
    "outputId": "aaf2e0fd-29d1-49ed-cb83-791eeb8f1fb6",
    "pycharm": {
     "name": "#%%\n"
    }
   },
   "outputs": [],
   "source": [
    "us_trending_df['publishedAtMonth'] = us_trending_df['publishedAt'].dt.month\n",
    "us_trending_df['publishedAtMonth'].hist()"
   ]
  },
  {
   "cell_type": "markdown",
   "metadata": {
    "id": "0dpksIXPeREG",
    "pycharm": {
     "name": "#%% md\n"
    }
   },
   "source": [
    "Notatka:\n",
    "* Warto się przyjrzeć miesiącom publikacji"
   ]
  },
  {
   "cell_type": "code",
   "execution_count": null,
   "metadata": {
    "colab": {
     "base_uri": "https://localhost:8080/",
     "height": 143
    },
    "id": "EOerBdNHfu97",
    "outputId": "befd736d-8c74-4e86-ee44-f090a768bef9",
    "pycharm": {
     "name": "#%%\n"
    }
   },
   "outputs": [],
   "source": [
    "from pandas.tseries.holiday import USFederalHolidayCalendar\n",
    "cal = USFederalHolidayCalendar()\n",
    "min_date = us_trending_df['publishedAt'].min()\n",
    "max_date = us_trending_df['publishedAt'].max()\n",
    "\n",
    "holidays = cal.holidays(start=min_date, end=max_date)\n",
    "us_trending_df['publishedAtHoliday'] = us_trending_df['publishedAt'].apply(lambda date: date in holidays)\n",
    "us_trending_df[us_trending_df['publishedAtHoliday']]"
   ]
  },
  {
   "cell_type": "markdown",
   "metadata": {
    "id": "30xVQ5A9TtGG",
    "pycharm": {
     "name": "#%% md\n"
    }
   },
   "source": [
    "Filmiki z listy trending nie były publikowane z święta.\n",
    "\n",
    "Notatka:\n",
    "* można spróbować dzień przed/po świętach"
   ]
  },
  {
   "cell_type": "markdown",
   "metadata": {
    "id": "Qu4waP24eXm3",
    "pycharm": {
     "name": "#%% md\n"
    }
   },
   "source": [
    "Notatka końcowa:\n",
    "* Warto sprawdzić rozkłady dla różnych kategorii filmików"
   ]
  },
  {
   "cell_type": "markdown",
   "metadata": {
    "id": "JsEXiL8jpudE",
    "pycharm": {
     "name": "#%% md\n"
    }
   },
   "source": [
    "# Usuwanie kolumn"
   ]
  },
  {
   "cell_type": "code",
   "execution_count": null,
   "metadata": {
    "colab": {
     "base_uri": "https://localhost:8080/"
    },
    "id": "s0wSxUmwf1_k",
    "outputId": "a110f8fb-77c9-429c-e3f8-9e920373702b",
    "pycharm": {
     "name": "#%%\n"
    }
   },
   "outputs": [],
   "source": [
    "us_trending_df.info()"
   ]
  },
  {
   "cell_type": "markdown",
   "metadata": {
    "id": "1ycXkZGmimw-",
    "pycharm": {
     "name": "#%% md\n"
    }
   },
   "source": [
    "* Nie da się wykorzystać\n",
    "  * Nieprzetworzonych tagów\n",
    "  * Nieprzetworzonych opisów\n",
    "  * Nieprzetworzonych tytułów\n",
    "  * video_id\n",
    "  * channelId - niekoniecznie\n",
    "  * channelTitle - niekoniecznie\n",
    "  * trending_date, bo niewystępuje w danych nie-trending\n",
    "  * nieprzetworzone publishedAt\n",
    "\n",
    "* Można zamienić na coś innego:\n",
    "  * likes i dislikes można zamienić na ilość reakcji i procent likes\n",
    "\n",
    "Notatka:\n",
    "* channelId/Title można użyć do sprawdzania kategorii\n",
    "* Trending date może mieć znaczenie na etapie uczenia (np. w jakim miesiącu są trending)."
   ]
  },
  {
   "cell_type": "code",
   "execution_count": null,
   "metadata": {
    "colab": {
     "base_uri": "https://localhost:8080/"
    },
    "id": "cRAmyGBUmcdr",
    "outputId": "b8e8f9b5-3de8-4a9d-e35b-c0dbefdbfb62",
    "pycharm": {
     "name": "#%%\n"
    }
   },
   "outputs": [],
   "source": [
    "us_trending_clean_df = us_trending_df.copy()\n",
    "us_trending_clean_df.drop(\n",
    "    [\n",
    "     \"title\",\n",
    "     \"publishedAt\",\n",
    "     \"tags\",\n",
    "     \"description\"\n",
    "    ], axis=1, inplace=True\n",
    ")\n",
    "us_trending_clean_df.info()"
   ]
  },
  {
   "cell_type": "code",
   "execution_count": null,
   "metadata": {
    "colab": {
     "base_uri": "https://localhost:8080/",
     "height": 522
    },
    "id": "d_m8XMRSnb4A",
    "outputId": "6dafd05f-e12c-4b19-b93e-89fcf179320e",
    "pycharm": {
     "name": "#%%\n"
    }
   },
   "outputs": [],
   "source": [
    "us_trending_clean_df"
   ]
  },
  {
   "cell_type": "code",
   "execution_count": null,
   "metadata": {
    "colab": {
     "base_uri": "https://localhost:8080/",
     "height": 1000
    },
    "id": "_ifv6Ya5Uca9",
    "outputId": "ad1ae507-a512-42c3-85da-bd42bf03779f",
    "pycharm": {
     "name": "#%%\n"
    }
   },
   "outputs": [],
   "source": [
    "corrMatrix = us_trending_clean_df.corr(method='spearman')\n",
    "corrMatrix = corrMatrix.round(4)\n",
    "\n",
    "mask = np.triu(np.ones_like(corrMatrix, dtype=bool))\n",
    "np.fill_diagonal(mask, False)\n",
    "\n",
    "fig, ax = plt.subplots(figsize=(20, 20))\n",
    "sns.heatmap(corrMatrix, mask=mask, annot=True, fmt='g', ax=ax)\n",
    "plt.show()"
   ]
  },
  {
   "cell_type": "code",
   "execution_count": null,
   "outputs": [],
   "source": [
    "us_trending_clean_df.to_csv(\"./data/stage_1_us_trending.csv\", index=False)"
   ],
   "metadata": {
    "collapsed": false,
    "pycharm": {
     "name": "#%%\n"
    }
   }
  },
  {
   "cell_type": "code",
   "execution_count": null,
   "outputs": [],
   "source": [],
   "metadata": {
    "collapsed": false,
    "pycharm": {
     "name": "#%%\n"
    }
   }
  }
 ],
 "metadata": {
  "colab": {
   "collapsed_sections": [
    "Sk3pM4VUpMtl"
   ],
   "name": "PED_projekt.ipynb",
   "provenance": [],
   "toc_visible": true
  },
  "kernelspec": {
   "display_name": "Python 3",
   "name": "python3"
  },
  "language_info": {
   "codemirror_mode": {
    "name": "ipython",
    "version": 3
   },
   "file_extension": ".py",
   "mimetype": "text/x-python",
   "name": "python",
   "nbconvert_exporter": "python",
   "pygments_lexer": "ipython3",
   "version": "3.7.9"
  }
 },
 "nbformat": 4,
 "nbformat_minor": 0
}