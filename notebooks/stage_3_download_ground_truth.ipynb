{
 "cells": [
  {
   "cell_type": "code",
   "execution_count": 7,
   "outputs": [],
   "source": [
    "import pandas as pd"
   ],
   "metadata": {
    "collapsed": false,
    "pycharm": {
     "name": "#%%\n"
    }
   }
  },
  {
   "cell_type": "code",
   "execution_count": 8,
   "outputs": [
    {
     "data": {
      "text/plain": "           video_id          publishedAt                 channelId  \\\n0       3C66w5Z0ixs  2020-08-11 19:20:14  UCvtRTOMP2TqYqu51xNrqAzg   \n1       M9Pmf9AB4Mo  2020-08-11 17:00:10  UC0ZV6M2THA81QT9hrVWJG3A   \n2       J78aPJ3VyNs  2020-08-11 16:34:06  UCYzPXprvl5Y-Sf0g4vX-m6g   \n3       kXLn3HkpjaA  2020-08-11 16:38:55  UCbg_UMjlHJg_19SZckaKajg   \n4       VIUo6yapDbc  2020-08-11 15:10:05  UCDVPcEbVLQgLZX0Rt6jo34A   \n...             ...                  ...                       ...   \n115336  6WUxgmMDts4  2022-03-01 12:20:37  UCUK0HBIBWgM2c4vsPhkYY4w   \n115337  6-aGt23ytyI  2022-02-28 21:00:02  UCUaT_39o1x6qWjz7K2pWcgw   \n115338  vPgrkl7lEjU  2022-02-28 17:00:39  UCCqEeDAUf4Mg0GgEN658tkA   \n115339  6Svr8l1DwTc  2022-03-01 17:00:04  UCh529hRsYvu9_Scri20NsHg   \n115340  hBF4TxpTW3Y  2022-02-28 22:00:26  UCqls08lc29RNv0JNqnOJwWA   \n\n            channelTitle  categoryId        trending_date  view_count   likes  \\\n0               Brawadis           0  2020-08-12 00:00:00     1514614  156908   \n1           Apex Legends          20  2020-08-12 00:00:00     2381688  146739   \n2          jacksepticeye           0  2020-08-12 00:00:00     2038853  353787   \n3                    XXL           0  2020-08-12 00:00:00      496771   23251   \n4               Mr. Kate           0  2020-08-12 00:00:00     1123889   45802   \n...                  ...         ...                  ...         ...     ...   \n115336  The Slow Mo Guys           0  2022-03-07 00:00:00      981279   70153   \n115337      Beast Reacts           0  2022-03-07 00:00:00     7810455  288862   \n115338   Chris Stuckmann           0  2022-03-07 00:00:00     1428477   79929   \n115339            Spider           0  2022-03-07 00:00:00     1378788    8789   \n115340            Yoatzi           0  2022-03-07 00:00:00      883751   57842   \n\n        comment_count                                  thumbnail_link  ...  \\\n0               35313  https://i.ytimg.com/vi/3C66w5Z0ixs/default.jpg  ...   \n1               16549  https://i.ytimg.com/vi/M9Pmf9AB4Mo/default.jpg  ...   \n2               40221  https://i.ytimg.com/vi/J78aPJ3VyNs/default.jpg  ...   \n3                7647  https://i.ytimg.com/vi/kXLn3HkpjaA/default.jpg  ...   \n4                2196  https://i.ytimg.com/vi/VIUo6yapDbc/default.jpg  ...   \n...               ...                                             ...  ...   \n115336           3845  https://i.ytimg.com/vi/6WUxgmMDts4/default.jpg  ...   \n115337           8338  https://i.ytimg.com/vi/6-aGt23ytyI/default.jpg  ...   \n115338           5672  https://i.ytimg.com/vi/vPgrkl7lEjU/default.jpg  ...   \n115339             83  https://i.ytimg.com/vi/6Svr8l1DwTc/default.jpg  ...   \n115340           3435  https://i.ytimg.com/vi/hBF4TxpTW3Y/default.jpg  ...   \n\n        title_capital_letters  title_punctuation  description_height  \\\n0                    0.735294           0.088235                   7   \n1                    0.100000           0.016667                   0   \n2                    0.094340           0.018868                   0   \n3                    0.142857           0.017857                   5   \n4                    0.200000           0.018182                   0   \n...                       ...                ...                 ...   \n115336               0.142857           0.028571                   0   \n115337               0.150000           0.050000                   0   \n115338               0.160000           0.040000                   0   \n115339               0.000000           0.035714                   0   \n115340               0.571429           0.107143                   0   \n\n        description_length description_link_count  tag_count  publishedAtHour  \\\n0                      361                      3         15               19   \n1                      715                      4         25               17   \n2                      513                      7         30               16   \n3                      762                      6         23               16   \n4                     2493                     35         33               15   \n...                    ...                    ...        ...              ...   \n115336                 367                      2         24               12   \n115337                2101                     34         25               21   \n115338                 465                      2         28               17   \n115339                  23                      0          0               17   \n115340                  41                      0          0               22   \n\n        publishedAtDay  publishedAtMonth  publishedAtHoliday  \n0                    1                 8               False  \n1                    1                 8               False  \n2                    1                 8               False  \n3                    1                 8               False  \n4                    1                 8               False  \n...                ...               ...                 ...  \n115336               1                 3               False  \n115337               0                 2               False  \n115338               0                 2               False  \n115339               1                 3               False  \n115340               0                 2               False  \n\n[115341 rows x 26 columns]",
      "text/html": "<div>\n<style scoped>\n    .dataframe tbody tr th:only-of-type {\n        vertical-align: middle;\n    }\n\n    .dataframe tbody tr th {\n        vertical-align: top;\n    }\n\n    .dataframe thead th {\n        text-align: right;\n    }\n</style>\n<table border=\"1\" class=\"dataframe\">\n  <thead>\n    <tr style=\"text-align: right;\">\n      <th></th>\n      <th>video_id</th>\n      <th>publishedAt</th>\n      <th>channelId</th>\n      <th>channelTitle</th>\n      <th>categoryId</th>\n      <th>trending_date</th>\n      <th>view_count</th>\n      <th>likes</th>\n      <th>comment_count</th>\n      <th>thumbnail_link</th>\n      <th>...</th>\n      <th>title_capital_letters</th>\n      <th>title_punctuation</th>\n      <th>description_height</th>\n      <th>description_length</th>\n      <th>description_link_count</th>\n      <th>tag_count</th>\n      <th>publishedAtHour</th>\n      <th>publishedAtDay</th>\n      <th>publishedAtMonth</th>\n      <th>publishedAtHoliday</th>\n    </tr>\n  </thead>\n  <tbody>\n    <tr>\n      <th>0</th>\n      <td>3C66w5Z0ixs</td>\n      <td>2020-08-11 19:20:14</td>\n      <td>UCvtRTOMP2TqYqu51xNrqAzg</td>\n      <td>Brawadis</td>\n      <td>0</td>\n      <td>2020-08-12 00:00:00</td>\n      <td>1514614</td>\n      <td>156908</td>\n      <td>35313</td>\n      <td>https://i.ytimg.com/vi/3C66w5Z0ixs/default.jpg</td>\n      <td>...</td>\n      <td>0.735294</td>\n      <td>0.088235</td>\n      <td>7</td>\n      <td>361</td>\n      <td>3</td>\n      <td>15</td>\n      <td>19</td>\n      <td>1</td>\n      <td>8</td>\n      <td>False</td>\n    </tr>\n    <tr>\n      <th>1</th>\n      <td>M9Pmf9AB4Mo</td>\n      <td>2020-08-11 17:00:10</td>\n      <td>UC0ZV6M2THA81QT9hrVWJG3A</td>\n      <td>Apex Legends</td>\n      <td>20</td>\n      <td>2020-08-12 00:00:00</td>\n      <td>2381688</td>\n      <td>146739</td>\n      <td>16549</td>\n      <td>https://i.ytimg.com/vi/M9Pmf9AB4Mo/default.jpg</td>\n      <td>...</td>\n      <td>0.100000</td>\n      <td>0.016667</td>\n      <td>0</td>\n      <td>715</td>\n      <td>4</td>\n      <td>25</td>\n      <td>17</td>\n      <td>1</td>\n      <td>8</td>\n      <td>False</td>\n    </tr>\n    <tr>\n      <th>2</th>\n      <td>J78aPJ3VyNs</td>\n      <td>2020-08-11 16:34:06</td>\n      <td>UCYzPXprvl5Y-Sf0g4vX-m6g</td>\n      <td>jacksepticeye</td>\n      <td>0</td>\n      <td>2020-08-12 00:00:00</td>\n      <td>2038853</td>\n      <td>353787</td>\n      <td>40221</td>\n      <td>https://i.ytimg.com/vi/J78aPJ3VyNs/default.jpg</td>\n      <td>...</td>\n      <td>0.094340</td>\n      <td>0.018868</td>\n      <td>0</td>\n      <td>513</td>\n      <td>7</td>\n      <td>30</td>\n      <td>16</td>\n      <td>1</td>\n      <td>8</td>\n      <td>False</td>\n    </tr>\n    <tr>\n      <th>3</th>\n      <td>kXLn3HkpjaA</td>\n      <td>2020-08-11 16:38:55</td>\n      <td>UCbg_UMjlHJg_19SZckaKajg</td>\n      <td>XXL</td>\n      <td>0</td>\n      <td>2020-08-12 00:00:00</td>\n      <td>496771</td>\n      <td>23251</td>\n      <td>7647</td>\n      <td>https://i.ytimg.com/vi/kXLn3HkpjaA/default.jpg</td>\n      <td>...</td>\n      <td>0.142857</td>\n      <td>0.017857</td>\n      <td>5</td>\n      <td>762</td>\n      <td>6</td>\n      <td>23</td>\n      <td>16</td>\n      <td>1</td>\n      <td>8</td>\n      <td>False</td>\n    </tr>\n    <tr>\n      <th>4</th>\n      <td>VIUo6yapDbc</td>\n      <td>2020-08-11 15:10:05</td>\n      <td>UCDVPcEbVLQgLZX0Rt6jo34A</td>\n      <td>Mr. Kate</td>\n      <td>0</td>\n      <td>2020-08-12 00:00:00</td>\n      <td>1123889</td>\n      <td>45802</td>\n      <td>2196</td>\n      <td>https://i.ytimg.com/vi/VIUo6yapDbc/default.jpg</td>\n      <td>...</td>\n      <td>0.200000</td>\n      <td>0.018182</td>\n      <td>0</td>\n      <td>2493</td>\n      <td>35</td>\n      <td>33</td>\n      <td>15</td>\n      <td>1</td>\n      <td>8</td>\n      <td>False</td>\n    </tr>\n    <tr>\n      <th>...</th>\n      <td>...</td>\n      <td>...</td>\n      <td>...</td>\n      <td>...</td>\n      <td>...</td>\n      <td>...</td>\n      <td>...</td>\n      <td>...</td>\n      <td>...</td>\n      <td>...</td>\n      <td>...</td>\n      <td>...</td>\n      <td>...</td>\n      <td>...</td>\n      <td>...</td>\n      <td>...</td>\n      <td>...</td>\n      <td>...</td>\n      <td>...</td>\n      <td>...</td>\n      <td>...</td>\n    </tr>\n    <tr>\n      <th>115336</th>\n      <td>6WUxgmMDts4</td>\n      <td>2022-03-01 12:20:37</td>\n      <td>UCUK0HBIBWgM2c4vsPhkYY4w</td>\n      <td>The Slow Mo Guys</td>\n      <td>0</td>\n      <td>2022-03-07 00:00:00</td>\n      <td>981279</td>\n      <td>70153</td>\n      <td>3845</td>\n      <td>https://i.ytimg.com/vi/6WUxgmMDts4/default.jpg</td>\n      <td>...</td>\n      <td>0.142857</td>\n      <td>0.028571</td>\n      <td>0</td>\n      <td>367</td>\n      <td>2</td>\n      <td>24</td>\n      <td>12</td>\n      <td>1</td>\n      <td>3</td>\n      <td>False</td>\n    </tr>\n    <tr>\n      <th>115337</th>\n      <td>6-aGt23ytyI</td>\n      <td>2022-02-28 21:00:02</td>\n      <td>UCUaT_39o1x6qWjz7K2pWcgw</td>\n      <td>Beast Reacts</td>\n      <td>0</td>\n      <td>2022-03-07 00:00:00</td>\n      <td>7810455</td>\n      <td>288862</td>\n      <td>8338</td>\n      <td>https://i.ytimg.com/vi/6-aGt23ytyI/default.jpg</td>\n      <td>...</td>\n      <td>0.150000</td>\n      <td>0.050000</td>\n      <td>0</td>\n      <td>2101</td>\n      <td>34</td>\n      <td>25</td>\n      <td>21</td>\n      <td>0</td>\n      <td>2</td>\n      <td>False</td>\n    </tr>\n    <tr>\n      <th>115338</th>\n      <td>vPgrkl7lEjU</td>\n      <td>2022-02-28 17:00:39</td>\n      <td>UCCqEeDAUf4Mg0GgEN658tkA</td>\n      <td>Chris Stuckmann</td>\n      <td>0</td>\n      <td>2022-03-07 00:00:00</td>\n      <td>1428477</td>\n      <td>79929</td>\n      <td>5672</td>\n      <td>https://i.ytimg.com/vi/vPgrkl7lEjU/default.jpg</td>\n      <td>...</td>\n      <td>0.160000</td>\n      <td>0.040000</td>\n      <td>0</td>\n      <td>465</td>\n      <td>2</td>\n      <td>28</td>\n      <td>17</td>\n      <td>0</td>\n      <td>2</td>\n      <td>False</td>\n    </tr>\n    <tr>\n      <th>115339</th>\n      <td>6Svr8l1DwTc</td>\n      <td>2022-03-01 17:00:04</td>\n      <td>UCh529hRsYvu9_Scri20NsHg</td>\n      <td>Spider</td>\n      <td>0</td>\n      <td>2022-03-07 00:00:00</td>\n      <td>1378788</td>\n      <td>8789</td>\n      <td>83</td>\n      <td>https://i.ytimg.com/vi/6Svr8l1DwTc/default.jpg</td>\n      <td>...</td>\n      <td>0.000000</td>\n      <td>0.035714</td>\n      <td>0</td>\n      <td>23</td>\n      <td>0</td>\n      <td>0</td>\n      <td>17</td>\n      <td>1</td>\n      <td>3</td>\n      <td>False</td>\n    </tr>\n    <tr>\n      <th>115340</th>\n      <td>hBF4TxpTW3Y</td>\n      <td>2022-02-28 22:00:26</td>\n      <td>UCqls08lc29RNv0JNqnOJwWA</td>\n      <td>Yoatzi</td>\n      <td>0</td>\n      <td>2022-03-07 00:00:00</td>\n      <td>883751</td>\n      <td>57842</td>\n      <td>3435</td>\n      <td>https://i.ytimg.com/vi/hBF4TxpTW3Y/default.jpg</td>\n      <td>...</td>\n      <td>0.571429</td>\n      <td>0.107143</td>\n      <td>0</td>\n      <td>41</td>\n      <td>0</td>\n      <td>0</td>\n      <td>22</td>\n      <td>0</td>\n      <td>2</td>\n      <td>False</td>\n    </tr>\n  </tbody>\n</table>\n<p>115341 rows × 26 columns</p>\n</div>"
     },
     "execution_count": 8,
     "metadata": {},
     "output_type": "execute_result"
    }
   ],
   "source": [
    "us_trending_df = pd.read_csv(\"./data/stage_1_us_trending.csv\")\n",
    "us_trending_df"
   ],
   "metadata": {
    "collapsed": false,
    "pycharm": {
     "name": "#%%\n"
    }
   }
  },
  {
   "cell_type": "code",
   "execution_count": 9,
   "outputs": [
    {
     "data": {
      "text/plain": "array(['3C66w5Z0ixs', 'J78aPJ3VyNs', 'kXLn3HkpjaA', ..., 'ZGsavMW4770',\n       '_3xV0J3dzMs', 'h2UN0EtuY1g'], dtype=object)"
     },
     "execution_count": 9,
     "metadata": {},
     "output_type": "execute_result"
    }
   ],
   "source": [
    "video_ids = us_trending_df[us_trending_df['categoryId'] == 0]['video_id'].unique()\n",
    "video_ids"
   ],
   "metadata": {
    "collapsed": false,
    "pycharm": {
     "name": "#%%\n"
    }
   }
  },
  {
   "cell_type": "code",
   "execution_count": 10,
   "outputs": [
    {
     "name": "stdout",
     "output_type": "stream",
     "text": [
      "16655\n"
     ]
    }
   ],
   "source": [
    "print(len(video_ids))"
   ],
   "metadata": {
    "collapsed": false,
    "pycharm": {
     "name": "#%%\n"
    }
   }
  },
  {
   "cell_type": "code",
   "execution_count": 11,
   "outputs": [
    {
     "data": {
      "text/plain": "  0%|          | 0/334 [00:00<?, ?it/s]",
      "application/vnd.jupyter.widget-view+json": {
       "version_major": 2,
       "version_minor": 0,
       "model_id": "bbb72e1f54ae4088bb03a3342cfdf81c"
      }
     },
     "metadata": {},
     "output_type": "display_data"
    }
   ],
   "source": [
    "from notebooks.youtube_api import download_video_categories\n",
    "\n",
    "category_ids = download_video_categories(video_ids)"
   ],
   "metadata": {
    "collapsed": false,
    "pycharm": {
     "name": "#%%\n"
    }
   }
  },
  {
   "cell_type": "code",
   "execution_count": 12,
   "outputs": [
    {
     "data": {
      "text/plain": "16249"
     },
     "execution_count": 12,
     "metadata": {},
     "output_type": "execute_result"
    }
   ],
   "source": [
    "len(category_ids)"
   ],
   "metadata": {
    "collapsed": false,
    "pycharm": {
     "name": "#%%\n"
    }
   }
  },
  {
   "cell_type": "code",
   "execution_count": 13,
   "outputs": [],
   "source": [
    "category_ids_list = []\n",
    "selected_video_ids = us_trending_df['video_id'].isin(set(list(video_ids)))\n",
    "\n",
    "for video_id in us_trending_df.loc[selected_video_ids, 'video_id']:\n",
    "    category_ids_list.append(category_ids.get(video_id, 0))\n",
    "\n",
    "us_trending_df.loc[selected_video_ids, 'categoryId'] = category_ids_list"
   ],
   "metadata": {
    "collapsed": false,
    "pycharm": {
     "name": "#%%\n"
    }
   }
  },
  {
   "cell_type": "code",
   "execution_count": 14,
   "outputs": [
    {
     "data": {
      "text/plain": "           video_id          publishedAt                 channelId  \\\n26      Que4RnxYLNc  2020-08-11 19:15:10  UCtpzjafUx5qbmxJdqm4-qmg   \n183     3bC2T0oFwoo  2020-08-05 19:00:01  UCIcgBZ9hEJxHv6r_jDYOMqg   \n184     JLsDWPsx23c  2020-08-06 14:05:56  UCYAJjqIukwm4r3GHEpJDhVw   \n238     Que4RnxYLNc  2020-08-11 19:15:10  UCtpzjafUx5qbmxJdqm4-qmg   \n459     Que4RnxYLNc  2020-08-11 19:15:10  UCtpzjafUx5qbmxJdqm4-qmg   \n...             ...                  ...                       ...   \n114578  ix8dp_rVGPE  2022-03-02 23:28:12  UCMEKmr5HuB9uA0VFKkgI0ZQ   \n114734  pzN1dbBTOvQ  2022-02-25 06:16:16  UCcEWv_J2SEU8XO2tEm4Phgw   \n114814  PphvNIXOXJg  2022-03-02 23:16:16  UCcW055_DGSkCEGWoKsW7gFQ   \n114820  ix8dp_rVGPE  2022-03-02 23:28:12  UCMEKmr5HuB9uA0VFKkgI0ZQ   \n115061  PphvNIXOXJg  2022-03-02 23:16:16  UCcW055_DGSkCEGWoKsW7gFQ   \n\n                          channelTitle categoryId        trending_date  \\\n26                           iann dior          0  2020-08-12 00:00:00   \n183                         Unus Annus          0  2020-08-12 00:00:00   \n184                             NBA 2K          0  2020-08-12 00:00:00   \n238                          iann dior          0  2020-08-13 00:00:00   \n459                          iann dior          0  2020-08-14 00:00:00   \n...                                ...        ...                  ...   \n114578  MCU POVS ‘n all related things          0  2022-03-04 00:00:00   \n114734                       Univision          0  2022-03-04 00:00:00   \n114814                   scribblejuice          0  2022-03-05 00:00:00   \n114820  MCU POVS ‘n all related things          0  2022-03-05 00:00:00   \n115061                   scribblejuice          0  2022-03-06 00:00:00   \n\n        view_count   likes  comment_count  \\\n26          187835   23938           1895   \n183        4971181  360168          48742   \n184         568246   13918           4488   \n238         396034   29035           2228   \n459         489744   35290           2468   \n...            ...     ...            ...   \n114578      291794   11783            229   \n114734     1986620   60971           2348   \n114814      437256   55666           2518   \n114820      297041   11986            218   \n115061      474275   59185           2618   \n\n                                        thumbnail_link  ...  \\\n26      https://i.ytimg.com/vi/Que4RnxYLNc/default.jpg  ...   \n183     https://i.ytimg.com/vi/3bC2T0oFwoo/default.jpg  ...   \n184     https://i.ytimg.com/vi/JLsDWPsx23c/default.jpg  ...   \n238     https://i.ytimg.com/vi/Que4RnxYLNc/default.jpg  ...   \n459     https://i.ytimg.com/vi/Que4RnxYLNc/default.jpg  ...   \n...                                                ...  ...   \n114578  https://i.ytimg.com/vi/ix8dp_rVGPE/default.jpg  ...   \n114734  https://i.ytimg.com/vi/pzN1dbBTOvQ/default.jpg  ...   \n114814  https://i.ytimg.com/vi/PphvNIXOXJg/default.jpg  ...   \n114820  https://i.ytimg.com/vi/ix8dp_rVGPE/default.jpg  ...   \n115061  https://i.ytimg.com/vi/PphvNIXOXJg/default.jpg  ...   \n\n        title_capital_letters  title_punctuation  description_height  \\\n26                   0.100000           0.060000                   0   \n183                  0.133333           0.000000                   0   \n184                  0.176471           0.058824                   0   \n238                  0.100000           0.060000                   0   \n459                  0.100000           0.060000                   0   \n...                       ...                ...                 ...   \n114578               0.111111           0.055556                   0   \n114734               0.101010           0.040404                   0   \n114814               0.000000           0.151515                   0   \n114820               0.111111           0.055556                   0   \n115061               0.000000           0.151515                   0   \n\n        description_length description_link_count  tag_count  publishedAtHour  \\\n26                    4710                     15         34               19   \n183                    770                      8          5               19   \n184                    184                      1          0               14   \n238                   4710                     15         34               19   \n459                   4710                     15         34               19   \n...                    ...                    ...        ...              ...   \n114578                   0                      0          0               23   \n114734                 754                      5          9                6   \n114814                 285                      0          0               23   \n114820                   0                      0          0               23   \n115061                 285                      0          0               23   \n\n        publishedAtDay  publishedAtMonth  publishedAtHoliday  \n26                   1                 8               False  \n183                  2                 8               False  \n184                  3                 8               False  \n238                  1                 8               False  \n459                  1                 8               False  \n...                ...               ...                 ...  \n114578               2                 3               False  \n114734               4                 2               False  \n114814               2                 3               False  \n114820               2                 3               False  \n115061               2                 3               False  \n\n[2091 rows x 26 columns]",
      "text/html": "<div>\n<style scoped>\n    .dataframe tbody tr th:only-of-type {\n        vertical-align: middle;\n    }\n\n    .dataframe tbody tr th {\n        vertical-align: top;\n    }\n\n    .dataframe thead th {\n        text-align: right;\n    }\n</style>\n<table border=\"1\" class=\"dataframe\">\n  <thead>\n    <tr style=\"text-align: right;\">\n      <th></th>\n      <th>video_id</th>\n      <th>publishedAt</th>\n      <th>channelId</th>\n      <th>channelTitle</th>\n      <th>categoryId</th>\n      <th>trending_date</th>\n      <th>view_count</th>\n      <th>likes</th>\n      <th>comment_count</th>\n      <th>thumbnail_link</th>\n      <th>...</th>\n      <th>title_capital_letters</th>\n      <th>title_punctuation</th>\n      <th>description_height</th>\n      <th>description_length</th>\n      <th>description_link_count</th>\n      <th>tag_count</th>\n      <th>publishedAtHour</th>\n      <th>publishedAtDay</th>\n      <th>publishedAtMonth</th>\n      <th>publishedAtHoliday</th>\n    </tr>\n  </thead>\n  <tbody>\n    <tr>\n      <th>26</th>\n      <td>Que4RnxYLNc</td>\n      <td>2020-08-11 19:15:10</td>\n      <td>UCtpzjafUx5qbmxJdqm4-qmg</td>\n      <td>iann dior</td>\n      <td>0</td>\n      <td>2020-08-12 00:00:00</td>\n      <td>187835</td>\n      <td>23938</td>\n      <td>1895</td>\n      <td>https://i.ytimg.com/vi/Que4RnxYLNc/default.jpg</td>\n      <td>...</td>\n      <td>0.100000</td>\n      <td>0.060000</td>\n      <td>0</td>\n      <td>4710</td>\n      <td>15</td>\n      <td>34</td>\n      <td>19</td>\n      <td>1</td>\n      <td>8</td>\n      <td>False</td>\n    </tr>\n    <tr>\n      <th>183</th>\n      <td>3bC2T0oFwoo</td>\n      <td>2020-08-05 19:00:01</td>\n      <td>UCIcgBZ9hEJxHv6r_jDYOMqg</td>\n      <td>Unus Annus</td>\n      <td>0</td>\n      <td>2020-08-12 00:00:00</td>\n      <td>4971181</td>\n      <td>360168</td>\n      <td>48742</td>\n      <td>https://i.ytimg.com/vi/3bC2T0oFwoo/default.jpg</td>\n      <td>...</td>\n      <td>0.133333</td>\n      <td>0.000000</td>\n      <td>0</td>\n      <td>770</td>\n      <td>8</td>\n      <td>5</td>\n      <td>19</td>\n      <td>2</td>\n      <td>8</td>\n      <td>False</td>\n    </tr>\n    <tr>\n      <th>184</th>\n      <td>JLsDWPsx23c</td>\n      <td>2020-08-06 14:05:56</td>\n      <td>UCYAJjqIukwm4r3GHEpJDhVw</td>\n      <td>NBA 2K</td>\n      <td>0</td>\n      <td>2020-08-12 00:00:00</td>\n      <td>568246</td>\n      <td>13918</td>\n      <td>4488</td>\n      <td>https://i.ytimg.com/vi/JLsDWPsx23c/default.jpg</td>\n      <td>...</td>\n      <td>0.176471</td>\n      <td>0.058824</td>\n      <td>0</td>\n      <td>184</td>\n      <td>1</td>\n      <td>0</td>\n      <td>14</td>\n      <td>3</td>\n      <td>8</td>\n      <td>False</td>\n    </tr>\n    <tr>\n      <th>238</th>\n      <td>Que4RnxYLNc</td>\n      <td>2020-08-11 19:15:10</td>\n      <td>UCtpzjafUx5qbmxJdqm4-qmg</td>\n      <td>iann dior</td>\n      <td>0</td>\n      <td>2020-08-13 00:00:00</td>\n      <td>396034</td>\n      <td>29035</td>\n      <td>2228</td>\n      <td>https://i.ytimg.com/vi/Que4RnxYLNc/default.jpg</td>\n      <td>...</td>\n      <td>0.100000</td>\n      <td>0.060000</td>\n      <td>0</td>\n      <td>4710</td>\n      <td>15</td>\n      <td>34</td>\n      <td>19</td>\n      <td>1</td>\n      <td>8</td>\n      <td>False</td>\n    </tr>\n    <tr>\n      <th>459</th>\n      <td>Que4RnxYLNc</td>\n      <td>2020-08-11 19:15:10</td>\n      <td>UCtpzjafUx5qbmxJdqm4-qmg</td>\n      <td>iann dior</td>\n      <td>0</td>\n      <td>2020-08-14 00:00:00</td>\n      <td>489744</td>\n      <td>35290</td>\n      <td>2468</td>\n      <td>https://i.ytimg.com/vi/Que4RnxYLNc/default.jpg</td>\n      <td>...</td>\n      <td>0.100000</td>\n      <td>0.060000</td>\n      <td>0</td>\n      <td>4710</td>\n      <td>15</td>\n      <td>34</td>\n      <td>19</td>\n      <td>1</td>\n      <td>8</td>\n      <td>False</td>\n    </tr>\n    <tr>\n      <th>...</th>\n      <td>...</td>\n      <td>...</td>\n      <td>...</td>\n      <td>...</td>\n      <td>...</td>\n      <td>...</td>\n      <td>...</td>\n      <td>...</td>\n      <td>...</td>\n      <td>...</td>\n      <td>...</td>\n      <td>...</td>\n      <td>...</td>\n      <td>...</td>\n      <td>...</td>\n      <td>...</td>\n      <td>...</td>\n      <td>...</td>\n      <td>...</td>\n      <td>...</td>\n      <td>...</td>\n    </tr>\n    <tr>\n      <th>114578</th>\n      <td>ix8dp_rVGPE</td>\n      <td>2022-03-02 23:28:12</td>\n      <td>UCMEKmr5HuB9uA0VFKkgI0ZQ</td>\n      <td>MCU POVS ‘n all related things</td>\n      <td>0</td>\n      <td>2022-03-04 00:00:00</td>\n      <td>291794</td>\n      <td>11783</td>\n      <td>229</td>\n      <td>https://i.ytimg.com/vi/ix8dp_rVGPE/default.jpg</td>\n      <td>...</td>\n      <td>0.111111</td>\n      <td>0.055556</td>\n      <td>0</td>\n      <td>0</td>\n      <td>0</td>\n      <td>0</td>\n      <td>23</td>\n      <td>2</td>\n      <td>3</td>\n      <td>False</td>\n    </tr>\n    <tr>\n      <th>114734</th>\n      <td>pzN1dbBTOvQ</td>\n      <td>2022-02-25 06:16:16</td>\n      <td>UCcEWv_J2SEU8XO2tEm4Phgw</td>\n      <td>Univision</td>\n      <td>0</td>\n      <td>2022-03-04 00:00:00</td>\n      <td>1986620</td>\n      <td>60971</td>\n      <td>2348</td>\n      <td>https://i.ytimg.com/vi/pzN1dbBTOvQ/default.jpg</td>\n      <td>...</td>\n      <td>0.101010</td>\n      <td>0.040404</td>\n      <td>0</td>\n      <td>754</td>\n      <td>5</td>\n      <td>9</td>\n      <td>6</td>\n      <td>4</td>\n      <td>2</td>\n      <td>False</td>\n    </tr>\n    <tr>\n      <th>114814</th>\n      <td>PphvNIXOXJg</td>\n      <td>2022-03-02 23:16:16</td>\n      <td>UCcW055_DGSkCEGWoKsW7gFQ</td>\n      <td>scribblejuice</td>\n      <td>0</td>\n      <td>2022-03-05 00:00:00</td>\n      <td>437256</td>\n      <td>55666</td>\n      <td>2518</td>\n      <td>https://i.ytimg.com/vi/PphvNIXOXJg/default.jpg</td>\n      <td>...</td>\n      <td>0.000000</td>\n      <td>0.151515</td>\n      <td>0</td>\n      <td>285</td>\n      <td>0</td>\n      <td>0</td>\n      <td>23</td>\n      <td>2</td>\n      <td>3</td>\n      <td>False</td>\n    </tr>\n    <tr>\n      <th>114820</th>\n      <td>ix8dp_rVGPE</td>\n      <td>2022-03-02 23:28:12</td>\n      <td>UCMEKmr5HuB9uA0VFKkgI0ZQ</td>\n      <td>MCU POVS ‘n all related things</td>\n      <td>0</td>\n      <td>2022-03-05 00:00:00</td>\n      <td>297041</td>\n      <td>11986</td>\n      <td>218</td>\n      <td>https://i.ytimg.com/vi/ix8dp_rVGPE/default.jpg</td>\n      <td>...</td>\n      <td>0.111111</td>\n      <td>0.055556</td>\n      <td>0</td>\n      <td>0</td>\n      <td>0</td>\n      <td>0</td>\n      <td>23</td>\n      <td>2</td>\n      <td>3</td>\n      <td>False</td>\n    </tr>\n    <tr>\n      <th>115061</th>\n      <td>PphvNIXOXJg</td>\n      <td>2022-03-02 23:16:16</td>\n      <td>UCcW055_DGSkCEGWoKsW7gFQ</td>\n      <td>scribblejuice</td>\n      <td>0</td>\n      <td>2022-03-06 00:00:00</td>\n      <td>474275</td>\n      <td>59185</td>\n      <td>2618</td>\n      <td>https://i.ytimg.com/vi/PphvNIXOXJg/default.jpg</td>\n      <td>...</td>\n      <td>0.000000</td>\n      <td>0.151515</td>\n      <td>0</td>\n      <td>285</td>\n      <td>0</td>\n      <td>0</td>\n      <td>23</td>\n      <td>2</td>\n      <td>3</td>\n      <td>False</td>\n    </tr>\n  </tbody>\n</table>\n<p>2091 rows × 26 columns</p>\n</div>"
     },
     "execution_count": 14,
     "metadata": {},
     "output_type": "execute_result"
    }
   ],
   "source": [
    "us_trending_df[us_trending_df['categoryId'] == 0]"
   ],
   "metadata": {
    "collapsed": false,
    "pycharm": {
     "name": "#%%\n"
    }
   }
  },
  {
   "cell_type": "code",
   "execution_count": 15,
   "outputs": [],
   "source": [
    "us_trending_df.to_csv(\"data/stage_3_ground_truth.csv\", index=False)"
   ],
   "metadata": {
    "collapsed": false,
    "pycharm": {
     "name": "#%%\n"
    }
   }
  },
  {
   "cell_type": "code",
   "execution_count": 15,
   "outputs": [],
   "source": [],
   "metadata": {
    "collapsed": false,
    "pycharm": {
     "name": "#%%\n"
    }
   }
  }
 ],
 "metadata": {
  "kernelspec": {
   "display_name": "Python 3",
   "language": "python",
   "name": "python3"
  },
  "language_info": {
   "codemirror_mode": {
    "name": "ipython",
    "version": 2
   },
   "file_extension": ".py",
   "mimetype": "text/x-python",
   "name": "python",
   "nbconvert_exporter": "python",
   "pygments_lexer": "ipython2",
   "version": "2.7.6"
  }
 },
 "nbformat": 4,
 "nbformat_minor": 0
}