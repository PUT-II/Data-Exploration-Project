{
 "cells": [
  {
   "cell_type": "code",
   "execution_count": 1,
   "outputs": [],
   "source": [
    "import pandas as pd"
   ],
   "metadata": {
    "collapsed": false,
    "pycharm": {
     "name": "#%%\n"
    }
   }
  },
  {
   "cell_type": "code",
   "execution_count": 2,
   "outputs": [
    {
     "data": {
      "text/plain": "           video_id          publishedAt                 channelId  \\\n0       3C66w5Z0ixs  2020-08-11 19:20:14  UCvtRTOMP2TqYqu51xNrqAzg   \n1       M9Pmf9AB4Mo  2020-08-11 17:00:10  UC0ZV6M2THA81QT9hrVWJG3A   \n2       J78aPJ3VyNs  2020-08-11 16:34:06  UCYzPXprvl5Y-Sf0g4vX-m6g   \n3       kXLn3HkpjaA  2020-08-11 16:38:55  UCbg_UMjlHJg_19SZckaKajg   \n4       VIUo6yapDbc  2020-08-11 15:10:05  UCDVPcEbVLQgLZX0Rt6jo34A   \n...             ...                  ...                       ...   \n115386  6WUxgmMDts4  2022-03-01 12:20:37  UCUK0HBIBWgM2c4vsPhkYY4w   \n115387  6-aGt23ytyI  2022-02-28 21:00:02  UCUaT_39o1x6qWjz7K2pWcgw   \n115388  vPgrkl7lEjU  2022-02-28 17:00:39  UCCqEeDAUf4Mg0GgEN658tkA   \n115389  6Svr8l1DwTc  2022-03-01 17:00:04  UCh529hRsYvu9_Scri20NsHg   \n115390  hBF4TxpTW3Y  2022-02-28 22:00:26  UCqls08lc29RNv0JNqnOJwWA   \n\n            channelTitle  categoryId        trending_date  view_count   likes  \\\n0               Brawadis           0  2020-08-12 00:00:00     1514614  156908   \n1           Apex Legends          20  2020-08-12 00:00:00     2381688  146739   \n2          jacksepticeye           0  2020-08-12 00:00:00     2038853  353787   \n3                    XXL           0  2020-08-12 00:00:00      496771   23251   \n4               Mr. Kate           0  2020-08-12 00:00:00     1123889   45802   \n...                  ...         ...                  ...         ...     ...   \n115386  The Slow Mo Guys           0  2022-03-07 00:00:00      981279   70153   \n115387      Beast Reacts           0  2022-03-07 00:00:00     7810455  288862   \n115388   Chris Stuckmann           0  2022-03-07 00:00:00     1428477   79929   \n115389            Spider           0  2022-03-07 00:00:00     1378788    8789   \n115390            Yoatzi           0  2022-03-07 00:00:00      883751   57842   \n\n        comment_count                                  thumbnail_link  ...  \\\n0               35313  https://i.ytimg.com/vi/3C66w5Z0ixs/default.jpg  ...   \n1               16549  https://i.ytimg.com/vi/M9Pmf9AB4Mo/default.jpg  ...   \n2               40221  https://i.ytimg.com/vi/J78aPJ3VyNs/default.jpg  ...   \n3                7647  https://i.ytimg.com/vi/kXLn3HkpjaA/default.jpg  ...   \n4                2196  https://i.ytimg.com/vi/VIUo6yapDbc/default.jpg  ...   \n...               ...                                             ...  ...   \n115386           3845  https://i.ytimg.com/vi/6WUxgmMDts4/default.jpg  ...   \n115387           8338  https://i.ytimg.com/vi/6-aGt23ytyI/default.jpg  ...   \n115388           5672  https://i.ytimg.com/vi/vPgrkl7lEjU/default.jpg  ...   \n115389             83  https://i.ytimg.com/vi/6Svr8l1DwTc/default.jpg  ...   \n115390           3435  https://i.ytimg.com/vi/hBF4TxpTW3Y/default.jpg  ...   \n\n        title_capital_letters  title_punctuation  description_height  \\\n0                    0.735294           0.088235                   7   \n1                    0.100000           0.016667                   0   \n2                    0.094340           0.018868                   0   \n3                    0.142857           0.017857                   5   \n4                    0.200000           0.018182                   0   \n...                       ...                ...                 ...   \n115386               0.142857           0.028571                   0   \n115387               0.150000           0.050000                   0   \n115388               0.160000           0.040000                   0   \n115389               0.000000           0.035714                   0   \n115390               0.571429           0.107143                   0   \n\n        description_length description_link_count  tag_count  publishedAtHour  \\\n0                      361                      3         15               19   \n1                      715                      4         25               17   \n2                      513                      7         30               16   \n3                      762                      6         23               16   \n4                     2493                     35         33               15   \n...                    ...                    ...        ...              ...   \n115386                 367                      2         24               12   \n115387                2101                     34         25               21   \n115388                 465                      2         28               17   \n115389                  23                      0          0               17   \n115390                  41                      0          0               22   \n\n        publishedAtDay  publishedAtMonth  publishedAtHoliday  \n0                    1                 8               False  \n1                    1                 8               False  \n2                    1                 8               False  \n3                    1                 8               False  \n4                    1                 8               False  \n...                ...               ...                 ...  \n115386               1                 3               False  \n115387               0                 2               False  \n115388               0                 2               False  \n115389               1                 3               False  \n115390               0                 2               False  \n\n[115391 rows x 26 columns]",
      "text/html": "<div>\n<style scoped>\n    .dataframe tbody tr th:only-of-type {\n        vertical-align: middle;\n    }\n\n    .dataframe tbody tr th {\n        vertical-align: top;\n    }\n\n    .dataframe thead th {\n        text-align: right;\n    }\n</style>\n<table border=\"1\" class=\"dataframe\">\n  <thead>\n    <tr style=\"text-align: right;\">\n      <th></th>\n      <th>video_id</th>\n      <th>publishedAt</th>\n      <th>channelId</th>\n      <th>channelTitle</th>\n      <th>categoryId</th>\n      <th>trending_date</th>\n      <th>view_count</th>\n      <th>likes</th>\n      <th>comment_count</th>\n      <th>thumbnail_link</th>\n      <th>...</th>\n      <th>title_capital_letters</th>\n      <th>title_punctuation</th>\n      <th>description_height</th>\n      <th>description_length</th>\n      <th>description_link_count</th>\n      <th>tag_count</th>\n      <th>publishedAtHour</th>\n      <th>publishedAtDay</th>\n      <th>publishedAtMonth</th>\n      <th>publishedAtHoliday</th>\n    </tr>\n  </thead>\n  <tbody>\n    <tr>\n      <th>0</th>\n      <td>3C66w5Z0ixs</td>\n      <td>2020-08-11 19:20:14</td>\n      <td>UCvtRTOMP2TqYqu51xNrqAzg</td>\n      <td>Brawadis</td>\n      <td>0</td>\n      <td>2020-08-12 00:00:00</td>\n      <td>1514614</td>\n      <td>156908</td>\n      <td>35313</td>\n      <td>https://i.ytimg.com/vi/3C66w5Z0ixs/default.jpg</td>\n      <td>...</td>\n      <td>0.735294</td>\n      <td>0.088235</td>\n      <td>7</td>\n      <td>361</td>\n      <td>3</td>\n      <td>15</td>\n      <td>19</td>\n      <td>1</td>\n      <td>8</td>\n      <td>False</td>\n    </tr>\n    <tr>\n      <th>1</th>\n      <td>M9Pmf9AB4Mo</td>\n      <td>2020-08-11 17:00:10</td>\n      <td>UC0ZV6M2THA81QT9hrVWJG3A</td>\n      <td>Apex Legends</td>\n      <td>20</td>\n      <td>2020-08-12 00:00:00</td>\n      <td>2381688</td>\n      <td>146739</td>\n      <td>16549</td>\n      <td>https://i.ytimg.com/vi/M9Pmf9AB4Mo/default.jpg</td>\n      <td>...</td>\n      <td>0.100000</td>\n      <td>0.016667</td>\n      <td>0</td>\n      <td>715</td>\n      <td>4</td>\n      <td>25</td>\n      <td>17</td>\n      <td>1</td>\n      <td>8</td>\n      <td>False</td>\n    </tr>\n    <tr>\n      <th>2</th>\n      <td>J78aPJ3VyNs</td>\n      <td>2020-08-11 16:34:06</td>\n      <td>UCYzPXprvl5Y-Sf0g4vX-m6g</td>\n      <td>jacksepticeye</td>\n      <td>0</td>\n      <td>2020-08-12 00:00:00</td>\n      <td>2038853</td>\n      <td>353787</td>\n      <td>40221</td>\n      <td>https://i.ytimg.com/vi/J78aPJ3VyNs/default.jpg</td>\n      <td>...</td>\n      <td>0.094340</td>\n      <td>0.018868</td>\n      <td>0</td>\n      <td>513</td>\n      <td>7</td>\n      <td>30</td>\n      <td>16</td>\n      <td>1</td>\n      <td>8</td>\n      <td>False</td>\n    </tr>\n    <tr>\n      <th>3</th>\n      <td>kXLn3HkpjaA</td>\n      <td>2020-08-11 16:38:55</td>\n      <td>UCbg_UMjlHJg_19SZckaKajg</td>\n      <td>XXL</td>\n      <td>0</td>\n      <td>2020-08-12 00:00:00</td>\n      <td>496771</td>\n      <td>23251</td>\n      <td>7647</td>\n      <td>https://i.ytimg.com/vi/kXLn3HkpjaA/default.jpg</td>\n      <td>...</td>\n      <td>0.142857</td>\n      <td>0.017857</td>\n      <td>5</td>\n      <td>762</td>\n      <td>6</td>\n      <td>23</td>\n      <td>16</td>\n      <td>1</td>\n      <td>8</td>\n      <td>False</td>\n    </tr>\n    <tr>\n      <th>4</th>\n      <td>VIUo6yapDbc</td>\n      <td>2020-08-11 15:10:05</td>\n      <td>UCDVPcEbVLQgLZX0Rt6jo34A</td>\n      <td>Mr. Kate</td>\n      <td>0</td>\n      <td>2020-08-12 00:00:00</td>\n      <td>1123889</td>\n      <td>45802</td>\n      <td>2196</td>\n      <td>https://i.ytimg.com/vi/VIUo6yapDbc/default.jpg</td>\n      <td>...</td>\n      <td>0.200000</td>\n      <td>0.018182</td>\n      <td>0</td>\n      <td>2493</td>\n      <td>35</td>\n      <td>33</td>\n      <td>15</td>\n      <td>1</td>\n      <td>8</td>\n      <td>False</td>\n    </tr>\n    <tr>\n      <th>...</th>\n      <td>...</td>\n      <td>...</td>\n      <td>...</td>\n      <td>...</td>\n      <td>...</td>\n      <td>...</td>\n      <td>...</td>\n      <td>...</td>\n      <td>...</td>\n      <td>...</td>\n      <td>...</td>\n      <td>...</td>\n      <td>...</td>\n      <td>...</td>\n      <td>...</td>\n      <td>...</td>\n      <td>...</td>\n      <td>...</td>\n      <td>...</td>\n      <td>...</td>\n      <td>...</td>\n    </tr>\n    <tr>\n      <th>115386</th>\n      <td>6WUxgmMDts4</td>\n      <td>2022-03-01 12:20:37</td>\n      <td>UCUK0HBIBWgM2c4vsPhkYY4w</td>\n      <td>The Slow Mo Guys</td>\n      <td>0</td>\n      <td>2022-03-07 00:00:00</td>\n      <td>981279</td>\n      <td>70153</td>\n      <td>3845</td>\n      <td>https://i.ytimg.com/vi/6WUxgmMDts4/default.jpg</td>\n      <td>...</td>\n      <td>0.142857</td>\n      <td>0.028571</td>\n      <td>0</td>\n      <td>367</td>\n      <td>2</td>\n      <td>24</td>\n      <td>12</td>\n      <td>1</td>\n      <td>3</td>\n      <td>False</td>\n    </tr>\n    <tr>\n      <th>115387</th>\n      <td>6-aGt23ytyI</td>\n      <td>2022-02-28 21:00:02</td>\n      <td>UCUaT_39o1x6qWjz7K2pWcgw</td>\n      <td>Beast Reacts</td>\n      <td>0</td>\n      <td>2022-03-07 00:00:00</td>\n      <td>7810455</td>\n      <td>288862</td>\n      <td>8338</td>\n      <td>https://i.ytimg.com/vi/6-aGt23ytyI/default.jpg</td>\n      <td>...</td>\n      <td>0.150000</td>\n      <td>0.050000</td>\n      <td>0</td>\n      <td>2101</td>\n      <td>34</td>\n      <td>25</td>\n      <td>21</td>\n      <td>0</td>\n      <td>2</td>\n      <td>False</td>\n    </tr>\n    <tr>\n      <th>115388</th>\n      <td>vPgrkl7lEjU</td>\n      <td>2022-02-28 17:00:39</td>\n      <td>UCCqEeDAUf4Mg0GgEN658tkA</td>\n      <td>Chris Stuckmann</td>\n      <td>0</td>\n      <td>2022-03-07 00:00:00</td>\n      <td>1428477</td>\n      <td>79929</td>\n      <td>5672</td>\n      <td>https://i.ytimg.com/vi/vPgrkl7lEjU/default.jpg</td>\n      <td>...</td>\n      <td>0.160000</td>\n      <td>0.040000</td>\n      <td>0</td>\n      <td>465</td>\n      <td>2</td>\n      <td>28</td>\n      <td>17</td>\n      <td>0</td>\n      <td>2</td>\n      <td>False</td>\n    </tr>\n    <tr>\n      <th>115389</th>\n      <td>6Svr8l1DwTc</td>\n      <td>2022-03-01 17:00:04</td>\n      <td>UCh529hRsYvu9_Scri20NsHg</td>\n      <td>Spider</td>\n      <td>0</td>\n      <td>2022-03-07 00:00:00</td>\n      <td>1378788</td>\n      <td>8789</td>\n      <td>83</td>\n      <td>https://i.ytimg.com/vi/6Svr8l1DwTc/default.jpg</td>\n      <td>...</td>\n      <td>0.000000</td>\n      <td>0.035714</td>\n      <td>0</td>\n      <td>23</td>\n      <td>0</td>\n      <td>0</td>\n      <td>17</td>\n      <td>1</td>\n      <td>3</td>\n      <td>False</td>\n    </tr>\n    <tr>\n      <th>115390</th>\n      <td>hBF4TxpTW3Y</td>\n      <td>2022-02-28 22:00:26</td>\n      <td>UCqls08lc29RNv0JNqnOJwWA</td>\n      <td>Yoatzi</td>\n      <td>0</td>\n      <td>2022-03-07 00:00:00</td>\n      <td>883751</td>\n      <td>57842</td>\n      <td>3435</td>\n      <td>https://i.ytimg.com/vi/hBF4TxpTW3Y/default.jpg</td>\n      <td>...</td>\n      <td>0.571429</td>\n      <td>0.107143</td>\n      <td>0</td>\n      <td>41</td>\n      <td>0</td>\n      <td>0</td>\n      <td>22</td>\n      <td>0</td>\n      <td>2</td>\n      <td>False</td>\n    </tr>\n  </tbody>\n</table>\n<p>115391 rows × 26 columns</p>\n</div>"
     },
     "execution_count": 2,
     "metadata": {},
     "output_type": "execute_result"
    }
   ],
   "source": [
    "us_trending_df = pd.read_csv(\"./data/stage_1_us_trending.csv\")\n",
    "us_trending_df"
   ],
   "metadata": {
    "collapsed": false,
    "pycharm": {
     "name": "#%%\n"
    }
   }
  },
  {
   "cell_type": "code",
   "execution_count": 3,
   "outputs": [
    {
     "data": {
      "text/plain": "array(['3C66w5Z0ixs', 'J78aPJ3VyNs', 'kXLn3HkpjaA', ..., 'ZGsavMW4770',\n       '_3xV0J3dzMs', 'h2UN0EtuY1g'], dtype=object)"
     },
     "execution_count": 3,
     "metadata": {},
     "output_type": "execute_result"
    }
   ],
   "source": [
    "video_ids = us_trending_df[us_trending_df['categoryId'] == 0]['video_id'].unique()\n",
    "video_ids"
   ],
   "metadata": {
    "collapsed": false,
    "pycharm": {
     "name": "#%%\n"
    }
   }
  },
  {
   "cell_type": "code",
   "execution_count": 4,
   "outputs": [
    {
     "name": "stdout",
     "output_type": "stream",
     "text": [
      "16664\n"
     ]
    }
   ],
   "source": [
    "print(len(video_ids))"
   ],
   "metadata": {
    "collapsed": false,
    "pycharm": {
     "name": "#%%\n"
    }
   }
  },
  {
   "cell_type": "code",
   "execution_count": 5,
   "outputs": [
    {
     "name": "stderr",
     "output_type": "stream",
     "text": [
      " 16%|█▌        | 53/334 [00:11<01:01,  4.59it/s]\n"
     ]
    },
    {
     "ename": "KeyboardInterrupt",
     "evalue": "",
     "output_type": "error",
     "traceback": [
      "\u001B[1;31m---------------------------------------------------------------------------\u001B[0m",
      "\u001B[1;31mKeyboardInterrupt\u001B[0m                         Traceback (most recent call last)",
      "\u001B[1;32m~\\AppData\\Local\\Temp\\ipykernel_7644\\3409874097.py\u001B[0m in \u001B[0;36m<module>\u001B[1;34m\u001B[0m\n\u001B[0;32m      1\u001B[0m \u001B[1;32mfrom\u001B[0m \u001B[0myoutube_api\u001B[0m \u001B[1;32mimport\u001B[0m \u001B[0mdownload_video_categories\u001B[0m\u001B[1;33m\u001B[0m\u001B[1;33m\u001B[0m\u001B[0m\n\u001B[0;32m      2\u001B[0m \u001B[1;33m\u001B[0m\u001B[0m\n\u001B[1;32m----> 3\u001B[1;33m \u001B[0mcategory_ids\u001B[0m \u001B[1;33m=\u001B[0m \u001B[0mdownload_video_categories\u001B[0m\u001B[1;33m(\u001B[0m\u001B[0mvideo_ids\u001B[0m\u001B[1;33m)\u001B[0m\u001B[1;33m\u001B[0m\u001B[1;33m\u001B[0m\u001B[0m\n\u001B[0m",
      "\u001B[1;32m~\\Semestr X\\Data-Exploration-Project\\notebooks\\youtube_api.py\u001B[0m in \u001B[0;36mdownload_video_categories\u001B[1;34m(video_ids)\u001B[0m\n\u001B[0;32m     15\u001B[0m     \u001B[0mcategory_ids\u001B[0m \u001B[1;33m=\u001B[0m \u001B[1;33m{\u001B[0m\u001B[1;33m}\u001B[0m\u001B[1;33m\u001B[0m\u001B[1;33m\u001B[0m\u001B[0m\n\u001B[0;32m     16\u001B[0m     \u001B[1;32mfor\u001B[0m \u001B[0mchunk\u001B[0m \u001B[1;32min\u001B[0m \u001B[0mtqdm\u001B[0m\u001B[1;33m.\u001B[0m\u001B[0mtqdm\u001B[0m\u001B[1;33m(\u001B[0m\u001B[0mvideo_ids_chunks\u001B[0m\u001B[1;33m)\u001B[0m\u001B[1;33m:\u001B[0m\u001B[1;33m\u001B[0m\u001B[1;33m\u001B[0m\u001B[0m\n\u001B[1;32m---> 17\u001B[1;33m         \u001B[0mvideos_result\u001B[0m \u001B[1;33m=\u001B[0m \u001B[0m__download_videos\u001B[0m\u001B[1;33m(\u001B[0m\u001B[0myoutube_client\u001B[0m\u001B[1;33m,\u001B[0m \u001B[0mids\u001B[0m\u001B[1;33m=\u001B[0m\u001B[0mchunk\u001B[0m\u001B[1;33m,\u001B[0m \u001B[0mpart\u001B[0m\u001B[1;33m=\u001B[0m\u001B[1;34m'snippet'\u001B[0m\u001B[1;33m)\u001B[0m\u001B[1;33m\u001B[0m\u001B[1;33m\u001B[0m\u001B[0m\n\u001B[0m\u001B[0;32m     18\u001B[0m         \u001B[1;32mfor\u001B[0m \u001B[0mitem\u001B[0m \u001B[1;32min\u001B[0m \u001B[0mvideos_result\u001B[0m\u001B[1;33m[\u001B[0m\u001B[1;34m'items'\u001B[0m\u001B[1;33m]\u001B[0m\u001B[1;33m:\u001B[0m\u001B[1;33m\u001B[0m\u001B[1;33m\u001B[0m\u001B[0m\n\u001B[0;32m     19\u001B[0m             \u001B[0mcategory_ids\u001B[0m\u001B[1;33m[\u001B[0m\u001B[0mitem\u001B[0m\u001B[1;33m[\u001B[0m\u001B[1;34m'id'\u001B[0m\u001B[1;33m]\u001B[0m\u001B[1;33m]\u001B[0m \u001B[1;33m=\u001B[0m \u001B[0mitem\u001B[0m\u001B[1;33m[\u001B[0m\u001B[1;34m'snippet'\u001B[0m\u001B[1;33m]\u001B[0m\u001B[1;33m[\u001B[0m\u001B[1;34m'categoryId'\u001B[0m\u001B[1;33m]\u001B[0m\u001B[1;33m\u001B[0m\u001B[1;33m\u001B[0m\u001B[0m\n",
      "\u001B[1;32m~\\Semestr X\\Data-Exploration-Project\\notebooks\\youtube_api.py\u001B[0m in \u001B[0;36m__download_videos\u001B[1;34m(youtube_client, page_token, ids, part)\u001B[0m\n\u001B[0;32m    106\u001B[0m         \u001B[0mmaxResults\u001B[0m\u001B[1;33m=\u001B[0m\u001B[1;36m50\u001B[0m\u001B[1;33m\u001B[0m\u001B[1;33m\u001B[0m\u001B[0m\n\u001B[0;32m    107\u001B[0m     )\n\u001B[1;32m--> 108\u001B[1;33m     \u001B[0msearch_result\u001B[0m\u001B[1;33m:\u001B[0m \u001B[0mdict\u001B[0m \u001B[1;33m=\u001B[0m \u001B[0mrequest\u001B[0m\u001B[1;33m.\u001B[0m\u001B[0mexecute\u001B[0m\u001B[1;33m(\u001B[0m\u001B[1;33m)\u001B[0m\u001B[1;33m\u001B[0m\u001B[1;33m\u001B[0m\u001B[0m\n\u001B[0m\u001B[0;32m    109\u001B[0m     \u001B[1;32mreturn\u001B[0m \u001B[0msearch_result\u001B[0m\u001B[1;33m\u001B[0m\u001B[1;33m\u001B[0m\u001B[0m\n\u001B[0;32m    110\u001B[0m \u001B[1;33m\u001B[0m\u001B[0m\n",
      "\u001B[1;32mc:\\users\\festo\\semestr x\\data-exploration-project\\venv\\lib\\site-packages\\googleapiclient\\_helpers.py\u001B[0m in \u001B[0;36mpositional_wrapper\u001B[1;34m(*args, **kwargs)\u001B[0m\n\u001B[0;32m    129\u001B[0m                 \u001B[1;32melif\u001B[0m \u001B[0mpositional_parameters_enforcement\u001B[0m \u001B[1;33m==\u001B[0m \u001B[0mPOSITIONAL_WARNING\u001B[0m\u001B[1;33m:\u001B[0m\u001B[1;33m\u001B[0m\u001B[1;33m\u001B[0m\u001B[0m\n\u001B[0;32m    130\u001B[0m                     \u001B[0mlogger\u001B[0m\u001B[1;33m.\u001B[0m\u001B[0mwarning\u001B[0m\u001B[1;33m(\u001B[0m\u001B[0mmessage\u001B[0m\u001B[1;33m)\u001B[0m\u001B[1;33m\u001B[0m\u001B[1;33m\u001B[0m\u001B[0m\n\u001B[1;32m--> 131\u001B[1;33m             \u001B[1;32mreturn\u001B[0m \u001B[0mwrapped\u001B[0m\u001B[1;33m(\u001B[0m\u001B[1;33m*\u001B[0m\u001B[0margs\u001B[0m\u001B[1;33m,\u001B[0m \u001B[1;33m**\u001B[0m\u001B[0mkwargs\u001B[0m\u001B[1;33m)\u001B[0m\u001B[1;33m\u001B[0m\u001B[1;33m\u001B[0m\u001B[0m\n\u001B[0m\u001B[0;32m    132\u001B[0m \u001B[1;33m\u001B[0m\u001B[0m\n\u001B[0;32m    133\u001B[0m         \u001B[1;32mreturn\u001B[0m \u001B[0mpositional_wrapper\u001B[0m\u001B[1;33m\u001B[0m\u001B[1;33m\u001B[0m\u001B[0m\n",
      "\u001B[1;32mc:\\users\\festo\\semestr x\\data-exploration-project\\venv\\lib\\site-packages\\googleapiclient\\http.py\u001B[0m in \u001B[0;36mexecute\u001B[1;34m(self, http, num_retries)\u001B[0m\n\u001B[0;32m    929\u001B[0m             \u001B[0mmethod\u001B[0m\u001B[1;33m=\u001B[0m\u001B[0mstr\u001B[0m\u001B[1;33m(\u001B[0m\u001B[0mself\u001B[0m\u001B[1;33m.\u001B[0m\u001B[0mmethod\u001B[0m\u001B[1;33m)\u001B[0m\u001B[1;33m,\u001B[0m\u001B[1;33m\u001B[0m\u001B[1;33m\u001B[0m\u001B[0m\n\u001B[0;32m    930\u001B[0m             \u001B[0mbody\u001B[0m\u001B[1;33m=\u001B[0m\u001B[0mself\u001B[0m\u001B[1;33m.\u001B[0m\u001B[0mbody\u001B[0m\u001B[1;33m,\u001B[0m\u001B[1;33m\u001B[0m\u001B[1;33m\u001B[0m\u001B[0m\n\u001B[1;32m--> 931\u001B[1;33m             \u001B[0mheaders\u001B[0m\u001B[1;33m=\u001B[0m\u001B[0mself\u001B[0m\u001B[1;33m.\u001B[0m\u001B[0mheaders\u001B[0m\u001B[1;33m,\u001B[0m\u001B[1;33m\u001B[0m\u001B[1;33m\u001B[0m\u001B[0m\n\u001B[0m\u001B[0;32m    932\u001B[0m         )\n\u001B[0;32m    933\u001B[0m \u001B[1;33m\u001B[0m\u001B[0m\n",
      "\u001B[1;32mc:\\users\\festo\\semestr x\\data-exploration-project\\venv\\lib\\site-packages\\googleapiclient\\http.py\u001B[0m in \u001B[0;36m_retry_request\u001B[1;34m(http, num_retries, req_type, sleep, rand, uri, method, *args, **kwargs)\u001B[0m\n\u001B[0;32m    188\u001B[0m         \u001B[1;32mtry\u001B[0m\u001B[1;33m:\u001B[0m\u001B[1;33m\u001B[0m\u001B[1;33m\u001B[0m\u001B[0m\n\u001B[0;32m    189\u001B[0m             \u001B[0mexception\u001B[0m \u001B[1;33m=\u001B[0m \u001B[1;32mNone\u001B[0m\u001B[1;33m\u001B[0m\u001B[1;33m\u001B[0m\u001B[0m\n\u001B[1;32m--> 190\u001B[1;33m             \u001B[0mresp\u001B[0m\u001B[1;33m,\u001B[0m \u001B[0mcontent\u001B[0m \u001B[1;33m=\u001B[0m \u001B[0mhttp\u001B[0m\u001B[1;33m.\u001B[0m\u001B[0mrequest\u001B[0m\u001B[1;33m(\u001B[0m\u001B[0muri\u001B[0m\u001B[1;33m,\u001B[0m \u001B[0mmethod\u001B[0m\u001B[1;33m,\u001B[0m \u001B[1;33m*\u001B[0m\u001B[0margs\u001B[0m\u001B[1;33m,\u001B[0m \u001B[1;33m**\u001B[0m\u001B[0mkwargs\u001B[0m\u001B[1;33m)\u001B[0m\u001B[1;33m\u001B[0m\u001B[1;33m\u001B[0m\u001B[0m\n\u001B[0m\u001B[0;32m    191\u001B[0m         \u001B[1;31m# Retry on SSL errors and socket timeout errors.\u001B[0m\u001B[1;33m\u001B[0m\u001B[1;33m\u001B[0m\u001B[1;33m\u001B[0m\u001B[0m\n\u001B[0;32m    192\u001B[0m         \u001B[1;32mexcept\u001B[0m \u001B[0m_ssl_SSLError\u001B[0m \u001B[1;32mas\u001B[0m \u001B[0mssl_error\u001B[0m\u001B[1;33m:\u001B[0m\u001B[1;33m\u001B[0m\u001B[1;33m\u001B[0m\u001B[0m\n",
      "\u001B[1;32mc:\\users\\festo\\semestr x\\data-exploration-project\\venv\\lib\\site-packages\\httplib2\\__init__.py\u001B[0m in \u001B[0;36mrequest\u001B[1;34m(self, uri, method, body, headers, redirections, connection_type)\u001B[0m\n\u001B[0;32m   1700\u001B[0m                 \u001B[1;32melse\u001B[0m\u001B[1;33m:\u001B[0m\u001B[1;33m\u001B[0m\u001B[1;33m\u001B[0m\u001B[0m\n\u001B[0;32m   1701\u001B[0m                     (response, content) = self._request(\n\u001B[1;32m-> 1702\u001B[1;33m                         \u001B[0mconn\u001B[0m\u001B[1;33m,\u001B[0m \u001B[0mauthority\u001B[0m\u001B[1;33m,\u001B[0m \u001B[0muri\u001B[0m\u001B[1;33m,\u001B[0m \u001B[0mrequest_uri\u001B[0m\u001B[1;33m,\u001B[0m \u001B[0mmethod\u001B[0m\u001B[1;33m,\u001B[0m \u001B[0mbody\u001B[0m\u001B[1;33m,\u001B[0m \u001B[0mheaders\u001B[0m\u001B[1;33m,\u001B[0m \u001B[0mredirections\u001B[0m\u001B[1;33m,\u001B[0m \u001B[0mcachekey\u001B[0m\u001B[1;33m,\u001B[0m\u001B[1;33m\u001B[0m\u001B[1;33m\u001B[0m\u001B[0m\n\u001B[0m\u001B[0;32m   1703\u001B[0m                     )\n\u001B[0;32m   1704\u001B[0m         \u001B[1;32mexcept\u001B[0m \u001B[0mException\u001B[0m \u001B[1;32mas\u001B[0m \u001B[0me\u001B[0m\u001B[1;33m:\u001B[0m\u001B[1;33m\u001B[0m\u001B[1;33m\u001B[0m\u001B[0m\n",
      "\u001B[1;32mc:\\users\\festo\\semestr x\\data-exploration-project\\venv\\lib\\site-packages\\httplib2\\__init__.py\u001B[0m in \u001B[0;36m_request\u001B[1;34m(self, conn, host, absolute_uri, request_uri, method, body, headers, redirections, cachekey)\u001B[0m\n\u001B[0;32m   1419\u001B[0m             \u001B[0mauth\u001B[0m\u001B[1;33m.\u001B[0m\u001B[0mrequest\u001B[0m\u001B[1;33m(\u001B[0m\u001B[0mmethod\u001B[0m\u001B[1;33m,\u001B[0m \u001B[0mrequest_uri\u001B[0m\u001B[1;33m,\u001B[0m \u001B[0mheaders\u001B[0m\u001B[1;33m,\u001B[0m \u001B[0mbody\u001B[0m\u001B[1;33m)\u001B[0m\u001B[1;33m\u001B[0m\u001B[1;33m\u001B[0m\u001B[0m\n\u001B[0;32m   1420\u001B[0m \u001B[1;33m\u001B[0m\u001B[0m\n\u001B[1;32m-> 1421\u001B[1;33m         \u001B[1;33m(\u001B[0m\u001B[0mresponse\u001B[0m\u001B[1;33m,\u001B[0m \u001B[0mcontent\u001B[0m\u001B[1;33m)\u001B[0m \u001B[1;33m=\u001B[0m \u001B[0mself\u001B[0m\u001B[1;33m.\u001B[0m\u001B[0m_conn_request\u001B[0m\u001B[1;33m(\u001B[0m\u001B[0mconn\u001B[0m\u001B[1;33m,\u001B[0m \u001B[0mrequest_uri\u001B[0m\u001B[1;33m,\u001B[0m \u001B[0mmethod\u001B[0m\u001B[1;33m,\u001B[0m \u001B[0mbody\u001B[0m\u001B[1;33m,\u001B[0m \u001B[0mheaders\u001B[0m\u001B[1;33m)\u001B[0m\u001B[1;33m\u001B[0m\u001B[1;33m\u001B[0m\u001B[0m\n\u001B[0m\u001B[0;32m   1422\u001B[0m \u001B[1;33m\u001B[0m\u001B[0m\n\u001B[0;32m   1423\u001B[0m         \u001B[1;32mif\u001B[0m \u001B[0mauth\u001B[0m\u001B[1;33m:\u001B[0m\u001B[1;33m\u001B[0m\u001B[1;33m\u001B[0m\u001B[0m\n",
      "\u001B[1;32mc:\\users\\festo\\semestr x\\data-exploration-project\\venv\\lib\\site-packages\\httplib2\\__init__.py\u001B[0m in \u001B[0;36m_conn_request\u001B[1;34m(self, conn, request_uri, method, body, headers)\u001B[0m\n\u001B[0;32m   1371\u001B[0m                 \u001B[1;32mpass\u001B[0m\u001B[1;33m\u001B[0m\u001B[1;33m\u001B[0m\u001B[0m\n\u001B[0;32m   1372\u001B[0m             \u001B[1;32mtry\u001B[0m\u001B[1;33m:\u001B[0m\u001B[1;33m\u001B[0m\u001B[1;33m\u001B[0m\u001B[0m\n\u001B[1;32m-> 1373\u001B[1;33m                 \u001B[0mresponse\u001B[0m \u001B[1;33m=\u001B[0m \u001B[0mconn\u001B[0m\u001B[1;33m.\u001B[0m\u001B[0mgetresponse\u001B[0m\u001B[1;33m(\u001B[0m\u001B[1;33m)\u001B[0m\u001B[1;33m\u001B[0m\u001B[1;33m\u001B[0m\u001B[0m\n\u001B[0m\u001B[0;32m   1374\u001B[0m             \u001B[1;32mexcept\u001B[0m \u001B[1;33m(\u001B[0m\u001B[0mhttp\u001B[0m\u001B[1;33m.\u001B[0m\u001B[0mclient\u001B[0m\u001B[1;33m.\u001B[0m\u001B[0mBadStatusLine\u001B[0m\u001B[1;33m,\u001B[0m \u001B[0mhttp\u001B[0m\u001B[1;33m.\u001B[0m\u001B[0mclient\u001B[0m\u001B[1;33m.\u001B[0m\u001B[0mResponseNotReady\u001B[0m\u001B[1;33m)\u001B[0m\u001B[1;33m:\u001B[0m\u001B[1;33m\u001B[0m\u001B[1;33m\u001B[0m\u001B[0m\n\u001B[0;32m   1375\u001B[0m                 \u001B[1;31m# If we get a BadStatusLine on the first try then that means\u001B[0m\u001B[1;33m\u001B[0m\u001B[1;33m\u001B[0m\u001B[1;33m\u001B[0m\u001B[0m\n",
      "\u001B[1;32m~\\AppData\\Local\\Programs\\Python\\Python37\\lib\\http\\client.py\u001B[0m in \u001B[0;36mgetresponse\u001B[1;34m(self)\u001B[0m\n\u001B[0;32m   1367\u001B[0m         \u001B[1;32mtry\u001B[0m\u001B[1;33m:\u001B[0m\u001B[1;33m\u001B[0m\u001B[1;33m\u001B[0m\u001B[0m\n\u001B[0;32m   1368\u001B[0m             \u001B[1;32mtry\u001B[0m\u001B[1;33m:\u001B[0m\u001B[1;33m\u001B[0m\u001B[1;33m\u001B[0m\u001B[0m\n\u001B[1;32m-> 1369\u001B[1;33m                 \u001B[0mresponse\u001B[0m\u001B[1;33m.\u001B[0m\u001B[0mbegin\u001B[0m\u001B[1;33m(\u001B[0m\u001B[1;33m)\u001B[0m\u001B[1;33m\u001B[0m\u001B[1;33m\u001B[0m\u001B[0m\n\u001B[0m\u001B[0;32m   1370\u001B[0m             \u001B[1;32mexcept\u001B[0m \u001B[0mConnectionError\u001B[0m\u001B[1;33m:\u001B[0m\u001B[1;33m\u001B[0m\u001B[1;33m\u001B[0m\u001B[0m\n\u001B[0;32m   1371\u001B[0m                 \u001B[0mself\u001B[0m\u001B[1;33m.\u001B[0m\u001B[0mclose\u001B[0m\u001B[1;33m(\u001B[0m\u001B[1;33m)\u001B[0m\u001B[1;33m\u001B[0m\u001B[1;33m\u001B[0m\u001B[0m\n",
      "\u001B[1;32m~\\AppData\\Local\\Programs\\Python\\Python37\\lib\\http\\client.py\u001B[0m in \u001B[0;36mbegin\u001B[1;34m(self)\u001B[0m\n\u001B[0;32m    308\u001B[0m         \u001B[1;31m# read until we get a non-100 response\u001B[0m\u001B[1;33m\u001B[0m\u001B[1;33m\u001B[0m\u001B[1;33m\u001B[0m\u001B[0m\n\u001B[0;32m    309\u001B[0m         \u001B[1;32mwhile\u001B[0m \u001B[1;32mTrue\u001B[0m\u001B[1;33m:\u001B[0m\u001B[1;33m\u001B[0m\u001B[1;33m\u001B[0m\u001B[0m\n\u001B[1;32m--> 310\u001B[1;33m             \u001B[0mversion\u001B[0m\u001B[1;33m,\u001B[0m \u001B[0mstatus\u001B[0m\u001B[1;33m,\u001B[0m \u001B[0mreason\u001B[0m \u001B[1;33m=\u001B[0m \u001B[0mself\u001B[0m\u001B[1;33m.\u001B[0m\u001B[0m_read_status\u001B[0m\u001B[1;33m(\u001B[0m\u001B[1;33m)\u001B[0m\u001B[1;33m\u001B[0m\u001B[1;33m\u001B[0m\u001B[0m\n\u001B[0m\u001B[0;32m    311\u001B[0m             \u001B[1;32mif\u001B[0m \u001B[0mstatus\u001B[0m \u001B[1;33m!=\u001B[0m \u001B[0mCONTINUE\u001B[0m\u001B[1;33m:\u001B[0m\u001B[1;33m\u001B[0m\u001B[1;33m\u001B[0m\u001B[0m\n\u001B[0;32m    312\u001B[0m                 \u001B[1;32mbreak\u001B[0m\u001B[1;33m\u001B[0m\u001B[1;33m\u001B[0m\u001B[0m\n",
      "\u001B[1;32m~\\AppData\\Local\\Programs\\Python\\Python37\\lib\\http\\client.py\u001B[0m in \u001B[0;36m_read_status\u001B[1;34m(self)\u001B[0m\n\u001B[0;32m    269\u001B[0m \u001B[1;33m\u001B[0m\u001B[0m\n\u001B[0;32m    270\u001B[0m     \u001B[1;32mdef\u001B[0m \u001B[0m_read_status\u001B[0m\u001B[1;33m(\u001B[0m\u001B[0mself\u001B[0m\u001B[1;33m)\u001B[0m\u001B[1;33m:\u001B[0m\u001B[1;33m\u001B[0m\u001B[1;33m\u001B[0m\u001B[0m\n\u001B[1;32m--> 271\u001B[1;33m         \u001B[0mline\u001B[0m \u001B[1;33m=\u001B[0m \u001B[0mstr\u001B[0m\u001B[1;33m(\u001B[0m\u001B[0mself\u001B[0m\u001B[1;33m.\u001B[0m\u001B[0mfp\u001B[0m\u001B[1;33m.\u001B[0m\u001B[0mreadline\u001B[0m\u001B[1;33m(\u001B[0m\u001B[0m_MAXLINE\u001B[0m \u001B[1;33m+\u001B[0m \u001B[1;36m1\u001B[0m\u001B[1;33m)\u001B[0m\u001B[1;33m,\u001B[0m \u001B[1;34m\"iso-8859-1\"\u001B[0m\u001B[1;33m)\u001B[0m\u001B[1;33m\u001B[0m\u001B[1;33m\u001B[0m\u001B[0m\n\u001B[0m\u001B[0;32m    272\u001B[0m         \u001B[1;32mif\u001B[0m \u001B[0mlen\u001B[0m\u001B[1;33m(\u001B[0m\u001B[0mline\u001B[0m\u001B[1;33m)\u001B[0m \u001B[1;33m>\u001B[0m \u001B[0m_MAXLINE\u001B[0m\u001B[1;33m:\u001B[0m\u001B[1;33m\u001B[0m\u001B[1;33m\u001B[0m\u001B[0m\n\u001B[0;32m    273\u001B[0m             \u001B[1;32mraise\u001B[0m \u001B[0mLineTooLong\u001B[0m\u001B[1;33m(\u001B[0m\u001B[1;34m\"status line\"\u001B[0m\u001B[1;33m)\u001B[0m\u001B[1;33m\u001B[0m\u001B[1;33m\u001B[0m\u001B[0m\n",
      "\u001B[1;32m~\\AppData\\Local\\Programs\\Python\\Python37\\lib\\socket.py\u001B[0m in \u001B[0;36mreadinto\u001B[1;34m(self, b)\u001B[0m\n\u001B[0;32m    587\u001B[0m         \u001B[1;32mwhile\u001B[0m \u001B[1;32mTrue\u001B[0m\u001B[1;33m:\u001B[0m\u001B[1;33m\u001B[0m\u001B[1;33m\u001B[0m\u001B[0m\n\u001B[0;32m    588\u001B[0m             \u001B[1;32mtry\u001B[0m\u001B[1;33m:\u001B[0m\u001B[1;33m\u001B[0m\u001B[1;33m\u001B[0m\u001B[0m\n\u001B[1;32m--> 589\u001B[1;33m                 \u001B[1;32mreturn\u001B[0m \u001B[0mself\u001B[0m\u001B[1;33m.\u001B[0m\u001B[0m_sock\u001B[0m\u001B[1;33m.\u001B[0m\u001B[0mrecv_into\u001B[0m\u001B[1;33m(\u001B[0m\u001B[0mb\u001B[0m\u001B[1;33m)\u001B[0m\u001B[1;33m\u001B[0m\u001B[1;33m\u001B[0m\u001B[0m\n\u001B[0m\u001B[0;32m    590\u001B[0m             \u001B[1;32mexcept\u001B[0m \u001B[0mtimeout\u001B[0m\u001B[1;33m:\u001B[0m\u001B[1;33m\u001B[0m\u001B[1;33m\u001B[0m\u001B[0m\n\u001B[0;32m    591\u001B[0m                 \u001B[0mself\u001B[0m\u001B[1;33m.\u001B[0m\u001B[0m_timeout_occurred\u001B[0m \u001B[1;33m=\u001B[0m \u001B[1;32mTrue\u001B[0m\u001B[1;33m\u001B[0m\u001B[1;33m\u001B[0m\u001B[0m\n",
      "\u001B[1;32m~\\AppData\\Local\\Programs\\Python\\Python37\\lib\\ssl.py\u001B[0m in \u001B[0;36mrecv_into\u001B[1;34m(self, buffer, nbytes, flags)\u001B[0m\n\u001B[0;32m   1069\u001B[0m                   \u001B[1;34m\"non-zero flags not allowed in calls to recv_into() on %s\"\u001B[0m \u001B[1;33m%\u001B[0m\u001B[1;33m\u001B[0m\u001B[1;33m\u001B[0m\u001B[0m\n\u001B[0;32m   1070\u001B[0m                   self.__class__)\n\u001B[1;32m-> 1071\u001B[1;33m             \u001B[1;32mreturn\u001B[0m \u001B[0mself\u001B[0m\u001B[1;33m.\u001B[0m\u001B[0mread\u001B[0m\u001B[1;33m(\u001B[0m\u001B[0mnbytes\u001B[0m\u001B[1;33m,\u001B[0m \u001B[0mbuffer\u001B[0m\u001B[1;33m)\u001B[0m\u001B[1;33m\u001B[0m\u001B[1;33m\u001B[0m\u001B[0m\n\u001B[0m\u001B[0;32m   1072\u001B[0m         \u001B[1;32melse\u001B[0m\u001B[1;33m:\u001B[0m\u001B[1;33m\u001B[0m\u001B[1;33m\u001B[0m\u001B[0m\n\u001B[0;32m   1073\u001B[0m             \u001B[1;32mreturn\u001B[0m \u001B[0msuper\u001B[0m\u001B[1;33m(\u001B[0m\u001B[1;33m)\u001B[0m\u001B[1;33m.\u001B[0m\u001B[0mrecv_into\u001B[0m\u001B[1;33m(\u001B[0m\u001B[0mbuffer\u001B[0m\u001B[1;33m,\u001B[0m \u001B[0mnbytes\u001B[0m\u001B[1;33m,\u001B[0m \u001B[0mflags\u001B[0m\u001B[1;33m)\u001B[0m\u001B[1;33m\u001B[0m\u001B[1;33m\u001B[0m\u001B[0m\n",
      "\u001B[1;32m~\\AppData\\Local\\Programs\\Python\\Python37\\lib\\ssl.py\u001B[0m in \u001B[0;36mread\u001B[1;34m(self, len, buffer)\u001B[0m\n\u001B[0;32m    927\u001B[0m         \u001B[1;32mtry\u001B[0m\u001B[1;33m:\u001B[0m\u001B[1;33m\u001B[0m\u001B[1;33m\u001B[0m\u001B[0m\n\u001B[0;32m    928\u001B[0m             \u001B[1;32mif\u001B[0m \u001B[0mbuffer\u001B[0m \u001B[1;32mis\u001B[0m \u001B[1;32mnot\u001B[0m \u001B[1;32mNone\u001B[0m\u001B[1;33m:\u001B[0m\u001B[1;33m\u001B[0m\u001B[1;33m\u001B[0m\u001B[0m\n\u001B[1;32m--> 929\u001B[1;33m                 \u001B[1;32mreturn\u001B[0m \u001B[0mself\u001B[0m\u001B[1;33m.\u001B[0m\u001B[0m_sslobj\u001B[0m\u001B[1;33m.\u001B[0m\u001B[0mread\u001B[0m\u001B[1;33m(\u001B[0m\u001B[0mlen\u001B[0m\u001B[1;33m,\u001B[0m \u001B[0mbuffer\u001B[0m\u001B[1;33m)\u001B[0m\u001B[1;33m\u001B[0m\u001B[1;33m\u001B[0m\u001B[0m\n\u001B[0m\u001B[0;32m    930\u001B[0m             \u001B[1;32melse\u001B[0m\u001B[1;33m:\u001B[0m\u001B[1;33m\u001B[0m\u001B[1;33m\u001B[0m\u001B[0m\n\u001B[0;32m    931\u001B[0m                 \u001B[1;32mreturn\u001B[0m \u001B[0mself\u001B[0m\u001B[1;33m.\u001B[0m\u001B[0m_sslobj\u001B[0m\u001B[1;33m.\u001B[0m\u001B[0mread\u001B[0m\u001B[1;33m(\u001B[0m\u001B[0mlen\u001B[0m\u001B[1;33m)\u001B[0m\u001B[1;33m\u001B[0m\u001B[1;33m\u001B[0m\u001B[0m\n",
      "\u001B[1;31mKeyboardInterrupt\u001B[0m: "
     ]
    }
   ],
   "source": [
    "from youtube_api import download_video_categories\n",
    "\n",
    "category_ids = download_video_categories(video_ids)"
   ],
   "metadata": {
    "collapsed": false,
    "pycharm": {
     "name": "#%%\n"
    }
   }
  },
  {
   "cell_type": "code",
   "execution_count": null,
   "outputs": [],
   "source": [
    "len(category_ids)"
   ],
   "metadata": {
    "collapsed": false,
    "pycharm": {
     "name": "#%%\n"
    }
   }
  },
  {
   "cell_type": "code",
   "execution_count": null,
   "outputs": [],
   "source": [
    "category_ids_list = []\n",
    "selected_video_ids = us_trending_df['video_id'].isin(set(list(video_ids)))\n",
    "\n",
    "for video_id in us_trending_df.loc[selected_video_ids, 'video_id']:\n",
    "    category_ids_list.append(category_ids.get(video_id, 0))\n",
    "\n",
    "us_trending_df.loc[selected_video_ids, 'categoryId'] = category_ids_list"
   ],
   "metadata": {
    "collapsed": false,
    "pycharm": {
     "name": "#%%\n"
    }
   }
  },
  {
   "cell_type": "code",
   "execution_count": null,
   "outputs": [],
   "source": [
    "us_trending_df[us_trending_df['categoryId'] == 0]"
   ],
   "metadata": {
    "collapsed": false,
    "pycharm": {
     "name": "#%%\n"
    }
   }
  },
  {
   "cell_type": "code",
   "execution_count": null,
   "outputs": [],
   "source": [
    "us_trending_df.to_csv(\"data/stage_3_ground_truth.csv\", index=False)"
   ],
   "metadata": {
    "collapsed": false,
    "pycharm": {
     "name": "#%%\n"
    }
   }
  },
  {
   "cell_type": "code",
   "execution_count": null,
   "outputs": [],
   "source": [],
   "metadata": {
    "collapsed": false,
    "pycharm": {
     "name": "#%%\n"
    }
   }
  }
 ],
 "metadata": {
  "kernelspec": {
   "display_name": "Python 3",
   "language": "python",
   "name": "python3"
  },
  "language_info": {
   "codemirror_mode": {
    "name": "ipython",
    "version": 2
   },
   "file_extension": ".py",
   "mimetype": "text/x-python",
   "name": "python",
   "nbconvert_exporter": "python",
   "pygments_lexer": "ipython2",
   "version": "2.7.6"
  }
 },
 "nbformat": 4,
 "nbformat_minor": 0
}