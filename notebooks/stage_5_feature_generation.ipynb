{
 "cells": [
  {
   "cell_type": "markdown",
   "source": [
    "# Eksploracja Danych - Projekt\n",
    "Tomasz Kiljańczyk (136257)\n",
    "\n",
    "Wojciech Lulek (136280)"
   ],
   "metadata": {
    "collapsed": false,
    "pycharm": {
     "name": "#%% md\n"
    }
   }
  },
  {
   "cell_type": "code",
   "execution_count": null,
   "outputs": [],
   "source": [
    "import json\n",
    "\n",
    "import numpy as np\n",
    "import pandas as pd\n",
    "import tqdm\n",
    "\n",
    "NON_TRENDING_FILE = \"./data/stage_5_non_trending_details.csv\""
   ],
   "metadata": {
    "collapsed": false,
    "pycharm": {
     "name": "#%%\n"
    }
   }
  },
  {
   "cell_type": "code",
   "execution_count": null,
   "outputs": [],
   "source": [
    "us_non_trending_df = pd.read_csv(NON_TRENDING_FILE, lineterminator='\\n', parse_dates=[\"publishedAt\"])\n",
    "us_non_trending_df.rename(columns={'description\\r': 'description'}, inplace=True)\n",
    "us_non_trending_df['description'] = us_non_trending_df['description'].str.rstrip('\\r')\n",
    "us_non_trending_df['tags'].replace(np.NaN, \"\", inplace=True)\n",
    "\n",
    "us_non_trending_df[\"categoryId\"] = us_non_trending_df[\"categoryId\"].astype(int)\n",
    "\n",
    "us_non_trending_df.head()"
   ],
   "metadata": {
    "collapsed": false,
    "pycharm": {
     "name": "#%%\n"
    }
   }
  },
  {
   "cell_type": "code",
   "execution_count": null,
   "outputs": [],
   "source": [
    "us_non_trending_df.info()"
   ],
   "metadata": {
    "collapsed": false,
    "pycharm": {
     "name": "#%%\n"
    }
   }
  },
  {
   "cell_type": "code",
   "execution_count": null,
   "outputs": [],
   "source": [
    "us_non_trending_df.drop(us_non_trending_df[us_non_trending_df['view_count'] == 0].index, inplace=True)"
   ],
   "metadata": {
    "collapsed": false,
    "pycharm": {
     "name": "#%%\n"
    }
   }
  },
  {
   "cell_type": "markdown",
   "source": [
    "## Text features"
   ],
   "metadata": {
    "collapsed": false,
    "pycharm": {
     "name": "#%% md\n"
    }
   }
  },
  {
   "cell_type": "markdown",
   "source": [
    "### Title and description"
   ],
   "metadata": {
    "collapsed": false,
    "pycharm": {
     "name": "#%% md\n"
    }
   }
  },
  {
   "cell_type": "code",
   "execution_count": null,
   "outputs": [],
   "source": [
    "with open(\"./data/top_words.json\", mode=\"r\") as file:\n",
    "    top_words: list = json.loads(file.read())\n",
    "\n",
    "titles_with_descriptions = us_non_trending_df['title'].str.cat(us_non_trending_df['description'], sep=' ')\n",
    "for word in top_words:\n",
    "    us_non_trending_df[f'word_{word}'] = titles_with_descriptions.str.contains(word, regex=False)\n",
    "\n",
    "us_non_trending_df.head()"
   ],
   "metadata": {
    "collapsed": false,
    "pycharm": {
     "name": "#%%\n"
    }
   }
  },
  {
   "cell_type": "markdown",
   "source": [
    "### Tags"
   ],
   "metadata": {
    "collapsed": false,
    "pycharm": {
     "name": "#%% md\n"
    }
   }
  },
  {
   "cell_type": "code",
   "execution_count": null,
   "outputs": [],
   "source": [
    "with open(\"./data/top_tags.json\", mode=\"r\") as file:\n",
    "    top_tags: list = json.loads(file.read())\n",
    "\n",
    "for tag in top_tags:\n",
    "    us_non_trending_df[f'tag_{tag}'] = us_non_trending_df['tags'].str.contains(tag, regex=False)\n",
    "\n",
    "us_non_trending_df.head()"
   ],
   "metadata": {
    "collapsed": false,
    "pycharm": {
     "name": "#%%\n"
    }
   }
  },
  {
   "cell_type": "markdown",
   "source": [
    "### Other text features"
   ],
   "metadata": {
    "collapsed": false,
    "pycharm": {
     "name": "#%% md\n"
    }
   }
  },
  {
   "cell_type": "code",
   "execution_count": null,
   "outputs": [],
   "source": [
    "PUNCTUATION_REGEX = r'[!\"#$%&\\'()*+,-./:;<=>?@[\\]^_`{|}~]'\n",
    "\n",
    "us_non_trending_df['title_length'] = us_non_trending_df['title'].str.len()\n",
    "us_non_trending_df['title_capital_letters'] = us_non_trending_df['title'].str.count(r'[A-Z]') / us_non_trending_df[\n",
    "    'title_length']\n",
    "us_non_trending_df['title_punctuation'] = us_non_trending_df['title'].str.count(PUNCTUATION_REGEX) / us_non_trending_df[\n",
    "    'title_length']\n",
    "us_non_trending_df['description_height'] = us_non_trending_df['description'].str.count(r'[\\r\\n]')\n",
    "us_non_trending_df['description_length'] = us_non_trending_df['description'].str.len()\n",
    "us_non_trending_df['description_link_count'] = us_non_trending_df['description'].str.count(r'://')\n",
    "us_non_trending_df['tag_count'] = us_non_trending_df['tags'].apply(\n",
    "    lambda tags: 0 if tags == '' else tags.count('|') + 1)"
   ],
   "metadata": {
    "collapsed": false,
    "pycharm": {
     "name": "#%%\n"
    }
   }
  },
  {
   "cell_type": "markdown",
   "source": [
    "### Cleanup"
   ],
   "metadata": {
    "collapsed": false,
    "pycharm": {
     "name": "#%% md\n"
    }
   }
  },
  {
   "cell_type": "code",
   "execution_count": null,
   "outputs": [],
   "source": [
    "us_non_trending_df.drop([\"title\", \"tags\", \"description\"], axis=1, inplace=True)"
   ],
   "metadata": {
    "collapsed": false,
    "pycharm": {
     "name": "#%%\n"
    }
   }
  },
  {
   "cell_type": "code",
   "execution_count": null,
   "outputs": [],
   "source": [
    "unique_urls = us_non_trending_df['thumbnail_link'].unique()\n",
    "urls = us_non_trending_df['thumbnail_link']"
   ],
   "metadata": {
    "collapsed": false,
    "pycharm": {
     "name": "#%%\n"
    }
   }
  },
  {
   "cell_type": "markdown",
   "source": [
    "## Date features"
   ],
   "metadata": {
    "collapsed": false,
    "pycharm": {
     "name": "#%% md\n"
    }
   }
  },
  {
   "cell_type": "code",
   "execution_count": null,
   "outputs": [],
   "source": [
    "us_non_trending_df['publishedAtHour'] = us_non_trending_df['publishedAt'].dt.hour\n",
    "us_non_trending_df['publishedAtDay'] = us_non_trending_df['publishedAt'].dt.weekday\n",
    "us_non_trending_df['publishedAtMonth'] = us_non_trending_df['publishedAt'].dt.month"
   ],
   "metadata": {
    "collapsed": false,
    "pycharm": {
     "name": "#%%\n"
    }
   }
  },
  {
   "cell_type": "markdown",
   "source": [
    "### Holidays"
   ],
   "metadata": {
    "collapsed": false,
    "pycharm": {
     "name": "#%% md\n"
    }
   }
  },
  {
   "cell_type": "code",
   "execution_count": null,
   "outputs": [],
   "source": [
    "from pandas.tseries.holiday import USFederalHolidayCalendar\n",
    "\n",
    "cal = USFederalHolidayCalendar()\n",
    "min_date = us_non_trending_df['publishedAt'].min()\n",
    "max_date = us_non_trending_df['publishedAt'].max()\n",
    "\n",
    "holidays = cal.holidays(start=min_date, end=max_date)\n",
    "us_non_trending_df['publishedAtHoliday'] = us_non_trending_df['publishedAt'].apply(lambda date: date in holidays)\n",
    "\n",
    "us_non_trending_df[us_non_trending_df['publishedAtHoliday']].head()"
   ],
   "metadata": {
    "collapsed": false,
    "pycharm": {
     "name": "#%%\n"
    }
   }
  },
  {
   "cell_type": "markdown",
   "source": [
    "## Thumbnail features"
   ],
   "metadata": {
    "collapsed": false,
    "pycharm": {
     "name": "#%% md\n"
    }
   }
  },
  {
   "cell_type": "code",
   "execution_count": null,
   "outputs": [],
   "source": [
    "from workers import download_and_save\n",
    "from multiprocessing import Pool\n",
    "import os\n",
    "\n",
    "if not os.path.exists('./images/'):\n",
    "    os.makedirs('./images/')\n",
    "\n",
    "with Pool(processes=os.cpu_count()) as pool:\n",
    "    for _ in tqdm.tqdm(pool.imap(download_and_save, unique_urls), total=unique_urls.size):\n",
    "        pass\n"
   ],
   "metadata": {
    "collapsed": false,
    "pycharm": {
     "name": "#%%\n"
    }
   }
  },
  {
   "cell_type": "markdown",
   "source": [
    "### Colors and text"
   ],
   "metadata": {
    "collapsed": false,
    "pycharm": {
     "name": "#%% md\n"
    }
   }
  },
  {
   "cell_type": "markdown",
   "source": [
    "#### Colors"
   ],
   "metadata": {
    "collapsed": false,
    "pycharm": {
     "name": "#%% md\n"
    }
   }
  },
  {
   "cell_type": "code",
   "execution_count": null,
   "outputs": [],
   "source": [
    "from workers import extract_color_features\n",
    "\n",
    "results = []\n",
    "\n",
    "with Pool(processes=os.cpu_count()) as pool:\n",
    "    for res in tqdm.tqdm(pool.imap(extract_color_features, unique_urls), total=unique_urls.size):\n",
    "        results.append(res)\n",
    "\n",
    "color_features_dict = dict(results)\n",
    "\n",
    "color_features = [color_features_dict[url] for url in urls]\n",
    "\n",
    "image_dataframe = pd.DataFrame(color_features)\n",
    "image_dataframe.head()"
   ],
   "metadata": {
    "collapsed": false,
    "pycharm": {
     "name": "#%%\n"
    }
   }
  },
  {
   "cell_type": "markdown",
   "source": [
    "#### Text"
   ],
   "metadata": {
    "collapsed": false,
    "pycharm": {
     "name": "#%% md\n"
    }
   }
  },
  {
   "cell_type": "code",
   "execution_count": null,
   "outputs": [],
   "source": [
    "from workers import detect_text\n",
    "\n",
    "results = []\n",
    "with Pool(processes=os.cpu_count()) as pool:\n",
    "    for res in tqdm.tqdm(pool.imap(detect_text, unique_urls), total=unique_urls.size):\n",
    "        results.append(res)\n",
    "\n",
    "text_features_dict = dict(results)"
   ],
   "metadata": {
    "collapsed": false,
    "pycharm": {
     "name": "#%%\n"
    }
   }
  },
  {
   "cell_type": "code",
   "execution_count": null,
   "outputs": [],
   "source": [
    "has_text = [text_features_dict.get(url, (False,))[0] for url in urls]\n",
    "text_count = [text_features_dict.get(url, (None, 0))[1] for url in urls]\n",
    "largest_text_to_image_area_ratio = [text_features_dict.get(url, (None, 0, 0))[2] for url in urls]"
   ],
   "metadata": {
    "collapsed": false,
    "pycharm": {
     "name": "#%%\n"
    }
   }
  },
  {
   "cell_type": "code",
   "execution_count": null,
   "outputs": [],
   "source": [
    "has_text_df = pd.DataFrame(has_text, columns=['thumbnail_has_text'])\n",
    "has_text_df.head()"
   ],
   "metadata": {
    "collapsed": false,
    "pycharm": {
     "name": "#%%\n"
    }
   }
  },
  {
   "cell_type": "code",
   "execution_count": null,
   "outputs": [],
   "source": [
    "text_count_df = pd.DataFrame(text_count, columns=['thumbnail_text_count'])\n",
    "text_count_df.head()"
   ],
   "metadata": {
    "collapsed": false,
    "pycharm": {
     "name": "#%%\n"
    }
   }
  },
  {
   "cell_type": "code",
   "execution_count": null,
   "outputs": [],
   "source": [
    "largest_text_to_image_area_ratio_df = pd.DataFrame(largest_text_to_image_area_ratio,\n",
    "                                                   columns=['thumbnail_largest_text_to_image_area_ratio'])\n",
    "largest_text_to_image_area_ratio_df.head()"
   ],
   "metadata": {
    "collapsed": false,
    "pycharm": {
     "name": "#%%\n"
    }
   }
  },
  {
   "cell_type": "markdown",
   "source": [
    "#### Merge"
   ],
   "metadata": {
    "collapsed": false,
    "pycharm": {
     "name": "#%% md\n"
    }
   }
  },
  {
   "cell_type": "code",
   "execution_count": null,
   "outputs": [],
   "source": [
    "us_non_trending_df = pd.concat(\n",
    "    [us_non_trending_df, image_dataframe, has_text_df, text_count_df, largest_text_to_image_area_ratio_df], axis=1)\n",
    "us_non_trending_df.drop(['thumbnail_link'], axis=1, inplace=True)\n",
    "us_non_trending_df.head()"
   ],
   "metadata": {
    "collapsed": false,
    "pycharm": {
     "name": "#%%\n"
    }
   }
  },
  {
   "cell_type": "markdown",
   "source": [
    "### Faces"
   ],
   "metadata": {
    "collapsed": false,
    "pycharm": {
     "name": "#%% md\n"
    }
   }
  },
  {
   "cell_type": "code",
   "execution_count": null,
   "outputs": [],
   "source": [
    "from workers import extract_face_features\n",
    "\n",
    "results = []\n",
    "\n",
    "for res in tqdm.tqdm(iter(extract_face_features(url) for url in unique_urls), total=unique_urls.size):\n",
    "    results.append(res)\n",
    "\n",
    "face_features_dict = dict(results)\n",
    "\n",
    "face_features = [face_features_dict[url] for url in urls]\n",
    "face_features_df = pd.DataFrame(face_features)\n",
    "face_features_df"
   ],
   "metadata": {
    "collapsed": false,
    "pycharm": {
     "name": "#%%\n"
    }
   }
  },
  {
   "cell_type": "code",
   "execution_count": null,
   "outputs": [],
   "source": [
    "us_non_trending_df = pd.concat([us_non_trending_df, face_features_df], axis=1)"
   ],
   "metadata": {
    "collapsed": false,
    "pycharm": {
     "name": "#%%\n"
    }
   }
  },
  {
   "cell_type": "markdown",
   "source": [
    "### Objects"
   ],
   "metadata": {
    "collapsed": false,
    "pycharm": {
     "name": "#%% md\n"
    }
   }
  },
  {
   "cell_type": "code",
   "execution_count": null,
   "outputs": [],
   "source": [
    "from imageai.Detection import ObjectDetection\n",
    "\n",
    "detector = ObjectDetection()\n",
    "detector.setModelTypeAsRetinaNet()\n",
    "detector.setModelPath(\"models/resnet50_coco_best_v2.1.0.h5\")\n",
    "detector.loadModel()"
   ],
   "metadata": {
    "collapsed": false,
    "pycharm": {
     "name": "#%%\n"
    }
   }
  },
  {
   "cell_type": "code",
   "execution_count": null,
   "outputs": [],
   "source": [
    "from workers import file_path_from_url\n",
    "import tqdm\n",
    "\n",
    "image_detections = dict()\n",
    "\n",
    "for i, url in enumerate(tqdm.tqdm(unique_urls)):\n",
    "    filename = file_path_from_url(url)\n",
    "    detections = detector.detectObjectsFromImage(input_image=filename, output_type=\"array\")[1]\n",
    "    image_detections[url] = detections"
   ],
   "metadata": {
    "collapsed": false,
    "pycharm": {
     "name": "#%%\n"
    }
   }
  },
  {
   "cell_type": "code",
   "execution_count": null,
   "outputs": [],
   "source": [
    "from collections import defaultdict, Counter\n",
    "\n",
    "image_objects_detected = defaultdict(dict)\n",
    "cnt = Counter()\n",
    "\n",
    "for key in image_detections:\n",
    "    for obj in image_detections[key]:\n",
    "        name = obj['name']\n",
    "        image_objects_detected[key][name] = image_objects_detected[key].get(name, 0) + 1\n",
    "        cnt.update({name: 1})"
   ],
   "metadata": {
    "collapsed": false,
    "pycharm": {
     "name": "#%%\n"
    }
   }
  },
  {
   "cell_type": "code",
   "execution_count": null,
   "outputs": [],
   "source": [
    "import pandas as pd\n",
    "\n",
    "image_objects_detected_full = [image_objects_detected[url] for url in urls]\n",
    "\n",
    "objects_df = pd.DataFrame(image_objects_detected_full)\n",
    "objects_df.fillna(0, inplace=True)\n",
    "objects_df = objects_df.astype('int32')\n",
    "objects_df.head()"
   ],
   "metadata": {
    "collapsed": false,
    "pycharm": {
     "name": "#%%\n"
    }
   }
  },
  {
   "cell_type": "code",
   "execution_count": null,
   "outputs": [],
   "source": [
    "us_non_trending_df = pd.concat([us_non_trending_df, objects_df], axis=1)\n",
    "us_non_trending_df.head()"
   ],
   "metadata": {
    "collapsed": false,
    "pycharm": {
     "name": "#%%\n"
    }
   }
  },
  {
   "cell_type": "markdown",
   "source": [
    "## Save results"
   ],
   "metadata": {
    "collapsed": false,
    "pycharm": {
     "name": "#%% md\n"
    }
   }
  },
  {
   "cell_type": "code",
   "execution_count": null,
   "outputs": [],
   "source": [
    "us_non_trending_df.to_csv(\"./data/stage_5_us_non_trending.csv\", index=False)\n",
    "us_non_trending_df.shape"
   ],
   "metadata": {
    "collapsed": false,
    "pycharm": {
     "name": "#%%\n"
    }
   }
  },
  {
   "cell_type": "markdown",
   "source": [],
   "metadata": {
    "collapsed": false,
    "pycharm": {
     "name": "#%% md\n"
    }
   }
  }
 ],
 "metadata": {
  "kernelspec": {
   "display_name": "Python 3",
   "language": "python",
   "name": "python3"
  },
  "language_info": {
   "codemirror_mode": {
    "name": "ipython",
    "version": 2
   },
   "file_extension": ".py",
   "mimetype": "text/x-python",
   "name": "python",
   "nbconvert_exporter": "python",
   "pygments_lexer": "ipython2",
   "version": "2.7.6"
  }
 },
 "nbformat": 4,
 "nbformat_minor": 0
}