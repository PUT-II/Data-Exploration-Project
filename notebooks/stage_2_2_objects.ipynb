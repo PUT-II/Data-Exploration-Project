{
 "cells": [
  {
   "cell_type": "markdown",
   "source": [
    "# Eksploracja Danych - Projekt\n",
    "Tomasz Kiljańczyk (136257)\n",
    "\n",
    "Wojciech Lulek (136280)"
   ],
   "metadata": {
    "collapsed": false
   }
  },
  {
   "cell_type": "code",
   "execution_count": 7,
   "outputs": [],
   "source": [
    "import pandas as pd"
   ],
   "metadata": {
    "collapsed": false,
    "pycharm": {
     "name": "#%%\n"
    }
   }
  },
  {
   "cell_type": "code",
   "execution_count": 8,
   "outputs": [
    {
     "data": {
      "text/plain": "                   channelId           channelTitle trending_date  view_count  \\\n0   UCvtRTOMP2TqYqu51xNrqAzg               Brawadis    2020-08-12     1514614   \n1   UC0ZV6M2THA81QT9hrVWJG3A           Apex Legends    2020-08-12     2381688   \n2   UCYzPXprvl5Y-Sf0g4vX-m6g          jacksepticeye    2020-08-12     2038853   \n3   UCbg_UMjlHJg_19SZckaKajg                    XXL    2020-08-12      496771   \n4   UCDVPcEbVLQgLZX0Rt6jo34A               Mr. Kate    2020-08-12     1123889   \n5   UC5zJwsFtEs9WYe3A76p7xIA         Professor Live    2020-08-12      949491   \n6   UCDSJCBYqL7VQrlXfhr1RtwA          Les Do Makeup    2020-08-12      470446   \n7   UC2C_jShtL725hvbm1arSV9w               CGP Grey    2020-08-12     1050143   \n8   UCZDdF_p-L88NWVpzF0vjvMQ           Louie's Life    2020-08-12     1402687   \n9   UC648rgJOboZlgcDbW00vTSA         Rancho Humilde    2020-08-12      741028   \n10  UCtinbF-Q-fVthA0qrFQTgXQ           CaseyNeistat    2020-08-12      940036   \n11  UCYJPby9DRCteedh5tfxVbrw              Smosh Pit    2020-08-12      591837   \n12  UCBMvc6jvuTxH6TNo9ThpYjg  Ubisoft North America    2020-08-12      320872   \n13  UC1X3TRsCt36QPjF1p5f3HTg          LilYachtyVEVO    2020-08-12      413372   \n14  UCR9NuNwCUIhMOLUQnLN7_WA              Kyle Exum    2020-08-12      921261   \n15  UCMw7m-ScQ6jV1FQzQnn1y8Q          Tyler Cameron    2020-08-12      105955   \n16  UC2rJLq19N0dGrxfib80M_fg          HollywoodLife    2020-08-12     1007540   \n17  UCuxlXCfVyV-i5YLL30jkomw      Cole The Cornstar    2020-08-12      277338   \n18  UCCgLoMYIyP0U56dEhEL1wXQ             Chloe Ting    2020-08-12     1648441   \n19  UCaO6TYtlC8U5ttz62hTrZgg      JYP Entertainment    2020-08-12     5999732   \n20  UCY1kMZp36IQSyNx_9h4mpCg             Mark Rober    2020-08-12    14684474   \n21  UCOpcACMWblDls9Z6GERVi1A         Screen Junkies    2020-08-12      833369   \n22  UCilwZiBBfI9X6yiZRzWty8Q               FaZe Rug    2020-08-12     3061467   \n23  UCucot-Zp428OwkyRm2I7v2Q          James Charles    2020-08-12     3662673   \n24  UCWwWOFsW68TqXE-HZLC3WIA         The ACE Family    2020-08-12     2630410   \n25  UCB9_VH_CNbbH4GfKu8qh63w          DEATH BATTLE!    2020-08-12     1236984   \n26  UCtpzjafUx5qbmxJdqm4-qmg              iann dior    2020-08-12      187835   \n27  UCDQBZcjYKP1J1Nu-Y0_D37Q                 Tabbes    2020-08-12     1061892   \n28  UC0BletW9phE4xHFM44q4qKA             Juice WRLD    2020-08-12     2228821   \n29  UCFp65-s_fyaBjVZbVyp--Kw        Gabrielle Moses    2020-08-12      542048   \n\n     likes  dislikes  comment_count  \\\n0   156908      5855          35313   \n1   146739      2794          16549   \n2   353787      2628          40221   \n3    23251      1856           7647   \n4    45802       964           2196   \n5    77487       746           7506   \n6    47990       440           4558   \n7    89190       854           6455   \n8    95694      2158           6613   \n9   113983      4373           5618   \n10   87111      1860           7052   \n11   44168       409           2652   \n12   14288       774           2085   \n13   26440       293           1495   \n14  124183      1678          16460   \n15    4511        69            673   \n16   10102      7932           2763   \n17   37533       197           3666   \n18  130147      1425          15773   \n19  714287     15174          31039   \n20  544038     15818          33507   \n21   50181      1120           4634   \n22  206840      2646          14934   \n23  394675      5757          27346   \n24  185419      4744          15908   \n25   65429      1918          20813   \n26   23938       170           1895   \n27  117220       876           9311   \n28  289389      1720          25151   \n29   42090      4829          10576   \n\n                                    thumbnail_link  comments_disabled  \\\n0   https://i.ytimg.com/vi/3C66w5Z0ixs/default.jpg              False   \n1   https://i.ytimg.com/vi/M9Pmf9AB4Mo/default.jpg              False   \n2   https://i.ytimg.com/vi/J78aPJ3VyNs/default.jpg              False   \n3   https://i.ytimg.com/vi/kXLn3HkpjaA/default.jpg              False   \n4   https://i.ytimg.com/vi/VIUo6yapDbc/default.jpg              False   \n5   https://i.ytimg.com/vi/w-aidBdvZo8/default.jpg              False   \n6   https://i.ytimg.com/vi/uet14uf9NsE/default.jpg              False   \n7   https://i.ytimg.com/vi/ua4QMFQATco/default.jpg              False   \n8   https://i.ytimg.com/vi/SnsPZj91R7E/default.jpg              False   \n9   https://i.ytimg.com/vi/SsWHMAhshPQ/default.jpg              False   \n10  https://i.ytimg.com/vi/49Z6Mv4_WCA/default.jpg              False   \n11  https://i.ytimg.com/vi/nt3VVyv5pxQ/default.jpg              False   \n12  https://i.ytimg.com/vi/I6hswz4rIrU/default.jpg              False   \n13  https://i.ytimg.com/vi/W7VK4DUHvKU/default.jpg              False   \n14  https://i.ytimg.com/vi/W9Aen8hG20Y/default.jpg              False   \n15  https://i.ytimg.com/vi/BNeDH6UTmXw/default.jpg              False   \n16  https://i.ytimg.com/vi/6TIsR_7nrNc/default.jpg              False   \n17  https://i.ytimg.com/vi/gPdUslndvVI/default.jpg              False   \n18  https://i.ytimg.com/vi/GTp-0S82guE/default.jpg              False   \n19  https://i.ytimg.com/vi/jbGRowa5tIk/default.jpg              False   \n20  https://i.ytimg.com/vi/vePc5V4h_kg/default.jpg              False   \n21  https://i.ytimg.com/vi/5WjcDji3xYc/default.jpg              False   \n22  https://i.ytimg.com/vi/FopIxceEr8g/default.jpg              False   \n23  https://i.ytimg.com/vi/p7HGUZWq_8s/default.jpg              False   \n24  https://i.ytimg.com/vi/AMXT1ok5UBg/default.jpg              False   \n25  https://i.ytimg.com/vi/mLOe7vGI0YI/default.jpg              False   \n26  https://i.ytimg.com/vi/Que4RnxYLNc/default.jpg              False   \n27  https://i.ytimg.com/vi/z5l8ovbw_6M/default.jpg              False   \n28  https://i.ytimg.com/vi/2avPJ9TZNmU/default.jpg              False   \n29  https://i.ytimg.com/vi/PT6hPvOqTYc/default.jpg              False   \n\n    ratings_disabled  ... title_capital_letters  title_punctuaction  \\\n0              False  ...              0.735294            0.088235   \n1              False  ...              0.100000            0.016667   \n2              False  ...              0.094340            0.018868   \n3              False  ...              0.142857            0.017857   \n4              False  ...              0.200000            0.018182   \n5              False  ...              0.285714            0.071429   \n6              False  ...              0.791667            0.083333   \n7              False  ...              0.500000            0.000000   \n8              False  ...              0.618182            0.072727   \n9              False  ...              0.152778            0.041667   \n10             False  ...              0.000000            0.029412   \n11             False  ...              0.166667            0.033333   \n12             False  ...              0.152778            0.055556   \n13             False  ...              0.145833            0.083333   \n14             False  ...              0.140351            0.000000   \n15             False  ...              0.166667            0.055556   \n16             False  ...              0.204082            0.040816   \n17             False  ...              0.173913            0.043478   \n18             False  ...              0.142857            0.142857   \n19             False  ...              0.560000            0.040000   \n20             False  ...              0.155556            0.044444   \n21             False  ...              0.136364            0.045455   \n22             False  ...              0.382979            0.042553   \n23             False  ...              0.160000            0.080000   \n24             False  ...              0.750000            0.062500   \n25             False  ...              0.318841            0.057971   \n26             False  ...              0.100000            0.060000   \n27             False  ...              0.111111            0.055556   \n28             False  ...              0.208333            0.083333   \n29             False  ...              0.066667            0.066667   \n\n    description_height  description_length  description_link_count  tag_count  \\\n0                    7                 361                       3         15   \n1                    0                 715                       4         25   \n2                    0                 513                       7         30   \n3                    5                 762                       6         23   \n4                    0                2493                      35         33   \n5                    0                1389                       9          6   \n6                    0                 578                       6          0   \n7                    0                1236                       4          3   \n8                    0                1063                       3         44   \n9                    1                1267                      22         33   \n10                   0                 469                       4          0   \n11                   0                1098                      17          5   \n12                   0                2446                       8         24   \n13                   0                4197                       6          6   \n14                   0                1567                      20         24   \n15                   0                 498                       0         18   \n16                   0                1068                       8          9   \n17                   0                2014                       8         42   \n18                   0                1503                      17          8   \n19                   0                 301                       6         47   \n20                   0                1513                      15          6   \n21                   0                 796                       4         20   \n22                   0                 558                       8         16   \n23                   0                1218                      14         39   \n24                   0                 826                      10         11   \n25                   0                 729                      10         37   \n26                   0                4710                      15         34   \n27                   0                 418                       7         28   \n28                   0                 848                       7          5   \n29                   0                 371                       1          5   \n\n    publishedAtHour  publishedAtDay  publishedAtMonth  publishedAtHoliday  \n0                19               1                 8               False  \n1                17               1                 8               False  \n2                16               1                 8               False  \n3                16               1                 8               False  \n4                15               1                 8               False  \n5                20               1                 8               False  \n6                 0               2                 8               False  \n7                17               1                 8               False  \n8                22               0                 8               False  \n9                23               1                 8               False  \n10               20               1                 8               False  \n11               17               1                 8               False  \n12               17               1                 8               False  \n13               19               1                 8               False  \n14               22               0                 8               False  \n15               22               1                 8               False  \n16               18               0                 8               False  \n17               23               1                 8               False  \n18               12               1                 8               False  \n19               15               1                 8               False  \n20               16               6                 8               False  \n21               17               1                 8               False  \n22               17               0                 8               False  \n23               19               1                 8               False  \n24               23               1                 8               False  \n25               17               0                 8               False  \n26               19               1                 8               False  \n27               21               0                 8               False  \n28               18               1                 8               False  \n29               20               0                 8               False  \n\n[30 rows x 22 columns]",
      "text/html": "<div>\n<style scoped>\n    .dataframe tbody tr th:only-of-type {\n        vertical-align: middle;\n    }\n\n    .dataframe tbody tr th {\n        vertical-align: top;\n    }\n\n    .dataframe thead th {\n        text-align: right;\n    }\n</style>\n<table border=\"1\" class=\"dataframe\">\n  <thead>\n    <tr style=\"text-align: right;\">\n      <th></th>\n      <th>channelId</th>\n      <th>channelTitle</th>\n      <th>trending_date</th>\n      <th>view_count</th>\n      <th>likes</th>\n      <th>dislikes</th>\n      <th>comment_count</th>\n      <th>thumbnail_link</th>\n      <th>comments_disabled</th>\n      <th>ratings_disabled</th>\n      <th>...</th>\n      <th>title_capital_letters</th>\n      <th>title_punctuaction</th>\n      <th>description_height</th>\n      <th>description_length</th>\n      <th>description_link_count</th>\n      <th>tag_count</th>\n      <th>publishedAtHour</th>\n      <th>publishedAtDay</th>\n      <th>publishedAtMonth</th>\n      <th>publishedAtHoliday</th>\n    </tr>\n  </thead>\n  <tbody>\n    <tr>\n      <th>0</th>\n      <td>UCvtRTOMP2TqYqu51xNrqAzg</td>\n      <td>Brawadis</td>\n      <td>2020-08-12</td>\n      <td>1514614</td>\n      <td>156908</td>\n      <td>5855</td>\n      <td>35313</td>\n      <td>https://i.ytimg.com/vi/3C66w5Z0ixs/default.jpg</td>\n      <td>False</td>\n      <td>False</td>\n      <td>...</td>\n      <td>0.735294</td>\n      <td>0.088235</td>\n      <td>7</td>\n      <td>361</td>\n      <td>3</td>\n      <td>15</td>\n      <td>19</td>\n      <td>1</td>\n      <td>8</td>\n      <td>False</td>\n    </tr>\n    <tr>\n      <th>1</th>\n      <td>UC0ZV6M2THA81QT9hrVWJG3A</td>\n      <td>Apex Legends</td>\n      <td>2020-08-12</td>\n      <td>2381688</td>\n      <td>146739</td>\n      <td>2794</td>\n      <td>16549</td>\n      <td>https://i.ytimg.com/vi/M9Pmf9AB4Mo/default.jpg</td>\n      <td>False</td>\n      <td>False</td>\n      <td>...</td>\n      <td>0.100000</td>\n      <td>0.016667</td>\n      <td>0</td>\n      <td>715</td>\n      <td>4</td>\n      <td>25</td>\n      <td>17</td>\n      <td>1</td>\n      <td>8</td>\n      <td>False</td>\n    </tr>\n    <tr>\n      <th>2</th>\n      <td>UCYzPXprvl5Y-Sf0g4vX-m6g</td>\n      <td>jacksepticeye</td>\n      <td>2020-08-12</td>\n      <td>2038853</td>\n      <td>353787</td>\n      <td>2628</td>\n      <td>40221</td>\n      <td>https://i.ytimg.com/vi/J78aPJ3VyNs/default.jpg</td>\n      <td>False</td>\n      <td>False</td>\n      <td>...</td>\n      <td>0.094340</td>\n      <td>0.018868</td>\n      <td>0</td>\n      <td>513</td>\n      <td>7</td>\n      <td>30</td>\n      <td>16</td>\n      <td>1</td>\n      <td>8</td>\n      <td>False</td>\n    </tr>\n    <tr>\n      <th>3</th>\n      <td>UCbg_UMjlHJg_19SZckaKajg</td>\n      <td>XXL</td>\n      <td>2020-08-12</td>\n      <td>496771</td>\n      <td>23251</td>\n      <td>1856</td>\n      <td>7647</td>\n      <td>https://i.ytimg.com/vi/kXLn3HkpjaA/default.jpg</td>\n      <td>False</td>\n      <td>False</td>\n      <td>...</td>\n      <td>0.142857</td>\n      <td>0.017857</td>\n      <td>5</td>\n      <td>762</td>\n      <td>6</td>\n      <td>23</td>\n      <td>16</td>\n      <td>1</td>\n      <td>8</td>\n      <td>False</td>\n    </tr>\n    <tr>\n      <th>4</th>\n      <td>UCDVPcEbVLQgLZX0Rt6jo34A</td>\n      <td>Mr. Kate</td>\n      <td>2020-08-12</td>\n      <td>1123889</td>\n      <td>45802</td>\n      <td>964</td>\n      <td>2196</td>\n      <td>https://i.ytimg.com/vi/VIUo6yapDbc/default.jpg</td>\n      <td>False</td>\n      <td>False</td>\n      <td>...</td>\n      <td>0.200000</td>\n      <td>0.018182</td>\n      <td>0</td>\n      <td>2493</td>\n      <td>35</td>\n      <td>33</td>\n      <td>15</td>\n      <td>1</td>\n      <td>8</td>\n      <td>False</td>\n    </tr>\n    <tr>\n      <th>5</th>\n      <td>UC5zJwsFtEs9WYe3A76p7xIA</td>\n      <td>Professor Live</td>\n      <td>2020-08-12</td>\n      <td>949491</td>\n      <td>77487</td>\n      <td>746</td>\n      <td>7506</td>\n      <td>https://i.ytimg.com/vi/w-aidBdvZo8/default.jpg</td>\n      <td>False</td>\n      <td>False</td>\n      <td>...</td>\n      <td>0.285714</td>\n      <td>0.071429</td>\n      <td>0</td>\n      <td>1389</td>\n      <td>9</td>\n      <td>6</td>\n      <td>20</td>\n      <td>1</td>\n      <td>8</td>\n      <td>False</td>\n    </tr>\n    <tr>\n      <th>6</th>\n      <td>UCDSJCBYqL7VQrlXfhr1RtwA</td>\n      <td>Les Do Makeup</td>\n      <td>2020-08-12</td>\n      <td>470446</td>\n      <td>47990</td>\n      <td>440</td>\n      <td>4558</td>\n      <td>https://i.ytimg.com/vi/uet14uf9NsE/default.jpg</td>\n      <td>False</td>\n      <td>False</td>\n      <td>...</td>\n      <td>0.791667</td>\n      <td>0.083333</td>\n      <td>0</td>\n      <td>578</td>\n      <td>6</td>\n      <td>0</td>\n      <td>0</td>\n      <td>2</td>\n      <td>8</td>\n      <td>False</td>\n    </tr>\n    <tr>\n      <th>7</th>\n      <td>UC2C_jShtL725hvbm1arSV9w</td>\n      <td>CGP Grey</td>\n      <td>2020-08-12</td>\n      <td>1050143</td>\n      <td>89190</td>\n      <td>854</td>\n      <td>6455</td>\n      <td>https://i.ytimg.com/vi/ua4QMFQATco/default.jpg</td>\n      <td>False</td>\n      <td>False</td>\n      <td>...</td>\n      <td>0.500000</td>\n      <td>0.000000</td>\n      <td>0</td>\n      <td>1236</td>\n      <td>4</td>\n      <td>3</td>\n      <td>17</td>\n      <td>1</td>\n      <td>8</td>\n      <td>False</td>\n    </tr>\n    <tr>\n      <th>8</th>\n      <td>UCZDdF_p-L88NWVpzF0vjvMQ</td>\n      <td>Louie's Life</td>\n      <td>2020-08-12</td>\n      <td>1402687</td>\n      <td>95694</td>\n      <td>2158</td>\n      <td>6613</td>\n      <td>https://i.ytimg.com/vi/SnsPZj91R7E/default.jpg</td>\n      <td>False</td>\n      <td>False</td>\n      <td>...</td>\n      <td>0.618182</td>\n      <td>0.072727</td>\n      <td>0</td>\n      <td>1063</td>\n      <td>3</td>\n      <td>44</td>\n      <td>22</td>\n      <td>0</td>\n      <td>8</td>\n      <td>False</td>\n    </tr>\n    <tr>\n      <th>9</th>\n      <td>UC648rgJOboZlgcDbW00vTSA</td>\n      <td>Rancho Humilde</td>\n      <td>2020-08-12</td>\n      <td>741028</td>\n      <td>113983</td>\n      <td>4373</td>\n      <td>5618</td>\n      <td>https://i.ytimg.com/vi/SsWHMAhshPQ/default.jpg</td>\n      <td>False</td>\n      <td>False</td>\n      <td>...</td>\n      <td>0.152778</td>\n      <td>0.041667</td>\n      <td>1</td>\n      <td>1267</td>\n      <td>22</td>\n      <td>33</td>\n      <td>23</td>\n      <td>1</td>\n      <td>8</td>\n      <td>False</td>\n    </tr>\n    <tr>\n      <th>10</th>\n      <td>UCtinbF-Q-fVthA0qrFQTgXQ</td>\n      <td>CaseyNeistat</td>\n      <td>2020-08-12</td>\n      <td>940036</td>\n      <td>87111</td>\n      <td>1860</td>\n      <td>7052</td>\n      <td>https://i.ytimg.com/vi/49Z6Mv4_WCA/default.jpg</td>\n      <td>False</td>\n      <td>False</td>\n      <td>...</td>\n      <td>0.000000</td>\n      <td>0.029412</td>\n      <td>0</td>\n      <td>469</td>\n      <td>4</td>\n      <td>0</td>\n      <td>20</td>\n      <td>1</td>\n      <td>8</td>\n      <td>False</td>\n    </tr>\n    <tr>\n      <th>11</th>\n      <td>UCYJPby9DRCteedh5tfxVbrw</td>\n      <td>Smosh Pit</td>\n      <td>2020-08-12</td>\n      <td>591837</td>\n      <td>44168</td>\n      <td>409</td>\n      <td>2652</td>\n      <td>https://i.ytimg.com/vi/nt3VVyv5pxQ/default.jpg</td>\n      <td>False</td>\n      <td>False</td>\n      <td>...</td>\n      <td>0.166667</td>\n      <td>0.033333</td>\n      <td>0</td>\n      <td>1098</td>\n      <td>17</td>\n      <td>5</td>\n      <td>17</td>\n      <td>1</td>\n      <td>8</td>\n      <td>False</td>\n    </tr>\n    <tr>\n      <th>12</th>\n      <td>UCBMvc6jvuTxH6TNo9ThpYjg</td>\n      <td>Ubisoft North America</td>\n      <td>2020-08-12</td>\n      <td>320872</td>\n      <td>14288</td>\n      <td>774</td>\n      <td>2085</td>\n      <td>https://i.ytimg.com/vi/I6hswz4rIrU/default.jpg</td>\n      <td>False</td>\n      <td>False</td>\n      <td>...</td>\n      <td>0.152778</td>\n      <td>0.055556</td>\n      <td>0</td>\n      <td>2446</td>\n      <td>8</td>\n      <td>24</td>\n      <td>17</td>\n      <td>1</td>\n      <td>8</td>\n      <td>False</td>\n    </tr>\n    <tr>\n      <th>13</th>\n      <td>UC1X3TRsCt36QPjF1p5f3HTg</td>\n      <td>LilYachtyVEVO</td>\n      <td>2020-08-12</td>\n      <td>413372</td>\n      <td>26440</td>\n      <td>293</td>\n      <td>1495</td>\n      <td>https://i.ytimg.com/vi/W7VK4DUHvKU/default.jpg</td>\n      <td>False</td>\n      <td>False</td>\n      <td>...</td>\n      <td>0.145833</td>\n      <td>0.083333</td>\n      <td>0</td>\n      <td>4197</td>\n      <td>6</td>\n      <td>6</td>\n      <td>19</td>\n      <td>1</td>\n      <td>8</td>\n      <td>False</td>\n    </tr>\n    <tr>\n      <th>14</th>\n      <td>UCR9NuNwCUIhMOLUQnLN7_WA</td>\n      <td>Kyle Exum</td>\n      <td>2020-08-12</td>\n      <td>921261</td>\n      <td>124183</td>\n      <td>1678</td>\n      <td>16460</td>\n      <td>https://i.ytimg.com/vi/W9Aen8hG20Y/default.jpg</td>\n      <td>False</td>\n      <td>False</td>\n      <td>...</td>\n      <td>0.140351</td>\n      <td>0.000000</td>\n      <td>0</td>\n      <td>1567</td>\n      <td>20</td>\n      <td>24</td>\n      <td>22</td>\n      <td>0</td>\n      <td>8</td>\n      <td>False</td>\n    </tr>\n    <tr>\n      <th>15</th>\n      <td>UCMw7m-ScQ6jV1FQzQnn1y8Q</td>\n      <td>Tyler Cameron</td>\n      <td>2020-08-12</td>\n      <td>105955</td>\n      <td>4511</td>\n      <td>69</td>\n      <td>673</td>\n      <td>https://i.ytimg.com/vi/BNeDH6UTmXw/default.jpg</td>\n      <td>False</td>\n      <td>False</td>\n      <td>...</td>\n      <td>0.166667</td>\n      <td>0.055556</td>\n      <td>0</td>\n      <td>498</td>\n      <td>0</td>\n      <td>18</td>\n      <td>22</td>\n      <td>1</td>\n      <td>8</td>\n      <td>False</td>\n    </tr>\n    <tr>\n      <th>16</th>\n      <td>UC2rJLq19N0dGrxfib80M_fg</td>\n      <td>HollywoodLife</td>\n      <td>2020-08-12</td>\n      <td>1007540</td>\n      <td>10102</td>\n      <td>7932</td>\n      <td>2763</td>\n      <td>https://i.ytimg.com/vi/6TIsR_7nrNc/default.jpg</td>\n      <td>False</td>\n      <td>False</td>\n      <td>...</td>\n      <td>0.204082</td>\n      <td>0.040816</td>\n      <td>0</td>\n      <td>1068</td>\n      <td>8</td>\n      <td>9</td>\n      <td>18</td>\n      <td>0</td>\n      <td>8</td>\n      <td>False</td>\n    </tr>\n    <tr>\n      <th>17</th>\n      <td>UCuxlXCfVyV-i5YLL30jkomw</td>\n      <td>Cole The Cornstar</td>\n      <td>2020-08-12</td>\n      <td>277338</td>\n      <td>37533</td>\n      <td>197</td>\n      <td>3666</td>\n      <td>https://i.ytimg.com/vi/gPdUslndvVI/default.jpg</td>\n      <td>False</td>\n      <td>False</td>\n      <td>...</td>\n      <td>0.173913</td>\n      <td>0.043478</td>\n      <td>0</td>\n      <td>2014</td>\n      <td>8</td>\n      <td>42</td>\n      <td>23</td>\n      <td>1</td>\n      <td>8</td>\n      <td>False</td>\n    </tr>\n    <tr>\n      <th>18</th>\n      <td>UCCgLoMYIyP0U56dEhEL1wXQ</td>\n      <td>Chloe Ting</td>\n      <td>2020-08-12</td>\n      <td>1648441</td>\n      <td>130147</td>\n      <td>1425</td>\n      <td>15773</td>\n      <td>https://i.ytimg.com/vi/GTp-0S82guE/default.jpg</td>\n      <td>False</td>\n      <td>False</td>\n      <td>...</td>\n      <td>0.142857</td>\n      <td>0.142857</td>\n      <td>0</td>\n      <td>1503</td>\n      <td>17</td>\n      <td>8</td>\n      <td>12</td>\n      <td>1</td>\n      <td>8</td>\n      <td>False</td>\n    </tr>\n    <tr>\n      <th>19</th>\n      <td>UCaO6TYtlC8U5ttz62hTrZgg</td>\n      <td>JYP Entertainment</td>\n      <td>2020-08-12</td>\n      <td>5999732</td>\n      <td>714287</td>\n      <td>15174</td>\n      <td>31039</td>\n      <td>https://i.ytimg.com/vi/jbGRowa5tIk/default.jpg</td>\n      <td>False</td>\n      <td>False</td>\n      <td>...</td>\n      <td>0.560000</td>\n      <td>0.040000</td>\n      <td>0</td>\n      <td>301</td>\n      <td>6</td>\n      <td>47</td>\n      <td>15</td>\n      <td>1</td>\n      <td>8</td>\n      <td>False</td>\n    </tr>\n    <tr>\n      <th>20</th>\n      <td>UCY1kMZp36IQSyNx_9h4mpCg</td>\n      <td>Mark Rober</td>\n      <td>2020-08-12</td>\n      <td>14684474</td>\n      <td>544038</td>\n      <td>15818</td>\n      <td>33507</td>\n      <td>https://i.ytimg.com/vi/vePc5V4h_kg/default.jpg</td>\n      <td>False</td>\n      <td>False</td>\n      <td>...</td>\n      <td>0.155556</td>\n      <td>0.044444</td>\n      <td>0</td>\n      <td>1513</td>\n      <td>15</td>\n      <td>6</td>\n      <td>16</td>\n      <td>6</td>\n      <td>8</td>\n      <td>False</td>\n    </tr>\n    <tr>\n      <th>21</th>\n      <td>UCOpcACMWblDls9Z6GERVi1A</td>\n      <td>Screen Junkies</td>\n      <td>2020-08-12</td>\n      <td>833369</td>\n      <td>50181</td>\n      <td>1120</td>\n      <td>4634</td>\n      <td>https://i.ytimg.com/vi/5WjcDji3xYc/default.jpg</td>\n      <td>False</td>\n      <td>False</td>\n      <td>...</td>\n      <td>0.136364</td>\n      <td>0.045455</td>\n      <td>0</td>\n      <td>796</td>\n      <td>4</td>\n      <td>20</td>\n      <td>17</td>\n      <td>1</td>\n      <td>8</td>\n      <td>False</td>\n    </tr>\n    <tr>\n      <th>22</th>\n      <td>UCilwZiBBfI9X6yiZRzWty8Q</td>\n      <td>FaZe Rug</td>\n      <td>2020-08-12</td>\n      <td>3061467</td>\n      <td>206840</td>\n      <td>2646</td>\n      <td>14934</td>\n      <td>https://i.ytimg.com/vi/FopIxceEr8g/default.jpg</td>\n      <td>False</td>\n      <td>False</td>\n      <td>...</td>\n      <td>0.382979</td>\n      <td>0.042553</td>\n      <td>0</td>\n      <td>558</td>\n      <td>8</td>\n      <td>16</td>\n      <td>17</td>\n      <td>0</td>\n      <td>8</td>\n      <td>False</td>\n    </tr>\n    <tr>\n      <th>23</th>\n      <td>UCucot-Zp428OwkyRm2I7v2Q</td>\n      <td>James Charles</td>\n      <td>2020-08-12</td>\n      <td>3662673</td>\n      <td>394675</td>\n      <td>5757</td>\n      <td>27346</td>\n      <td>https://i.ytimg.com/vi/p7HGUZWq_8s/default.jpg</td>\n      <td>False</td>\n      <td>False</td>\n      <td>...</td>\n      <td>0.160000</td>\n      <td>0.080000</td>\n      <td>0</td>\n      <td>1218</td>\n      <td>14</td>\n      <td>39</td>\n      <td>19</td>\n      <td>1</td>\n      <td>8</td>\n      <td>False</td>\n    </tr>\n    <tr>\n      <th>24</th>\n      <td>UCWwWOFsW68TqXE-HZLC3WIA</td>\n      <td>The ACE Family</td>\n      <td>2020-08-12</td>\n      <td>2630410</td>\n      <td>185419</td>\n      <td>4744</td>\n      <td>15908</td>\n      <td>https://i.ytimg.com/vi/AMXT1ok5UBg/default.jpg</td>\n      <td>False</td>\n      <td>False</td>\n      <td>...</td>\n      <td>0.750000</td>\n      <td>0.062500</td>\n      <td>0</td>\n      <td>826</td>\n      <td>10</td>\n      <td>11</td>\n      <td>23</td>\n      <td>1</td>\n      <td>8</td>\n      <td>False</td>\n    </tr>\n    <tr>\n      <th>25</th>\n      <td>UCB9_VH_CNbbH4GfKu8qh63w</td>\n      <td>DEATH BATTLE!</td>\n      <td>2020-08-12</td>\n      <td>1236984</td>\n      <td>65429</td>\n      <td>1918</td>\n      <td>20813</td>\n      <td>https://i.ytimg.com/vi/mLOe7vGI0YI/default.jpg</td>\n      <td>False</td>\n      <td>False</td>\n      <td>...</td>\n      <td>0.318841</td>\n      <td>0.057971</td>\n      <td>0</td>\n      <td>729</td>\n      <td>10</td>\n      <td>37</td>\n      <td>17</td>\n      <td>0</td>\n      <td>8</td>\n      <td>False</td>\n    </tr>\n    <tr>\n      <th>26</th>\n      <td>UCtpzjafUx5qbmxJdqm4-qmg</td>\n      <td>iann dior</td>\n      <td>2020-08-12</td>\n      <td>187835</td>\n      <td>23938</td>\n      <td>170</td>\n      <td>1895</td>\n      <td>https://i.ytimg.com/vi/Que4RnxYLNc/default.jpg</td>\n      <td>False</td>\n      <td>False</td>\n      <td>...</td>\n      <td>0.100000</td>\n      <td>0.060000</td>\n      <td>0</td>\n      <td>4710</td>\n      <td>15</td>\n      <td>34</td>\n      <td>19</td>\n      <td>1</td>\n      <td>8</td>\n      <td>False</td>\n    </tr>\n    <tr>\n      <th>27</th>\n      <td>UCDQBZcjYKP1J1Nu-Y0_D37Q</td>\n      <td>Tabbes</td>\n      <td>2020-08-12</td>\n      <td>1061892</td>\n      <td>117220</td>\n      <td>876</td>\n      <td>9311</td>\n      <td>https://i.ytimg.com/vi/z5l8ovbw_6M/default.jpg</td>\n      <td>False</td>\n      <td>False</td>\n      <td>...</td>\n      <td>0.111111</td>\n      <td>0.055556</td>\n      <td>0</td>\n      <td>418</td>\n      <td>7</td>\n      <td>28</td>\n      <td>21</td>\n      <td>0</td>\n      <td>8</td>\n      <td>False</td>\n    </tr>\n    <tr>\n      <th>28</th>\n      <td>UC0BletW9phE4xHFM44q4qKA</td>\n      <td>Juice WRLD</td>\n      <td>2020-08-12</td>\n      <td>2228821</td>\n      <td>289389</td>\n      <td>1720</td>\n      <td>25151</td>\n      <td>https://i.ytimg.com/vi/2avPJ9TZNmU/default.jpg</td>\n      <td>False</td>\n      <td>False</td>\n      <td>...</td>\n      <td>0.208333</td>\n      <td>0.083333</td>\n      <td>0</td>\n      <td>848</td>\n      <td>7</td>\n      <td>5</td>\n      <td>18</td>\n      <td>1</td>\n      <td>8</td>\n      <td>False</td>\n    </tr>\n    <tr>\n      <th>29</th>\n      <td>UCFp65-s_fyaBjVZbVyp--Kw</td>\n      <td>Gabrielle Moses</td>\n      <td>2020-08-12</td>\n      <td>542048</td>\n      <td>42090</td>\n      <td>4829</td>\n      <td>10576</td>\n      <td>https://i.ytimg.com/vi/PT6hPvOqTYc/default.jpg</td>\n      <td>False</td>\n      <td>False</td>\n      <td>...</td>\n      <td>0.066667</td>\n      <td>0.066667</td>\n      <td>0</td>\n      <td>371</td>\n      <td>1</td>\n      <td>5</td>\n      <td>20</td>\n      <td>0</td>\n      <td>8</td>\n      <td>False</td>\n    </tr>\n  </tbody>\n</table>\n<p>30 rows × 22 columns</p>\n</div>"
     },
     "execution_count": 8,
     "metadata": {},
     "output_type": "execute_result"
    }
   ],
   "source": [
    "us_trending_df = pd.read_csv('./data/us_trending_stage_1.csv').head(30)\n",
    "us_trending_df"
   ],
   "metadata": {
    "collapsed": false,
    "pycharm": {
     "name": "#%%\n"
    }
   }
  },
  {
   "cell_type": "code",
   "execution_count": 9,
   "outputs": [
    {
     "name": "stderr",
     "output_type": "stream",
     "text": [
      "c:\\users\\festo\\semestr x\\data-exploration-project\\venv\\lib\\site-packages\\ipykernel_launcher.py:1: FutureWarning: The default value of regex will change from True to False in a future version.\n",
      "  \"\"\"Entry point for launching an IPython kernel.\n"
     ]
    },
    {
     "data": {
      "text/plain": "0     https://i.ytimg.com/vi/3C66w5Z0ixs/0.jpg\n1     https://i.ytimg.com/vi/M9Pmf9AB4Mo/0.jpg\n2     https://i.ytimg.com/vi/J78aPJ3VyNs/0.jpg\n3     https://i.ytimg.com/vi/kXLn3HkpjaA/0.jpg\n4     https://i.ytimg.com/vi/VIUo6yapDbc/0.jpg\n5     https://i.ytimg.com/vi/w-aidBdvZo8/0.jpg\n6     https://i.ytimg.com/vi/uet14uf9NsE/0.jpg\n7     https://i.ytimg.com/vi/ua4QMFQATco/0.jpg\n8     https://i.ytimg.com/vi/SnsPZj91R7E/0.jpg\n9     https://i.ytimg.com/vi/SsWHMAhshPQ/0.jpg\n10    https://i.ytimg.com/vi/49Z6Mv4_WCA/0.jpg\n11    https://i.ytimg.com/vi/nt3VVyv5pxQ/0.jpg\n12    https://i.ytimg.com/vi/I6hswz4rIrU/0.jpg\n13    https://i.ytimg.com/vi/W7VK4DUHvKU/0.jpg\n14    https://i.ytimg.com/vi/W9Aen8hG20Y/0.jpg\n15    https://i.ytimg.com/vi/BNeDH6UTmXw/0.jpg\n16    https://i.ytimg.com/vi/6TIsR_7nrNc/0.jpg\n17    https://i.ytimg.com/vi/gPdUslndvVI/0.jpg\n18    https://i.ytimg.com/vi/GTp-0S82guE/0.jpg\n19    https://i.ytimg.com/vi/jbGRowa5tIk/0.jpg\n20    https://i.ytimg.com/vi/vePc5V4h_kg/0.jpg\n21    https://i.ytimg.com/vi/5WjcDji3xYc/0.jpg\n22    https://i.ytimg.com/vi/FopIxceEr8g/0.jpg\n23    https://i.ytimg.com/vi/p7HGUZWq_8s/0.jpg\n24    https://i.ytimg.com/vi/AMXT1ok5UBg/0.jpg\n25    https://i.ytimg.com/vi/mLOe7vGI0YI/0.jpg\n26    https://i.ytimg.com/vi/Que4RnxYLNc/0.jpg\n27    https://i.ytimg.com/vi/z5l8ovbw_6M/0.jpg\n28    https://i.ytimg.com/vi/2avPJ9TZNmU/0.jpg\n29    https://i.ytimg.com/vi/PT6hPvOqTYc/0.jpg\nName: thumbnail_link_hires, dtype: object"
     },
     "execution_count": 9,
     "metadata": {},
     "output_type": "execute_result"
    }
   ],
   "source": [
    "us_trending_df['thumbnail_link_hires'] = us_trending_df['thumbnail_link'].str.replace('default.jpg', '0.jpg')\n",
    "urls = us_trending_df['thumbnail_link_hires']\n",
    "unique_urls = us_trending_df['thumbnail_link_hires'].unique()\n",
    "us_trending_df['thumbnail_link_hires']"
   ],
   "metadata": {
    "collapsed": false,
    "pycharm": {
     "name": "#%%\n"
    }
   }
  },
  {
   "cell_type": "markdown",
   "source": [
    "# Using ImageAI for object detection\n",
    "\n",
    "Trained model file is required! Put this into notebooks/models directory. Download link: https://github.com/OlafenwaMoses/ImageAI/releases/download/essentials-v5/resnet50_coco_best_v2.1.0.h5/"
   ],
   "metadata": {
    "collapsed": false
   }
  },
  {
   "cell_type": "markdown",
   "source": [
    "Checking gpu availability"
   ],
   "metadata": {
    "collapsed": false
   }
  },
  {
   "cell_type": "code",
   "execution_count": 10,
   "outputs": [
    {
     "name": "stdout",
     "output_type": "stream",
     "text": [
      "Num GPUs Available:  0\n",
      "[]\n"
     ]
    }
   ],
   "source": [
    "import tensorflow as tf\n",
    "print(\"Num GPUs Available: \", len(tf.config.list_physical_devices('GPU')))\n",
    "print(tf.config.list_physical_devices('GPU'))"
   ],
   "metadata": {
    "collapsed": false,
    "pycharm": {
     "name": "#%%\n"
    }
   }
  },
  {
   "cell_type": "markdown",
   "source": [
    "Loading pre-trained model"
   ],
   "metadata": {
    "collapsed": false
   }
  },
  {
   "cell_type": "code",
   "execution_count": 11,
   "outputs": [
    {
     "name": "stdout",
     "output_type": "stream",
     "text": [
      "WARNING:tensorflow:No training configuration found in the save file, so the model was *not* compiled. Compile it manually.\n"
     ]
    }
   ],
   "source": [
    "from imageai.Detection import ObjectDetection\n",
    "\n",
    "detector = ObjectDetection()\n",
    "detector.setModelTypeAsRetinaNet()\n",
    "detector.setModelPath(\"models/resnet50_coco_best_v2.1.0.h5\")\n",
    "detector.loadModel()"
   ],
   "metadata": {
    "collapsed": false,
    "pycharm": {
     "name": "#%%\n"
    }
   }
  },
  {
   "cell_type": "markdown",
   "source": [
    "Detecting objects from thumbnails"
   ],
   "metadata": {
    "collapsed": false
   }
  },
  {
   "cell_type": "code",
   "execution_count": 12,
   "outputs": [
    {
     "name": "stderr",
     "output_type": "stream",
     "text": [
      "100%|██████████| 30/30 [00:45<00:00,  1.53s/it]\n"
     ]
    }
   ],
   "source": [
    "import pickle\n",
    "import tqdm\n",
    "\n",
    "image_detections = dict()\n",
    "\n",
    "for url in tqdm.tqdm(unique_urls):\n",
    "    filename = f'./images/{url.split(\"/\")[-2]}.jpg'\n",
    "    detections = detector.detectObjectsFromImage(input_image=filename, output_type=\"array\")[1]\n",
    "    image_detections[url] = detections\n",
    "\n",
    "with open(\"data/thumbnails_objects_dict.pkl\", \"wb\") as f:\n",
    "    pickle.dump(image_detections, f)"
   ],
   "metadata": {
    "collapsed": false,
    "pycharm": {
     "name": "#%%\n"
    }
   }
  },
  {
   "cell_type": "markdown",
   "source": [
    "Loading detections from pickle file"
   ],
   "metadata": {
    "collapsed": false
   }
  },
  {
   "cell_type": "code",
   "execution_count": 13,
   "outputs": [],
   "source": [
    "import pickle\n",
    "\n",
    "with open(\"data/thumbnails_objects_dict.pkl\", \"rb\") as f:\n",
    "    image_detections = dict(pickle.load(f))"
   ],
   "metadata": {
    "collapsed": false,
    "pycharm": {
     "name": "#%%\n"
    }
   }
  },
  {
   "cell_type": "markdown",
   "source": [
    "Counting detected objects"
   ],
   "metadata": {
    "collapsed": false
   }
  },
  {
   "cell_type": "code",
   "execution_count": 14,
   "outputs": [
    {
     "name": "stdout",
     "output_type": "stream",
     "text": [
      "counts {'person': 46, 'potted plant': 1, 'chair': 1, 'sports ball': 2, 'tie': 1, 'tv': 2, 'frisbee': 2, 'cell phone': 1}\n",
      "\n",
      "10 most common objects: [('person', 46), ('sports ball', 2), ('tv', 2), ('frisbee', 2), ('potted plant', 1), ('chair', 1), ('tie', 1), ('cell phone', 1)]\n"
     ]
    }
   ],
   "source": [
    "import operator\n",
    "from collections import defaultdict\n",
    "\n",
    "image_objects_detected = defaultdict(dict)\n",
    "counts = dict()\n",
    "\n",
    "for key in image_detections:\n",
    "    for obj in image_detections[key]:\n",
    "        name = obj['name']\n",
    "        image_objects_detected[key][name] = image_objects_detected[key].get(name, 0) + 1\n",
    "        counts[name] = counts.get(name, 0) + 1\n",
    "\n",
    "top_popular_objects = list(sorted(counts.items(), key=operator.itemgetter(1), reverse=True)[:10])\n",
    "\n",
    "print(\"counts\", counts)\n",
    "print()\n",
    "print(\"10 most common objects:\", top_popular_objects)"
   ],
   "metadata": {
    "collapsed": false,
    "pycharm": {
     "name": "#%%\n"
    }
   }
  },
  {
   "cell_type": "markdown",
   "source": [
    "Creating vector representation and saving it to data/ in CSV format"
   ],
   "metadata": {
    "collapsed": false
   }
  },
  {
   "cell_type": "code",
   "execution_count": 15,
   "outputs": [],
   "source": [
    "import pandas as pd\n",
    "\n",
    "df = pd.DataFrame.from_dict(image_objects_detected).transpose()\n",
    "df = df.fillna(0)\n",
    "df = df.astype('int32')\n",
    "\n",
    "df.to_csv(\"data/stage_2_thumbnail_objects_vectors.csv\")"
   ],
   "metadata": {
    "collapsed": false,
    "pycharm": {
     "name": "#%%\n"
    }
   }
  },
  {
   "cell_type": "markdown",
   "source": [
    "Notatka: Może wagi wilkością bboxów\n",
    "\n",
    "może rozpoznawanie emocji na twarzach"
   ],
   "metadata": {
    "collapsed": false,
    "pycharm": {
     "name": "#%% md\n"
    }
   }
  }
 ],
 "metadata": {
  "kernelspec": {
   "display_name": "Python 3",
   "language": "python",
   "name": "python3"
  },
  "language_info": {
   "codemirror_mode": {
    "name": "ipython",
    "version": 2
   },
   "file_extension": ".py",
   "mimetype": "text/x-python",
   "name": "python",
   "nbconvert_exporter": "python",
   "pygments_lexer": "ipython2",
   "version": "2.7.6"
  }
 },
 "nbformat": 4,
 "nbformat_minor": 0
}